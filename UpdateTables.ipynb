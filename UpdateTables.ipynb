{
 "cells": [
  {
   "cell_type": "markdown",
   "metadata": {},
   "source": [
    "# Actualizacion de Tablas SQL\n",
    "## Utilizando las nuevas tablas desde el modulo de sistematizacion"
   ]
  },
  {
   "cell_type": "markdown",
   "metadata": {},
   "source": [
    "Antes que todo, es necesario que la carpeta `db/CSV/` se encuentra con los archivos nuevos -i.e., copiar y reemplazar en la carpeta las tablas nuevas.\n",
    "\n",
    "En particular, las nuevas tablas contienen procesada la columna `macro`. Esta columna asigna una etiqueta o categoria, permitiendo agrupar distintas respuestas. "
   ]
  },
  {
   "cell_type": "code",
   "execution_count": 43,
   "metadata": {},
   "outputs": [],
   "source": [
    "import pandas as pd\n",
    "import numpy as np\n",
    "import os \n",
    "\n",
    "\n",
    "from use_cases.pairs import create_pair_token\n",
    "from use_cases.utils.textools import clean_alt_list, to_unicode, str_to_int, eliminate_nrs\n",
    "\n",
    "from use_cases.contributions import create_table_contributions, to_sql as con_to_sql\n",
    "from use_cases.emotions import create_table_emotions, to_sql as emo_to_sql \n",
    "from use_cases.personal_needs import create_table_personal_needs, to_sql as per_need_to_sql\n",
    "from use_cases.country_needs import create_table_country_needs, to_sql as count_need_to_sql"
   ]
  },
  {
   "cell_type": "markdown",
   "metadata": {},
   "source": [
    "### Emociones y Sentimientos"
   ]
  },
  {
   "cell_type": "code",
   "execution_count": 44,
   "metadata": {},
   "outputs": [],
   "source": [
    "emotions_table = pd.read_csv('./db/CSV/emotions.csv', low_memory=False)"
   ]
  },
  {
   "cell_type": "code",
   "execution_count": 45,
   "metadata": {},
   "outputs": [
    {
     "data": {
      "text/html": [
       "<div>\n",
       "<style scoped>\n",
       "    .dataframe tbody tr th:only-of-type {\n",
       "        vertical-align: middle;\n",
       "    }\n",
       "\n",
       "    .dataframe tbody tr th {\n",
       "        vertical-align: top;\n",
       "    }\n",
       "\n",
       "    .dataframe thead th {\n",
       "        text-align: right;\n",
       "    }\n",
       "</style>\n",
       "<table border=\"1\" class=\"dataframe\">\n",
       "  <thead>\n",
       "    <tr style=\"text-align: right;\">\n",
       "      <th></th>\n",
       "      <th>id</th>\n",
       "      <th>diag_id</th>\n",
       "      <th>ind_id</th>\n",
       "      <th>name</th>\n",
       "      <th>name_tokens</th>\n",
       "      <th>macro</th>\n",
       "      <th>exp</th>\n",
       "      <th>exp_tokens</th>\n",
       "      <th>is_online</th>\n",
       "    </tr>\n",
       "  </thead>\n",
       "  <tbody>\n",
       "    <tr>\n",
       "      <th>21106</th>\n",
       "      <td>21106</td>\n",
       "      <td>enc_u_2801103</td>\n",
       "      <td>NaN</td>\n",
       "      <td>miedo</td>\n",
       "      <td>['miedo']</td>\n",
       "      <td>Miedo</td>\n",
       "      <td>-que los cambios son lentos. \\n-seguridad de c...</td>\n",
       "      <td>['cambios', 'lentos', 'seguridad', 'caleta']</td>\n",
       "      <td>True</td>\n",
       "    </tr>\n",
       "    <tr>\n",
       "      <th>74395</th>\n",
       "      <td>74395</td>\n",
       "      <td>NaN</td>\n",
       "      <td>ccf0cbafeca5c450763c5abd6ee1746a</td>\n",
       "      <td>euforica por el despertar un pueblo</td>\n",
       "      <td>['euforica', ' despertar', ' pueblo']</td>\n",
       "      <td>Alegría</td>\n",
       "      <td>ver que el pueblo se manifesto para decir bast...</td>\n",
       "      <td>['ver', 'pueblo', 'manifesto', 'decir', 'basta...</td>\n",
       "      <td>True</td>\n",
       "    </tr>\n",
       "  </tbody>\n",
       "</table>\n",
       "</div>"
      ],
      "text/plain": [
       "          id        diag_id                            ind_id  \\\n",
       "21106  21106  enc_u_2801103                               NaN   \n",
       "74395  74395            NaN  ccf0cbafeca5c450763c5abd6ee1746a   \n",
       "\n",
       "                                      name  \\\n",
       "21106                                miedo   \n",
       "74395  euforica por el despertar un pueblo   \n",
       "\n",
       "                                 name_tokens    macro  \\\n",
       "21106                              ['miedo']    Miedo   \n",
       "74395  ['euforica', ' despertar', ' pueblo']  Alegría   \n",
       "\n",
       "                                                     exp  \\\n",
       "21106  -que los cambios son lentos. \\n-seguridad de c...   \n",
       "74395  ver que el pueblo se manifesto para decir bast...   \n",
       "\n",
       "                                              exp_tokens  is_online  \n",
       "21106       ['cambios', 'lentos', 'seguridad', 'caleta']       True  \n",
       "74395  ['ver', 'pueblo', 'manifesto', 'decir', 'basta...       True  "
      ]
     },
     "execution_count": 45,
     "metadata": {},
     "output_type": "execute_result"
    }
   ],
   "source": [
    "emotions_table.sample(2)"
   ]
  },
  {
   "cell_type": "markdown",
   "metadata": {},
   "source": [
    "las listas se guardan como `strings` en el csv, es necesario volver a dejarlos como `listas`, asi tambien como pasar los id de los dialogos a `unicode`"
   ]
  },
  {
   "cell_type": "code",
   "execution_count": 46,
   "metadata": {},
   "outputs": [],
   "source": [
    "emotions_table = eliminate_nrs(emotions_table)\n",
    "emotions_table['name_tokens'] = emotions_table['name_tokens'].apply(lambda x: clean_alt_list(x))\n",
    "emotions_table['exp_tokens'] = emotions_table['exp_tokens'].apply(lambda x: clean_alt_list(x))"
   ]
  },
  {
   "cell_type": "code",
   "execution_count": 47,
   "metadata": {},
   "outputs": [
    {
     "data": {
      "text/html": [
       "<div>\n",
       "<style scoped>\n",
       "    .dataframe tbody tr th:only-of-type {\n",
       "        vertical-align: middle;\n",
       "    }\n",
       "\n",
       "    .dataframe tbody tr th {\n",
       "        vertical-align: top;\n",
       "    }\n",
       "\n",
       "    .dataframe thead th {\n",
       "        text-align: right;\n",
       "    }\n",
       "</style>\n",
       "<table border=\"1\" class=\"dataframe\">\n",
       "  <thead>\n",
       "    <tr style=\"text-align: right;\">\n",
       "      <th></th>\n",
       "      <th>id</th>\n",
       "      <th>diag_id</th>\n",
       "      <th>ind_id</th>\n",
       "      <th>name</th>\n",
       "      <th>name_tokens</th>\n",
       "      <th>macro</th>\n",
       "      <th>exp</th>\n",
       "      <th>exp_tokens</th>\n",
       "      <th>is_online</th>\n",
       "    </tr>\n",
       "  </thead>\n",
       "  <tbody>\n",
       "    <tr>\n",
       "      <th>39847</th>\n",
       "      <td>39847</td>\n",
       "      <td>enc_u_4549300671199518306</td>\n",
       "      <td></td>\n",
       "      <td>pena/angsustia</td>\n",
       "      <td>[pena, angsustia]</td>\n",
       "      <td>Miedo</td>\n",
       "      <td>-ver como lo que se ha construido puede desapa...</td>\n",
       "      <td>[ver, construido, puede, desaparecer, momento]</td>\n",
       "      <td>True</td>\n",
       "    </tr>\n",
       "    <tr>\n",
       "      <th>57534</th>\n",
       "      <td>57534</td>\n",
       "      <td>enc_u_4544819054211513783</td>\n",
       "      <td></td>\n",
       "      <td>esperenza</td>\n",
       "      <td>[esperenza]</td>\n",
       "      <td>Alegría</td>\n",
       "      <td>de que todo esto pase y alla una solucion</td>\n",
       "      <td>[pase, alla, solucion]</td>\n",
       "      <td>True</td>\n",
       "    </tr>\n",
       "  </tbody>\n",
       "</table>\n",
       "</div>"
      ],
      "text/plain": [
       "          id                    diag_id ind_id            name  \\\n",
       "39847  39847  enc_u_4549300671199518306         pena/angsustia   \n",
       "57534  57534  enc_u_4544819054211513783              esperenza   \n",
       "\n",
       "             name_tokens    macro  \\\n",
       "39847  [pena, angsustia]    Miedo   \n",
       "57534        [esperenza]  Alegría   \n",
       "\n",
       "                                                     exp  \\\n",
       "39847  -ver como lo que se ha construido puede desapa...   \n",
       "57534          de que todo esto pase y alla una solucion   \n",
       "\n",
       "                                           exp_tokens  is_online  \n",
       "39847  [ver, construido, puede, desaparecer, momento]       True  \n",
       "57534                          [pase, alla, solucion]       True  "
      ]
     },
     "execution_count": 47,
     "metadata": {},
     "output_type": "execute_result"
    }
   ],
   "source": [
    "emotions_table.sample(2)"
   ]
  },
  {
   "cell_type": "markdown",
   "metadata": {},
   "source": [
    "Debemos recalcular los pares de palabras en caso de que algo haya cambiado"
   ]
  },
  {
   "cell_type": "code",
   "execution_count": 48,
   "metadata": {},
   "outputs": [],
   "source": [
    "emotion_pair = create_pair_token(emotions_table, 'exp_tokens', 'emotion_id')"
   ]
  },
  {
   "cell_type": "markdown",
   "metadata": {},
   "source": [
    "guardamos/reemplazamos la nueva tabla de pares y finalmente los nuevos `.sql`"
   ]
  },
  {
   "cell_type": "code",
   "execution_count": 49,
   "metadata": {},
   "outputs": [],
   "source": [
    "emotion_pair.to_csv('./db/CSV/emotions_pairs.csv', index=False)\n",
    "emo_to_sql(emotions_table, './db/SQL_INSERT/emotions.sql')"
   ]
  },
  {
   "cell_type": "markdown",
   "metadata": {},
   "source": [
    "### Contribuciones"
   ]
  },
  {
   "cell_type": "markdown",
   "metadata": {},
   "source": [
    "En el caso de contribuciones solo necesitamos guardar el nuevo `csv` como `sql`"
   ]
  },
  {
   "cell_type": "code",
   "execution_count": 50,
   "metadata": {},
   "outputs": [],
   "source": [
    "contributions_table = pd.read_csv('./db/CSV/contributions.csv', low_memory=False)"
   ]
  },
  {
   "cell_type": "code",
   "execution_count": 51,
   "metadata": {},
   "outputs": [
    {
     "data": {
      "text/html": [
       "<div>\n",
       "<style scoped>\n",
       "    .dataframe tbody tr th:only-of-type {\n",
       "        vertical-align: middle;\n",
       "    }\n",
       "\n",
       "    .dataframe tbody tr th {\n",
       "        vertical-align: top;\n",
       "    }\n",
       "\n",
       "    .dataframe thead th {\n",
       "        text-align: right;\n",
       "    }\n",
       "</style>\n",
       "<table border=\"1\" class=\"dataframe\">\n",
       "  <thead>\n",
       "    <tr style=\"text-align: right;\">\n",
       "      <th></th>\n",
       "      <th>id</th>\n",
       "      <th>diag_id</th>\n",
       "      <th>ind_id</th>\n",
       "      <th>text</th>\n",
       "      <th>tokens</th>\n",
       "      <th>macro</th>\n",
       "      <th>is_online</th>\n",
       "    </tr>\n",
       "  </thead>\n",
       "  <tbody>\n",
       "    <tr>\n",
       "      <th>65608</th>\n",
       "      <td>80920</td>\n",
       "      <td>NaN</td>\n",
       "      <td>4a8806a85101420eae877964a2ea73de</td>\n",
       "      <td>el activismo ciudadano y un trabajo constante ...</td>\n",
       "      <td>['activismo', 'ciudadano', 'trabajo', 'constan...</td>\n",
       "      <td>Educación y autoeducación</td>\n",
       "      <td>True</td>\n",
       "    </tr>\n",
       "  </tbody>\n",
       "</table>\n",
       "</div>"
      ],
      "text/plain": [
       "          id diag_id                            ind_id  \\\n",
       "65608  80920     NaN  4a8806a85101420eae877964a2ea73de   \n",
       "\n",
       "                                                    text  \\\n",
       "65608  el activismo ciudadano y un trabajo constante ...   \n",
       "\n",
       "                                                  tokens  \\\n",
       "65608  ['activismo', 'ciudadano', 'trabajo', 'constan...   \n",
       "\n",
       "                           macro  is_online  \n",
       "65608  Educación y autoeducación       True  "
      ]
     },
     "execution_count": 51,
     "metadata": {},
     "output_type": "execute_result"
    }
   ],
   "source": [
    "contributions_table.sample(1)"
   ]
  },
  {
   "cell_type": "code",
   "execution_count": 52,
   "metadata": {},
   "outputs": [],
   "source": [
    "contributions_table = eliminate_nrs(contributions_table)\n",
    "contributions_table['tokens'] = contributions_table['tokens'].apply(lambda x: clean_alt_list(x))"
   ]
  },
  {
   "cell_type": "code",
   "execution_count": 53,
   "metadata": {},
   "outputs": [
    {
     "data": {
      "text/html": [
       "<div>\n",
       "<style scoped>\n",
       "    .dataframe tbody tr th:only-of-type {\n",
       "        vertical-align: middle;\n",
       "    }\n",
       "\n",
       "    .dataframe tbody tr th {\n",
       "        vertical-align: top;\n",
       "    }\n",
       "\n",
       "    .dataframe thead th {\n",
       "        text-align: right;\n",
       "    }\n",
       "</style>\n",
       "<table border=\"1\" class=\"dataframe\">\n",
       "  <thead>\n",
       "    <tr style=\"text-align: right;\">\n",
       "      <th></th>\n",
       "      <th>id</th>\n",
       "      <th>diag_id</th>\n",
       "      <th>ind_id</th>\n",
       "      <th>text</th>\n",
       "      <th>tokens</th>\n",
       "      <th>macro</th>\n",
       "      <th>is_online</th>\n",
       "    </tr>\n",
       "  </thead>\n",
       "  <tbody>\n",
       "    <tr>\n",
       "      <th>20123</th>\n",
       "      <td>21530</td>\n",
       "      <td>enc_u_4563022110507654058</td>\n",
       "      <td></td>\n",
       "      <td>en nuestro ambito de trabajo, ensenando, trasm...</td>\n",
       "      <td>[ambito, trabajo, ensenando, trasmitiendo, con...</td>\n",
       "      <td>Educación y autoeducación</td>\n",
       "      <td>False</td>\n",
       "    </tr>\n",
       "  </tbody>\n",
       "</table>\n",
       "</div>"
      ],
      "text/plain": [
       "          id                    diag_id ind_id  \\\n",
       "20123  21530  enc_u_4563022110507654058          \n",
       "\n",
       "                                                    text  \\\n",
       "20123  en nuestro ambito de trabajo, ensenando, trasm...   \n",
       "\n",
       "                                                  tokens  \\\n",
       "20123  [ambito, trabajo, ensenando, trasmitiendo, con...   \n",
       "\n",
       "                           macro  is_online  \n",
       "20123  Educación y autoeducación      False  "
      ]
     },
     "execution_count": 53,
     "metadata": {},
     "output_type": "execute_result"
    }
   ],
   "source": [
    "contributions_table.sample(1)"
   ]
  },
  {
   "cell_type": "code",
   "execution_count": 54,
   "metadata": {},
   "outputs": [],
   "source": [
    "con_to_sql(contributions_table, './db/SQL_INSERT/contributions.sql')"
   ]
  },
  {
   "cell_type": "markdown",
   "metadata": {},
   "source": [
    "### Necesidades Personales"
   ]
  },
  {
   "cell_type": "code",
   "execution_count": 55,
   "metadata": {},
   "outputs": [],
   "source": [
    "personal_needs_table = pd.read_csv('./db/CSV/personal_needs.csv', low_memory=False)"
   ]
  },
  {
   "cell_type": "code",
   "execution_count": 56,
   "metadata": {},
   "outputs": [
    {
     "data": {
      "text/html": [
       "<div>\n",
       "<style scoped>\n",
       "    .dataframe tbody tr th:only-of-type {\n",
       "        vertical-align: middle;\n",
       "    }\n",
       "\n",
       "    .dataframe tbody tr th {\n",
       "        vertical-align: top;\n",
       "    }\n",
       "\n",
       "    .dataframe thead th {\n",
       "        text-align: right;\n",
       "    }\n",
       "</style>\n",
       "<table border=\"1\" class=\"dataframe\">\n",
       "  <thead>\n",
       "    <tr style=\"text-align: right;\">\n",
       "      <th></th>\n",
       "      <th>id</th>\n",
       "      <th>diag_id</th>\n",
       "      <th>ind_id</th>\n",
       "      <th>name</th>\n",
       "      <th>name_tokens</th>\n",
       "      <th>exp</th>\n",
       "      <th>exp_tokens</th>\n",
       "      <th>macro</th>\n",
       "      <th>priority</th>\n",
       "      <th>is_online</th>\n",
       "    </tr>\n",
       "  </thead>\n",
       "  <tbody>\n",
       "    <tr>\n",
       "      <th>17702</th>\n",
       "      <td>17702</td>\n",
       "      <td>enc_u_4559528090111723216</td>\n",
       "      <td>NaN</td>\n",
       "      <td>adultos mayores</td>\n",
       "      <td>['adultos', 'mayores']</td>\n",
       "      <td>miedo a quedarse solos</td>\n",
       "      <td>['miedo', 'quedarse', 'solos']</td>\n",
       "      <td>trabajo</td>\n",
       "      <td>0</td>\n",
       "      <td>False</td>\n",
       "    </tr>\n",
       "  </tbody>\n",
       "</table>\n",
       "</div>"
      ],
      "text/plain": [
       "          id                    diag_id ind_id             name  \\\n",
       "17702  17702  enc_u_4559528090111723216    NaN  adultos mayores   \n",
       "\n",
       "                  name_tokens                     exp  \\\n",
       "17702  ['adultos', 'mayores']  miedo a quedarse solos   \n",
       "\n",
       "                           exp_tokens    macro  priority  is_online  \n",
       "17702  ['miedo', 'quedarse', 'solos']  trabajo         0      False  "
      ]
     },
     "execution_count": 56,
     "metadata": {},
     "output_type": "execute_result"
    }
   ],
   "source": [
    "personal_needs_table.sample(1)"
   ]
  },
  {
   "cell_type": "code",
   "execution_count": 57,
   "metadata": {},
   "outputs": [],
   "source": [
    "personal_needs_table = eliminate_nrs(personal_needs_table)\n",
    "\n",
    "personal_needs_table['name_tokens'] = personal_needs_table['name_tokens'].apply(lambda x: clean_alt_list(x))\n",
    "personal_needs_table['exp_tokens'] = personal_needs_table['exp_tokens'].apply(lambda x: clean_alt_list(x))\n",
    "\n",
    "\n",
    "personal_needs_table['is_online'] = personal_needs_table['is_online'].apply(lambda x: bool(x))\n",
    "personal_needs_table['priority'] = personal_needs_table['priority'].apply(lambda x: int(x))"
   ]
  },
  {
   "cell_type": "code",
   "execution_count": 58,
   "metadata": {},
   "outputs": [
    {
     "data": {
      "text/html": [
       "<div>\n",
       "<style scoped>\n",
       "    .dataframe tbody tr th:only-of-type {\n",
       "        vertical-align: middle;\n",
       "    }\n",
       "\n",
       "    .dataframe tbody tr th {\n",
       "        vertical-align: top;\n",
       "    }\n",
       "\n",
       "    .dataframe thead th {\n",
       "        text-align: right;\n",
       "    }\n",
       "</style>\n",
       "<table border=\"1\" class=\"dataframe\">\n",
       "  <thead>\n",
       "    <tr style=\"text-align: right;\">\n",
       "      <th></th>\n",
       "      <th>id</th>\n",
       "      <th>diag_id</th>\n",
       "      <th>ind_id</th>\n",
       "      <th>name</th>\n",
       "      <th>name_tokens</th>\n",
       "      <th>exp</th>\n",
       "      <th>exp_tokens</th>\n",
       "      <th>macro</th>\n",
       "      <th>priority</th>\n",
       "      <th>is_online</th>\n",
       "    </tr>\n",
       "  </thead>\n",
       "  <tbody>\n",
       "    <tr>\n",
       "      <th>44500</th>\n",
       "      <td>44500</td>\n",
       "      <td>enc_u_4562983591194971878</td>\n",
       "      <td></td>\n",
       "      <td>vivienda</td>\n",
       "      <td>[vivienda]</td>\n",
       "      <td>pocos cupos, han postulado muchas veces y no h...</td>\n",
       "      <td>[pocos, cupos, postulado, muchas, veces, conse...</td>\n",
       "      <td>vivienda</td>\n",
       "      <td>2</td>\n",
       "      <td>False</td>\n",
       "    </tr>\n",
       "  </tbody>\n",
       "</table>\n",
       "</div>"
      ],
      "text/plain": [
       "          id                    diag_id ind_id      name name_tokens  \\\n",
       "44500  44500  enc_u_4562983591194971878         vivienda  [vivienda]   \n",
       "\n",
       "                                                     exp  \\\n",
       "44500  pocos cupos, han postulado muchas veces y no h...   \n",
       "\n",
       "                                              exp_tokens     macro  priority  \\\n",
       "44500  [pocos, cupos, postulado, muchas, veces, conse...  vivienda         2   \n",
       "\n",
       "       is_online  \n",
       "44500      False  "
      ]
     },
     "execution_count": 58,
     "metadata": {},
     "output_type": "execute_result"
    }
   ],
   "source": [
    "personal_needs_table.sample(1)"
   ]
  },
  {
   "cell_type": "markdown",
   "metadata": {},
   "source": [
    "Debemos recalcular los pares de palabras en caso de que algo haya cambiado"
   ]
  },
  {
   "cell_type": "code",
   "execution_count": 59,
   "metadata": {},
   "outputs": [],
   "source": [
    "personal_needs_pairs = create_pair_token(personal_needs_table, 'exp_tokens', 'personal_need_id')"
   ]
  },
  {
   "cell_type": "markdown",
   "metadata": {},
   "source": [
    "guardamos/reemplazamos la nueva tabla de pares y finalmente los nuevos `.sql`"
   ]
  },
  {
   "cell_type": "code",
   "execution_count": 60,
   "metadata": {},
   "outputs": [],
   "source": [
    "personal_needs_pairs.to_csv('./db/CSV/personal_needs_pairs.csv', index=False)\n",
    "per_need_to_sql(personal_needs_table, './db/SQL_INSERT/personal_needs.sql')"
   ]
  },
  {
   "cell_type": "markdown",
   "metadata": {},
   "source": [
    "### Necesidades Pais"
   ]
  },
  {
   "cell_type": "code",
   "execution_count": 61,
   "metadata": {},
   "outputs": [],
   "source": [
    "country_needs_table = pd.read_csv('./db/CSV/country_needs.csv', low_memory=False)"
   ]
  },
  {
   "cell_type": "code",
   "execution_count": 62,
   "metadata": {},
   "outputs": [
    {
     "data": {
      "text/html": [
       "<div>\n",
       "<style scoped>\n",
       "    .dataframe tbody tr th:only-of-type {\n",
       "        vertical-align: middle;\n",
       "    }\n",
       "\n",
       "    .dataframe tbody tr th {\n",
       "        vertical-align: top;\n",
       "    }\n",
       "\n",
       "    .dataframe thead th {\n",
       "        text-align: right;\n",
       "    }\n",
       "</style>\n",
       "<table border=\"1\" class=\"dataframe\">\n",
       "  <thead>\n",
       "    <tr style=\"text-align: right;\">\n",
       "      <th></th>\n",
       "      <th>id</th>\n",
       "      <th>diag_id</th>\n",
       "      <th>ind_id</th>\n",
       "      <th>name</th>\n",
       "      <th>name_tokens</th>\n",
       "      <th>macro</th>\n",
       "      <th>exp</th>\n",
       "      <th>exp_tokens</th>\n",
       "      <th>role</th>\n",
       "      <th>role_tokens</th>\n",
       "      <th>actor</th>\n",
       "      <th>priority</th>\n",
       "      <th>is_online</th>\n",
       "    </tr>\n",
       "  </thead>\n",
       "  <tbody>\n",
       "    <tr>\n",
       "      <th>136388</th>\n",
       "      <td>136398</td>\n",
       "      <td>NaN</td>\n",
       "      <td>4934725</td>\n",
       "      <td>calidad de vida</td>\n",
       "      <td>['calidad', 'vida']</td>\n",
       "      <td>NR</td>\n",
       "      <td>NaN</td>\n",
       "      <td>NR</td>\n",
       "      <td>NaN</td>\n",
       "      <td>NaN</td>\n",
       "      <td>NaN</td>\n",
       "      <td>NaN</td>\n",
       "      <td>False</td>\n",
       "    </tr>\n",
       "  </tbody>\n",
       "</table>\n",
       "</div>"
      ],
      "text/plain": [
       "            id diag_id   ind_id             name          name_tokens macro  \\\n",
       "136388  136398     NaN  4934725  calidad de vida  ['calidad', 'vida']    NR   \n",
       "\n",
       "        exp exp_tokens role role_tokens actor  priority  is_online  \n",
       "136388  NaN         NR  NaN         NaN   NaN       NaN      False  "
      ]
     },
     "execution_count": 62,
     "metadata": {},
     "output_type": "execute_result"
    }
   ],
   "source": [
    "country_needs_table.sample(1)"
   ]
  },
  {
   "cell_type": "code",
   "execution_count": 63,
   "metadata": {},
   "outputs": [],
   "source": [
    "country_needs_table = eliminate_nrs(country_needs_table)\n",
    "country_needs_table['name_tokens'] = country_needs_table['name_tokens'].apply(lambda x: clean_alt_list(x))\n",
    "country_needs_table['exp_tokens'] = country_needs_table['exp_tokens'].apply(lambda x: clean_alt_list(x))\n",
    "country_needs_table['role_tokens'] = country_needs_table['role_tokens'].apply(lambda x: clean_alt_list(x))\n",
    "\n",
    "country_needs_table['is_online'] = country_needs_table['is_online'].apply(lambda x: bool(x))\n",
    "country_needs_table['priority'] = country_needs_table['priority'].apply(lambda x: str_to_int(x))"
   ]
  },
  {
   "cell_type": "code",
   "execution_count": 65,
   "metadata": {},
   "outputs": [
    {
     "data": {
      "text/html": [
       "<div>\n",
       "<style scoped>\n",
       "    .dataframe tbody tr th:only-of-type {\n",
       "        vertical-align: middle;\n",
       "    }\n",
       "\n",
       "    .dataframe tbody tr th {\n",
       "        vertical-align: top;\n",
       "    }\n",
       "\n",
       "    .dataframe thead th {\n",
       "        text-align: right;\n",
       "    }\n",
       "</style>\n",
       "<table border=\"1\" class=\"dataframe\">\n",
       "  <thead>\n",
       "    <tr style=\"text-align: right;\">\n",
       "      <th></th>\n",
       "      <th>id</th>\n",
       "      <th>diag_id</th>\n",
       "      <th>ind_id</th>\n",
       "      <th>name</th>\n",
       "      <th>name_tokens</th>\n",
       "      <th>macro</th>\n",
       "      <th>exp</th>\n",
       "      <th>exp_tokens</th>\n",
       "      <th>role</th>\n",
       "      <th>role_tokens</th>\n",
       "      <th>actor</th>\n",
       "      <th>priority</th>\n",
       "      <th>is_online</th>\n",
       "    </tr>\n",
       "  </thead>\n",
       "  <tbody>\n",
       "    <tr>\n",
       "      <th>138023</th>\n",
       "      <td>138033</td>\n",
       "      <td></td>\n",
       "      <td>5d16b1bc7f35e885244c5c857799994c</td>\n",
       "      <td>justicia</td>\n",
       "      <td>[justicia]</td>\n",
       "      <td>cambios politicos</td>\n",
       "      <td>expulsar a gente que hace dano a chile</td>\n",
       "      <td>[expulsar, gente, hace, dano, chile]</td>\n",
       "      <td>jueces demaciado garantistas</td>\n",
       "      <td>[jueces, demaciado, garantistas]</td>\n",
       "      <td>sistema penal</td>\n",
       "      <td>0</td>\n",
       "      <td>True</td>\n",
       "    </tr>\n",
       "  </tbody>\n",
       "</table>\n",
       "</div>"
      ],
      "text/plain": [
       "            id diag_id                            ind_id      name  \\\n",
       "138023  138033          5d16b1bc7f35e885244c5c857799994c  justicia   \n",
       "\n",
       "       name_tokens              macro                                     exp  \\\n",
       "138023  [justicia]  cambios politicos  expulsar a gente que hace dano a chile   \n",
       "\n",
       "                                  exp_tokens                          role  \\\n",
       "138023  [expulsar, gente, hace, dano, chile]  jueces demaciado garantistas   \n",
       "\n",
       "                             role_tokens          actor  priority  is_online  \n",
       "138023  [jueces, demaciado, garantistas]  sistema penal         0       True  "
      ]
     },
     "execution_count": 65,
     "metadata": {},
     "output_type": "execute_result"
    }
   ],
   "source": [
    "country_needs_table.sample(1)"
   ]
  },
  {
   "cell_type": "markdown",
   "metadata": {},
   "source": [
    "Debemos recalcular los pares de palabras en caso de que algo haya cambiado, en este caso tenemos dos tablas: exp y role"
   ]
  },
  {
   "cell_type": "code",
   "execution_count": 66,
   "metadata": {},
   "outputs": [],
   "source": [
    "country_needs_exp_pairs_table = create_pair_token(country_needs_table, 'exp_tokens', 'country_need_id')\n",
    "country_need_role_pair_table = create_pair_token(country_needs_table, 'role_tokens', 'country_need_id')"
   ]
  },
  {
   "cell_type": "markdown",
   "metadata": {},
   "source": [
    "guardamos/reemplazamos la nueva tabla de pares y finalmente los nuevos .sql"
   ]
  },
  {
   "cell_type": "code",
   "execution_count": 67,
   "metadata": {},
   "outputs": [],
   "source": [
    "country_needs_exp_pairs_table.to_csv('./db/CSV/country_needs_exp_pairs.csv', index=False)\n",
    "country_need_role_pair_table.to_csv('./db/CSV/country_needs_role_pairs.csv', index=False)\n",
    "count_need_to_sql(country_needs_table, './db/SQL_INSERT/country_needs.sql')"
   ]
  }
 ],
 "metadata": {
  "kernelspec": {
   "display_name": "Python 3",
   "language": "python",
   "name": "python3"
  },
  "language_info": {
   "codemirror_mode": {
    "name": "ipython",
    "version": 3
   },
   "file_extension": ".py",
   "mimetype": "text/x-python",
   "name": "python",
   "nbconvert_exporter": "python",
   "pygments_lexer": "ipython3",
   "version": "3.7.6"
  }
 },
 "nbformat": 4,
 "nbformat_minor": 4
}
