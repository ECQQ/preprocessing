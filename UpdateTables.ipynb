{
 "cells": [
  {
   "cell_type": "markdown",
   "metadata": {},
   "source": [
    "# Actualizacion de Tablas SQL\n",
    "## Utilizando las nuevas tablas desde el modulo de sistematizacion"
   ]
  },
  {
   "cell_type": "markdown",
   "metadata": {},
   "source": [
    "Antes que todo, es necesario que la carpeta `db/CSV/` se encuentra con los archivos nuevos -i.e., copiar y reemplazar en la carpeta las tablas nuevas.\n",
    "\n",
    "En particular, las nuevas tablas contienen procesada la columna `macro`. Esta columna asigna una etiqueta o categoria, permitiendo agrupar distintas respuestas. "
   ]
  },
  {
   "cell_type": "code",
   "execution_count": 2,
   "metadata": {},
   "outputs": [
    {
     "name": "stderr",
     "output_type": "stream",
     "text": [
      "[nltk_data] Downloading package stopwords to /home/jovyan/nltk_data...\n",
      "[nltk_data]   Package stopwords is already up-to-date!\n"
     ]
    }
   ],
   "source": [
    "import pandas as pd\n",
    "import numpy as np\n",
    "import os \n",
    "\n",
    "\n",
    "from use_cases.pairs import create_pair_token\n",
    "from use_cases.utils.textools import clean_alt_list, to_unicode\n",
    "\n",
    "from use_cases.contributions import create_table_contributions, to_sql as con_to_sql\n",
    "from use_cases.emotions import create_table_emotions, to_sql as emo_to_sql \n",
    "from use_cases.personal_needs import create_table_personal_needs, to_sql as per_need_to_sql\n",
    "from use_cases.country_needs import create_table_country_needs, to_sql as count_need_to_sql"
   ]
  },
  {
   "cell_type": "markdown",
   "metadata": {},
   "source": [
    "### Emociones y Sentimientos"
   ]
  },
  {
   "cell_type": "code",
   "execution_count": 40,
   "metadata": {},
   "outputs": [],
   "source": [
    "emotions_table = pd.read_csv('./db/CSV/emotions.csv', low_memory=False)"
   ]
  },
  {
   "cell_type": "code",
   "execution_count": 41,
   "metadata": {},
   "outputs": [
    {
     "data": {
      "text/html": [
       "<div>\n",
       "<style scoped>\n",
       "    .dataframe tbody tr th:only-of-type {\n",
       "        vertical-align: middle;\n",
       "    }\n",
       "\n",
       "    .dataframe tbody tr th {\n",
       "        vertical-align: top;\n",
       "    }\n",
       "\n",
       "    .dataframe thead th {\n",
       "        text-align: right;\n",
       "    }\n",
       "</style>\n",
       "<table border=\"1\" class=\"dataframe\">\n",
       "  <thead>\n",
       "    <tr style=\"text-align: right;\">\n",
       "      <th></th>\n",
       "      <th>id</th>\n",
       "      <th>diag_id</th>\n",
       "      <th>ind_id</th>\n",
       "      <th>name</th>\n",
       "      <th>name_tokens</th>\n",
       "      <th>macro</th>\n",
       "      <th>exp</th>\n",
       "      <th>exp_tokens</th>\n",
       "      <th>is_online</th>\n",
       "    </tr>\n",
       "  </thead>\n",
       "  <tbody>\n",
       "    <tr>\n",
       "      <th>49562</th>\n",
       "      <td>49562</td>\n",
       "      <td>ENC_U_4554494271909703782</td>\n",
       "      <td>NaN</td>\n",
       "      <td>alegria</td>\n",
       "      <td>['alegria']</td>\n",
       "      <td>Alegría</td>\n",
       "      <td>-por el movimiento social y por la unidad que ...</td>\n",
       "      <td>['movimiento', 'social', 'unidad', 'movimiento...</td>\n",
       "      <td>True</td>\n",
       "    </tr>\n",
       "    <tr>\n",
       "      <th>77688</th>\n",
       "      <td>77688</td>\n",
       "      <td>NaN</td>\n",
       "      <td>3228981</td>\n",
       "      <td>rechazo</td>\n",
       "      <td>['rechazo']</td>\n",
       "      <td>Repulsión</td>\n",
       "      <td>NaN</td>\n",
       "      <td>NaN</td>\n",
       "      <td>False</td>\n",
       "    </tr>\n",
       "  </tbody>\n",
       "</table>\n",
       "</div>"
      ],
      "text/plain": [
       "          id                    diag_id   ind_id     name  name_tokens  \\\n",
       "49562  49562  ENC_U_4554494271909703782      NaN  alegria  ['alegria']   \n",
       "77688  77688                        NaN  3228981  rechazo  ['rechazo']   \n",
       "\n",
       "           macro                                                exp  \\\n",
       "49562    Alegría  -por el movimiento social y por la unidad que ...   \n",
       "77688  Repulsión                                                NaN   \n",
       "\n",
       "                                              exp_tokens  is_online  \n",
       "49562  ['movimiento', 'social', 'unidad', 'movimiento...       True  \n",
       "77688                                                NaN      False  "
      ]
     },
     "execution_count": 41,
     "metadata": {},
     "output_type": "execute_result"
    }
   ],
   "source": [
    "emotions_table.sample(2)"
   ]
  },
  {
   "cell_type": "markdown",
   "metadata": {},
   "source": [
    "las listas se guardan como `strings` en el csv, es necesario volver a dejarlos como `listas`, asi tambien como pasar los id de los dialogos a `unicode`"
   ]
  },
  {
   "cell_type": "code",
   "execution_count": 45,
   "metadata": {},
   "outputs": [],
   "source": [
    "emotions_table['name_tokens'] = emotions_table['name_tokens'].apply(lambda x: clean_alt_list(x))\n",
    "emotions_table['exp_tokens'] = emotions_table['exp_tokens'].apply(lambda x: clean_alt_list(x))\n",
    "emotions_table = emotions_table.replace({'nr':'','nan':'', 'NR':'', 'NaN':'', np.nan:''})\n",
    "emotions_table['diag_id'] = to_unicode(emotions_table['diag_id'])\n",
    "emotions_table = emotions_table.drop(emotions_table[(emotions_table['diag_id'] == '') & (emotions_table['ind_id'] == '')].index) "
   ]
  },
  {
   "cell_type": "code",
   "execution_count": 46,
   "metadata": {},
   "outputs": [
    {
     "data": {
      "text/html": [
       "<div>\n",
       "<style scoped>\n",
       "    .dataframe tbody tr th:only-of-type {\n",
       "        vertical-align: middle;\n",
       "    }\n",
       "\n",
       "    .dataframe tbody tr th {\n",
       "        vertical-align: top;\n",
       "    }\n",
       "\n",
       "    .dataframe thead th {\n",
       "        text-align: right;\n",
       "    }\n",
       "</style>\n",
       "<table border=\"1\" class=\"dataframe\">\n",
       "  <thead>\n",
       "    <tr style=\"text-align: right;\">\n",
       "      <th></th>\n",
       "      <th>id</th>\n",
       "      <th>diag_id</th>\n",
       "      <th>ind_id</th>\n",
       "      <th>name</th>\n",
       "      <th>name_tokens</th>\n",
       "      <th>macro</th>\n",
       "      <th>exp</th>\n",
       "      <th>exp_tokens</th>\n",
       "      <th>is_online</th>\n",
       "    </tr>\n",
       "  </thead>\n",
       "  <tbody>\n",
       "    <tr>\n",
       "      <th>60179</th>\n",
       "      <td>60179</td>\n",
       "      <td>enc_u_4562081741901988839</td>\n",
       "      <td></td>\n",
       "      <td>.</td>\n",
       "      <td>[nan]</td>\n",
       "      <td></td>\n",
       "      <td>.</td>\n",
       "      <td>[nan]</td>\n",
       "      <td>True</td>\n",
       "    </tr>\n",
       "    <tr>\n",
       "      <th>1158</th>\n",
       "      <td>1158</td>\n",
       "      <td>enc_u_4557021980801366643</td>\n",
       "      <td></td>\n",
       "      <td>decepcionado</td>\n",
       "      <td>[decepcionado]</td>\n",
       "      <td>Enojo</td>\n",
       "      <td>por el actuar de las autoridades tras no apoya...</td>\n",
       "      <td>[actuar,   autoridades,   tras,   apoyar,   fu...</td>\n",
       "      <td>True</td>\n",
       "    </tr>\n",
       "  </tbody>\n",
       "</table>\n",
       "</div>"
      ],
      "text/plain": [
       "          id                    diag_id ind_id          name     name_tokens  \\\n",
       "60179  60179  enc_u_4562081741901988839                    .           [nan]   \n",
       "1158    1158  enc_u_4557021980801366643         decepcionado  [decepcionado]   \n",
       "\n",
       "       macro                                                exp  \\\n",
       "60179                                                         .   \n",
       "1158   Enojo  por el actuar de las autoridades tras no apoya...   \n",
       "\n",
       "                                              exp_tokens  is_online  \n",
       "60179                                              [nan]       True  \n",
       "1158   [actuar,   autoridades,   tras,   apoyar,   fu...       True  "
      ]
     },
     "execution_count": 46,
     "metadata": {},
     "output_type": "execute_result"
    }
   ],
   "source": [
    "emotions_table.sample(2)"
   ]
  },
  {
   "cell_type": "markdown",
   "metadata": {},
   "source": [
    "Debemos recalcular los pares de palabras en caso de que algo haya cambiado"
   ]
  },
  {
   "cell_type": "code",
   "execution_count": 47,
   "metadata": {},
   "outputs": [],
   "source": [
    "emotion_pair = create_pair_token(emotions_table, 'exp_tokens', 'emotion_id')"
   ]
  },
  {
   "cell_type": "markdown",
   "metadata": {},
   "source": [
    "guardamos/reemplazamos la nueva tabla de pares y finalmente los nuevos `.sql`"
   ]
  },
  {
   "cell_type": "code",
   "execution_count": 48,
   "metadata": {},
   "outputs": [],
   "source": [
    "emotion_pair.to_csv('./db/CSV/emotions_pairs.csv', index=False)\n",
    "emo_to_sql(emotions_table, './db/SQL_INSERT/emotions.sql')"
   ]
  },
  {
   "cell_type": "markdown",
   "metadata": {},
   "source": [
    "### Contribuciones"
   ]
  },
  {
   "cell_type": "markdown",
   "metadata": {},
   "source": [
    "En el caso de contribuciones solo necesitamos guardar el nuevo `csv` como `sql`"
   ]
  },
  {
   "cell_type": "code",
   "execution_count": 54,
   "metadata": {},
   "outputs": [],
   "source": [
    "contributions_table = pd.read_csv('./db/CSV/contributions.csv', low_memory=False)"
   ]
  },
  {
   "cell_type": "code",
   "execution_count": 55,
   "metadata": {},
   "outputs": [
    {
     "data": {
      "text/html": [
       "<div>\n",
       "<style scoped>\n",
       "    .dataframe tbody tr th:only-of-type {\n",
       "        vertical-align: middle;\n",
       "    }\n",
       "\n",
       "    .dataframe tbody tr th {\n",
       "        vertical-align: top;\n",
       "    }\n",
       "\n",
       "    .dataframe thead th {\n",
       "        text-align: right;\n",
       "    }\n",
       "</style>\n",
       "<table border=\"1\" class=\"dataframe\">\n",
       "  <thead>\n",
       "    <tr style=\"text-align: right;\">\n",
       "      <th></th>\n",
       "      <th>id</th>\n",
       "      <th>diag_id</th>\n",
       "      <th>ind_id</th>\n",
       "      <th>text</th>\n",
       "      <th>tokens</th>\n",
       "      <th>macro</th>\n",
       "      <th>is_online</th>\n",
       "    </tr>\n",
       "  </thead>\n",
       "  <tbody>\n",
       "    <tr>\n",
       "      <th>64540</th>\n",
       "      <td>79629</td>\n",
       "      <td>NaN</td>\n",
       "      <td>3629873</td>\n",
       "      <td>votar, para que este pais sea mejor</td>\n",
       "      <td>['votar', 'pais', 'mejor']</td>\n",
       "      <td>Participacion</td>\n",
       "      <td>False</td>\n",
       "    </tr>\n",
       "  </tbody>\n",
       "</table>\n",
       "</div>"
      ],
      "text/plain": [
       "          id diag_id   ind_id                                 text  \\\n",
       "64540  79629     NaN  3629873  votar, para que este pais sea mejor   \n",
       "\n",
       "                           tokens          macro  is_online  \n",
       "64540  ['votar', 'pais', 'mejor']  Participacion      False  "
      ]
     },
     "execution_count": 55,
     "metadata": {},
     "output_type": "execute_result"
    }
   ],
   "source": [
    "contributions_table.sample(1)"
   ]
  },
  {
   "cell_type": "code",
   "execution_count": 56,
   "metadata": {},
   "outputs": [],
   "source": [
    "contributions_table['tokens'] = contributions_table['tokens'].apply(lambda x: clean_alt_list(x))\n",
    "contributions_table = contributions_table.replace({'nr':'','nan':'', 'NR':'', 'NaN':'', np.nan:''})\n",
    "contributions_table['diag_id'] = to_unicode(contributions_table['diag_id'])\n",
    "contributions_table = contributions_table.drop(contributions_table[(contributions_table['diag_id'] == '') & (contributions_table['ind_id'] == '')].index)"
   ]
  },
  {
   "cell_type": "code",
   "execution_count": 57,
   "metadata": {},
   "outputs": [
    {
     "data": {
      "text/html": [
       "<div>\n",
       "<style scoped>\n",
       "    .dataframe tbody tr th:only-of-type {\n",
       "        vertical-align: middle;\n",
       "    }\n",
       "\n",
       "    .dataframe tbody tr th {\n",
       "        vertical-align: top;\n",
       "    }\n",
       "\n",
       "    .dataframe thead th {\n",
       "        text-align: right;\n",
       "    }\n",
       "</style>\n",
       "<table border=\"1\" class=\"dataframe\">\n",
       "  <thead>\n",
       "    <tr style=\"text-align: right;\">\n",
       "      <th></th>\n",
       "      <th>id</th>\n",
       "      <th>diag_id</th>\n",
       "      <th>ind_id</th>\n",
       "      <th>text</th>\n",
       "      <th>tokens</th>\n",
       "      <th>macro</th>\n",
       "      <th>is_online</th>\n",
       "    </tr>\n",
       "  </thead>\n",
       "  <tbody>\n",
       "    <tr>\n",
       "      <th>54305</th>\n",
       "      <td>66674</td>\n",
       "      <td></td>\n",
       "      <td>2810793</td>\n",
       "      <td>soy una adulta mayor. mi aporte a mi pais ya l...</td>\n",
       "      <td>[adulta,  mayor,  aporte,  pais,  di,  trabaje...</td>\n",
       "      <td>Reciprocidad-Redes</td>\n",
       "      <td>False</td>\n",
       "    </tr>\n",
       "  </tbody>\n",
       "</table>\n",
       "</div>"
      ],
      "text/plain": [
       "          id diag_id   ind_id  \\\n",
       "54305  66674          2810793   \n",
       "\n",
       "                                                    text  \\\n",
       "54305  soy una adulta mayor. mi aporte a mi pais ya l...   \n",
       "\n",
       "                                                  tokens               macro  \\\n",
       "54305  [adulta,  mayor,  aporte,  pais,  di,  trabaje...  Reciprocidad-Redes   \n",
       "\n",
       "       is_online  \n",
       "54305      False  "
      ]
     },
     "execution_count": 57,
     "metadata": {},
     "output_type": "execute_result"
    }
   ],
   "source": [
    "contributions_table.sample(1)"
   ]
  },
  {
   "cell_type": "code",
   "execution_count": 58,
   "metadata": {},
   "outputs": [],
   "source": [
    "con_to_sql(contributions_table, './db/SQL_INSERT/contributions.sql')"
   ]
  },
  {
   "cell_type": "markdown",
   "metadata": {},
   "source": [
    "### Necesidades Personales"
   ]
  },
  {
   "cell_type": "code",
   "execution_count": 14,
   "metadata": {},
   "outputs": [],
   "source": [
    "personal_needs_table = pd.read_csv('./db/CSV/personal_needs.csv', low_memory=False)"
   ]
  },
  {
   "cell_type": "code",
   "execution_count": 15,
   "metadata": {},
   "outputs": [
    {
     "data": {
      "text/html": [
       "<div>\n",
       "<style scoped>\n",
       "    .dataframe tbody tr th:only-of-type {\n",
       "        vertical-align: middle;\n",
       "    }\n",
       "\n",
       "    .dataframe tbody tr th {\n",
       "        vertical-align: top;\n",
       "    }\n",
       "\n",
       "    .dataframe thead th {\n",
       "        text-align: right;\n",
       "    }\n",
       "</style>\n",
       "<table border=\"1\" class=\"dataframe\">\n",
       "  <thead>\n",
       "    <tr style=\"text-align: right;\">\n",
       "      <th></th>\n",
       "      <th>id</th>\n",
       "      <th>diag_id</th>\n",
       "      <th>ind_id</th>\n",
       "      <th>name</th>\n",
       "      <th>name_tokens</th>\n",
       "      <th>exp</th>\n",
       "      <th>exp_tokens</th>\n",
       "      <th>macro</th>\n",
       "      <th>priority</th>\n",
       "      <th>is_online</th>\n",
       "    </tr>\n",
       "  </thead>\n",
       "  <tbody>\n",
       "    <tr>\n",
       "      <th>86663</th>\n",
       "      <td>86663</td>\n",
       "      <td>NaN</td>\n",
       "      <td>4071168</td>\n",
       "      <td>mejor vivienda</td>\n",
       "      <td>['mejor', 'vivienda']</td>\n",
       "      <td>postulacion a casa</td>\n",
       "      <td>['postulacion', 'casa']</td>\n",
       "      <td>vivienda</td>\n",
       "      <td>3.0</td>\n",
       "      <td>0</td>\n",
       "    </tr>\n",
       "    <tr>\n",
       "      <th>65759</th>\n",
       "      <td>65759</td>\n",
       "      <td>NaN</td>\n",
       "      <td>82911aa8f036883e9ff9f32d50322c8c</td>\n",
       "      <td>oportunidades de estudiar</td>\n",
       "      <td>['oportunidades', 'estudiar']</td>\n",
       "      <td>por que al cabo de tener una vida plena hay qu...</td>\n",
       "      <td>['cabo', 'tener', 'vida', 'plena', 'trabajar',...</td>\n",
       "      <td>educacion</td>\n",
       "      <td>1.0</td>\n",
       "      <td>1</td>\n",
       "    </tr>\n",
       "  </tbody>\n",
       "</table>\n",
       "</div>"
      ],
      "text/plain": [
       "          id diag_id                            ind_id  \\\n",
       "86663  86663     NaN                           4071168   \n",
       "65759  65759     NaN  82911aa8f036883e9ff9f32d50322c8c   \n",
       "\n",
       "                            name                    name_tokens  \\\n",
       "86663             mejor vivienda          ['mejor', 'vivienda']   \n",
       "65759  oportunidades de estudiar  ['oportunidades', 'estudiar']   \n",
       "\n",
       "                                                     exp  \\\n",
       "86663                                 postulacion a casa   \n",
       "65759  por que al cabo de tener una vida plena hay qu...   \n",
       "\n",
       "                                              exp_tokens      macro  priority  \\\n",
       "86663                            ['postulacion', 'casa']   vivienda       3.0   \n",
       "65759  ['cabo', 'tener', 'vida', 'plena', 'trabajar',...  educacion       1.0   \n",
       "\n",
       "       is_online  \n",
       "86663          0  \n",
       "65759          1  "
      ]
     },
     "execution_count": 15,
     "metadata": {},
     "output_type": "execute_result"
    }
   ],
   "source": [
    "personal_needs_table.sample(1)"
   ]
  },
  {
   "cell_type": "code",
   "execution_count": 16,
   "metadata": {},
   "outputs": [],
   "source": [
    "personal_needs_table['name_tokens'] = personal_needs_table['name_tokens'].apply(lambda x: clean_alt_list(x))\n",
    "personal_needs_table['exp_tokens'] = personal_needs_table['exp_tokens'].apply(lambda x: clean_alt_list(x))\n",
    "personal_needs_table = personal_needs_table.replace({'nr':'','nan':'', 'NR':'', 'NaN':'', np.nan:''})\n",
    "personal_needs_table['diag_id'] = to_unicode(personal_needs_table['diag_id'])\n",
    "personal_needs_table = personal_needs_table.drop(personal_needs_table[(personal_needs_table['diag_id'] == '') & (personal_needs_table['ind_id'] == '')].index)\n",
    "personal_needs_table['is_online'] = personal_needs_table['is_online'].apply(lambda x: bool(x))\n",
    "personal_needs_table['priority'] = personal_needs_table['priority'].apply(lambda x: int(x))"
   ]
  },
  {
   "cell_type": "code",
   "execution_count": 20,
   "metadata": {},
   "outputs": [
    {
     "data": {
      "text/html": [
       "<div>\n",
       "<style scoped>\n",
       "    .dataframe tbody tr th:only-of-type {\n",
       "        vertical-align: middle;\n",
       "    }\n",
       "\n",
       "    .dataframe tbody tr th {\n",
       "        vertical-align: top;\n",
       "    }\n",
       "\n",
       "    .dataframe thead th {\n",
       "        text-align: right;\n",
       "    }\n",
       "</style>\n",
       "<table border=\"1\" class=\"dataframe\">\n",
       "  <thead>\n",
       "    <tr style=\"text-align: right;\">\n",
       "      <th></th>\n",
       "      <th>id</th>\n",
       "      <th>diag_id</th>\n",
       "      <th>ind_id</th>\n",
       "      <th>name</th>\n",
       "      <th>name_tokens</th>\n",
       "      <th>exp</th>\n",
       "      <th>exp_tokens</th>\n",
       "      <th>macro</th>\n",
       "      <th>priority</th>\n",
       "      <th>is_online</th>\n",
       "    </tr>\n",
       "  </thead>\n",
       "  <tbody>\n",
       "    <tr>\n",
       "      <th>70807</th>\n",
       "      <td>70807</td>\n",
       "      <td></td>\n",
       "      <td>3205067</td>\n",
       "      <td>economica</td>\n",
       "      <td>[economica]</td>\n",
       "      <td>falta de trabajo</td>\n",
       "      <td>[falta,  trabajo]</td>\n",
       "      <td>escacez hidrica</td>\n",
       "      <td>2</td>\n",
       "      <td>False</td>\n",
       "    </tr>\n",
       "    <tr>\n",
       "      <th>22510</th>\n",
       "      <td>22510</td>\n",
       "      <td>enc_u_4523401707314210356</td>\n",
       "      <td></td>\n",
       "      <td>que la salud considerada como derecho</td>\n",
       "      <td>[salud,  considerada,  derecho]</td>\n",
       "      <td>terminos de espera para recibir tratamiento</td>\n",
       "      <td>[terminos,  espera,  recibir,  tratamiento]</td>\n",
       "      <td>salud</td>\n",
       "      <td>3</td>\n",
       "      <td>False</td>\n",
       "    </tr>\n",
       "  </tbody>\n",
       "</table>\n",
       "</div>"
      ],
      "text/plain": [
       "          id                    diag_id   ind_id  \\\n",
       "70807  70807                             3205067   \n",
       "22510  22510  enc_u_4523401707314210356            \n",
       "\n",
       "                                        name                      name_tokens  \\\n",
       "70807                              economica                      [economica]   \n",
       "22510  que la salud considerada como derecho  [salud,  considerada,  derecho]   \n",
       "\n",
       "                                               exp  \\\n",
       "70807                             falta de trabajo   \n",
       "22510  terminos de espera para recibir tratamiento   \n",
       "\n",
       "                                        exp_tokens            macro  priority  \\\n",
       "70807                            [falta,  trabajo]  escacez hidrica         2   \n",
       "22510  [terminos,  espera,  recibir,  tratamiento]            salud         3   \n",
       "\n",
       "       is_online  \n",
       "70807      False  \n",
       "22510      False  "
      ]
     },
     "execution_count": 20,
     "metadata": {},
     "output_type": "execute_result"
    }
   ],
   "source": [
    "personal_needs_table.sample(1)"
   ]
  },
  {
   "cell_type": "markdown",
   "metadata": {},
   "source": [
    "Debemos recalcular los pares de palabras en caso de que algo haya cambiado"
   ]
  },
  {
   "cell_type": "code",
   "execution_count": 23,
   "metadata": {},
   "outputs": [],
   "source": [
    "personal_needs_pairs = create_pair_token(personal_needs_table, 'exp_tokens', 'personal_need_id')"
   ]
  },
  {
   "cell_type": "markdown",
   "metadata": {},
   "source": [
    "guardamos/reemplazamos la nueva tabla de pares y finalmente los nuevos `.sql`"
   ]
  },
  {
   "cell_type": "code",
   "execution_count": 25,
   "metadata": {},
   "outputs": [],
   "source": [
    "personal_needs_pairs.to_csv('./db/CSV/personal_needs_pairs.csv', index=False)\n",
    "per_need_to_sql(personal_needs_table, './db/SQL_INSERT/personal_needs.sql')"
   ]
  }
 ],
 "metadata": {
  "kernelspec": {
   "display_name": "Python 3",
   "language": "python",
   "name": "python3"
  },
  "language_info": {
   "codemirror_mode": {
    "name": "ipython",
    "version": 3
   },
   "file_extension": ".py",
   "mimetype": "text/x-python",
   "name": "python",
   "nbconvert_exporter": "python",
   "pygments_lexer": "ipython3",
   "version": "3.7.6"
  }
 },
 "nbformat": 4,
 "nbformat_minor": 4
}
