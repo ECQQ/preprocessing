{
 "cells": [
  {
   "cell_type": "markdown",
   "metadata": {},
   "source": [
    "# Actualizacion de Tablas SQL\n",
    "## Utilizando las nuevas tablas desde el modulo de sistematizacion"
   ]
  },
  {
   "cell_type": "markdown",
   "metadata": {},
   "source": [
    "Antes que todo, es necesario que la carpeta `db/CSV/` se encuentra con los archivos nuevos -i.e., copiar y reemplazar en la carpeta las tablas nuevas.\n",
    "\n",
    "En particular, las nuevas tablas contienen procesada la columna `macro`. Esta columna asigna una etiqueta o categoria, permitiendo agrupar distintas respuestas. "
   ]
  },
  {
   "cell_type": "code",
   "execution_count": 11,
   "metadata": {},
   "outputs": [],
   "source": [
    "import pandas as pd\n",
    "import numpy as np\n",
    "import os \n",
    "\n",
    "\n",
    "from use_cases.pairs import create_pair_token\n",
    "from use_cases.utils.textools import clean_alt_list, to_unicode\n",
    "\n",
    "from use_cases.contributions import create_table_contributions, to_sql as con_to_sql\n",
    "from use_cases.emotions import create_table_emotions, to_sql as emo_to_sql \n",
    "from use_cases.personal_needs import create_table_personal_needs, to_sql as per_need_to_sql\n",
    "from use_cases.country_needs import create_table_country_needs, to_sql as count_need_to_sql"
   ]
  },
  {
   "cell_type": "markdown",
   "metadata": {},
   "source": [
    "### Emociones y Sentimientos"
   ]
  },
  {
   "cell_type": "code",
   "execution_count": 40,
   "metadata": {},
   "outputs": [],
   "source": [
    "emotions_table = pd.read_csv('./db/CSV/emotions.csv', low_memory=False)"
   ]
  },
  {
   "cell_type": "code",
   "execution_count": 41,
   "metadata": {},
   "outputs": [
    {
     "data": {
      "text/html": [
       "<div>\n",
       "<style scoped>\n",
       "    .dataframe tbody tr th:only-of-type {\n",
       "        vertical-align: middle;\n",
       "    }\n",
       "\n",
       "    .dataframe tbody tr th {\n",
       "        vertical-align: top;\n",
       "    }\n",
       "\n",
       "    .dataframe thead th {\n",
       "        text-align: right;\n",
       "    }\n",
       "</style>\n",
       "<table border=\"1\" class=\"dataframe\">\n",
       "  <thead>\n",
       "    <tr style=\"text-align: right;\">\n",
       "      <th></th>\n",
       "      <th>id</th>\n",
       "      <th>diag_id</th>\n",
       "      <th>ind_id</th>\n",
       "      <th>name</th>\n",
       "      <th>name_tokens</th>\n",
       "      <th>macro</th>\n",
       "      <th>exp</th>\n",
       "      <th>exp_tokens</th>\n",
       "      <th>is_online</th>\n",
       "    </tr>\n",
       "  </thead>\n",
       "  <tbody>\n",
       "    <tr>\n",
       "      <th>49562</th>\n",
       "      <td>49562</td>\n",
       "      <td>ENC_U_4554494271909703782</td>\n",
       "      <td>NaN</td>\n",
       "      <td>alegria</td>\n",
       "      <td>['alegria']</td>\n",
       "      <td>Alegría</td>\n",
       "      <td>-por el movimiento social y por la unidad que ...</td>\n",
       "      <td>['movimiento', 'social', 'unidad', 'movimiento...</td>\n",
       "      <td>True</td>\n",
       "    </tr>\n",
       "    <tr>\n",
       "      <th>77688</th>\n",
       "      <td>77688</td>\n",
       "      <td>NaN</td>\n",
       "      <td>3228981</td>\n",
       "      <td>rechazo</td>\n",
       "      <td>['rechazo']</td>\n",
       "      <td>Repulsión</td>\n",
       "      <td>NaN</td>\n",
       "      <td>NaN</td>\n",
       "      <td>False</td>\n",
       "    </tr>\n",
       "  </tbody>\n",
       "</table>\n",
       "</div>"
      ],
      "text/plain": [
       "          id                    diag_id   ind_id     name  name_tokens  \\\n",
       "49562  49562  ENC_U_4554494271909703782      NaN  alegria  ['alegria']   \n",
       "77688  77688                        NaN  3228981  rechazo  ['rechazo']   \n",
       "\n",
       "           macro                                                exp  \\\n",
       "49562    Alegría  -por el movimiento social y por la unidad que ...   \n",
       "77688  Repulsión                                                NaN   \n",
       "\n",
       "                                              exp_tokens  is_online  \n",
       "49562  ['movimiento', 'social', 'unidad', 'movimiento...       True  \n",
       "77688                                                NaN      False  "
      ]
     },
     "execution_count": 41,
     "metadata": {},
     "output_type": "execute_result"
    }
   ],
   "source": [
    "emotions_table.sample(2)"
   ]
  },
  {
   "cell_type": "markdown",
   "metadata": {},
   "source": [
    "las listas se guardan como `strings` en el csv, es necesario volver a dejarlos como `listas`, asi tambien como pasar los id de los dialogos a `unicode`"
   ]
  },
  {
   "cell_type": "code",
   "execution_count": 45,
   "metadata": {},
   "outputs": [],
   "source": [
    "emotions_table['name_tokens'] = emotions_table['name_tokens'].apply(lambda x: clean_alt_list(x))\n",
    "emotions_table['exp_tokens'] = emotions_table['exp_tokens'].apply(lambda x: clean_alt_list(x))\n",
    "emotions_table = emotions_table.replace({'nr':'','nan':'', 'NR':'', 'NaN':'', np.nan:''})\n",
    "emotions_table['diag_id'] = to_unicode(emotions_table['diag_id'])\n",
    "emotions_table = emotions_table.drop(emotions_table[(emotions_table['diag_id'] == '') & (emotions_table['ind_id'] == '')].index) "
   ]
  },
  {
   "cell_type": "code",
   "execution_count": 46,
   "metadata": {},
   "outputs": [
    {
     "data": {
      "text/html": [
       "<div>\n",
       "<style scoped>\n",
       "    .dataframe tbody tr th:only-of-type {\n",
       "        vertical-align: middle;\n",
       "    }\n",
       "\n",
       "    .dataframe tbody tr th {\n",
       "        vertical-align: top;\n",
       "    }\n",
       "\n",
       "    .dataframe thead th {\n",
       "        text-align: right;\n",
       "    }\n",
       "</style>\n",
       "<table border=\"1\" class=\"dataframe\">\n",
       "  <thead>\n",
       "    <tr style=\"text-align: right;\">\n",
       "      <th></th>\n",
       "      <th>id</th>\n",
       "      <th>diag_id</th>\n",
       "      <th>ind_id</th>\n",
       "      <th>name</th>\n",
       "      <th>name_tokens</th>\n",
       "      <th>macro</th>\n",
       "      <th>exp</th>\n",
       "      <th>exp_tokens</th>\n",
       "      <th>is_online</th>\n",
       "    </tr>\n",
       "  </thead>\n",
       "  <tbody>\n",
       "    <tr>\n",
       "      <th>60179</th>\n",
       "      <td>60179</td>\n",
       "      <td>enc_u_4562081741901988839</td>\n",
       "      <td></td>\n",
       "      <td>.</td>\n",
       "      <td>[nan]</td>\n",
       "      <td></td>\n",
       "      <td>.</td>\n",
       "      <td>[nan]</td>\n",
       "      <td>True</td>\n",
       "    </tr>\n",
       "    <tr>\n",
       "      <th>1158</th>\n",
       "      <td>1158</td>\n",
       "      <td>enc_u_4557021980801366643</td>\n",
       "      <td></td>\n",
       "      <td>decepcionado</td>\n",
       "      <td>[decepcionado]</td>\n",
       "      <td>Enojo</td>\n",
       "      <td>por el actuar de las autoridades tras no apoya...</td>\n",
       "      <td>[actuar,   autoridades,   tras,   apoyar,   fu...</td>\n",
       "      <td>True</td>\n",
       "    </tr>\n",
       "  </tbody>\n",
       "</table>\n",
       "</div>"
      ],
      "text/plain": [
       "          id                    diag_id ind_id          name     name_tokens  \\\n",
       "60179  60179  enc_u_4562081741901988839                    .           [nan]   \n",
       "1158    1158  enc_u_4557021980801366643         decepcionado  [decepcionado]   \n",
       "\n",
       "       macro                                                exp  \\\n",
       "60179                                                         .   \n",
       "1158   Enojo  por el actuar de las autoridades tras no apoya...   \n",
       "\n",
       "                                              exp_tokens  is_online  \n",
       "60179                                              [nan]       True  \n",
       "1158   [actuar,   autoridades,   tras,   apoyar,   fu...       True  "
      ]
     },
     "execution_count": 46,
     "metadata": {},
     "output_type": "execute_result"
    }
   ],
   "source": [
    "emotions_table.sample(2)"
   ]
  },
  {
   "cell_type": "markdown",
   "metadata": {},
   "source": [
    "Debemos recalcular los pares de palabras en caso de que algo haya cambiado"
   ]
  },
  {
   "cell_type": "code",
   "execution_count": 47,
   "metadata": {},
   "outputs": [],
   "source": [
    "emotion_pair = create_pair_token(emotions_table, 'exp_tokens', 'emotion_id')"
   ]
  },
  {
   "cell_type": "markdown",
   "metadata": {},
   "source": [
    "guardamos/reemplazamos la nueva tabla de pares "
   ]
  },
  {
   "cell_type": "code",
   "execution_count": 48,
   "metadata": {},
   "outputs": [],
   "source": [
    "emotion_pair.to_csv('./db/CSV/emotions_pairs.csv', index=False)"
   ]
  },
  {
   "cell_type": "markdown",
   "metadata": {},
   "source": [
    "y finalmente los nuevos `.sql`"
   ]
  },
  {
   "cell_type": "code",
   "execution_count": 49,
   "metadata": {},
   "outputs": [],
   "source": [
    "emo_to_sql(emotions_table, './db/SQL_INSERT/emotions.sql')"
   ]
  },
  {
   "cell_type": "markdown",
   "metadata": {},
   "source": [
    "### Contribuciones"
   ]
  },
  {
   "cell_type": "markdown",
   "metadata": {},
   "source": [
    "En el caso de contribuciones solo necesitamos guardar el nuevo `csv` como `sql`"
   ]
  },
  {
   "cell_type": "code",
   "execution_count": 54,
   "metadata": {},
   "outputs": [],
   "source": [
    "contributions_table = pd.read_csv('./db/CSV/contributions.csv', low_memory=False)"
   ]
  },
  {
   "cell_type": "code",
   "execution_count": 55,
   "metadata": {},
   "outputs": [
    {
     "data": {
      "text/html": [
       "<div>\n",
       "<style scoped>\n",
       "    .dataframe tbody tr th:only-of-type {\n",
       "        vertical-align: middle;\n",
       "    }\n",
       "\n",
       "    .dataframe tbody tr th {\n",
       "        vertical-align: top;\n",
       "    }\n",
       "\n",
       "    .dataframe thead th {\n",
       "        text-align: right;\n",
       "    }\n",
       "</style>\n",
       "<table border=\"1\" class=\"dataframe\">\n",
       "  <thead>\n",
       "    <tr style=\"text-align: right;\">\n",
       "      <th></th>\n",
       "      <th>id</th>\n",
       "      <th>diag_id</th>\n",
       "      <th>ind_id</th>\n",
       "      <th>text</th>\n",
       "      <th>tokens</th>\n",
       "      <th>macro</th>\n",
       "      <th>is_online</th>\n",
       "    </tr>\n",
       "  </thead>\n",
       "  <tbody>\n",
       "    <tr>\n",
       "      <th>64540</th>\n",
       "      <td>79629</td>\n",
       "      <td>NaN</td>\n",
       "      <td>3629873</td>\n",
       "      <td>votar, para que este pais sea mejor</td>\n",
       "      <td>['votar', 'pais', 'mejor']</td>\n",
       "      <td>Participacion</td>\n",
       "      <td>False</td>\n",
       "    </tr>\n",
       "  </tbody>\n",
       "</table>\n",
       "</div>"
      ],
      "text/plain": [
       "          id diag_id   ind_id                                 text  \\\n",
       "64540  79629     NaN  3629873  votar, para que este pais sea mejor   \n",
       "\n",
       "                           tokens          macro  is_online  \n",
       "64540  ['votar', 'pais', 'mejor']  Participacion      False  "
      ]
     },
     "execution_count": 55,
     "metadata": {},
     "output_type": "execute_result"
    }
   ],
   "source": [
    "contributions_table.sample(1)"
   ]
  },
  {
   "cell_type": "code",
   "execution_count": 56,
   "metadata": {},
   "outputs": [],
   "source": [
    "contributions_table['tokens'] = contributions_table['tokens'].apply(lambda x: clean_alt_list(x))\n",
    "contributions_table = contributions_table.replace({'nr':'','nan':'', 'NR':'', 'NaN':'', np.nan:''})\n",
    "contributions_table['diag_id'] = to_unicode(contributions_table['diag_id'])\n",
    "contributions_table = contributions_table.drop(contributions_table[(contributions_table['diag_id'] == '') & (contributions_table['ind_id'] == '')].index)"
   ]
  },
  {
   "cell_type": "code",
   "execution_count": 57,
   "metadata": {},
   "outputs": [
    {
     "data": {
      "text/html": [
       "<div>\n",
       "<style scoped>\n",
       "    .dataframe tbody tr th:only-of-type {\n",
       "        vertical-align: middle;\n",
       "    }\n",
       "\n",
       "    .dataframe tbody tr th {\n",
       "        vertical-align: top;\n",
       "    }\n",
       "\n",
       "    .dataframe thead th {\n",
       "        text-align: right;\n",
       "    }\n",
       "</style>\n",
       "<table border=\"1\" class=\"dataframe\">\n",
       "  <thead>\n",
       "    <tr style=\"text-align: right;\">\n",
       "      <th></th>\n",
       "      <th>id</th>\n",
       "      <th>diag_id</th>\n",
       "      <th>ind_id</th>\n",
       "      <th>text</th>\n",
       "      <th>tokens</th>\n",
       "      <th>macro</th>\n",
       "      <th>is_online</th>\n",
       "    </tr>\n",
       "  </thead>\n",
       "  <tbody>\n",
       "    <tr>\n",
       "      <th>54305</th>\n",
       "      <td>66674</td>\n",
       "      <td></td>\n",
       "      <td>2810793</td>\n",
       "      <td>soy una adulta mayor. mi aporte a mi pais ya l...</td>\n",
       "      <td>[adulta,  mayor,  aporte,  pais,  di,  trabaje...</td>\n",
       "      <td>Reciprocidad-Redes</td>\n",
       "      <td>False</td>\n",
       "    </tr>\n",
       "  </tbody>\n",
       "</table>\n",
       "</div>"
      ],
      "text/plain": [
       "          id diag_id   ind_id  \\\n",
       "54305  66674          2810793   \n",
       "\n",
       "                                                    text  \\\n",
       "54305  soy una adulta mayor. mi aporte a mi pais ya l...   \n",
       "\n",
       "                                                  tokens               macro  \\\n",
       "54305  [adulta,  mayor,  aporte,  pais,  di,  trabaje...  Reciprocidad-Redes   \n",
       "\n",
       "       is_online  \n",
       "54305      False  "
      ]
     },
     "execution_count": 57,
     "metadata": {},
     "output_type": "execute_result"
    }
   ],
   "source": [
    "contributions_table.sample(1)"
   ]
  },
  {
   "cell_type": "code",
   "execution_count": 58,
   "metadata": {},
   "outputs": [],
   "source": [
    "con_to_sql(contributions_table, './db/SQL_INSERT/contributions.sql')"
   ]
  },
  {
   "cell_type": "code",
   "execution_count": null,
   "metadata": {},
   "outputs": [],
   "source": []
  }
 ],
 "metadata": {
  "kernelspec": {
   "display_name": "Python 3",
   "language": "python",
   "name": "python3"
  },
  "language_info": {
   "codemirror_mode": {
    "name": "ipython",
    "version": 3
   },
   "file_extension": ".py",
   "mimetype": "text/x-python",
   "name": "python",
   "nbconvert_exporter": "python",
   "pygments_lexer": "ipython3",
   "version": "3.7.6"
  }
 },
 "nbformat": 4,
 "nbformat_minor": 4
}
