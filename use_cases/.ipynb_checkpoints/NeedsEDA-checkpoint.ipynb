{
 "cells": [
  {
   "cell_type": "code",
   "execution_count": 1,
   "metadata": {},
   "outputs": [],
   "source": [
    "import matplotlib.pyplot as plt\n",
    "import multiprocessing\n",
    "import pandas as pd\n",
    "import numpy as np\n",
    "import unidecode\n",
    "import os\n",
    "import re\n",
    "\n",
    "from joblib import Parallel, delayed\n",
    "from spellchecker import SpellChecker\n",
    "spanish = SpellChecker(language='es')"
   ]
  },
  {
   "cell_type": "markdown",
   "metadata": {},
   "source": [
    "### Reading data"
   ]
  },
  {
   "cell_type": "code",
   "execution_count": 2,
   "metadata": {},
   "outputs": [],
   "source": [
    "need_df = pd.read_csv('../nuevos_datos/dialogues/needs_v2.csv')"
   ]
  },
  {
   "cell_type": "markdown",
   "metadata": {},
   "source": [
    "### Post-processing - Words vs Setences"
   ]
  },
  {
   "cell_type": "code",
   "execution_count": 41,
   "metadata": {},
   "outputs": [],
   "source": [
    "def process_one(row):\n",
    "    need = row['name']\n",
    "    \n",
    "    a = None\n",
    "    b = None\n",
    "    if isinstance(need, str):\n",
    "        n = re.sub(r'\\W+', ' ', need)\n",
    "        n = unidecode.unidecode(n)\n",
    "        if len(n.split(' '))>1:\n",
    "            a = n.lower()\n",
    "        elif n != 'nr':\n",
    "            if re.search(r'\\d[e|a|ra|era|deg]', n):\n",
    "                b = 'NR'\n",
    "                row['priority'] = re.sub(r'[A-z]+', '', n)                \n",
    "            if len(n) != 1 and not re.search(r'\\d+', n) or 'tpp' in n:\n",
    "                b = n.lower().strip()\n",
    "    return a, b, row"
   ]
  },
  {
   "cell_type": "code",
   "execution_count": 43,
   "metadata": {},
   "outputs": [
    {
     "name": "stdout",
     "output_type": "stream",
     "text": [
      "CPU times: user 1min 10s, sys: 567 ms, total: 1min 11s\n",
      "Wall time: 1min 10s\n"
     ]
    }
   ],
   "source": [
    "%%time\n",
    "num_cores = multiprocessing.cpu_count()\n",
    "response = Parallel(n_jobs=num_cores)(delayed(process_one)(row) \\\n",
    "                    for _, row in need_df.iterrows())"
   ]
  },
  {
   "cell_type": "code",
   "execution_count": 47,
   "metadata": {},
   "outputs": [],
   "source": [
    "\n",
    "multi_word = [r[0] for r in response if r[0] is not None]\n",
    "multi_word_row = [r[2] for r in response if r[0] is not None]"
   ]
  },
  {
   "cell_type": "code",
   "execution_count": 74,
   "metadata": {},
   "outputs": [],
   "source": [
    "def get_uniques(response, which='words'):\n",
    "    k = 1 if which == 'words' else 0 \n",
    "    strings = [r[k] for r in response if r[k] is not None]\n",
    "    strings_row = [r[2] for r in response if r[k] is not None]\n",
    "    uniques, counts = np.unique(strings, return_counts=True)\n",
    "    indices = np.argsort(counts)\n",
    "    sorted_u = uniques[indices]\n",
    "    sorted_c = counts[indices]\n",
    "    sorted_r = np.array(strings_row)[indices]\n",
    "    return sorted_u, sorted_c, sorted_r"
   ]
  },
  {
   "cell_type": "code",
   "execution_count": 75,
   "metadata": {},
   "outputs": [],
   "source": [
    "unique_words, counts_words, rows_words = get_uniques(response, which='words')\n",
    "unique_sentences, counts_sentences, rows_sentences = get_uniques(response, which='sentences')"
   ]
  },
  {
   "cell_type": "code",
   "execution_count": 76,
   "metadata": {},
   "outputs": [
    {
     "name": "stdout",
     "output_type": "stream",
     "text": [
      "1261 unique words\n",
      "21916 unique sentences\n"
     ]
    }
   ],
   "source": [
    "print('{} unique words\\n{} unique sentences'.format(len(unique_words), len(unique_sentences)))"
   ]
  },
  {
   "cell_type": "code",
   "execution_count": 78,
   "metadata": {
    "scrolled": false
   },
   "outputs": [
    {
     "data": {
      "image/png": "[encoded data removed]",
      "text/plain": [
       "<Figure size 432x288 with 1 Axes>"
      ]
     },
     "metadata": {
      "needs_background": "light"
     },
     "output_type": "display_data"
    }
   ],
   "source": [
    "n = 10\n",
    "plt.figure()\n",
    "x = range(len(unique_words[:n]))\n",
    "plt.barh(x, counts_words[:n])\n",
    "plt.yticks(x, unique_words[:n])\n",
    "plt.ylim(0.5, len(x)-0.5)\n",
    "plt.show()"
   ]
  },
  {
   "cell_type": "markdown",
   "metadata": {},
   "source": [
    "### Clustering "
   ]
  },
  {
   "cell_type": "code",
   "execution_count": null,
   "metadata": {},
   "outputs": [],
   "source": []
  },
  {
   "cell_type": "code",
   "execution_count": null,
   "metadata": {},
   "outputs": [],
   "source": []
  }
 ],
 "metadata": {
  "kernelspec": {
   "display_name": "Python 3",
   "language": "python",
   "name": "python3"
  },
  "language_info": {
   "codemirror_mode": {
    "name": "ipython",
    "version": 3
   },
   "file_extension": ".py",
   "mimetype": "text/x-python",
   "name": "python",
   "nbconvert_exporter": "python",
   "pygments_lexer": "ipython3",
   "version": "3.7.6"
  }
 },
 "nbformat": 4,
 "nbformat_minor": 4
}
