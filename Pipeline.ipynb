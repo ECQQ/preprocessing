{
 "cells": [
  {
   "cell_type": "markdown",
   "metadata": {},
   "source": [
    "# Data cleaning "
   ]
  },
  {
   "cell_type": "code",
   "execution_count": 3,
   "metadata": {},
   "outputs": [],
   "source": [
    "import pandas as pd\n",
    "import os\n",
    "\n",
    "import numpy as np"
   ]
  },
  {
   "cell_type": "code",
   "execution_count": 76,
   "metadata": {},
   "outputs": [
    {
     "name": "stdout",
     "output_type": "stream",
     "text": [
      "The autoreload extension is already loaded. To reload it, use:\n",
      "  %reload_ext autoreload\n"
     ]
    }
   ],
   "source": [
    "from use_cases.contributions import create_table_contributions, to_sql as con_to_sql\n",
    "# \n",
    "from use_cases.emotions import create_table_emotions, to_sql as emo_to_sql \n",
    "from use_cases.personal_needs import create_table_personal_needs, to_sql as per_need_to_sql\n",
    "from use_cases.dialogues import create_table_dialogues\n",
    "from use_cases.country_needs import create_table_country_needs, to_sql as count_need_to_sql\n",
    "from use_cases.persons import create_table_persons\n",
    "from use_cases.individuals import create_table_individuals\n",
    "from use_cases.pairs import create_pair_token\n",
    "from use_cases.persons_dialogues import create_table_persons_dialogues\n",
    "\n",
    "import use_cases.utils.textools as tt\n",
    "\n",
    "\n",
    "pd.options.mode.chained_assignment = None \n",
    "\n",
    "%load_ext autoreload\n",
    "%autoreload 2"
   ]
  },
  {
   "cell_type": "markdown",
   "metadata": {},
   "source": [
    "## Loading Data Surveys"
   ]
  },
  {
   "cell_type": "code",
   "execution_count": 77,
   "metadata": {},
   "outputs": [],
   "source": [
    "# chunksize   = 100 # Just for debugging\n",
    "# survey_path = './data/BBDD_Dialogos.csv' #  chunksize=chunksize,\n",
    "# survey = pd.read_csv(survey_path, low_memory=False)\n",
    "# for survey in survey: break\n",
    "\n",
    "survey_path = './data/BBDD_Dialogos.xlsx'\n",
    "survey = pd.read_excel(survey_path, 'Hoja1')\n",
    "\n",
    "filter_dialogue = pd.read_excel(survey_path, 'Filtro Diálogos')\n",
    "filter_person = pd.read_excel(survey_path, 'Filtro Personas')\n",
    "\n",
    "ind_online_survey_path = './data/Consulta_Individual_online_v2.xlsx'\n",
    "ind_online_survey = pd.read_excel(ind_online_survey_path, 'Sheet1')\n",
    "    \n",
    "ind_survey_path = './data/Base_final_digitación_Consultas.xlsx'\n",
    "ind_survey = pd.read_excel(ind_survey_path, 'CONSULTAS')"
   ]
  },
  {
   "cell_type": "code",
   "execution_count": 6,
   "metadata": {},
   "outputs": [
    {
     "data": {
      "text/html": [
       "<div>\n",
       "<style scoped>\n",
       "    .dataframe tbody tr th:only-of-type {\n",
       "        vertical-align: middle;\n",
       "    }\n",
       "\n",
       "    .dataframe tbody tr th {\n",
       "        vertical-align: top;\n",
       "    }\n",
       "\n",
       "    .dataframe thead th {\n",
       "        text-align: right;\n",
       "    }\n",
       "</style>\n",
       "<table border=\"1\" class=\"dataframe\">\n",
       "  <thead>\n",
       "    <tr style=\"text-align: right;\">\n",
       "      <th></th>\n",
       "      <th>LP_RUN1</th>\n",
       "      <th>es_rut</th>\n",
       "      <th>es_reg_civil</th>\n",
       "      <th>Fallecido</th>\n",
       "      <th>Valido</th>\n",
       "    </tr>\n",
       "  </thead>\n",
       "  <tbody>\n",
       "    <tr>\n",
       "      <th>24302</th>\n",
       "      <td>JkGgXeqedAjR</td>\n",
       "      <td>1</td>\n",
       "      <td>1</td>\n",
       "      <td>0</td>\n",
       "      <td>1</td>\n",
       "    </tr>\n",
       "    <tr>\n",
       "      <th>67916</th>\n",
       "      <td>52y5ydej+WPl</td>\n",
       "      <td>1</td>\n",
       "      <td>1</td>\n",
       "      <td>0</td>\n",
       "      <td>1</td>\n",
       "    </tr>\n",
       "  </tbody>\n",
       "</table>\n",
       "</div>"
      ],
      "text/plain": [
       "            LP_RUN1  es_rut  es_reg_civil  Fallecido  Valido\n",
       "24302  JkGgXeqedAjR       1             1          0       1\n",
       "67916  52y5ydej+WPl       1             1          0       1"
      ]
     },
     "execution_count": 6,
     "metadata": {},
     "output_type": "execute_result"
    }
   ],
   "source": [
    "filter_person.sample(2)"
   ]
  },
  {
   "cell_type": "markdown",
   "metadata": {},
   "source": [
    "## Processing Uses Cases\n",
    "1. Emotions \n",
    "2. Contributions\n",
    "3. Country needs \n",
    "4. Personal/familiar needs"
   ]
  },
  {
   "cell_type": "markdown",
   "metadata": {},
   "source": [
    "### Persons Table (Dialogue)"
   ]
  },
  {
   "cell_type": "code",
   "execution_count": 7,
   "metadata": {},
   "outputs": [
    {
     "name": "stdout",
     "output_type": "stream",
     "text": [
      "CPU times: user 3min 20s, sys: 696 ms, total: 3min 21s\n",
      "Wall time: 3min 21s\n"
     ]
    }
   ],
   "source": [
    "%%time\n",
    "persons_table = create_table_persons(survey, filter_person)"
   ]
  },
  {
   "cell_type": "code",
   "execution_count": 8,
   "metadata": {},
   "outputs": [
    {
     "data": {
      "text/html": [
       "<div>\n",
       "<style scoped>\n",
       "    .dataframe tbody tr th:only-of-type {\n",
       "        vertical-align: middle;\n",
       "    }\n",
       "\n",
       "    .dataframe tbody tr th {\n",
       "        vertical-align: top;\n",
       "    }\n",
       "\n",
       "    .dataframe thead th {\n",
       "        text-align: right;\n",
       "    }\n",
       "</style>\n",
       "<table border=\"1\" class=\"dataframe\">\n",
       "  <thead>\n",
       "    <tr style=\"text-align: right;\">\n",
       "      <th></th>\n",
       "      <th>id</th>\n",
       "      <th>diag_id</th>\n",
       "      <th>age</th>\n",
       "      <th>sex</th>\n",
       "      <th>level</th>\n",
       "      <th>comuna_id</th>\n",
       "      <th>age_range</th>\n",
       "    </tr>\n",
       "  </thead>\n",
       "  <tbody>\n",
       "    <tr>\n",
       "      <th>6287</th>\n",
       "      <td>qdsleups/7ng</td>\n",
       "      <td>enc_u_4562236951337321785</td>\n",
       "      <td>54</td>\n",
       "      <td>f</td>\n",
       "      <td>Media completa. Técnica incompleta</td>\n",
       "      <td>2301</td>\n",
       "      <td>45-60</td>\n",
       "    </tr>\n",
       "    <tr>\n",
       "      <th>8397</th>\n",
       "      <td>xie5ox64r1yq</td>\n",
       "      <td>enc_u_4586421525012801114</td>\n",
       "      <td>52</td>\n",
       "      <td>f</td>\n",
       "      <td>Técnica completa</td>\n",
       "      <td>5703</td>\n",
       "      <td>45-60</td>\n",
       "    </tr>\n",
       "  </tbody>\n",
       "</table>\n",
       "</div>"
      ],
      "text/plain": [
       "                id                    diag_id age sex  \\\n",
       "6287  qdsleups/7ng  enc_u_4562236951337321785  54   f   \n",
       "8397  xie5ox64r1yq  enc_u_4586421525012801114  52   f   \n",
       "\n",
       "                                   level  comuna_id age_range  \n",
       "6287  Media completa. Técnica incompleta       2301     45-60  \n",
       "8397                    Técnica completa       5703     45-60  "
      ]
     },
     "execution_count": 8,
     "metadata": {},
     "output_type": "execute_result"
    }
   ],
   "source": [
    "persons_table.sample(2)"
   ]
  },
  {
   "cell_type": "markdown",
   "metadata": {},
   "source": [
    "### Dialogues"
   ]
  },
  {
   "cell_type": "code",
   "execution_count": 9,
   "metadata": {},
   "outputs": [
    {
     "name": "stdout",
     "output_type": "stream",
     "text": [
      "CPU times: user 2.79 s, sys: 23.8 ms, total: 2.81 s\n",
      "Wall time: 2.84 s\n"
     ]
    }
   ],
   "source": [
    "%%time\n",
    "dialogues_table = create_table_dialogues(survey, filter_dialogue)"
   ]
  },
  {
   "cell_type": "code",
   "execution_count": 10,
   "metadata": {},
   "outputs": [
    {
     "data": {
      "text/html": [
       "<div>\n",
       "<style scoped>\n",
       "    .dataframe tbody tr th:only-of-type {\n",
       "        vertical-align: middle;\n",
       "    }\n",
       "\n",
       "    .dataframe tbody tr th {\n",
       "        vertical-align: top;\n",
       "    }\n",
       "\n",
       "    .dataframe thead th {\n",
       "        text-align: right;\n",
       "    }\n",
       "</style>\n",
       "<table border=\"1\" class=\"dataframe\">\n",
       "  <thead>\n",
       "    <tr style=\"text-align: right;\">\n",
       "      <th></th>\n",
       "      <th>id</th>\n",
       "      <th>date</th>\n",
       "      <th>init_time</th>\n",
       "      <th>end_time</th>\n",
       "      <th>location</th>\n",
       "      <th>address</th>\n",
       "      <th>comuna_id</th>\n",
       "      <th>n_members</th>\n",
       "      <th>group_name</th>\n",
       "      <th>valid</th>\n",
       "    </tr>\n",
       "  </thead>\n",
       "  <tbody>\n",
       "    <tr>\n",
       "      <th>11279</th>\n",
       "      <td>enc_u_4586158230802625534</td>\n",
       "      <td>2020-02-25 00:00:00</td>\n",
       "      <td>18:00:00</td>\n",
       "      <td>20:41:00</td>\n",
       "      <td>sede social jj.vv. salitre bajo</td>\n",
       "      <td>monjitas 480</td>\n",
       "      <td>2101</td>\n",
       "      <td>8</td>\n",
       "      <td>usuarios de oficina movil de bienes nacionales</td>\n",
       "      <td>True</td>\n",
       "    </tr>\n",
       "    <tr>\n",
       "      <th>9838</th>\n",
       "      <td>enc_u_4553717923124475874</td>\n",
       "      <td>2020-01-13 00:00:00</td>\n",
       "      <td>18:30:00</td>\n",
       "      <td>19:30:00</td>\n",
       "      <td>sede</td>\n",
       "      <td>la espiga 2844</td>\n",
       "      <td>13201</td>\n",
       "      <td>5</td>\n",
       "      <td>usuarios de oficina movil de bienes nacionales</td>\n",
       "      <td>True</td>\n",
       "    </tr>\n",
       "  </tbody>\n",
       "</table>\n",
       "</div>"
      ],
      "text/plain": [
       "                              id                 date init_time  end_time  \\\n",
       "11279  enc_u_4586158230802625534  2020-02-25 00:00:00  18:00:00  20:41:00   \n",
       "9838   enc_u_4553717923124475874  2020-01-13 00:00:00  18:30:00  19:30:00   \n",
       "\n",
       "                              location         address  comuna_id n_members  \\\n",
       "11279  sede social jj.vv. salitre bajo    monjitas 480       2101         8   \n",
       "9838                              sede  la espiga 2844      13201         5   \n",
       "\n",
       "                                           group_name  valid  \n",
       "11279  usuarios de oficina movil de bienes nacionales   True  \n",
       "9838   usuarios de oficina movil de bienes nacionales   True  "
      ]
     },
     "execution_count": 10,
     "metadata": {},
     "output_type": "execute_result"
    }
   ],
   "source": [
    "dialogues_table.sample(2)"
   ]
  },
  {
   "cell_type": "markdown",
   "metadata": {},
   "source": [
    "### Persons Dialogues"
   ]
  },
  {
   "cell_type": "code",
   "execution_count": 11,
   "metadata": {},
   "outputs": [
    {
     "name": "stdout",
     "output_type": "stream",
     "text": [
      "CPU times: user 67.3 ms, sys: 21 µs, total: 67.4 ms\n",
      "Wall time: 65.8 ms\n"
     ]
    }
   ],
   "source": [
    "%%time\n",
    "persons_table, persons_dialogues_table = create_table_persons_dialogues(persons_table)"
   ]
  },
  {
   "cell_type": "code",
   "execution_count": 12,
   "metadata": {},
   "outputs": [
    {
     "data": {
      "text/html": [
       "<div>\n",
       "<style scoped>\n",
       "    .dataframe tbody tr th:only-of-type {\n",
       "        vertical-align: middle;\n",
       "    }\n",
       "\n",
       "    .dataframe tbody tr th {\n",
       "        vertical-align: top;\n",
       "    }\n",
       "\n",
       "    .dataframe thead th {\n",
       "        text-align: right;\n",
       "    }\n",
       "</style>\n",
       "<table border=\"1\" class=\"dataframe\">\n",
       "  <thead>\n",
       "    <tr style=\"text-align: right;\">\n",
       "      <th></th>\n",
       "      <th>person_id</th>\n",
       "      <th>diag_id</th>\n",
       "    </tr>\n",
       "  </thead>\n",
       "  <tbody>\n",
       "    <tr>\n",
       "      <th>6464</th>\n",
       "      <td>gltmvqkc2oxo</td>\n",
       "      <td>enc_u_4611224809295305281</td>\n",
       "    </tr>\n",
       "    <tr>\n",
       "      <th>9008</th>\n",
       "      <td>smfppraspymz</td>\n",
       "      <td>enc_u_3172042</td>\n",
       "    </tr>\n",
       "  </tbody>\n",
       "</table>\n",
       "</div>"
      ],
      "text/plain": [
       "         person_id                    diag_id\n",
       "6464  gltmvqkc2oxo  enc_u_4611224809295305281\n",
       "9008  smfppraspymz              enc_u_3172042"
      ]
     },
     "execution_count": 12,
     "metadata": {},
     "output_type": "execute_result"
    }
   ],
   "source": [
    "persons_dialogues_table.sample(2)"
   ]
  },
  {
   "cell_type": "markdown",
   "metadata": {},
   "source": [
    "### Individuals"
   ]
  },
  {
   "cell_type": "code",
   "execution_count": 78,
   "metadata": {
    "scrolled": true
   },
   "outputs": [
    {
     "name": "stdout",
     "output_type": "stream",
     "text": [
      "CPU times: user 12 s, sys: 59.7 ms, total: 12.1 s\n",
      "Wall time: 12 s\n"
     ]
    }
   ],
   "source": [
    "%%time\n",
    "individuals_table = create_table_individuals(ind_online_survey, ind_survey)"
   ]
  },
  {
   "cell_type": "code",
   "execution_count": 81,
   "metadata": {},
   "outputs": [
    {
     "data": {
      "text/html": [
       "<div>\n",
       "<style scoped>\n",
       "    .dataframe tbody tr th:only-of-type {\n",
       "        vertical-align: middle;\n",
       "    }\n",
       "\n",
       "    .dataframe tbody tr th {\n",
       "        vertical-align: top;\n",
       "    }\n",
       "\n",
       "    .dataframe thead th {\n",
       "        text-align: right;\n",
       "    }\n",
       "</style>\n",
       "<table border=\"1\" class=\"dataframe\">\n",
       "  <thead>\n",
       "    <tr style=\"text-align: right;\">\n",
       "      <th></th>\n",
       "      <th>id</th>\n",
       "      <th>date</th>\n",
       "      <th>age</th>\n",
       "      <th>comuna_id</th>\n",
       "      <th>level</th>\n",
       "      <th>age_range</th>\n",
       "      <th>online</th>\n",
       "    </tr>\n",
       "  </thead>\n",
       "  <tbody>\n",
       "  </tbody>\n",
       "</table>\n",
       "</div>"
      ],
      "text/plain": [
       "Empty DataFrame\n",
       "Columns: [id, date, age, comuna_id, level, age_range, online]\n",
       "Index: []"
      ]
     },
     "execution_count": 81,
     "metadata": {},
     "output_type": "execute_result"
    }
   ],
   "source": [
    "individuals_table.sample(2)"
   ]
  },
  {
   "cell_type": "code",
   "execution_count": 82,
   "metadata": {},
   "outputs": [],
   "source": [
    "individuals_table.to_csv(os.path.join(out_dir, 'individuals.csv'), index=False)"
   ]
  },
  {
   "cell_type": "markdown",
   "metadata": {},
   "source": [
    "### Emotions"
   ]
  },
  {
   "cell_type": "code",
   "execution_count": 15,
   "metadata": {},
   "outputs": [
    {
     "name": "stdout",
     "output_type": "stream",
     "text": [
      "CPU times: user 2min 58s, sys: 16.3 s, total: 3min 15s\n",
      "Wall time: 3min 16s\n"
     ]
    }
   ],
   "source": [
    "%%time\n",
    "emotions_table = create_table_emotions(survey, ind_survey_path, ind_online_survey)"
   ]
  },
  {
   "cell_type": "code",
   "execution_count": 16,
   "metadata": {},
   "outputs": [
    {
     "data": {
      "text/html": [
       "<div>\n",
       "<style scoped>\n",
       "    .dataframe tbody tr th:only-of-type {\n",
       "        vertical-align: middle;\n",
       "    }\n",
       "\n",
       "    .dataframe tbody tr th {\n",
       "        vertical-align: top;\n",
       "    }\n",
       "\n",
       "    .dataframe thead th {\n",
       "        text-align: right;\n",
       "    }\n",
       "</style>\n",
       "<table border=\"1\" class=\"dataframe\">\n",
       "  <thead>\n",
       "    <tr style=\"text-align: right;\">\n",
       "      <th></th>\n",
       "      <th>id</th>\n",
       "      <th>diag_id</th>\n",
       "      <th>ind_id</th>\n",
       "      <th>name</th>\n",
       "      <th>name_tokens</th>\n",
       "      <th>macro</th>\n",
       "      <th>exp</th>\n",
       "      <th>exp_tokens</th>\n",
       "      <th>is_online</th>\n",
       "    </tr>\n",
       "  </thead>\n",
       "  <tbody>\n",
       "    <tr>\n",
       "      <th>2142</th>\n",
       "      <td>51673</td>\n",
       "      <td>ENC_U_4543957710998990369</td>\n",
       "      <td></td>\n",
       "      <td>temor</td>\n",
       "      <td>[temor]</td>\n",
       "      <td>temor</td>\n",
       "      <td>futuro incierto\\nno hay solucion</td>\n",
       "      <td>[futuro, incierto, solucion]</td>\n",
       "      <td>True</td>\n",
       "    </tr>\n",
       "    <tr>\n",
       "      <th>11694</th>\n",
       "      <td>24084</td>\n",
       "      <td>ENC_U_4523401707314210356</td>\n",
       "      <td></td>\n",
       "      <td>decepcion</td>\n",
       "      <td>[decepcion]</td>\n",
       "      <td>decepcion</td>\n",
       "      <td>me decepcionan algunos comentarios o reflexion...</td>\n",
       "      <td>[decepcionan, comentarios, reflexiones, person...</td>\n",
       "      <td>True</td>\n",
       "    </tr>\n",
       "  </tbody>\n",
       "</table>\n",
       "</div>"
      ],
      "text/plain": [
       "          id                    diag_id ind_id        name  name_tokens  \\\n",
       "2142   51673  ENC_U_4543957710998990369              temor      [temor]   \n",
       "11694  24084  ENC_U_4523401707314210356         decepcion   [decepcion]   \n",
       "\n",
       "            macro                                                exp  \\\n",
       "2142        temor                   futuro incierto\\nno hay solucion   \n",
       "11694  decepcion   me decepcionan algunos comentarios o reflexion...   \n",
       "\n",
       "                                              exp_tokens  is_online  \n",
       "2142                        [futuro, incierto, solucion]       True  \n",
       "11694  [decepcionan, comentarios, reflexiones, person...       True  "
      ]
     },
     "execution_count": 16,
     "metadata": {},
     "output_type": "execute_result"
    }
   ],
   "source": [
    "emotions_table.sample(2)"
   ]
  },
  {
   "cell_type": "markdown",
   "metadata": {},
   "source": [
    "### Emotion Pair"
   ]
  },
  {
   "cell_type": "code",
   "execution_count": 17,
   "metadata": {},
   "outputs": [
    {
     "name": "stdout",
     "output_type": "stream",
     "text": [
      "CPU times: user 14.8 s, sys: 88 ms, total: 14.9 s\n",
      "Wall time: 14.9 s\n"
     ]
    }
   ],
   "source": [
    "%%time\n",
    "emotion_pair = create_pair_token(emotions_table, 'exp_tokens', 'emotion_id')"
   ]
  },
  {
   "cell_type": "code",
   "execution_count": 18,
   "metadata": {},
   "outputs": [
    {
     "data": {
      "text/html": [
       "<div>\n",
       "<style scoped>\n",
       "    .dataframe tbody tr th:only-of-type {\n",
       "        vertical-align: middle;\n",
       "    }\n",
       "\n",
       "    .dataframe tbody tr th {\n",
       "        vertical-align: top;\n",
       "    }\n",
       "\n",
       "    .dataframe thead th {\n",
       "        text-align: right;\n",
       "    }\n",
       "</style>\n",
       "<table border=\"1\" class=\"dataframe\">\n",
       "  <thead>\n",
       "    <tr style=\"text-align: right;\">\n",
       "      <th></th>\n",
       "      <th>id</th>\n",
       "      <th>emotion_id</th>\n",
       "      <th>word_1</th>\n",
       "      <th>word_2</th>\n",
       "    </tr>\n",
       "  </thead>\n",
       "  <tbody>\n",
       "    <tr>\n",
       "      <th>215439</th>\n",
       "      <td>215440</td>\n",
       "      <td>39094</td>\n",
       "      <td>desastres</td>\n",
       "      <td>pais</td>\n",
       "    </tr>\n",
       "    <tr>\n",
       "      <th>244736</th>\n",
       "      <td>244737</td>\n",
       "      <td>44661</td>\n",
       "      <td>pueda</td>\n",
       "      <td>ser</td>\n",
       "    </tr>\n",
       "    <tr>\n",
       "      <th>48239</th>\n",
       "      <td>48240</td>\n",
       "      <td>8636</td>\n",
       "      <td>familia</td>\n",
       "      <td>obligacion</td>\n",
       "    </tr>\n",
       "  </tbody>\n",
       "</table>\n",
       "</div>"
      ],
      "text/plain": [
       "            id  emotion_id     word_1      word_2\n",
       "215439  215440       39094  desastres        pais\n",
       "244736  244737       44661      pueda         ser\n",
       "48239    48240        8636    familia  obligacion"
      ]
     },
     "execution_count": 18,
     "metadata": {},
     "output_type": "execute_result"
    }
   ],
   "source": [
    "emotion_pair.sample(3)"
   ]
  },
  {
   "cell_type": "markdown",
   "metadata": {},
   "source": [
    "### Country Needs"
   ]
  },
  {
   "cell_type": "code",
   "execution_count": 21,
   "metadata": {},
   "outputs": [
    {
     "name": "stdout",
     "output_type": "stream",
     "text": [
      "CPU times: user 5min 42s, sys: 26.8 s, total: 6min 9s\n",
      "Wall time: 6min 9s\n"
     ]
    }
   ],
   "source": [
    "%%time\n",
    "country_needs = create_table_country_needs(survey, ind_survey, ind_survey_path, ind_online_survey_path)"
   ]
  },
  {
   "cell_type": "code",
   "execution_count": 30,
   "metadata": {
    "scrolled": true
   },
   "outputs": [
    {
     "data": {
      "text/html": [
       "<div>\n",
       "<style scoped>\n",
       "    .dataframe tbody tr th:only-of-type {\n",
       "        vertical-align: middle;\n",
       "    }\n",
       "\n",
       "    .dataframe tbody tr th {\n",
       "        vertical-align: top;\n",
       "    }\n",
       "\n",
       "    .dataframe thead th {\n",
       "        text-align: right;\n",
       "    }\n",
       "</style>\n",
       "<table border=\"1\" class=\"dataframe\">\n",
       "  <thead>\n",
       "    <tr style=\"text-align: right;\">\n",
       "      <th></th>\n",
       "      <th>id</th>\n",
       "      <th>diag_id</th>\n",
       "      <th>ind_id</th>\n",
       "      <th>name</th>\n",
       "      <th>name_tokens</th>\n",
       "      <th>macro</th>\n",
       "      <th>exp</th>\n",
       "      <th>exp_tokens</th>\n",
       "      <th>role</th>\n",
       "      <th>role_tokens</th>\n",
       "      <th>actor</th>\n",
       "      <th>priority</th>\n",
       "      <th>is_online</th>\n",
       "    </tr>\n",
       "  </thead>\n",
       "  <tbody>\n",
       "    <tr>\n",
       "      <th>20187</th>\n",
       "      <td>93955</td>\n",
       "      <td>enc_u_3222804</td>\n",
       "      <td></td>\n",
       "      <td>agua</td>\n",
       "      <td>[agua]</td>\n",
       "      <td></td>\n",
       "      <td></td>\n",
       "      <td></td>\n",
       "      <td></td>\n",
       "      <td></td>\n",
       "      <td>privados, presidente, congreso</td>\n",
       "      <td></td>\n",
       "      <td>False</td>\n",
       "    </tr>\n",
       "    <tr>\n",
       "      <th>14378</th>\n",
       "      <td>108318</td>\n",
       "      <td></td>\n",
       "      <td>3301389</td>\n",
       "      <td>educacion gratuita</td>\n",
       "      <td>[educacion, gratuita]</td>\n",
       "      <td></td>\n",
       "      <td></td>\n",
       "      <td></td>\n",
       "      <td></td>\n",
       "      <td></td>\n",
       "      <td></td>\n",
       "      <td></td>\n",
       "      <td>False</td>\n",
       "    </tr>\n",
       "  </tbody>\n",
       "</table>\n",
       "</div>"
      ],
      "text/plain": [
       "           id        diag_id   ind_id                name  \\\n",
       "20187   93955  enc_u_3222804                         agua   \n",
       "14378  108318                 3301389  educacion gratuita   \n",
       "\n",
       "                 name_tokens macro exp exp_tokens role role_tokens  \\\n",
       "20187                 [agua]                                         \n",
       "14378  [educacion, gratuita]                                         \n",
       "\n",
       "                                actor priority  is_online  \n",
       "20187  privados, presidente, congreso               False  \n",
       "14378                                               False  "
      ]
     },
     "execution_count": 30,
     "metadata": {},
     "output_type": "execute_result"
    }
   ],
   "source": [
    "country_needs.sample(2)"
   ]
  },
  {
   "cell_type": "markdown",
   "metadata": {},
   "source": [
    "### Country Need Role Pair"
   ]
  },
  {
   "cell_type": "code",
   "execution_count": 31,
   "metadata": {},
   "outputs": [
    {
     "name": "stdout",
     "output_type": "stream",
     "text": [
      "CPU times: user 18.7 s, sys: 71.8 ms, total: 18.7 s\n",
      "Wall time: 18.8 s\n"
     ]
    }
   ],
   "source": [
    "%%time\n",
    "country_need_role_pair = create_pair_token(country_needs, 'role_tokens', 'country_need_id')"
   ]
  },
  {
   "cell_type": "code",
   "execution_count": 32,
   "metadata": {},
   "outputs": [
    {
     "data": {
      "text/html": [
       "<div>\n",
       "<style scoped>\n",
       "    .dataframe tbody tr th:only-of-type {\n",
       "        vertical-align: middle;\n",
       "    }\n",
       "\n",
       "    .dataframe tbody tr th {\n",
       "        vertical-align: top;\n",
       "    }\n",
       "\n",
       "    .dataframe thead th {\n",
       "        text-align: right;\n",
       "    }\n",
       "</style>\n",
       "<table border=\"1\" class=\"dataframe\">\n",
       "  <thead>\n",
       "    <tr style=\"text-align: right;\">\n",
       "      <th></th>\n",
       "      <th>id</th>\n",
       "      <th>country_need_id</th>\n",
       "      <th>word_1</th>\n",
       "      <th>word_2</th>\n",
       "    </tr>\n",
       "  </thead>\n",
       "  <tbody>\n",
       "    <tr>\n",
       "      <th>278270</th>\n",
       "      <td>278271</td>\n",
       "      <td>93817</td>\n",
       "      <td>crear</td>\n",
       "      <td>proyectos</td>\n",
       "    </tr>\n",
       "    <tr>\n",
       "      <th>252302</th>\n",
       "      <td>252303</td>\n",
       "      <td>87726</td>\n",
       "      <td>transforme</td>\n",
       "      <td>pais</td>\n",
       "    </tr>\n",
       "  </tbody>\n",
       "</table>\n",
       "</div>"
      ],
      "text/plain": [
       "            id  country_need_id      word_1     word_2\n",
       "278270  278271            93817       crear  proyectos\n",
       "252302  252303            87726  transforme       pais"
      ]
     },
     "execution_count": 32,
     "metadata": {},
     "output_type": "execute_result"
    }
   ],
   "source": [
    "country_need_role_pair.sample(2)"
   ]
  },
  {
   "cell_type": "markdown",
   "metadata": {},
   "source": [
    "### Country Need Explanation Pair"
   ]
  },
  {
   "cell_type": "code",
   "execution_count": 34,
   "metadata": {},
   "outputs": [
    {
     "name": "stdout",
     "output_type": "stream",
     "text": [
      "CPU times: user 19 s, sys: 48.6 ms, total: 19 s\n",
      "Wall time: 19 s\n"
     ]
    }
   ],
   "source": [
    "%%time\n",
    "country_need_exp_pair = create_pair_token(country_needs, 'exp_tokens', 'country_need_id')"
   ]
  },
  {
   "cell_type": "code",
   "execution_count": 35,
   "metadata": {},
   "outputs": [
    {
     "data": {
      "text/html": [
       "<div>\n",
       "<style scoped>\n",
       "    .dataframe tbody tr th:only-of-type {\n",
       "        vertical-align: middle;\n",
       "    }\n",
       "\n",
       "    .dataframe tbody tr th {\n",
       "        vertical-align: top;\n",
       "    }\n",
       "\n",
       "    .dataframe thead th {\n",
       "        text-align: right;\n",
       "    }\n",
       "</style>\n",
       "<table border=\"1\" class=\"dataframe\">\n",
       "  <thead>\n",
       "    <tr style=\"text-align: right;\">\n",
       "      <th></th>\n",
       "      <th>id</th>\n",
       "      <th>country_need_id</th>\n",
       "      <th>word_1</th>\n",
       "      <th>word_2</th>\n",
       "    </tr>\n",
       "  </thead>\n",
       "  <tbody>\n",
       "    <tr>\n",
       "      <th>384572</th>\n",
       "      <td>384573</td>\n",
       "      <td>87613</td>\n",
       "      <td>desinformacion</td>\n",
       "      <td>adquirirlas</td>\n",
       "    </tr>\n",
       "    <tr>\n",
       "      <th>214993</th>\n",
       "      <td>214994</td>\n",
       "      <td>46621</td>\n",
       "      <td>bajar</td>\n",
       "      <td>valores</td>\n",
       "    </tr>\n",
       "  </tbody>\n",
       "</table>\n",
       "</div>"
      ],
      "text/plain": [
       "            id  country_need_id          word_1       word_2\n",
       "384572  384573            87613  desinformacion  adquirirlas\n",
       "214993  214994            46621           bajar      valores"
      ]
     },
     "execution_count": 35,
     "metadata": {},
     "output_type": "execute_result"
    }
   ],
   "source": [
    "country_need_exp_pair.sample(2)"
   ]
  },
  {
   "cell_type": "markdown",
   "metadata": {},
   "source": [
    "### Family/Personal Needs"
   ]
  },
  {
   "cell_type": "code",
   "execution_count": 45,
   "metadata": {},
   "outputs": [
    {
     "name": "stdout",
     "output_type": "stream",
     "text": [
      "CPU times: user 3min 19s, sys: 18.1 s, total: 3min 37s\n",
      "Wall time: 3min 37s\n"
     ]
    }
   ],
   "source": [
    "%%time\n",
    "personal_needs = create_table_personal_needs(survey, ind_survey, ind_online_survey)"
   ]
  },
  {
   "cell_type": "code",
   "execution_count": 48,
   "metadata": {},
   "outputs": [
    {
     "data": {
      "text/html": [
       "<div>\n",
       "<style scoped>\n",
       "    .dataframe tbody tr th:only-of-type {\n",
       "        vertical-align: middle;\n",
       "    }\n",
       "\n",
       "    .dataframe tbody tr th {\n",
       "        vertical-align: top;\n",
       "    }\n",
       "\n",
       "    .dataframe thead th {\n",
       "        text-align: right;\n",
       "    }\n",
       "</style>\n",
       "<table border=\"1\" class=\"dataframe\">\n",
       "  <thead>\n",
       "    <tr style=\"text-align: right;\">\n",
       "      <th></th>\n",
       "      <th>id</th>\n",
       "      <th>diag_id</th>\n",
       "      <th>ind_id</th>\n",
       "      <th>name</th>\n",
       "      <th>name_tokens</th>\n",
       "      <th>exp</th>\n",
       "      <th>exp_tokens</th>\n",
       "      <th>macro</th>\n",
       "      <th>priority</th>\n",
       "      <th>is_online</th>\n",
       "    </tr>\n",
       "  </thead>\n",
       "  <tbody>\n",
       "    <tr>\n",
       "      <th>11</th>\n",
       "      <td>66690</td>\n",
       "      <td></td>\n",
       "      <td>2740587</td>\n",
       "      <td>estabilidad laboral y economica.</td>\n",
       "      <td>[estabilidad, laboral, economica]</td>\n",
       "      <td>no cuento con trabajo.</td>\n",
       "      <td>[cuento, trabajo]</td>\n",
       "      <td>estabilidad laboral y economica.</td>\n",
       "      <td>2</td>\n",
       "      <td>False</td>\n",
       "    </tr>\n",
       "    <tr>\n",
       "      <th>143</th>\n",
       "      <td>53681</td>\n",
       "      <td></td>\n",
       "      <td>2822942</td>\n",
       "      <td>economicas</td>\n",
       "      <td>[economicas]</td>\n",
       "      <td>el dinero no es suficiente considerando los ac...</td>\n",
       "      <td>[dinero, suficiente, considerando, actuales, g...</td>\n",
       "      <td>economicas</td>\n",
       "      <td>1</td>\n",
       "      <td>False</td>\n",
       "    </tr>\n",
       "    <tr>\n",
       "      <th>7738</th>\n",
       "      <td>41054</td>\n",
       "      <td>ENC_U_4556171544345385351</td>\n",
       "      <td></td>\n",
       "      <td>que adultos mayores puedan tener mejores pensi...</td>\n",
       "      <td>[adultos, mayores, puedan, tener, mejores, pen...</td>\n",
       "      <td>familias donde hay adultos mayores muchas vece...</td>\n",
       "      <td>[familias, adultos, mayores, muchas, veces, en...</td>\n",
       "      <td>que adultos mayores puedan tener mejores pensi...</td>\n",
       "      <td>0</td>\n",
       "      <td>False</td>\n",
       "    </tr>\n",
       "  </tbody>\n",
       "</table>\n",
       "</div>"
      ],
      "text/plain": [
       "         id                    diag_id   ind_id  \\\n",
       "11    66690                             2740587   \n",
       "143   53681                             2822942   \n",
       "7738  41054  ENC_U_4556171544345385351            \n",
       "\n",
       "                                                   name  \\\n",
       "11                     estabilidad laboral y economica.   \n",
       "143                                          economicas   \n",
       "7738  que adultos mayores puedan tener mejores pensi...   \n",
       "\n",
       "                                            name_tokens  \\\n",
       "11                    [estabilidad, laboral, economica]   \n",
       "143                                        [economicas]   \n",
       "7738  [adultos, mayores, puedan, tener, mejores, pen...   \n",
       "\n",
       "                                                    exp  \\\n",
       "11                               no cuento con trabajo.   \n",
       "143   el dinero no es suficiente considerando los ac...   \n",
       "7738  familias donde hay adultos mayores muchas vece...   \n",
       "\n",
       "                                             exp_tokens  \\\n",
       "11                                    [cuento, trabajo]   \n",
       "143   [dinero, suficiente, considerando, actuales, g...   \n",
       "7738  [familias, adultos, mayores, muchas, veces, en...   \n",
       "\n",
       "                                                  macro  priority  is_online  \n",
       "11                     estabilidad laboral y economica.         2      False  \n",
       "143                                          economicas         1      False  \n",
       "7738  que adultos mayores puedan tener mejores pensi...         0      False  "
      ]
     },
     "execution_count": 48,
     "metadata": {},
     "output_type": "execute_result"
    }
   ],
   "source": [
    "personal_needs.sample(3)"
   ]
  },
  {
   "cell_type": "markdown",
   "metadata": {},
   "source": [
    "### Family/Personal Need Pair"
   ]
  },
  {
   "cell_type": "code",
   "execution_count": 49,
   "metadata": {},
   "outputs": [
    {
     "name": "stdout",
     "output_type": "stream",
     "text": [
      "CPU times: user 17.3 s, sys: 48.3 ms, total: 17.3 s\n",
      "Wall time: 17.3 s\n"
     ]
    }
   ],
   "source": [
    "%%time\n",
    "personal_need_pair = create_pair_token(personal_needs, 'exp_tokens', 'personal_need_id')"
   ]
  },
  {
   "cell_type": "code",
   "execution_count": 50,
   "metadata": {},
   "outputs": [
    {
     "data": {
      "text/html": [
       "<div>\n",
       "<style scoped>\n",
       "    .dataframe tbody tr th:only-of-type {\n",
       "        vertical-align: middle;\n",
       "    }\n",
       "\n",
       "    .dataframe tbody tr th {\n",
       "        vertical-align: top;\n",
       "    }\n",
       "\n",
       "    .dataframe thead th {\n",
       "        text-align: right;\n",
       "    }\n",
       "</style>\n",
       "<table border=\"1\" class=\"dataframe\">\n",
       "  <thead>\n",
       "    <tr style=\"text-align: right;\">\n",
       "      <th></th>\n",
       "      <th>id</th>\n",
       "      <th>personal_need_id</th>\n",
       "      <th>word_1</th>\n",
       "      <th>word_2</th>\n",
       "    </tr>\n",
       "  </thead>\n",
       "  <tbody>\n",
       "    <tr>\n",
       "      <th>425731</th>\n",
       "      <td>425732</td>\n",
       "      <td>78124</td>\n",
       "      <td>salir</td>\n",
       "      <td>region</td>\n",
       "    </tr>\n",
       "    <tr>\n",
       "      <th>302944</th>\n",
       "      <td>302945</td>\n",
       "      <td>50108</td>\n",
       "      <td>preocupados</td>\n",
       "      <td>gran</td>\n",
       "    </tr>\n",
       "    <tr>\n",
       "      <th>354576</th>\n",
       "      <td>354577</td>\n",
       "      <td>61489</td>\n",
       "      <td>horrible</td>\n",
       "      <td>sistema</td>\n",
       "    </tr>\n",
       "  </tbody>\n",
       "</table>\n",
       "</div>"
      ],
      "text/plain": [
       "            id  personal_need_id       word_1   word_2\n",
       "425731  425732             78124        salir   region\n",
       "302944  302945             50108  preocupados     gran\n",
       "354576  354577             61489     horrible  sistema"
      ]
     },
     "execution_count": 50,
     "metadata": {},
     "output_type": "execute_result"
    }
   ],
   "source": [
    "personal_need_pair.sample(3)"
   ]
  },
  {
   "cell_type": "markdown",
   "metadata": {},
   "source": [
    "### Contributions"
   ]
  },
  {
   "cell_type": "code",
   "execution_count": 51,
   "metadata": {},
   "outputs": [
    {
     "name": "stdout",
     "output_type": "stream",
     "text": [
      "CPU times: user 1min 19s, sys: 7.61 s, total: 1min 26s\n",
      "Wall time: 1min 27s\n"
     ]
    }
   ],
   "source": [
    "%%time\n",
    "contributions = create_table_contributions(survey, ind_survey, ind_online_survey)"
   ]
  },
  {
   "cell_type": "code",
   "execution_count": 54,
   "metadata": {},
   "outputs": [
    {
     "data": {
      "text/html": [
       "<div>\n",
       "<style scoped>\n",
       "    .dataframe tbody tr th:only-of-type {\n",
       "        vertical-align: middle;\n",
       "    }\n",
       "\n",
       "    .dataframe tbody tr th {\n",
       "        vertical-align: top;\n",
       "    }\n",
       "\n",
       "    .dataframe thead th {\n",
       "        text-align: right;\n",
       "    }\n",
       "</style>\n",
       "<table border=\"1\" class=\"dataframe\">\n",
       "  <thead>\n",
       "    <tr style=\"text-align: right;\">\n",
       "      <th></th>\n",
       "      <th>id</th>\n",
       "      <th>diag_id</th>\n",
       "      <th>ind_id</th>\n",
       "      <th>text</th>\n",
       "      <th>tokens</th>\n",
       "      <th>macro</th>\n",
       "      <th>is_online</th>\n",
       "    </tr>\n",
       "  </thead>\n",
       "  <tbody>\n",
       "    <tr>\n",
       "      <th>2529</th>\n",
       "      <td>69149</td>\n",
       "      <td></td>\n",
       "      <td>3113163</td>\n",
       "      <td>informarse de la situacion trabajando como has...</td>\n",
       "      <td>[informarse, situacion, trabajando, hoy, aunqu...</td>\n",
       "      <td>informarse de la situacion trabajando como has...</td>\n",
       "      <td>False</td>\n",
       "    </tr>\n",
       "    <tr>\n",
       "      <th>11661</th>\n",
       "      <td>51633</td>\n",
       "      <td>ENC_U_4523071849223379090</td>\n",
       "      <td></td>\n",
       "      <td>respuesta sin completar</td>\n",
       "      <td>[respuesta, completar]</td>\n",
       "      <td>respuesta sin completar</td>\n",
       "      <td>False</td>\n",
       "    </tr>\n",
       "    <tr>\n",
       "      <th>4076</th>\n",
       "      <td>57372</td>\n",
       "      <td>ENC_U_4553396672352500132</td>\n",
       "      <td></td>\n",
       "      <td>.</td>\n",
       "      <td></td>\n",
       "      <td>.</td>\n",
       "      <td>False</td>\n",
       "    </tr>\n",
       "  </tbody>\n",
       "</table>\n",
       "</div>"
      ],
      "text/plain": [
       "          id                    diag_id   ind_id  \\\n",
       "2529   69149                             3113163   \n",
       "11661  51633  ENC_U_4523071849223379090            \n",
       "4076   57372  ENC_U_4553396672352500132            \n",
       "\n",
       "                                                    text  \\\n",
       "2529   informarse de la situacion trabajando como has...   \n",
       "11661                            respuesta sin completar   \n",
       "4076                                                   .   \n",
       "\n",
       "                                                  tokens  \\\n",
       "2529   [informarse, situacion, trabajando, hoy, aunqu...   \n",
       "11661                             [respuesta, completar]   \n",
       "4076                                                       \n",
       "\n",
       "                                                   macro  is_online  \n",
       "2529   informarse de la situacion trabajando como has...      False  \n",
       "11661                            respuesta sin completar      False  \n",
       "4076                                                   .      False  "
      ]
     },
     "execution_count": 54,
     "metadata": {},
     "output_type": "execute_result"
    }
   ],
   "source": [
    "contributions.sample(3)"
   ]
  },
  {
   "cell_type": "markdown",
   "metadata": {},
   "source": [
    "## Saving `.csv`"
   ]
  },
  {
   "cell_type": "code",
   "execution_count": 55,
   "metadata": {},
   "outputs": [],
   "source": [
    "out_dir = './out'\n",
    "os.makedirs(out_dir, exist_ok=True)"
   ]
  },
  {
   "cell_type": "code",
   "execution_count": 60,
   "metadata": {},
   "outputs": [],
   "source": [
    "contributions.to_csv(os.path.join(out_dir, 'contributions.csv'), index=False)\n",
    "personal_need_pair.to_csv(os.path.join(out_dir, 'personal_need_pair.csv'), index=False)\n",
    "personal_needs.to_csv(os.path.join(out_dir, 'personal_needs.csv'), index=False)\n",
    "country_need_exp_pair.to_csv(os.path.join(out_dir, 'country_need_exp_pair.csv'), index=False)\n",
    "country_need_role_pair.to_csv(os.path.join(out_dir, 'country_need_role_pair.csv'), index=False)\n",
    "country_needs.to_csv(os.path.join(out_dir, 'country_needs.csv'), index=False)\n",
    "emotion_pair.to_csv(os.path.join(out_dir, 'emotion_pair.csv'), index=False)\n",
    "emotions_table.to_csv(os.path.join(out_dir, 'emotions.csv'), index=False)\n",
    "individuals_table.to_csv(os.path.join(out_dir, 'individuals.csv'), index=False)\n",
    "dialogues_table.to_csv(os.path.join(out_dir, 'dialogues.csv'), index=False)\n",
    "persons_table.to_csv(os.path.join(out_dir, 'persons.csv'), index=False)\n",
    "persons_dialogues_table.to_csv(os.path.join(out_dir, 'persons_dialogues.csv'), index=False)"
   ]
  },
  {
   "cell_type": "markdown",
   "metadata": {},
   "source": [
    "## Saving `.sql`"
   ]
  },
  {
   "cell_type": "code",
   "execution_count": 61,
   "metadata": {},
   "outputs": [],
   "source": [
    "con_to_sql(contributions,os.path.join(out_dir,'contributions.sql' ))\n",
    "emo_to_sql(emotions_table,os.path.join(out_dir,'emotions.sql' ))\n",
    "count_need_to_sql(country_needs,os.path.join(out_dir,'country_needs.sql' ))\n",
    "per_need_to_sql(personal_needs,os.path.join(out_dir,'personal_need.sql' ))"
   ]
  },
  {
   "cell_type": "markdown",
   "metadata": {},
   "source": [
    "# BORRAR LO DE ABAJO"
   ]
  },
  {
   "cell_type": "code",
   "execution_count": 53,
   "metadata": {},
   "outputs": [],
   "source": [
    "emo_frame['name_tokens'] = emo_frame['name_tokens'].apply(lambda x: tt.clean_alt_list(x))\n",
    "emo_frame['exp_tokens'] = emo_frame['exp_tokens'].apply(lambda x: tt.clean_alt_list(x))\n",
    "emo_frame = emo_frame.replace({'nr':'','nan':'', 'NR':'', 'NaN':'', np.nan:''})"
   ]
  },
  {
   "cell_type": "code",
   "execution_count": 54,
   "metadata": {},
   "outputs": [],
   "source": [
    "personal_need_frame['name_tokens'] = personal_need_frame['name_tokens'].apply(lambda x: tt.clean_alt_list(x))\n",
    "personal_need_frame['exp_tokens'] = personal_need_frame['exp_tokens'].apply(lambda x: tt.clean_alt_list(x))\n",
    "personal_need_frame['priority'] = personal_need_frame['priority'].astype(int)\n",
    "personal_need_frame = personal_need_frame.replace({'nr':'','nan':'', 'NR':'', 'NaN':'', np.nan:''})"
   ]
  },
  {
   "cell_type": "code",
   "execution_count": 55,
   "metadata": {},
   "outputs": [],
   "source": [
    "con_frame['tokens'] = con_frame['tokens'].apply(lambda x: tt.clean_alt_list(x))\n",
    "con_frame = con_frame.replace({'nr':'','nan':'', 'NR':'', 'NaN':'', np.nan:''})"
   ]
  },
  {
   "cell_type": "code",
   "execution_count": 67,
   "metadata": {},
   "outputs": [
    {
     "name": "stderr",
     "output_type": "stream",
     "text": [
      "[nltk_data] Downloading package stopwords to /home/jovyan/nltk_data...\n",
      "[nltk_data]   Package stopwords is already up-to-date!\n"
     ]
    }
   ],
   "source": [
    "coun_needs_frame['priority'] = coun_needs_frame['priority'].apply(lambda x: tt.str_to_int(x))\n",
    "coun_needs_frame = coun_needs_frame.replace({'nr':'','nan':'', 'NR':'', 'NaN':'', np.nan:''})\n",
    "coun_needs_frame['name_tokens'] = coun_needs_frame['name_tokens'].apply(lambda x: tt.clean_alt_list(x))\n",
    "coun_needs_frame['exp_tokens'] = coun_needs_frame['exp_tokens'].apply(lambda x: tt.clean_alt_list(x))\n",
    "coun_needs_frame['role_tokens'] = coun_needs_frame['role_tokens'].apply(lambda x: tt.clean_alt_list(x))\n"
   ]
  },
  {
   "cell_type": "code",
   "execution_count": 69,
   "metadata": {},
   "outputs": [],
   "source": [
    "con_to_sql(con_frame,'./data/contributions.sql' )"
   ]
  },
  {
   "cell_type": "code",
   "execution_count": 70,
   "metadata": {},
   "outputs": [],
   "source": [
    "emo_to_sql(emo_frame,'./data/emotions.sql')"
   ]
  },
  {
   "cell_type": "code",
   "execution_count": 73,
   "metadata": {},
   "outputs": [],
   "source": [
    "count_need_to_sql(coun_needs_frame,'./data/country_needs.sql')"
   ]
  },
  {
   "cell_type": "code",
   "execution_count": 74,
   "metadata": {},
   "outputs": [],
   "source": [
    "per_need_to_sql(personal_need_frame,'./data/personal_need.sql')"
   ]
  }
 ],
 "metadata": {
  "kernelspec": {
   "display_name": "Python 3",
   "language": "python",
   "name": "python3"
  },
  "language_info": {
   "codemirror_mode": {
    "name": "ipython",
    "version": 3
   },
   "file_extension": ".py",
   "mimetype": "text/x-python",
   "name": "python",
   "nbconvert_exporter": "python",
   "pygments_lexer": "ipython3",
   "version": "3.7.6"
  }
 },
 "nbformat": 4,
 "nbformat_minor": 4
}
