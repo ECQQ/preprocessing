{
 "cells": [
  {
   "cell_type": "markdown",
   "metadata": {},
   "source": [
    "# Data cleaning "
   ]
  },
  {
   "cell_type": "code",
   "execution_count": 91,
   "metadata": {},
   "outputs": [],
   "source": [
    "import pandas as pd"
   ]
  },
  {
   "cell_type": "code",
   "execution_count": 92,
   "metadata": {},
   "outputs": [
    {
     "name": "stdout",
     "output_type": "stream",
     "text": [
      "The autoreload extension is already loaded. To reload it, use:\n",
      "  %reload_ext autoreload\n"
     ]
    }
   ],
   "source": [
    "from use_cases.emotions import process_emotions\n",
    "from use_cases.contributions import process_contributions\n",
    "\n",
    "from use_cases.personal_needs import process_needs\n",
    "\n",
    "from use_cases.dialogues import create_table_dialogues\n",
    "from use_cases.country_needs import create_table_country_needs\n",
    "from use_cases.persons import create_table\n",
    "from use_cases.individuals import create_table_individuals\n",
    "\n",
    "\n",
    "pd.options.mode.chained_assignment = None \n",
    "\n",
    "%load_ext autoreload\n",
    "%autoreload 2"
   ]
  },
  {
   "cell_type": "markdown",
   "metadata": {},
   "source": [
    "## Loading Data Surveys"
   ]
  },
  {
   "cell_type": "code",
   "execution_count": 415,
   "metadata": {},
   "outputs": [],
   "source": [
    "chunksize   = 100 # Just for debugging\n",
    "survey_path = './data/BBDD_Dialogos_2021_01_27.csv' \n",
    "survey = pd.read_csv(survey_path, chunksize=chunksize, low_memory=False)\n",
    "for survey in survey: break\n",
    "    \n",
    "ind_online_survey_path = './data/Consulta_Individual_online_v2.xlsx'\n",
    "ind_online_survey = pd.read_excel(ind_online_survey_path, 'Sheet1')\n",
    "    \n",
    "ind_survey_path = './data/Base_final_digitación_Consultas.xlsx'\n",
    "ind_survey = pd.read_excel(ind_survey_path, 'CONSULTAS')"
   ]
  },
  {
   "cell_type": "code",
   "execution_count": 294,
   "metadata": {},
   "outputs": [
    {
     "data": {
      "text/html": [
       "<div>\n",
       "<style scoped>\n",
       "    .dataframe tbody tr th:only-of-type {\n",
       "        vertical-align: middle;\n",
       "    }\n",
       "\n",
       "    .dataframe tbody tr th {\n",
       "        vertical-align: top;\n",
       "    }\n",
       "\n",
       "    .dataframe thead th {\n",
       "        text-align: right;\n",
       "    }\n",
       "</style>\n",
       "<table border=\"1\" class=\"dataframe\">\n",
       "  <thead>\n",
       "    <tr style=\"text-align: right;\">\n",
       "      <th></th>\n",
       "      <th>Submission Date</th>\n",
       "      <th>RUN</th>\n",
       "      <th>Edad</th>\n",
       "      <th>Comuna</th>\n",
       "      <th>1. ¿Cuál es el nivel de educación alcanzado por Usted?</th>\n",
       "      <th>2. ¿Cuál es el nivel de educación que alcanzó el jefe de su hogar? (sólo si se trata de alguien distinto a Usted)</th>\n",
       "      <th>1 &gt;&gt; Emociones / Sentimientos / Sensaciones</th>\n",
       "      <th>1 &gt;&gt; Explique lo mencionado</th>\n",
       "      <th>2 &gt;&gt; Emociones / Sentimientos / Sensaciones</th>\n",
       "      <th>2 &gt;&gt; Explique lo mencionado</th>\n",
       "      <th>...</th>\n",
       "      <th>3 &gt;&gt; Necesidades del país identificadas</th>\n",
       "      <th>3 &gt;&gt; Rol del Estado (Describa)</th>\n",
       "      <th>3 &gt;&gt; Actor social (empresa, organizaciones sociales, medios de comunicación, comunidad, etc)</th>\n",
       "      <th>3 &gt;&gt; Rol del actor social (Describa)</th>\n",
       "      <th>5. Pregunta: ¿Cuál es mi contribución personal para construir el Chile que queremos?</th>\n",
       "      <th>Comuna.1</th>\n",
       "      <th>Comentarios finales: Si tiene alguna observación o sugerencia, en este espacio puede indicarla.</th>\n",
       "      <th>Región</th>\n",
       "      <th>Región.1</th>\n",
       "      <th>id</th>\n",
       "    </tr>\n",
       "  </thead>\n",
       "  <tbody>\n",
       "    <tr>\n",
       "      <th>625</th>\n",
       "      <td>2020/01/10 09:16:52</td>\n",
       "      <td>25e3cc42195fd741586927bb5dca65ac</td>\n",
       "      <td>34</td>\n",
       "      <td>La Union</td>\n",
       "      <td>Universitaria completa.</td>\n",
       "      <td>Yo soy el jefe de hogar.</td>\n",
       "      <td>Setimiento de Oportunidad</td>\n",
       "      <td>Ganas de tomar este momneto para mejorar como ...</td>\n",
       "      <td>Preocupacion</td>\n",
       "      <td>Por el clima de violencia.</td>\n",
       "      <td>...</td>\n",
       "      <td>seguridad</td>\n",
       "      <td>activo</td>\n",
       "      <td>activo</td>\n",
       "      <td>activo</td>\n",
       "      <td>Apoyar la iniciativas que ayuden a mejorar nue...</td>\n",
       "      <td>NaN</td>\n",
       "      <td>NaN</td>\n",
       "      <td>Región de Los Ríos</td>\n",
       "      <td>NaN</td>\n",
       "      <td>625</td>\n",
       "    </tr>\n",
       "    <tr>\n",
       "      <th>971</th>\n",
       "      <td>2019/12/27 11:17:49</td>\n",
       "      <td>8fc4b7e2da5d431e4eda94f5db713642</td>\n",
       "      <td>42</td>\n",
       "      <td>la florida</td>\n",
       "      <td>Universitaria incompleta. Técnica completa.</td>\n",
       "      <td>Yo soy el jefe de hogar.</td>\n",
       "      <td>alegria</td>\n",
       "      <td>por el despertar de chile</td>\n",
       "      <td>esperanza</td>\n",
       "      <td>por que tendremos un mejor pais</td>\n",
       "      <td>...</td>\n",
       "      <td>mejora del sistema de salud publico</td>\n",
       "      <td>garantizar y fortalecer el sistema publico de ...</td>\n",
       "      <td>isapre o aseguradora</td>\n",
       "      <td>quien quiera atenderse en el sector privado qu...</td>\n",
       "      <td>Pagar todos los impuestos que corresponden, si...</td>\n",
       "      <td>NaN</td>\n",
       "      <td>NaN</td>\n",
       "      <td>Región Metropolitana de Santiago</td>\n",
       "      <td>NaN</td>\n",
       "      <td>971</td>\n",
       "    </tr>\n",
       "  </tbody>\n",
       "</table>\n",
       "<p>2 rows × 45 columns</p>\n",
       "</div>"
      ],
      "text/plain": [
       "         Submission Date                               RUN Edad      Comuna  \\\n",
       "625  2020/01/10 09:16:52  25e3cc42195fd741586927bb5dca65ac   34    La Union   \n",
       "971  2019/12/27 11:17:49  8fc4b7e2da5d431e4eda94f5db713642   42  la florida   \n",
       "\n",
       "    1. ¿Cuál es el nivel de educación alcanzado por Usted?  \\\n",
       "625                            Universitaria completa.       \n",
       "971        Universitaria incompleta. Técnica completa.       \n",
       "\n",
       "    2. ¿Cuál es el nivel de educación que alcanzó el jefe de su hogar? (sólo si se trata de alguien distinto a Usted)  \\\n",
       "625                           Yo soy el jefe de hogar.                                                                  \n",
       "971                           Yo soy el jefe de hogar.                                                                  \n",
       "\n",
       "    1 >> Emociones / Sentimientos / Sensaciones  \\\n",
       "625                   Setimiento de Oportunidad   \n",
       "971                                     alegria   \n",
       "\n",
       "                           1 >> Explique lo mencionado  \\\n",
       "625  Ganas de tomar este momneto para mejorar como ...   \n",
       "971                          por el despertar de chile   \n",
       "\n",
       "    2 >> Emociones / Sentimientos / Sensaciones  \\\n",
       "625                                Preocupacion   \n",
       "971                                   esperanza   \n",
       "\n",
       "         2 >> Explique lo mencionado  ...  \\\n",
       "625       Por el clima de violencia.  ...   \n",
       "971  por que tendremos un mejor pais  ...   \n",
       "\n",
       "    3 >> Necesidades del país identificadas  \\\n",
       "625                               seguridad   \n",
       "971     mejora del sistema de salud publico   \n",
       "\n",
       "                        3 >> Rol del Estado (Describa)  \\\n",
       "625                                             activo   \n",
       "971  garantizar y fortalecer el sistema publico de ...   \n",
       "\n",
       "    3 >> Actor social (empresa, organizaciones sociales, medios de comunicación, comunidad, etc)  \\\n",
       "625                                             activo                                             \n",
       "971                               isapre o aseguradora                                             \n",
       "\n",
       "                  3 >> Rol del actor social (Describa)  \\\n",
       "625                                             activo   \n",
       "971  quien quiera atenderse en el sector privado qu...   \n",
       "\n",
       "    5. Pregunta: ¿Cuál es mi contribución personal para construir el Chile que queremos?  \\\n",
       "625  Apoyar la iniciativas que ayuden a mejorar nue...                                       \n",
       "971  Pagar todos los impuestos que corresponden, si...                                       \n",
       "\n",
       "    Comuna.1  \\\n",
       "625      NaN   \n",
       "971      NaN   \n",
       "\n",
       "    Comentarios finales: Si tiene alguna observación o sugerencia, en este espacio puede indicarla.  \\\n",
       "625                                                NaN                                                 \n",
       "971                                                NaN                                                 \n",
       "\n",
       "                               Región Región.1   id  \n",
       "625                Región de Los Ríos      NaN  625  \n",
       "971  Región Metropolitana de Santiago      NaN  971  \n",
       "\n",
       "[2 rows x 45 columns]"
      ]
     },
     "execution_count": 294,
     "metadata": {},
     "output_type": "execute_result"
    }
   ],
   "source": [
    "survey.sample(2)\n",
    "ind_online_survey.sample(2)"
   ]
  },
  {
   "cell_type": "markdown",
   "metadata": {},
   "source": [
    "## Processing Uses Cases\n",
    "1. Emotions \n",
    "2. Contributions\n",
    "3. Country needs \n",
    "4. Personal/familiar needs"
   ]
  },
  {
   "cell_type": "markdown",
   "metadata": {},
   "source": [
    "### Persons Table (Dialogue)"
   ]
  },
  {
   "cell_type": "code",
   "execution_count": 441,
   "metadata": {},
   "outputs": [],
   "source": [
    "persons_table = create_table(survey)"
   ]
  },
  {
   "cell_type": "code",
   "execution_count": 444,
   "metadata": {},
   "outputs": [
    {
     "data": {
      "text/html": [
       "<div>\n",
       "<style scoped>\n",
       "    .dataframe tbody tr th:only-of-type {\n",
       "        vertical-align: middle;\n",
       "    }\n",
       "\n",
       "    .dataframe tbody tr th {\n",
       "        vertical-align: top;\n",
       "    }\n",
       "\n",
       "    .dataframe thead th {\n",
       "        text-align: right;\n",
       "    }\n",
       "</style>\n",
       "<table border=\"1\" class=\"dataframe\">\n",
       "  <thead>\n",
       "    <tr style=\"text-align: right;\">\n",
       "      <th></th>\n",
       "      <th>file_id</th>\n",
       "      <th>age</th>\n",
       "      <th>sex</th>\n",
       "      <th>level</th>\n",
       "      <th>comuna_id</th>\n",
       "      <th>age_range</th>\n",
       "    </tr>\n",
       "  </thead>\n",
       "  <tbody>\n",
       "    <tr>\n",
       "      <th>918</th>\n",
       "      <td>enc_u_4560398922358481769</td>\n",
       "      <td>59</td>\n",
       "      <td>f</td>\n",
       "      <td>media_incompleta</td>\n",
       "      <td>12101</td>\n",
       "      <td>45-60</td>\n",
       "    </tr>\n",
       "    <tr>\n",
       "      <th>48</th>\n",
       "      <td>enc_u_4598361490157529121</td>\n",
       "      <td>38</td>\n",
       "      <td>f</td>\n",
       "      <td>basica_completa</td>\n",
       "      <td>1</td>\n",
       "      <td>30-45</td>\n",
       "    </tr>\n",
       "    <tr>\n",
       "      <th>735</th>\n",
       "      <td>enc_u_4561993999324998034</td>\n",
       "      <td>38</td>\n",
       "      <td>h</td>\n",
       "      <td>universitaria_completa</td>\n",
       "      <td>16102</td>\n",
       "      <td>30-45</td>\n",
       "    </tr>\n",
       "  </tbody>\n",
       "</table>\n",
       "</div>"
      ],
      "text/plain": [
       "                       file_id age sex                   level  comuna_id  \\\n",
       "918  enc_u_4560398922358481769  59   f        media_incompleta      12101   \n",
       "48   enc_u_4598361490157529121  38   f         basica_completa          1   \n",
       "735  enc_u_4561993999324998034  38   h  universitaria_completa      16102   \n",
       "\n",
       "    age_range  \n",
       "918     45-60  \n",
       "48      30-45  \n",
       "735     30-45  "
      ]
     },
     "execution_count": 444,
     "metadata": {},
     "output_type": "execute_result"
    }
   ],
   "source": [
    "persons_table.sample(3)"
   ]
  },
  {
   "cell_type": "markdown",
   "metadata": {},
   "source": [
    "### Dialogues"
   ]
  },
  {
   "cell_type": "code",
   "execution_count": 446,
   "metadata": {},
   "outputs": [],
   "source": [
    "dialogues_table = create_table_dialogues(survey)"
   ]
  },
  {
   "cell_type": "code",
   "execution_count": 448,
   "metadata": {},
   "outputs": [
    {
     "data": {
      "text/html": [
       "<div>\n",
       "<style scoped>\n",
       "    .dataframe tbody tr th:only-of-type {\n",
       "        vertical-align: middle;\n",
       "    }\n",
       "\n",
       "    .dataframe tbody tr th {\n",
       "        vertical-align: top;\n",
       "    }\n",
       "\n",
       "    .dataframe thead th {\n",
       "        text-align: right;\n",
       "    }\n",
       "</style>\n",
       "<table border=\"1\" class=\"dataframe\">\n",
       "  <thead>\n",
       "    <tr style=\"text-align: right;\">\n",
       "      <th></th>\n",
       "      <th>file_id</th>\n",
       "      <th>date</th>\n",
       "      <th>init_time</th>\n",
       "      <th>end_time</th>\n",
       "      <th>location</th>\n",
       "      <th>address</th>\n",
       "      <th>comuna_id</th>\n",
       "      <th>n_members</th>\n",
       "      <th>group_name</th>\n",
       "    </tr>\n",
       "  </thead>\n",
       "  <tbody>\n",
       "    <tr>\n",
       "      <th>295</th>\n",
       "      <td>enc_u_4579431974804201508</td>\n",
       "      <td>10-02-2020</td>\n",
       "      <td>16:50:00</td>\n",
       "      <td>17:50:00</td>\n",
       "      <td>gobernacion el loa</td>\n",
       "      <td>guia maderos  2296</td>\n",
       "      <td>2201</td>\n",
       "      <td>9</td>\n",
       "      <td>usuarios de oficina movil de bienes nacionales</td>\n",
       "    </tr>\n",
       "    <tr>\n",
       "      <th>351</th>\n",
       "      <td>enc_u_4574346270115169401</td>\n",
       "      <td>05-02-2020</td>\n",
       "      <td>10:20:00</td>\n",
       "      <td>12:00:00</td>\n",
       "      <td>municipalidad de teodoro schmidt</td>\n",
       "      <td>balmaceda 450</td>\n",
       "      <td>9117</td>\n",
       "      <td>5</td>\n",
       "      <td>usuarios de oficina movil de bienes nacionales</td>\n",
       "    </tr>\n",
       "    <tr>\n",
       "      <th>913</th>\n",
       "      <td>enc_u_4560441384125748798</td>\n",
       "      <td>28-01-2020</td>\n",
       "      <td>10:00:00</td>\n",
       "      <td>12:00:00</td>\n",
       "      <td>seremitt region bio bio</td>\n",
       "      <td>o'higgins poniente ndeg77 3er piso concepcion</td>\n",
       "      <td>8101</td>\n",
       "      <td>9</td>\n",
       "      <td>usuarios de oficina movil de bienes nacionales</td>\n",
       "    </tr>\n",
       "  </tbody>\n",
       "</table>\n",
       "</div>"
      ],
      "text/plain": [
       "                       file_id        date init_time  end_time  \\\n",
       "295  enc_u_4579431974804201508  10-02-2020  16:50:00  17:50:00   \n",
       "351  enc_u_4574346270115169401  05-02-2020  10:20:00  12:00:00   \n",
       "913  enc_u_4560441384125748798  28-01-2020  10:00:00  12:00:00   \n",
       "\n",
       "                             location  \\\n",
       "295               gobernacion el loa    \n",
       "351  municipalidad de teodoro schmidt   \n",
       "913           seremitt region bio bio   \n",
       "\n",
       "                                           address  comuna_id n_members  \\\n",
       "295                             guia maderos  2296       2201         9   \n",
       "351                                  balmaceda 450       9117         5   \n",
       "913  o'higgins poniente ndeg77 3er piso concepcion       8101         9   \n",
       "\n",
       "                                         group_name  \n",
       "295  usuarios de oficina movil de bienes nacionales  \n",
       "351  usuarios de oficina movil de bienes nacionales  \n",
       "913  usuarios de oficina movil de bienes nacionales  "
      ]
     },
     "execution_count": 448,
     "metadata": {},
     "output_type": "execute_result"
    }
   ],
   "source": [
    "dialogues_table.sample(3)"
   ]
  },
  {
   "cell_type": "markdown",
   "metadata": {},
   "source": [
    "### Emotions\n",
    "\n",
    "<img src=\"diagrams/q1.png\" width=730 height=520 />"
   ]
  },
  {
   "cell_type": "code",
   "execution_count": 29,
   "metadata": {},
   "outputs": [
    {
     "name": "stdout",
     "output_type": "stream",
     "text": [
      "CPU times: user 994 ms, sys: 119 ms, total: 1.11 s\n",
      "Wall time: 1.12 s\n"
     ]
    }
   ],
   "source": [
    "%%time\n",
    "emotions_table = process_emotions(survey)"
   ]
  },
  {
   "cell_type": "code",
   "execution_count": 31,
   "metadata": {},
   "outputs": [
    {
     "data": {
      "text/html": [
       "<div>\n",
       "<style scoped>\n",
       "    .dataframe tbody tr th:only-of-type {\n",
       "        vertical-align: middle;\n",
       "    }\n",
       "\n",
       "    .dataframe tbody tr th {\n",
       "        vertical-align: top;\n",
       "    }\n",
       "\n",
       "    .dataframe thead th {\n",
       "        text-align: right;\n",
       "    }\n",
       "</style>\n",
       "<table border=\"1\" class=\"dataframe\">\n",
       "  <thead>\n",
       "    <tr style=\"text-align: right;\">\n",
       "      <th></th>\n",
       "      <th>file_ids</th>\n",
       "      <th>name</th>\n",
       "      <th>name_token</th>\n",
       "      <th>macro</th>\n",
       "      <th>text</th>\n",
       "      <th>text_tokens</th>\n",
       "    </tr>\n",
       "  </thead>\n",
       "  <tbody>\n",
       "    <tr>\n",
       "      <th>71</th>\n",
       "      <td>ENC_U_4597419179157584588</td>\n",
       "      <td>impotencia</td>\n",
       "      <td>[impotencia]</td>\n",
       "      <td>impotencia</td>\n",
       "      <td>de que la justicia no haga lo suyo.</td>\n",
       "      <td>[justicia, haga]</td>\n",
       "    </tr>\n",
       "    <tr>\n",
       "      <th>9</th>\n",
       "      <td>ENC_U_4602015808803327609</td>\n",
       "      <td>dolor</td>\n",
       "      <td>[dolor]</td>\n",
       "      <td>dolor</td>\n",
       "      <td>por sentirse abandonado</td>\n",
       "      <td>[sentirse, abandonado]</td>\n",
       "    </tr>\n",
       "  </tbody>\n",
       "</table>\n",
       "</div>"
      ],
      "text/plain": [
       "                     file_ids        name    name_token       macro  \\\n",
       "71  ENC_U_4597419179157584588  impotencia  [impotencia]  impotencia   \n",
       "9   ENC_U_4602015808803327609       dolor       [dolor]       dolor   \n",
       "\n",
       "                                   text             text_tokens  \n",
       "71  de que la justicia no haga lo suyo.        [justicia, haga]  \n",
       "9               por sentirse abandonado  [sentirse, abandonado]  "
      ]
     },
     "execution_count": 31,
     "metadata": {},
     "output_type": "execute_result"
    }
   ],
   "source": [
    "emotions_table.sample(2)"
   ]
  },
  {
   "cell_type": "markdown",
   "metadata": {},
   "source": [
    "### Individuals"
   ]
  },
  {
   "cell_type": "code",
   "execution_count": 375,
   "metadata": {
    "scrolled": true
   },
   "outputs": [],
   "source": [
    "individuals_table = create_table_individuals(ind_online_survey, ind_survey)"
   ]
  },
  {
   "cell_type": "code",
   "execution_count": 379,
   "metadata": {},
   "outputs": [
    {
     "data": {
      "text/html": [
       "<div>\n",
       "<style scoped>\n",
       "    .dataframe tbody tr th:only-of-type {\n",
       "        vertical-align: middle;\n",
       "    }\n",
       "\n",
       "    .dataframe tbody tr th {\n",
       "        vertical-align: top;\n",
       "    }\n",
       "\n",
       "    .dataframe thead th {\n",
       "        text-align: right;\n",
       "    }\n",
       "</style>\n",
       "<table border=\"1\" class=\"dataframe\">\n",
       "  <thead>\n",
       "    <tr style=\"text-align: right;\">\n",
       "      <th></th>\n",
       "      <th>id</th>\n",
       "      <th>date</th>\n",
       "      <th>age</th>\n",
       "      <th>comuna_id</th>\n",
       "      <th>level</th>\n",
       "      <th>online</th>\n",
       "      <th>age_range</th>\n",
       "    </tr>\n",
       "  </thead>\n",
       "  <tbody>\n",
       "    <tr>\n",
       "      <th>3545</th>\n",
       "      <td>5349</td>\n",
       "      <td>26-01-2020</td>\n",
       "      <td>65</td>\n",
       "      <td>4204</td>\n",
       "      <td>Básica completa</td>\n",
       "      <td>False</td>\n",
       "      <td>&gt;=60</td>\n",
       "    </tr>\n",
       "    <tr>\n",
       "      <th>3731</th>\n",
       "      <td>5535</td>\n",
       "      <td>23-01-2020</td>\n",
       "      <td>35</td>\n",
       "      <td>12201</td>\n",
       "      <td>Universitaria incompleta. Técnica completa</td>\n",
       "      <td>False</td>\n",
       "      <td>30-45</td>\n",
       "    </tr>\n",
       "  </tbody>\n",
       "</table>\n",
       "</div>"
      ],
      "text/plain": [
       "        id        date  age  comuna_id  \\\n",
       "3545  5349  26-01-2020   65       4204   \n",
       "3731  5535  23-01-2020   35      12201   \n",
       "\n",
       "                                           level  online age_range  \n",
       "3545                             Básica completa   False      >=60  \n",
       "3731  Universitaria incompleta. Técnica completa   False     30-45  "
      ]
     },
     "execution_count": 379,
     "metadata": {},
     "output_type": "execute_result"
    }
   ],
   "source": [
    "individuals_table.sample(2)"
   ]
  },
  {
   "cell_type": "markdown",
   "metadata": {},
   "source": [
    "### Country Needs"
   ]
  },
  {
   "cell_type": "code",
   "execution_count": 41,
   "metadata": {},
   "outputs": [
    {
     "name": "stdout",
     "output_type": "stream",
     "text": [
      "0                  salud\n",
      "1                  salud\n",
      "2     mejores pensiones.\n",
      "3       pensiones dignas\n",
      "4                  salud\n",
      "             ...        \n",
      "95                   afp\n",
      "96      mejorar la salud\n",
      "97        medio ambiente\n",
      "98                 salud\n",
      "99            educacion \n",
      "Name: P2_1_A, Length: 100, dtype: object\n"
     ]
    }
   ],
   "source": [
    "n = create_table_country_needs(survey)"
   ]
  },
  {
   "cell_type": "code",
   "execution_count": null,
   "metadata": {},
   "outputs": [],
   "source": []
  },
  {
   "cell_type": "code",
   "execution_count": null,
   "metadata": {},
   "outputs": [],
   "source": []
  },
  {
   "cell_type": "markdown",
   "metadata": {},
   "source": [
    "### Family Needs"
   ]
  },
  {
   "cell_type": "code",
   "execution_count": null,
   "metadata": {},
   "outputs": [],
   "source": []
  },
  {
   "cell_type": "code",
   "execution_count": null,
   "metadata": {},
   "outputs": [],
   "source": []
  },
  {
   "cell_type": "code",
   "execution_count": null,
   "metadata": {},
   "outputs": [],
   "source": []
  },
  {
   "cell_type": "markdown",
   "metadata": {},
   "source": [
    "### Contributions"
   ]
  },
  {
   "cell_type": "code",
   "execution_count": null,
   "metadata": {},
   "outputs": [],
   "source": []
  },
  {
   "cell_type": "code",
   "execution_count": null,
   "metadata": {},
   "outputs": [],
   "source": []
  },
  {
   "cell_type": "code",
   "execution_count": null,
   "metadata": {},
   "outputs": [],
   "source": []
  },
  {
   "cell_type": "code",
   "execution_count": null,
   "metadata": {},
   "outputs": [],
   "source": []
  }
 ],
 "metadata": {
  "kernelspec": {
   "display_name": "Python 3",
   "language": "python",
   "name": "python3"
  },
  "language_info": {
   "codemirror_mode": {
    "name": "ipython",
    "version": 3
   },
   "file_extension": ".py",
   "mimetype": "text/x-python",
   "name": "python",
   "nbconvert_exporter": "python",
   "pygments_lexer": "ipython3",
   "version": "3.7.6"
  }
 },
 "nbformat": 4,
 "nbformat_minor": 4
}
