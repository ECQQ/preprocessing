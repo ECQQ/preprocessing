{
 "cells": [
  {
   "cell_type": "markdown",
   "metadata": {},
   "source": [
    "# Data cleaning "
   ]
  },
  {
   "cell_type": "code",
   "execution_count": 1,
   "metadata": {},
   "outputs": [],
   "source": [
    "import pandas as pd\n",
    "import os\n",
    "\n",
    "import numpy as np"
   ]
  },
  {
   "cell_type": "code",
   "execution_count": 2,
   "metadata": {},
   "outputs": [
    {
     "name": "stderr",
     "output_type": "stream",
     "text": [
      "[nltk_data] Downloading package stopwords to /home/jovyan/nltk_data...\n",
      "[nltk_data]   Package stopwords is already up-to-date!\n"
     ]
    }
   ],
   "source": [
    "from use_cases.contributions import create_table_contributions, to_sql as con_to_sql\n",
    "# \n",
    "from use_cases.emotions import create_table_emotions, to_sql as emo_to_sql \n",
    "from use_cases.personal_needs import create_table_personal_needs, to_sql as per_need_to_sql\n",
    "from use_cases.dialogues import create_table_dialogues\n",
    "from use_cases.country_needs import create_table_country_needs, to_sql as count_need_to_sql\n",
    "from use_cases.persons import create_table_persons\n",
    "from use_cases.individuals import create_table_individuals\n",
    "from use_cases.pairs import create_pair_token\n",
    "from use_cases.persons_dialogues import create_table_persons_dialogues\n",
    "\n",
    "import use_cases.utils.textools as tt\n",
    "\n",
    "\n",
    "pd.options.mode.chained_assignment = None \n",
    "\n",
    "%load_ext autoreload\n",
    "%autoreload 2"
   ]
  },
  {
   "cell_type": "markdown",
   "metadata": {},
   "source": [
    "## Loading Data Surveys"
   ]
  },
  {
   "cell_type": "code",
   "execution_count": 3,
   "metadata": {},
   "outputs": [],
   "source": [
    "# chunksize   = 100 # Just for debugging\n",
    "# survey_path = './data/BBDD_Dialogos.csv' #  chunksize=chunksize,\n",
    "# survey = pd.read_csv(survey_path, low_memory=False)\n",
    "# for survey in survey: break\n",
    "\n",
    "survey_path = './data/BBDD_Dialogos.xlsx'\n",
    "survey = pd.read_excel(survey_path, 'Hoja1')\n",
    "\n",
    "filter_dialogue = pd.read_excel(survey_path, 'Filtro Diálogos')\n",
    "filter_person = pd.read_excel(survey_path, 'Filtro Personas')\n",
    "\n",
    "ind_online_survey_path = './data/Consulta_Individual_online_v2.xlsx'\n",
    "ind_online_survey = pd.read_excel(ind_online_survey_path, 'Sheet1')\n",
    "    \n",
    "ind_survey_path = './data/Base_final_digitación_Consultas.xlsx'\n",
    "ind_survey = pd.read_excel(ind_survey_path, 'CONSULTAS')\n",
    "\n",
    "filter_individual_path = './data/Filtro_individuales.xlsx'\n",
    "filter_digitilized_individual = pd.read_excel(filter_individual_path, 'Hoja1')"
   ]
  },
  {
   "cell_type": "markdown",
   "metadata": {},
   "source": [
    "## Processing Uses Cases\n",
    "1. Emotions \n",
    "2. Contributions\n",
    "3. Country needs \n",
    "4. Personal/familiar needs"
   ]
  },
  {
   "cell_type": "markdown",
   "metadata": {},
   "source": [
    "### Persons Table (Dialogue)"
   ]
  },
  {
   "cell_type": "code",
   "execution_count": 8,
   "metadata": {},
   "outputs": [
    {
     "name": "stdout",
     "output_type": "stream",
     "text": [
      "CPU times: user 3min 10s, sys: 640 ms, total: 3min 10s\n",
      "Wall time: 3min 10s\n"
     ]
    }
   ],
   "source": [
    "%%time\n",
    "persons_table = create_table_persons(survey)"
   ]
  },
  {
   "cell_type": "code",
   "execution_count": 9,
   "metadata": {},
   "outputs": [
    {
     "data": {
      "text/html": [
       "<div>\n",
       "<style scoped>\n",
       "    .dataframe tbody tr th:only-of-type {\n",
       "        vertical-align: middle;\n",
       "    }\n",
       "\n",
       "    .dataframe tbody tr th {\n",
       "        vertical-align: top;\n",
       "    }\n",
       "\n",
       "    .dataframe thead th {\n",
       "        text-align: right;\n",
       "    }\n",
       "</style>\n",
       "<table border=\"1\" class=\"dataframe\">\n",
       "  <thead>\n",
       "    <tr style=\"text-align: right;\">\n",
       "      <th></th>\n",
       "      <th>id</th>\n",
       "      <th>diag_id</th>\n",
       "      <th>age</th>\n",
       "      <th>sex</th>\n",
       "      <th>level</th>\n",
       "      <th>comuna_id</th>\n",
       "      <th>age_range</th>\n",
       "    </tr>\n",
       "  </thead>\n",
       "  <tbody>\n",
       "    <tr>\n",
       "      <th>4788</th>\n",
       "      <td>vl0skaoz8amn</td>\n",
       "      <td>enc_u_4560547262356713957</td>\n",
       "      <td>22</td>\n",
       "      <td>f</td>\n",
       "      <td>Técnica completa</td>\n",
       "      <td>11101</td>\n",
       "      <td>15-30</td>\n",
       "    </tr>\n",
       "    <tr>\n",
       "      <th>7198</th>\n",
       "      <td>rptzf5hsyxkq</td>\n",
       "      <td>enc_u_4547357304807853816</td>\n",
       "      <td>45</td>\n",
       "      <td>h</td>\n",
       "      <td>Básica completa</td>\n",
       "      <td>14201</td>\n",
       "      <td>45-60</td>\n",
       "    </tr>\n",
       "  </tbody>\n",
       "</table>\n",
       "</div>"
      ],
      "text/plain": [
       "                id                    diag_id age sex             level  \\\n",
       "4788  vl0skaoz8amn  enc_u_4560547262356713957  22   f  Técnica completa   \n",
       "7198  rptzf5hsyxkq  enc_u_4547357304807853816  45   h   Básica completa   \n",
       "\n",
       "      comuna_id age_range  \n",
       "4788      11101     15-30  \n",
       "7198      14201     45-60  "
      ]
     },
     "execution_count": 9,
     "metadata": {},
     "output_type": "execute_result"
    }
   ],
   "source": [
    "persons_table.sample(2)"
   ]
  },
  {
   "cell_type": "markdown",
   "metadata": {},
   "source": [
    "### Dialogues"
   ]
  },
  {
   "cell_type": "code",
   "execution_count": 10,
   "metadata": {},
   "outputs": [
    {
     "name": "stdout",
     "output_type": "stream",
     "text": [
      "CPU times: user 2.67 s, sys: 20 ms, total: 2.69 s\n",
      "Wall time: 2.71 s\n"
     ]
    }
   ],
   "source": [
    "%%time\n",
    "dialogues_table = create_table_dialogues(survey, filter_dialogue)"
   ]
  },
  {
   "cell_type": "code",
   "execution_count": 11,
   "metadata": {},
   "outputs": [
    {
     "data": {
      "text/html": [
       "<div>\n",
       "<style scoped>\n",
       "    .dataframe tbody tr th:only-of-type {\n",
       "        vertical-align: middle;\n",
       "    }\n",
       "\n",
       "    .dataframe tbody tr th {\n",
       "        vertical-align: top;\n",
       "    }\n",
       "\n",
       "    .dataframe thead th {\n",
       "        text-align: right;\n",
       "    }\n",
       "</style>\n",
       "<table border=\"1\" class=\"dataframe\">\n",
       "  <thead>\n",
       "    <tr style=\"text-align: right;\">\n",
       "      <th></th>\n",
       "      <th>id</th>\n",
       "      <th>date</th>\n",
       "      <th>init_time</th>\n",
       "      <th>end_time</th>\n",
       "      <th>location</th>\n",
       "      <th>address</th>\n",
       "      <th>comuna_id</th>\n",
       "      <th>n_members</th>\n",
       "      <th>group_name</th>\n",
       "      <th>valid</th>\n",
       "    </tr>\n",
       "  </thead>\n",
       "  <tbody>\n",
       "    <tr>\n",
       "      <th>5789</th>\n",
       "      <td>enc_u_4597474986115689445</td>\n",
       "      <td>2020-03-06 00:00:00</td>\n",
       "      <td>09:00:00</td>\n",
       "      <td>11:30:00</td>\n",
       "      <td>comedor abierto del adulto mayor</td>\n",
       "      <td>freire no 112, salamanca</td>\n",
       "      <td>4204</td>\n",
       "      <td>10</td>\n",
       "      <td>usuarios de oficina movil de bienes nacionales</td>\n",
       "      <td>True</td>\n",
       "    </tr>\n",
       "    <tr>\n",
       "      <th>1478</th>\n",
       "      <td>enc_u_4553573929489012701</td>\n",
       "      <td>2020-01-14 00:00:00</td>\n",
       "      <td>10:15:00</td>\n",
       "      <td>12:15:00</td>\n",
       "      <td>provincia de santiago</td>\n",
       "      <td>camino a melipilla 9229</td>\n",
       "      <td>13119</td>\n",
       "      <td>9</td>\n",
       "      <td>usuarios de oficina movil de bienes nacionales</td>\n",
       "      <td>True</td>\n",
       "    </tr>\n",
       "  </tbody>\n",
       "</table>\n",
       "</div>"
      ],
      "text/plain": [
       "                             id                 date init_time  end_time  \\\n",
       "5789  enc_u_4597474986115689445  2020-03-06 00:00:00  09:00:00  11:30:00   \n",
       "1478  enc_u_4553573929489012701  2020-01-14 00:00:00  10:15:00  12:15:00   \n",
       "\n",
       "                              location                   address  comuna_id  \\\n",
       "5789  comedor abierto del adulto mayor  freire no 112, salamanca       4204   \n",
       "1478             provincia de santiago   camino a melipilla 9229      13119   \n",
       "\n",
       "     n_members                                      group_name  valid  \n",
       "5789        10  usuarios de oficina movil de bienes nacionales   True  \n",
       "1478         9  usuarios de oficina movil de bienes nacionales   True  "
      ]
     },
     "execution_count": 11,
     "metadata": {},
     "output_type": "execute_result"
    }
   ],
   "source": [
    "dialogues_table.sample(2)"
   ]
  },
  {
   "cell_type": "markdown",
   "metadata": {},
   "source": [
    "### Persons Dialogues"
   ]
  },
  {
   "cell_type": "code",
   "execution_count": 12,
   "metadata": {},
   "outputs": [
    {
     "name": "stdout",
     "output_type": "stream",
     "text": [
      "CPU times: user 67.7 ms, sys: 4 ms, total: 71.6 ms\n",
      "Wall time: 70.3 ms\n"
     ]
    }
   ],
   "source": [
    "%%time\n",
    "persons_table, persons_dialogues_table = create_table_persons_dialogues(persons_table)"
   ]
  },
  {
   "cell_type": "code",
   "execution_count": 13,
   "metadata": {},
   "outputs": [
    {
     "data": {
      "text/html": [
       "<div>\n",
       "<style scoped>\n",
       "    .dataframe tbody tr th:only-of-type {\n",
       "        vertical-align: middle;\n",
       "    }\n",
       "\n",
       "    .dataframe tbody tr th {\n",
       "        vertical-align: top;\n",
       "    }\n",
       "\n",
       "    .dataframe thead th {\n",
       "        text-align: right;\n",
       "    }\n",
       "</style>\n",
       "<table border=\"1\" class=\"dataframe\">\n",
       "  <thead>\n",
       "    <tr style=\"text-align: right;\">\n",
       "      <th></th>\n",
       "      <th>person_id</th>\n",
       "      <th>diag_id</th>\n",
       "    </tr>\n",
       "  </thead>\n",
       "  <tbody>\n",
       "    <tr>\n",
       "      <th>943</th>\n",
       "      <td>ny3+owl1yerx</td>\n",
       "      <td>enc_u_4560312205912440818</td>\n",
       "    </tr>\n",
       "    <tr>\n",
       "      <th>11624</th>\n",
       "      <td>zynostuf4n7c</td>\n",
       "      <td>enc_u_4520712042915289118</td>\n",
       "    </tr>\n",
       "  </tbody>\n",
       "</table>\n",
       "</div>"
      ],
      "text/plain": [
       "          person_id                    diag_id\n",
       "943    ny3+owl1yerx  enc_u_4560312205912440818\n",
       "11624  zynostuf4n7c  enc_u_4520712042915289118"
      ]
     },
     "execution_count": 13,
     "metadata": {},
     "output_type": "execute_result"
    }
   ],
   "source": [
    "persons_dialogues_table.sample(2)"
   ]
  },
  {
   "cell_type": "markdown",
   "metadata": {},
   "source": [
    "### Individuals"
   ]
  },
  {
   "cell_type": "code",
   "execution_count": 30,
   "metadata": {
    "scrolled": true
   },
   "outputs": [
    {
     "name": "stdout",
     "output_type": "stream",
     "text": [
      "CPU times: user 12.2 s, sys: 52.1 ms, total: 12.3 s\n",
      "Wall time: 12.2 s\n"
     ]
    }
   ],
   "source": [
    "%%time\n",
    "individuals_table = create_table_individuals(ind_online_survey, ind_survey, filter_digitilized_individual)"
   ]
  },
  {
   "cell_type": "code",
   "execution_count": 38,
   "metadata": {},
   "outputs": [
    {
     "data": {
      "text/html": [
       "<div>\n",
       "<style scoped>\n",
       "    .dataframe tbody tr th:only-of-type {\n",
       "        vertical-align: middle;\n",
       "    }\n",
       "\n",
       "    .dataframe tbody tr th {\n",
       "        vertical-align: top;\n",
       "    }\n",
       "\n",
       "    .dataframe thead th {\n",
       "        text-align: right;\n",
       "    }\n",
       "</style>\n",
       "<table border=\"1\" class=\"dataframe\">\n",
       "  <thead>\n",
       "    <tr style=\"text-align: right;\">\n",
       "      <th></th>\n",
       "      <th>id</th>\n",
       "      <th>date</th>\n",
       "      <th>age</th>\n",
       "      <th>comuna_id</th>\n",
       "      <th>level</th>\n",
       "      <th>is_valid</th>\n",
       "      <th>age_range</th>\n",
       "      <th>online</th>\n",
       "    </tr>\n",
       "  </thead>\n",
       "  <tbody>\n",
       "    <tr>\n",
       "      <th>5826</th>\n",
       "      <td>3245568</td>\n",
       "      <td>29-01-2020</td>\n",
       "      <td>25</td>\n",
       "      <td>4301</td>\n",
       "      <td>Media incompleta (incluyendo Media Técnica)</td>\n",
       "      <td>True</td>\n",
       "      <td>15-30</td>\n",
       "      <td>False</td>\n",
       "    </tr>\n",
       "    <tr>\n",
       "      <th>1335</th>\n",
       "      <td>3041921</td>\n",
       "      <td>17-02-2020</td>\n",
       "      <td>45</td>\n",
       "      <td>11201</td>\n",
       "      <td>Técnica completa</td>\n",
       "      <td>True</td>\n",
       "      <td>45-60</td>\n",
       "      <td>False</td>\n",
       "    </tr>\n",
       "  </tbody>\n",
       "</table>\n",
       "</div>"
      ],
      "text/plain": [
       "           id        date age  comuna_id  \\\n",
       "5826  3245568  29-01-2020  25       4301   \n",
       "1335  3041921  17-02-2020  45      11201   \n",
       "\n",
       "                                            level  is_valid age_range  online  \n",
       "5826  Media incompleta (incluyendo Media Técnica)      True     15-30   False  \n",
       "1335                             Técnica completa      True     45-60   False  "
      ]
     },
     "execution_count": 38,
     "metadata": {},
     "output_type": "execute_result"
    }
   ],
   "source": [
    "individuals_table.sample(2)"
   ]
  },
  {
   "cell_type": "markdown",
   "metadata": {},
   "source": [
    "### Emotions"
   ]
  },
  {
   "cell_type": "code",
   "execution_count": 76,
   "metadata": {},
   "outputs": [
    {
     "name": "stdout",
     "output_type": "stream",
     "text": [
      "CPU times: user 2min 56s, sys: 15.9 s, total: 3min 12s\n",
      "Wall time: 3min 13s\n"
     ]
    }
   ],
   "source": [
    "%%time\n",
    "emotions_table = create_table_emotions(survey, ind_survey_path, ind_online_survey)"
   ]
  },
  {
   "cell_type": "code",
   "execution_count": 137,
   "metadata": {},
   "outputs": [
    {
     "data": {
      "text/html": [
       "<div>\n",
       "<style scoped>\n",
       "    .dataframe tbody tr th:only-of-type {\n",
       "        vertical-align: middle;\n",
       "    }\n",
       "\n",
       "    .dataframe tbody tr th {\n",
       "        vertical-align: top;\n",
       "    }\n",
       "\n",
       "    .dataframe thead th {\n",
       "        text-align: right;\n",
       "    }\n",
       "</style>\n",
       "<table border=\"1\" class=\"dataframe\">\n",
       "  <thead>\n",
       "    <tr style=\"text-align: right;\">\n",
       "      <th></th>\n",
       "      <th>id</th>\n",
       "      <th>diag_id</th>\n",
       "      <th>ind_id</th>\n",
       "      <th>name</th>\n",
       "      <th>name_tokens</th>\n",
       "      <th>macro</th>\n",
       "      <th>exp</th>\n",
       "      <th>exp_tokens</th>\n",
       "      <th>is_online</th>\n",
       "    </tr>\n",
       "  </thead>\n",
       "  <tbody>\n",
       "  </tbody>\n",
       "</table>\n",
       "</div>"
      ],
      "text/plain": [
       "Empty DataFrame\n",
       "Columns: [id, diag_id, ind_id, name, name_tokens, macro, exp, exp_tokens, is_online]\n",
       "Index: []"
      ]
     },
     "execution_count": 137,
     "metadata": {},
     "output_type": "execute_result"
    }
   ],
   "source": [
    "emotions_table[(emotions_table['diag_id'] == '') & (emotions_table['ind_id'] == '')]"
   ]
  },
  {
   "cell_type": "markdown",
   "metadata": {},
   "source": [
    "### Emotion Pair"
   ]
  },
  {
   "cell_type": "code",
   "execution_count": 138,
   "metadata": {},
   "outputs": [
    {
     "name": "stdout",
     "output_type": "stream",
     "text": [
      "CPU times: user 14.6 s, sys: 55.6 ms, total: 14.6 s\n",
      "Wall time: 14.6 s\n"
     ]
    }
   ],
   "source": [
    "%%time\n",
    "emotion_pair = create_pair_token(emotions_table, 'exp_tokens', 'emotion_id')"
   ]
  },
  {
   "cell_type": "code",
   "execution_count": 139,
   "metadata": {},
   "outputs": [
    {
     "data": {
      "text/html": [
       "<div>\n",
       "<style scoped>\n",
       "    .dataframe tbody tr th:only-of-type {\n",
       "        vertical-align: middle;\n",
       "    }\n",
       "\n",
       "    .dataframe tbody tr th {\n",
       "        vertical-align: top;\n",
       "    }\n",
       "\n",
       "    .dataframe thead th {\n",
       "        text-align: right;\n",
       "    }\n",
       "</style>\n",
       "<table border=\"1\" class=\"dataframe\">\n",
       "  <thead>\n",
       "    <tr style=\"text-align: right;\">\n",
       "      <th></th>\n",
       "      <th>id</th>\n",
       "      <th>emotion_id</th>\n",
       "      <th>word_1</th>\n",
       "      <th>word_2</th>\n",
       "    </tr>\n",
       "  </thead>\n",
       "  <tbody>\n",
       "    <tr>\n",
       "      <th>120316</th>\n",
       "      <td>120317</td>\n",
       "      <td>21688</td>\n",
       "      <td>principalmente</td>\n",
       "      <td>ocurre</td>\n",
       "    </tr>\n",
       "    <tr>\n",
       "      <th>399270</th>\n",
       "      <td>399271</td>\n",
       "      <td>79521</td>\n",
       "      <td>destrozado</td>\n",
       "      <td>matado</td>\n",
       "    </tr>\n",
       "    <tr>\n",
       "      <th>281703</th>\n",
       "      <td>281704</td>\n",
       "      <td>51469</td>\n",
       "      <td>tema</td>\n",
       "      <td>protesta</td>\n",
       "    </tr>\n",
       "  </tbody>\n",
       "</table>\n",
       "</div>"
      ],
      "text/plain": [
       "            id  emotion_id          word_1    word_2\n",
       "120316  120317       21688  principalmente    ocurre\n",
       "399270  399271       79521      destrozado    matado\n",
       "281703  281704       51469            tema  protesta"
      ]
     },
     "execution_count": 139,
     "metadata": {},
     "output_type": "execute_result"
    }
   ],
   "source": [
    "emotion_pair.sample(3)"
   ]
  },
  {
   "cell_type": "markdown",
   "metadata": {},
   "source": [
    "### Country Needs"
   ]
  },
  {
   "cell_type": "code",
   "execution_count": 99,
   "metadata": {},
   "outputs": [
    {
     "name": "stdout",
     "output_type": "stream",
     "text": [
      "CPU times: user 6min, sys: 29.9 s, total: 6min 30s\n",
      "Wall time: 6min 31s\n"
     ]
    }
   ],
   "source": [
    "%%time\n",
    "country_needs = create_table_country_needs(survey, ind_survey, ind_survey_path, ind_online_survey_path)"
   ]
  },
  {
   "cell_type": "code",
   "execution_count": 140,
   "metadata": {
    "scrolled": true
   },
   "outputs": [
    {
     "data": {
      "text/html": [
       "<div>\n",
       "<style scoped>\n",
       "    .dataframe tbody tr th:only-of-type {\n",
       "        vertical-align: middle;\n",
       "    }\n",
       "\n",
       "    .dataframe tbody tr th {\n",
       "        vertical-align: top;\n",
       "    }\n",
       "\n",
       "    .dataframe thead th {\n",
       "        text-align: right;\n",
       "    }\n",
       "</style>\n",
       "<table border=\"1\" class=\"dataframe\">\n",
       "  <thead>\n",
       "    <tr style=\"text-align: right;\">\n",
       "      <th></th>\n",
       "      <th>id</th>\n",
       "      <th>diag_id</th>\n",
       "      <th>ind_id</th>\n",
       "      <th>name</th>\n",
       "      <th>name_tokens</th>\n",
       "      <th>macro</th>\n",
       "      <th>exp</th>\n",
       "      <th>exp_tokens</th>\n",
       "      <th>role</th>\n",
       "      <th>role_tokens</th>\n",
       "      <th>actor</th>\n",
       "      <th>priority</th>\n",
       "      <th>is_online</th>\n",
       "    </tr>\n",
       "  </thead>\n",
       "  <tbody>\n",
       "    <tr>\n",
       "      <th>20261</th>\n",
       "      <td>19237</td>\n",
       "      <td>enc_u_4578407914127404624</td>\n",
       "      <td></td>\n",
       "      <td>salud\\neducacion\\npensiones\\ndelincuencia\\neli...</td>\n",
       "      <td>[salud, educacion, pensiones, delincuencia, el...</td>\n",
       "      <td></td>\n",
       "      <td></td>\n",
       "      <td></td>\n",
       "      <td>empresas: capacitar, mejorar la relacion de tr...</td>\n",
       "      <td>[empresas, capacitar, mejorar, relacion, traba...</td>\n",
       "      <td>empresas; medios de comunicacion</td>\n",
       "      <td></td>\n",
       "      <td>False</td>\n",
       "    </tr>\n",
       "    <tr>\n",
       "      <th>2940</th>\n",
       "      <td>97577</td>\n",
       "      <td></td>\n",
       "      <td>4092548</td>\n",
       "      <td>pension</td>\n",
       "      <td>[pension]</td>\n",
       "      <td></td>\n",
       "      <td></td>\n",
       "      <td></td>\n",
       "      <td>aumentar las pensiones de adulto mayor</td>\n",
       "      <td>[aumentar, pensiones, adulto, mayor]</td>\n",
       "      <td>estado</td>\n",
       "      <td></td>\n",
       "      <td>False</td>\n",
       "    </tr>\n",
       "  </tbody>\n",
       "</table>\n",
       "</div>"
      ],
      "text/plain": [
       "          id                    diag_id   ind_id  \\\n",
       "20261  19237  enc_u_4578407914127404624            \n",
       "2940   97577                             4092548   \n",
       "\n",
       "                                                    name  \\\n",
       "20261  salud\\neducacion\\npensiones\\ndelincuencia\\neli...   \n",
       "2940                                            pension    \n",
       "\n",
       "                                             name_tokens macro exp exp_tokens  \\\n",
       "20261  [salud, educacion, pensiones, delincuencia, el...                        \n",
       "2940                                           [pension]                        \n",
       "\n",
       "                                                    role  \\\n",
       "20261  empresas: capacitar, mejorar la relacion de tr...   \n",
       "2940              aumentar las pensiones de adulto mayor   \n",
       "\n",
       "                                             role_tokens  \\\n",
       "20261  [empresas, capacitar, mejorar, relacion, traba...   \n",
       "2940                [aumentar, pensiones, adulto, mayor]   \n",
       "\n",
       "                                  actor priority  is_online  \n",
       "20261  empresas; medios de comunicacion               False  \n",
       "2940                             estado               False  "
      ]
     },
     "execution_count": 140,
     "metadata": {},
     "output_type": "execute_result"
    }
   ],
   "source": [
    "country_needs.sample(2)"
   ]
  },
  {
   "cell_type": "markdown",
   "metadata": {},
   "source": [
    "### Country Need Role Pair"
   ]
  },
  {
   "cell_type": "code",
   "execution_count": 141,
   "metadata": {},
   "outputs": [
    {
     "name": "stdout",
     "output_type": "stream",
     "text": [
      "CPU times: user 18.6 s, sys: 47.7 ms, total: 18.7 s\n",
      "Wall time: 18.7 s\n"
     ]
    }
   ],
   "source": [
    "%%time\n",
    "country_need_role_pair = create_pair_token(country_needs, 'role_tokens', 'country_need_id')"
   ]
  },
  {
   "cell_type": "code",
   "execution_count": 142,
   "metadata": {},
   "outputs": [
    {
     "data": {
      "text/html": [
       "<div>\n",
       "<style scoped>\n",
       "    .dataframe tbody tr th:only-of-type {\n",
       "        vertical-align: middle;\n",
       "    }\n",
       "\n",
       "    .dataframe tbody tr th {\n",
       "        vertical-align: top;\n",
       "    }\n",
       "\n",
       "    .dataframe thead th {\n",
       "        text-align: right;\n",
       "    }\n",
       "</style>\n",
       "<table border=\"1\" class=\"dataframe\">\n",
       "  <thead>\n",
       "    <tr style=\"text-align: right;\">\n",
       "      <th></th>\n",
       "      <th>id</th>\n",
       "      <th>country_need_id</th>\n",
       "      <th>word_1</th>\n",
       "      <th>word_2</th>\n",
       "    </tr>\n",
       "  </thead>\n",
       "  <tbody>\n",
       "    <tr>\n",
       "      <th>343514</th>\n",
       "      <td>343515</td>\n",
       "      <td>137597</td>\n",
       "      <td>proveer</td>\n",
       "      <td>recursos</td>\n",
       "    </tr>\n",
       "    <tr>\n",
       "      <th>79338</th>\n",
       "      <td>79339</td>\n",
       "      <td>25985</td>\n",
       "      <td>frente</td>\n",
       "      <td>probidad</td>\n",
       "    </tr>\n",
       "  </tbody>\n",
       "</table>\n",
       "</div>"
      ],
      "text/plain": [
       "            id  country_need_id   word_1    word_2\n",
       "343514  343515           137597  proveer  recursos\n",
       "79338    79339            25985   frente  probidad"
      ]
     },
     "execution_count": 142,
     "metadata": {},
     "output_type": "execute_result"
    }
   ],
   "source": [
    "country_need_role_pair.sample(2)"
   ]
  },
  {
   "cell_type": "markdown",
   "metadata": {},
   "source": [
    "### Country Need Explanation Pair"
   ]
  },
  {
   "cell_type": "code",
   "execution_count": 143,
   "metadata": {},
   "outputs": [
    {
     "name": "stdout",
     "output_type": "stream",
     "text": [
      "CPU times: user 19.8 s, sys: 48.1 ms, total: 19.8 s\n",
      "Wall time: 19.8 s\n"
     ]
    }
   ],
   "source": [
    "%%time\n",
    "country_need_exp_pair = create_pair_token(country_needs, 'exp_tokens', 'country_need_id')"
   ]
  },
  {
   "cell_type": "code",
   "execution_count": 144,
   "metadata": {},
   "outputs": [
    {
     "data": {
      "text/html": [
       "<div>\n",
       "<style scoped>\n",
       "    .dataframe tbody tr th:only-of-type {\n",
       "        vertical-align: middle;\n",
       "    }\n",
       "\n",
       "    .dataframe tbody tr th {\n",
       "        vertical-align: top;\n",
       "    }\n",
       "\n",
       "    .dataframe thead th {\n",
       "        text-align: right;\n",
       "    }\n",
       "</style>\n",
       "<table border=\"1\" class=\"dataframe\">\n",
       "  <thead>\n",
       "    <tr style=\"text-align: right;\">\n",
       "      <th></th>\n",
       "      <th>id</th>\n",
       "      <th>country_need_id</th>\n",
       "      <th>word_1</th>\n",
       "      <th>word_2</th>\n",
       "    </tr>\n",
       "  </thead>\n",
       "  <tbody>\n",
       "    <tr>\n",
       "      <th>58039</th>\n",
       "      <td>58040</td>\n",
       "      <td>8682</td>\n",
       "      <td>sistema</td>\n",
       "      <td>gatillado</td>\n",
       "    </tr>\n",
       "    <tr>\n",
       "      <th>173843</th>\n",
       "      <td>173844</td>\n",
       "      <td>39936</td>\n",
       "      <td>puntos</td>\n",
       "      <td>reciclaje</td>\n",
       "    </tr>\n",
       "  </tbody>\n",
       "</table>\n",
       "</div>"
      ],
      "text/plain": [
       "            id  country_need_id   word_1     word_2\n",
       "58039    58040             8682  sistema  gatillado\n",
       "173843  173844            39936   puntos  reciclaje"
      ]
     },
     "execution_count": 144,
     "metadata": {},
     "output_type": "execute_result"
    }
   ],
   "source": [
    "country_need_exp_pair.sample(2)"
   ]
  },
  {
   "cell_type": "markdown",
   "metadata": {},
   "source": [
    "### Family/Personal Needs"
   ]
  },
  {
   "cell_type": "code",
   "execution_count": 17,
   "metadata": {},
   "outputs": [
    {
     "name": "stdout",
     "output_type": "stream",
     "text": [
      "CPU times: user 3min 9s, sys: 19.4 s, total: 3min 28s\n",
      "Wall time: 3min 29s\n"
     ]
    }
   ],
   "source": [
    "%%time\n",
    "personal_needs = create_table_personal_needs(survey, ind_survey, ind_online_survey)"
   ]
  },
  {
   "cell_type": "code",
   "execution_count": 145,
   "metadata": {},
   "outputs": [
    {
     "data": {
      "text/html": [
       "<div>\n",
       "<style scoped>\n",
       "    .dataframe tbody tr th:only-of-type {\n",
       "        vertical-align: middle;\n",
       "    }\n",
       "\n",
       "    .dataframe tbody tr th {\n",
       "        vertical-align: top;\n",
       "    }\n",
       "\n",
       "    .dataframe thead th {\n",
       "        text-align: right;\n",
       "    }\n",
       "</style>\n",
       "<table border=\"1\" class=\"dataframe\">\n",
       "  <thead>\n",
       "    <tr style=\"text-align: right;\">\n",
       "      <th></th>\n",
       "      <th>id</th>\n",
       "      <th>diag_id</th>\n",
       "      <th>ind_id</th>\n",
       "      <th>name</th>\n",
       "      <th>name_tokens</th>\n",
       "      <th>exp</th>\n",
       "      <th>exp_tokens</th>\n",
       "      <th>macro</th>\n",
       "      <th>priority</th>\n",
       "      <th>is_online</th>\n",
       "    </tr>\n",
       "  </thead>\n",
       "  <tbody>\n",
       "    <tr>\n",
       "      <th>538</th>\n",
       "      <td>35561</td>\n",
       "      <td>ENC_U_4562943770919287297</td>\n",
       "      <td></td>\n",
       "      <td>entorno libre de contaminacion</td>\n",
       "      <td>[entorno, libre, contaminacion]</td>\n",
       "      <td>-cuidado del entorno</td>\n",
       "      <td>[cuidado, entorno]</td>\n",
       "      <td>entorno libre de contaminacion</td>\n",
       "      <td>0</td>\n",
       "      <td>False</td>\n",
       "    </tr>\n",
       "    <tr>\n",
       "      <th>4425</th>\n",
       "      <td>38580</td>\n",
       "      <td>ENC_U_4556212841195530421</td>\n",
       "      <td></td>\n",
       "      <td>vivienda sociales</td>\n",
       "      <td>[vivienda, sociales]</td>\n",
       "      <td>-que luego de tener una casa propia de no ser ...</td>\n",
       "      <td>[luego, tener, casa, propia, ser, cobro, exces...</td>\n",
       "      <td>vivienda sociales</td>\n",
       "      <td>2</td>\n",
       "      <td>False</td>\n",
       "    </tr>\n",
       "    <tr>\n",
       "      <th>13030</th>\n",
       "      <td>64489</td>\n",
       "      <td></td>\n",
       "      <td>3718630</td>\n",
       "      <td>la falta de oportunidades tanto laboral como e...</td>\n",
       "      <td>[falta, oportunidades, laboral, salud]</td>\n",
       "      <td>el tener gente de mi familia sin trabajo, el n...</td>\n",
       "      <td>[tener, gente, familia, trabajo, tener, seguri...</td>\n",
       "      <td>la falta de oportunidades tanto laboral como e...</td>\n",
       "      <td>1</td>\n",
       "      <td>False</td>\n",
       "    </tr>\n",
       "  </tbody>\n",
       "</table>\n",
       "</div>"
      ],
      "text/plain": [
       "          id                    diag_id   ind_id  \\\n",
       "538    35561  ENC_U_4562943770919287297            \n",
       "4425   38580  ENC_U_4556212841195530421            \n",
       "13030  64489                             3718630   \n",
       "\n",
       "                                                    name  \\\n",
       "538                       entorno libre de contaminacion   \n",
       "4425                                   vivienda sociales   \n",
       "13030  la falta de oportunidades tanto laboral como e...   \n",
       "\n",
       "                                  name_tokens  \\\n",
       "538           [entorno, libre, contaminacion]   \n",
       "4425                     [vivienda, sociales]   \n",
       "13030  [falta, oportunidades, laboral, salud]   \n",
       "\n",
       "                                                     exp  \\\n",
       "538                                 -cuidado del entorno   \n",
       "4425   -que luego de tener una casa propia de no ser ...   \n",
       "13030  el tener gente de mi familia sin trabajo, el n...   \n",
       "\n",
       "                                              exp_tokens  \\\n",
       "538                                   [cuidado, entorno]   \n",
       "4425   [luego, tener, casa, propia, ser, cobro, exces...   \n",
       "13030  [tener, gente, familia, trabajo, tener, seguri...   \n",
       "\n",
       "                                                   macro  priority  is_online  \n",
       "538                       entorno libre de contaminacion         0      False  \n",
       "4425                                   vivienda sociales         2      False  \n",
       "13030  la falta de oportunidades tanto laboral como e...         1      False  "
      ]
     },
     "execution_count": 145,
     "metadata": {},
     "output_type": "execute_result"
    }
   ],
   "source": [
    "personal_needs.sample(3)"
   ]
  },
  {
   "cell_type": "markdown",
   "metadata": {},
   "source": [
    "### Family/Personal Need Pair"
   ]
  },
  {
   "cell_type": "code",
   "execution_count": 146,
   "metadata": {},
   "outputs": [
    {
     "name": "stdout",
     "output_type": "stream",
     "text": [
      "CPU times: user 16.4 s, sys: 68 ms, total: 16.4 s\n",
      "Wall time: 16.5 s\n"
     ]
    }
   ],
   "source": [
    "%%time\n",
    "personal_need_pair = create_pair_token(personal_needs, 'exp_tokens', 'personal_need_id')"
   ]
  },
  {
   "cell_type": "code",
   "execution_count": 147,
   "metadata": {},
   "outputs": [
    {
     "data": {
      "text/html": [
       "<div>\n",
       "<style scoped>\n",
       "    .dataframe tbody tr th:only-of-type {\n",
       "        vertical-align: middle;\n",
       "    }\n",
       "\n",
       "    .dataframe tbody tr th {\n",
       "        vertical-align: top;\n",
       "    }\n",
       "\n",
       "    .dataframe thead th {\n",
       "        text-align: right;\n",
       "    }\n",
       "</style>\n",
       "<table border=\"1\" class=\"dataframe\">\n",
       "  <thead>\n",
       "    <tr style=\"text-align: right;\">\n",
       "      <th></th>\n",
       "      <th>id</th>\n",
       "      <th>personal_need_id</th>\n",
       "      <th>word_1</th>\n",
       "      <th>word_2</th>\n",
       "    </tr>\n",
       "  </thead>\n",
       "  <tbody>\n",
       "    <tr>\n",
       "      <th>205513</th>\n",
       "      <td>205514</td>\n",
       "      <td>33204</td>\n",
       "      <td>participantes</td>\n",
       "      <td>estan</td>\n",
       "    </tr>\n",
       "    <tr>\n",
       "      <th>215396</th>\n",
       "      <td>215397</td>\n",
       "      <td>34701</td>\n",
       "      <td>horas</td>\n",
       "      <td>espera</td>\n",
       "    </tr>\n",
       "    <tr>\n",
       "      <th>432229</th>\n",
       "      <td>432230</td>\n",
       "      <td>79007</td>\n",
       "      <td>obtuve</td>\n",
       "      <td>ningun</td>\n",
       "    </tr>\n",
       "  </tbody>\n",
       "</table>\n",
       "</div>"
      ],
      "text/plain": [
       "            id  personal_need_id         word_1  word_2\n",
       "205513  205514             33204  participantes   estan\n",
       "215396  215397             34701          horas  espera\n",
       "432229  432230             79007         obtuve  ningun"
      ]
     },
     "execution_count": 147,
     "metadata": {},
     "output_type": "execute_result"
    }
   ],
   "source": [
    "personal_need_pair.sample(3)"
   ]
  },
  {
   "cell_type": "markdown",
   "metadata": {},
   "source": [
    "### Contributions"
   ]
  },
  {
   "cell_type": "code",
   "execution_count": 85,
   "metadata": {},
   "outputs": [
    {
     "name": "stdout",
     "output_type": "stream",
     "text": [
      "CPU times: user 1min 19s, sys: 7.79 s, total: 1min 27s\n",
      "Wall time: 1min 28s\n"
     ]
    }
   ],
   "source": [
    "%%time\n",
    "contributions = create_table_contributions(survey, ind_survey, ind_online_survey)"
   ]
  },
  {
   "cell_type": "code",
   "execution_count": 90,
   "metadata": {},
   "outputs": [
    {
     "data": {
      "text/html": [
       "<div>\n",
       "<style scoped>\n",
       "    .dataframe tbody tr th:only-of-type {\n",
       "        vertical-align: middle;\n",
       "    }\n",
       "\n",
       "    .dataframe tbody tr th {\n",
       "        vertical-align: top;\n",
       "    }\n",
       "\n",
       "    .dataframe thead th {\n",
       "        text-align: right;\n",
       "    }\n",
       "</style>\n",
       "<table border=\"1\" class=\"dataframe\">\n",
       "  <thead>\n",
       "    <tr style=\"text-align: right;\">\n",
       "      <th></th>\n",
       "      <th>id</th>\n",
       "      <th>diag_id</th>\n",
       "      <th>ind_id</th>\n",
       "      <th>text</th>\n",
       "      <th>tokens</th>\n",
       "      <th>macro</th>\n",
       "      <th>is_online</th>\n",
       "    </tr>\n",
       "  </thead>\n",
       "  <tbody>\n",
       "    <tr>\n",
       "      <th>0</th>\n",
       "      <td>0</td>\n",
       "      <td>enc_u_4602780640112847056</td>\n",
       "      <td></td>\n",
       "      <td>asistir a dialogos</td>\n",
       "      <td>[asistir, dialogos]</td>\n",
       "      <td>asistir a dialogos</td>\n",
       "      <td>False</td>\n",
       "    </tr>\n",
       "    <tr>\n",
       "      <th>1</th>\n",
       "      <td>1</td>\n",
       "      <td>enc_u_4602778880117363308</td>\n",
       "      <td></td>\n",
       "      <td>conversando lo importante que es votar</td>\n",
       "      <td>[conversando, importante, votar]</td>\n",
       "      <td>conversando lo importante que es votar</td>\n",
       "      <td>False</td>\n",
       "    </tr>\n",
       "    <tr>\n",
       "      <th>2</th>\n",
       "      <td>2</td>\n",
       "      <td>enc_u_4602777200118509403</td>\n",
       "      <td></td>\n",
       "      <td>ayudar a entregar mejores valores a la juventud.</td>\n",
       "      <td>[ayudar, entregar, mejores, valores, juventud]</td>\n",
       "      <td>ayudar a entregar mejores valores a la juventud.</td>\n",
       "      <td>False</td>\n",
       "    </tr>\n",
       "    <tr>\n",
       "      <th>4</th>\n",
       "      <td>4</td>\n",
       "      <td>enc_u_4602651983012551467</td>\n",
       "      <td></td>\n",
       "      <td>luchar por igualdad de derecho de las mujeres</td>\n",
       "      <td>[luchar, igualdad, derecho, mujeres]</td>\n",
       "      <td>luchar por igualdad de derecho de las mujeres</td>\n",
       "      <td>False</td>\n",
       "    </tr>\n",
       "    <tr>\n",
       "      <th>5</th>\n",
       "      <td>5</td>\n",
       "      <td>enc_u_4602650820112130336</td>\n",
       "      <td></td>\n",
       "      <td>informarme por redes creibles</td>\n",
       "      <td>[informarme, redes, creibles]</td>\n",
       "      <td>informarme por redes creibles</td>\n",
       "      <td>False</td>\n",
       "    </tr>\n",
       "    <tr>\n",
       "      <th>...</th>\n",
       "      <td>...</td>\n",
       "      <td>...</td>\n",
       "      <td>...</td>\n",
       "      <td>...</td>\n",
       "      <td>...</td>\n",
       "      <td>...</td>\n",
       "      <td>...</td>\n",
       "    </tr>\n",
       "    <tr>\n",
       "      <th>1799</th>\n",
       "      <td>82008</td>\n",
       "      <td></td>\n",
       "      <td>0509e2ef02a033fc0efab1214e68be09</td>\n",
       "      <td>la mayor exigencia la desarrollo en mi persona...</td>\n",
       "      <td>[mayor, exigencia, desarrollo, persona, respet...</td>\n",
       "      <td>la mayor exigencia la desarrollo en mi persona...</td>\n",
       "      <td>True</td>\n",
       "    </tr>\n",
       "    <tr>\n",
       "      <th>1800</th>\n",
       "      <td>82009</td>\n",
       "      <td></td>\n",
       "      <td>c4960481a3875eb1cfbe32c33dc362c0</td>\n",
       "      <td>trabajar</td>\n",
       "      <td>[trabajar]</td>\n",
       "      <td>trabajar</td>\n",
       "      <td>True</td>\n",
       "    </tr>\n",
       "    <tr>\n",
       "      <th>1801</th>\n",
       "      <td>82010</td>\n",
       "      <td></td>\n",
       "      <td>2eac9b65b2b1ec5d134d6b45c83315fe</td>\n",
       "      <td>disponible para defender lo bueno que tiene ch...</td>\n",
       "      <td>[disponible, defender, bueno, chile, disponibl...</td>\n",
       "      <td>disponible para defender lo bueno que tiene ch...</td>\n",
       "      <td>True</td>\n",
       "    </tr>\n",
       "    <tr>\n",
       "      <th>1802</th>\n",
       "      <td>82011</td>\n",
       "      <td></td>\n",
       "      <td>ddc84f9d6d278cf3d32a0df820e01688</td>\n",
       "      <td>agente de paz</td>\n",
       "      <td>[agente, paz]</td>\n",
       "      <td>agente de paz</td>\n",
       "      <td>True</td>\n",
       "    </tr>\n",
       "    <tr>\n",
       "      <th>1803</th>\n",
       "      <td>82012</td>\n",
       "      <td></td>\n",
       "      <td>b1e9ef4111f4267cf1df2ca921aadfc8</td>\n",
       "      <td>siempre pensar en el chile que quiero,a diario.</td>\n",
       "      <td>[siempre, pensar, chile, quiero, diario]</td>\n",
       "      <td>siempre pensar en el chile que quiero,a diario.</td>\n",
       "      <td>True</td>\n",
       "    </tr>\n",
       "  </tbody>\n",
       "</table>\n",
       "<p>66701 rows × 7 columns</p>\n",
       "</div>"
      ],
      "text/plain": [
       "         id                    diag_id                            ind_id  \\\n",
       "0         0  enc_u_4602780640112847056                                     \n",
       "1         1  enc_u_4602778880117363308                                     \n",
       "2         2  enc_u_4602777200118509403                                     \n",
       "4         4  enc_u_4602651983012551467                                     \n",
       "5         5  enc_u_4602650820112130336                                     \n",
       "...     ...                        ...                               ...   \n",
       "1799  82008                             0509e2ef02a033fc0efab1214e68be09   \n",
       "1800  82009                             c4960481a3875eb1cfbe32c33dc362c0   \n",
       "1801  82010                             2eac9b65b2b1ec5d134d6b45c83315fe   \n",
       "1802  82011                             ddc84f9d6d278cf3d32a0df820e01688   \n",
       "1803  82012                             b1e9ef4111f4267cf1df2ca921aadfc8   \n",
       "\n",
       "                                                   text  \\\n",
       "0                                    asistir a dialogos   \n",
       "1                conversando lo importante que es votar   \n",
       "2      ayudar a entregar mejores valores a la juventud.   \n",
       "4         luchar por igualdad de derecho de las mujeres   \n",
       "5                         informarme por redes creibles   \n",
       "...                                                 ...   \n",
       "1799  la mayor exigencia la desarrollo en mi persona...   \n",
       "1800                                           trabajar   \n",
       "1801  disponible para defender lo bueno que tiene ch...   \n",
       "1802                                      agente de paz   \n",
       "1803    siempre pensar en el chile que quiero,a diario.   \n",
       "\n",
       "                                                 tokens  \\\n",
       "0                                   [asistir, dialogos]   \n",
       "1                      [conversando, importante, votar]   \n",
       "2        [ayudar, entregar, mejores, valores, juventud]   \n",
       "4                  [luchar, igualdad, derecho, mujeres]   \n",
       "5                         [informarme, redes, creibles]   \n",
       "...                                                 ...   \n",
       "1799  [mayor, exigencia, desarrollo, persona, respet...   \n",
       "1800                                         [trabajar]   \n",
       "1801  [disponible, defender, bueno, chile, disponibl...   \n",
       "1802                                      [agente, paz]   \n",
       "1803           [siempre, pensar, chile, quiero, diario]   \n",
       "\n",
       "                                                  macro  is_online  \n",
       "0                                    asistir a dialogos      False  \n",
       "1                conversando lo importante que es votar      False  \n",
       "2      ayudar a entregar mejores valores a la juventud.      False  \n",
       "4         luchar por igualdad de derecho de las mujeres      False  \n",
       "5                         informarme por redes creibles      False  \n",
       "...                                                 ...        ...  \n",
       "1799  la mayor exigencia la desarrollo en mi persona...       True  \n",
       "1800                                           trabajar       True  \n",
       "1801  disponible para defender lo bueno que tiene ch...       True  \n",
       "1802                                      agente de paz       True  \n",
       "1803    siempre pensar en el chile que quiero,a diario.       True  \n",
       "\n",
       "[66701 rows x 7 columns]"
      ]
     },
     "execution_count": 90,
     "metadata": {},
     "output_type": "execute_result"
    }
   ],
   "source": [
    "contributions.sample(3)"
   ]
  },
  {
   "cell_type": "markdown",
   "metadata": {},
   "source": [
    "## Saving `.csv`"
   ]
  },
  {
   "cell_type": "code",
   "execution_count": 36,
   "metadata": {},
   "outputs": [],
   "source": [
    "out_dir = './out'\n",
    "os.makedirs(out_dir, exist_ok=True)"
   ]
  },
  {
   "cell_type": "code",
   "execution_count": 60,
   "metadata": {},
   "outputs": [],
   "source": [
    "contributions.to_csv(os.path.join(out_dir, 'contributions.csv'), index=False)\n",
    "personal_need_pair.to_csv(os.path.join(out_dir, 'personal_need_pair.csv'), index=False)\n",
    "personal_needs.to_csv(os.path.join(out_dir, 'personal_needs.csv'), index=False)\n",
    "country_need_exp_pair.to_csv(os.path.join(out_dir, 'country_need_exp_pair.csv'), index=False)\n",
    "country_need_role_pair.to_csv(os.path.join(out_dir, 'country_need_role_pair.csv'), index=False)\n",
    "country_needs.to_csv(os.path.join(out_dir, 'country_needs.csv'), index=False)\n",
    "emotion_pair.to_csv(os.path.join(out_dir, 'emotion_pair.csv'), index=False)\n",
    "emotions_table.to_csv(os.path.join(out_dir, 'emotions.csv'), index=False)\n",
    "individuals_table.to_csv(os.path.join(out_dir, 'individuals.csv'), index=False)\n",
    "dialogues_table.to_csv(os.path.join(out_dir, 'dialogues.csv'), index=False)\n",
    "persons_table.to_csv(os.path.join(out_dir, 'persons.csv'), index=False)\n",
    "persons_dialogues_table.to_csv(os.path.join(out_dir, 'persons_dialogues.csv'), index=False)"
   ]
  },
  {
   "cell_type": "markdown",
   "metadata": {},
   "source": [
    "## Saving `.sql`"
   ]
  },
  {
   "cell_type": "code",
   "execution_count": 61,
   "metadata": {},
   "outputs": [],
   "source": [
    "con_to_sql(contributions,os.path.join(out_dir,'contributions.sql' ))\n",
    "emo_to_sql(emotions_table,os.path.join(out_dir,'emotions.sql' ))\n",
    "count_need_to_sql(country_needs,os.path.join(out_dir,'country_needs.sql' ))\n",
    "per_need_to_sql(personal_needs,os.path.join(out_dir,'personal_need.sql' ))"
   ]
  },
  {
   "cell_type": "code",
   "execution_count": 80,
   "metadata": {},
   "outputs": [
    {
     "name": "stderr",
     "output_type": "stream",
     "text": [
      "[nltk_data] Downloading package stopwords to /home/jovyan/nltk_data...\n",
      "[nltk_data]   Package stopwords is already up-to-date!\n"
     ]
    }
   ],
   "source": [
    "emo_to_sql(emotions_table,os.path.join(out_dir,'emotions.sql' ))"
   ]
  },
  {
   "cell_type": "markdown",
   "metadata": {},
   "source": [
    "# BORRAR LO DE ABAJO"
   ]
  },
  {
   "cell_type": "code",
   "execution_count": 5,
   "metadata": {},
   "outputs": [],
   "source": [
    "emo_path = './data/emotions.csv' #  chunksize=chunksize,\n",
    "emo_frame = pd.read_csv(emo_path, low_memory=False)\n",
    "\n",
    "pers_path = './data/personal_needs.csv' #  chunksize=chunksize,\n",
    "personal_need_frame = pd.read_csv(pers_path, low_memory=False)\n",
    "\n",
    "con_path = './data/contributions.csv' #  chunksize=chunksize,\n",
    "con_frame = pd.read_csv(con_path, low_memory=False)\n",
    "\n",
    "coun_needs_path = './data/country_needs.csv' #  chunksize=chunksize,\n",
    "coun_needs_frame = pd.read_csv(coun_needs_path, low_memory=False)"
   ]
  },
  {
   "cell_type": "code",
   "execution_count": 56,
   "metadata": {},
   "outputs": [],
   "source": [
    "emo_path = './data/emotions.csv' #  chunksize=chunksize,\n",
    "emo_frame = pd.read_csv(emo_path, low_memory=False)"
   ]
  },
  {
   "cell_type": "code",
   "execution_count": 135,
   "metadata": {},
   "outputs": [
    {
     "data": {
      "text/html": [
       "<div>\n",
       "<style scoped>\n",
       "    .dataframe tbody tr th:only-of-type {\n",
       "        vertical-align: middle;\n",
       "    }\n",
       "\n",
       "    .dataframe tbody tr th {\n",
       "        vertical-align: top;\n",
       "    }\n",
       "\n",
       "    .dataframe thead th {\n",
       "        text-align: right;\n",
       "    }\n",
       "</style>\n",
       "<table border=\"1\" class=\"dataframe\">\n",
       "  <thead>\n",
       "    <tr style=\"text-align: right;\">\n",
       "      <th></th>\n",
       "      <th>id</th>\n",
       "      <th>diag_id</th>\n",
       "      <th>ind_id</th>\n",
       "      <th>name</th>\n",
       "      <th>name_tokens</th>\n",
       "      <th>exp</th>\n",
       "      <th>exp_tokens</th>\n",
       "      <th>macro</th>\n",
       "      <th>priority</th>\n",
       "      <th>is_online</th>\n",
       "    </tr>\n",
       "  </thead>\n",
       "  <tbody>\n",
       "  </tbody>\n",
       "</table>\n",
       "</div>"
      ],
      "text/plain": [
       "Empty DataFrame\n",
       "Columns: [id, diag_id, ind_id, name, name_tokens, exp, exp_tokens, macro, priority, is_online]\n",
       "Index: []"
      ]
     },
     "execution_count": 135,
     "metadata": {},
     "output_type": "execute_result"
    }
   ],
   "source": [
    "personal_need_frame[(personal_need_frame['diag_id'] == '') & (personal_need_frame['ind_id'] == '')]"
   ]
  },
  {
   "cell_type": "code",
   "execution_count": 148,
   "metadata": {},
   "outputs": [],
   "source": [
    "personal_need_pair.to_csv(os.path.join(out_dir, 'personal_need_pair.csv'), index=False)\n",
    "country_need_exp_pair.to_csv(os.path.join(out_dir, 'country_need_exp_pair.csv'), index=False)\n",
    "country_need_role_pair.to_csv(os.path.join(out_dir, 'country_need_role_pair.csv'), index=False)\n",
    "emotion_pair.to_csv(os.path.join(out_dir, 'emotion_pair.csv'), index=False)"
   ]
  },
  {
   "cell_type": "code",
   "execution_count": 57,
   "metadata": {},
   "outputs": [],
   "source": [
    "emo_frame['name_tokens'] = emo_frame['name_tokens'].apply(lambda x: tt.clean_alt_list(x))\n",
    "emo_frame['exp_tokens'] = emo_frame['exp_tokens'].apply(lambda x: tt.clean_alt_list(x))\n",
    "emo_frame = emo_frame.replace({'nr':'','nan':'', 'NR':'', 'NaN':'', np.nan:''})\n",
    "emo_frame['diag_id'] = tt.to_unicode(emo_frame['diag_id'])"
   ]
  },
  {
   "cell_type": "code",
   "execution_count": 10,
   "metadata": {},
   "outputs": [],
   "source": [
    "personal_need_frame['name_tokens'] = personal_need_frame['name_tokens'].apply(lambda x: tt.clean_alt_list(x))\n",
    "personal_need_frame['exp_tokens'] = personal_need_frame['exp_tokens'].apply(lambda x: tt.clean_alt_list(x))\n",
    "personal_need_frame['priority'] = personal_need_frame['priority'].astype(int)\n",
    "personal_need_frame = personal_need_frame.replace({'nr':'','nan':'', 'NR':'', 'NaN':'', np.nan:''})"
   ]
  },
  {
   "cell_type": "code",
   "execution_count": 82,
   "metadata": {},
   "outputs": [],
   "source": [
    "con_frame['tokens'] = con_frame['tokens'].apply(lambda x: tt.clean_alt_list(x))\n",
    "con_frame = con_frame.replace({'nr':'','nan':'', 'NR':'', 'NaN':'', np.nan:''})"
   ]
  },
  {
   "cell_type": "code",
   "execution_count": 26,
   "metadata": {},
   "outputs": [],
   "source": [
    "coun_needs_frame = coun_needs_frame.replace({'nr':'','nan':'', 'NR':'', 'NaN':'', np.nan:''})\n",
    "coun_needs_frame['priority'] = coun_needs_frame['priority'].apply(lambda x: tt.str_to_int(x))\n",
    "coun_needs_frame['name_tokens'] = coun_needs_frame['name_tokens'].apply(lambda x: tt.clean_alt_list(x))\n",
    "coun_needs_frame['exp_tokens'] = coun_needs_frame['exp_tokens'].apply(lambda x: tt.clean_alt_list(x))\n",
    "coun_needs_frame['role_tokens'] = coun_needs_frame['role_tokens'].apply(lambda x: tt.clean_alt_list(x))\n"
   ]
  },
  {
   "cell_type": "code",
   "execution_count": 91,
   "metadata": {},
   "outputs": [],
   "source": [
    "con_to_sql(contributions,'./data/contributions.sql' )"
   ]
  },
  {
   "cell_type": "code",
   "execution_count": 65,
   "metadata": {},
   "outputs": [],
   "source": [
    "emo_to_sql(emo_frame,'./data/emotions.sql')"
   ]
  },
  {
   "cell_type": "code",
   "execution_count": 124,
   "metadata": {},
   "outputs": [],
   "source": [
    "count_need_to_sql(country_needs,'./data/country_needs.sql')"
   ]
  },
  {
   "cell_type": "code",
   "execution_count": 136,
   "metadata": {},
   "outputs": [],
   "source": [
    "per_need_to_sql(personal_need_frame,'./data/personal_need.sql')"
   ]
  }
 ],
 "metadata": {
  "kernelspec": {
   "display_name": "Python 3",
   "language": "python",
   "name": "python3"
  },
  "language_info": {
   "codemirror_mode": {
    "name": "ipython",
    "version": 3
   },
   "file_extension": ".py",
   "mimetype": "text/x-python",
   "name": "python",
   "nbconvert_exporter": "python",
   "pygments_lexer": "ipython3",
   "version": "3.7.6"
  }
 },
 "nbformat": 4,
 "nbformat_minor": 4
}
