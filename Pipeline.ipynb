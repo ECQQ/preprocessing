{
 "cells": [
  {
   "cell_type": "markdown",
   "metadata": {},
   "source": [
    "# Data cleaning "
   ]
  },
  {
   "cell_type": "code",
   "execution_count": 91,
   "metadata": {},
   "outputs": [],
   "source": [
    "import pandas as pd"
   ]
  },
  {
   "cell_type": "code",
   "execution_count": 92,
   "metadata": {},
   "outputs": [
    {
     "name": "stdout",
     "output_type": "stream",
     "text": [
      "The autoreload extension is already loaded. To reload it, use:\n",
      "  %reload_ext autoreload\n"
     ]
    }
   ],
   "source": [
    "from use_cases.emotions import process_emotions\n",
    "from use_cases.contributions import process_contributions\n",
    "\n",
    "from use_cases.personal_needs import process_needs\n",
    "\n",
    "from use_cases.dialogues import create_table_dialogues\n",
    "from use_cases.country_needs import create_table_country_needs\n",
    "from use_cases.persons import create_table\n",
    "from use_cases.individuals import create_table_individuals\n",
    "\n",
    "\n",
    "pd.options.mode.chained_assignment = None \n",
    "\n",
    "%load_ext autoreload\n",
    "%autoreload 2"
   ]
  },
  {
   "cell_type": "markdown",
   "metadata": {},
   "source": [
    "## Loading Data Surveys"
   ]
  },
  {
   "cell_type": "code",
   "execution_count": 274,
   "metadata": {},
   "outputs": [],
   "source": [
    "chunksize   = 100 # Just for debugging\n",
    "survey_path = './data/BBDD_Dialogos_2021_01_27.csv' \n",
    "survey = pd.read_csv(survey_path, chunksize=chunksize, low_memory=False)\n",
    "for survey in survey: break\n",
    "    \n",
    "ind_online_survey_path = './data/Consulta_Individual_online_v2.xlsx'\n",
    "ind_online_survey = pd.read_excel(ind_online_survey_path, 'Sheet1')\n",
    "    \n",
    "ind_survey_path = './data/Base_final_digitación_Consultas.xlsx'\n",
    "ind_survey = pd.read_excel(ind_survey_path, 'CONSULTAS')"
   ]
  },
  {
   "cell_type": "code",
   "execution_count": 94,
   "metadata": {},
   "outputs": [
    {
     "data": {
      "text/html": [
       "<div>\n",
       "<style scoped>\n",
       "    .dataframe tbody tr th:only-of-type {\n",
       "        vertical-align: middle;\n",
       "    }\n",
       "\n",
       "    .dataframe tbody tr th {\n",
       "        vertical-align: top;\n",
       "    }\n",
       "\n",
       "    .dataframe thead th {\n",
       "        text-align: right;\n",
       "    }\n",
       "</style>\n",
       "<table border=\"1\" class=\"dataframe\">\n",
       "  <thead>\n",
       "    <tr style=\"text-align: right;\">\n",
       "      <th></th>\n",
       "      <th>Submission Date</th>\n",
       "      <th>RUN</th>\n",
       "      <th>Edad</th>\n",
       "      <th>Comuna</th>\n",
       "      <th>1. ¿Cuál es el nivel de educación alcanzado por Usted?</th>\n",
       "      <th>2. ¿Cuál es el nivel de educación que alcanzó el jefe de su hogar? (sólo si se trata de alguien distinto a Usted)</th>\n",
       "      <th>1 &gt;&gt; Emociones / Sentimientos / Sensaciones</th>\n",
       "      <th>1 &gt;&gt; Explique lo mencionado</th>\n",
       "      <th>2 &gt;&gt; Emociones / Sentimientos / Sensaciones</th>\n",
       "      <th>2 &gt;&gt; Explique lo mencionado</th>\n",
       "      <th>...</th>\n",
       "      <th>2 &gt;&gt; Rol del actor social (Describa)</th>\n",
       "      <th>3 &gt;&gt; Necesidades del país identificadas</th>\n",
       "      <th>3 &gt;&gt; Rol del Estado (Describa)</th>\n",
       "      <th>3 &gt;&gt; Actor social (empresa, organizaciones sociales, medios de comunicación, comunidad, etc)</th>\n",
       "      <th>3 &gt;&gt; Rol del actor social (Describa)</th>\n",
       "      <th>5. Pregunta: ¿Cuál es mi contribución personal para construir el Chile que queremos?</th>\n",
       "      <th>Comuna.1</th>\n",
       "      <th>Comentarios finales: Si tiene alguna observación o sugerencia, en este espacio puede indicarla.</th>\n",
       "      <th>Región</th>\n",
       "      <th>Región.1</th>\n",
       "    </tr>\n",
       "  </thead>\n",
       "  <tbody>\n",
       "    <tr>\n",
       "      <th>204</th>\n",
       "      <td>2020/01/24 08:46:14</td>\n",
       "      <td>bfadfcf50714ca24c5ca30ec55385148</td>\n",
       "      <td>34</td>\n",
       "      <td>NaN</td>\n",
       "      <td>Universitaria completa.</td>\n",
       "      <td>Yo soy el jefe de hogar.</td>\n",
       "      <td>Preocupado</td>\n",
       "      <td>Me preocupa el uso político de las manifestaci...</td>\n",
       "      <td>Avergonzado</td>\n",
       "      <td>Da vergüenza ver cómo se muestra nuestro país ...</td>\n",
       "      <td>...</td>\n",
       "      <td>El principal responsable de la educación de un...</td>\n",
       "      <td>Ciudades más equitativas</td>\n",
       "      <td>Distribuir mejor recursos y generar más recursos</td>\n",
       "      <td>Comunidad</td>\n",
       "      <td>Terminar con los estigmas de ciertos barrios y...</td>\n",
       "      <td>Aportar con información al debate de cómo cons...</td>\n",
       "      <td>Las Condes</td>\n",
       "      <td>El principal problema de hoy pasa por la educa...</td>\n",
       "      <td>Región Metropolitana de Santiago</td>\n",
       "      <td>NaN</td>\n",
       "    </tr>\n",
       "    <tr>\n",
       "      <th>1221</th>\n",
       "      <td>2019/12/19 00:47:44</td>\n",
       "      <td>7183ff22a93fb6f17855786119363bc8</td>\n",
       "      <td>18</td>\n",
       "      <td>Los Andes</td>\n",
       "      <td>Universitaria incompleta. Técnica completa.</td>\n",
       "      <td>Universitaria incompleta. Técnica completa.</td>\n",
       "      <td>Pena</td>\n",
       "      <td>Saqueos</td>\n",
       "      <td>Preocupación</td>\n",
       "      <td>Saqueos a pymes</td>\n",
       "      <td>...</td>\n",
       "      <td>Libre empresa</td>\n",
       "      <td>NaN</td>\n",
       "      <td>NaN</td>\n",
       "      <td>NaN</td>\n",
       "      <td>NaN</td>\n",
       "      <td>Práctica laboral gratuita a pyme con problemas...</td>\n",
       "      <td>NaN</td>\n",
       "      <td>Liberalizar mercado, respetar derechos de prop...</td>\n",
       "      <td>NaN</td>\n",
       "      <td>V Región de Valparaíso</td>\n",
       "    </tr>\n",
       "  </tbody>\n",
       "</table>\n",
       "<p>2 rows × 44 columns</p>\n",
       "</div>"
      ],
      "text/plain": [
       "          Submission Date                               RUN Edad     Comuna  \\\n",
       "204   2020/01/24 08:46:14  bfadfcf50714ca24c5ca30ec55385148   34        NaN   \n",
       "1221  2019/12/19 00:47:44  7183ff22a93fb6f17855786119363bc8   18  Los Andes   \n",
       "\n",
       "     1. ¿Cuál es el nivel de educación alcanzado por Usted?  \\\n",
       "204                             Universitaria completa.       \n",
       "1221        Universitaria incompleta. Técnica completa.       \n",
       "\n",
       "     2. ¿Cuál es el nivel de educación que alcanzó el jefe de su hogar? (sólo si se trata de alguien distinto a Usted)  \\\n",
       "204                            Yo soy el jefe de hogar.                                                                  \n",
       "1221        Universitaria incompleta. Técnica completa.                                                                  \n",
       "\n",
       "     1 >> Emociones / Sentimientos / Sensaciones  \\\n",
       "204                                   Preocupado   \n",
       "1221                                        Pena   \n",
       "\n",
       "                            1 >> Explique lo mencionado  \\\n",
       "204   Me preocupa el uso político de las manifestaci...   \n",
       "1221                                            Saqueos   \n",
       "\n",
       "     2 >> Emociones / Sentimientos / Sensaciones  \\\n",
       "204                                  Avergonzado   \n",
       "1221                                Preocupación   \n",
       "\n",
       "                            2 >> Explique lo mencionado  ...  \\\n",
       "204   Da vergüenza ver cómo se muestra nuestro país ...  ...   \n",
       "1221                                    Saqueos a pymes  ...   \n",
       "\n",
       "                   2 >> Rol del actor social (Describa)  \\\n",
       "204   El principal responsable de la educación de un...   \n",
       "1221                                      Libre empresa   \n",
       "\n",
       "     3 >> Necesidades del país identificadas  \\\n",
       "204                 Ciudades más equitativas   \n",
       "1221                                     NaN   \n",
       "\n",
       "                        3 >> Rol del Estado (Describa)  \\\n",
       "204   Distribuir mejor recursos y generar más recursos   \n",
       "1221                                               NaN   \n",
       "\n",
       "     3 >> Actor social (empresa, organizaciones sociales, medios de comunicación, comunidad, etc)  \\\n",
       "204                                           Comunidad                                             \n",
       "1221                                                NaN                                             \n",
       "\n",
       "                   3 >> Rol del actor social (Describa)  \\\n",
       "204   Terminar con los estigmas de ciertos barrios y...   \n",
       "1221                                                NaN   \n",
       "\n",
       "     5. Pregunta: ¿Cuál es mi contribución personal para construir el Chile que queremos?  \\\n",
       "204   Aportar con información al debate de cómo cons...                                       \n",
       "1221  Práctica laboral gratuita a pyme con problemas...                                       \n",
       "\n",
       "        Comuna.1  \\\n",
       "204   Las Condes   \n",
       "1221         NaN   \n",
       "\n",
       "     Comentarios finales: Si tiene alguna observación o sugerencia, en este espacio puede indicarla.  \\\n",
       "204   El principal problema de hoy pasa por la educa...                                                 \n",
       "1221  Liberalizar mercado, respetar derechos de prop...                                                 \n",
       "\n",
       "                                Región                Región.1  \n",
       "204   Región Metropolitana de Santiago                     NaN  \n",
       "1221                               NaN  V Región de Valparaíso  \n",
       "\n",
       "[2 rows x 44 columns]"
      ]
     },
     "execution_count": 94,
     "metadata": {},
     "output_type": "execute_result"
    }
   ],
   "source": [
    "survey.sample(2)\n",
    "ind_online_survey.sample(2)"
   ]
  },
  {
   "cell_type": "markdown",
   "metadata": {},
   "source": [
    "## Processing Uses Cases\n",
    "1. Emotions \n",
    "2. Contributions\n",
    "3. Country needs \n",
    "4. Personal/familiar needs"
   ]
  },
  {
   "cell_type": "markdown",
   "metadata": {},
   "source": [
    "### Persons Table (Dialogue)"
   ]
  },
  {
   "cell_type": "code",
   "execution_count": 22,
   "metadata": {},
   "outputs": [],
   "source": [
    "persons_table = create_table(survey)"
   ]
  },
  {
   "cell_type": "code",
   "execution_count": 24,
   "metadata": {},
   "outputs": [
    {
     "data": {
      "text/html": [
       "<div>\n",
       "<style scoped>\n",
       "    .dataframe tbody tr th:only-of-type {\n",
       "        vertical-align: middle;\n",
       "    }\n",
       "\n",
       "    .dataframe tbody tr th {\n",
       "        vertical-align: top;\n",
       "    }\n",
       "\n",
       "    .dataframe thead th {\n",
       "        text-align: right;\n",
       "    }\n",
       "</style>\n",
       "<table border=\"1\" class=\"dataframe\">\n",
       "  <thead>\n",
       "    <tr style=\"text-align: right;\">\n",
       "      <th></th>\n",
       "      <th>file_id</th>\n",
       "      <th>age</th>\n",
       "      <th>sex</th>\n",
       "      <th>level</th>\n",
       "      <th>comuna</th>\n",
       "      <th>age_range</th>\n",
       "    </tr>\n",
       "  </thead>\n",
       "  <tbody>\n",
       "    <tr>\n",
       "      <th>39</th>\n",
       "      <td>enc_u_4598379130154541284</td>\n",
       "      <td>39</td>\n",
       "      <td>h</td>\n",
       "      <td>basica_completa</td>\n",
       "      <td>talca</td>\n",
       "      <td>30-45</td>\n",
       "    </tr>\n",
       "    <tr>\n",
       "      <th>0</th>\n",
       "      <td>enc_u_4602780640112847056</td>\n",
       "      <td>54</td>\n",
       "      <td>f</td>\n",
       "      <td>basica_incompleta</td>\n",
       "      <td></td>\n",
       "      <td>45-60</td>\n",
       "    </tr>\n",
       "    <tr>\n",
       "      <th>59</th>\n",
       "      <td>enc_u_4597643380118026494</td>\n",
       "      <td>47</td>\n",
       "      <td>f</td>\n",
       "      <td>basica_completa</td>\n",
       "      <td>temuco</td>\n",
       "      <td>45-60</td>\n",
       "    </tr>\n",
       "  </tbody>\n",
       "</table>\n",
       "</div>"
      ],
      "text/plain": [
       "                      file_id age sex              level  comuna age_range\n",
       "39  enc_u_4598379130154541284  39   h    basica_completa   talca     30-45\n",
       "0   enc_u_4602780640112847056  54   f  basica_incompleta             45-60\n",
       "59  enc_u_4597643380118026494  47   f    basica_completa  temuco     45-60"
      ]
     },
     "execution_count": 24,
     "metadata": {},
     "output_type": "execute_result"
    }
   ],
   "source": [
    "persons_table.sample(3)"
   ]
  },
  {
   "cell_type": "markdown",
   "metadata": {},
   "source": [
    "### Dialogues"
   ]
  },
  {
   "cell_type": "code",
   "execution_count": 176,
   "metadata": {},
   "outputs": [],
   "source": [
    "dialogues_table = create_table_dialogues(survey)"
   ]
  },
  {
   "cell_type": "code",
   "execution_count": 28,
   "metadata": {},
   "outputs": [
    {
     "data": {
      "text/html": [
       "<div>\n",
       "<style scoped>\n",
       "    .dataframe tbody tr th:only-of-type {\n",
       "        vertical-align: middle;\n",
       "    }\n",
       "\n",
       "    .dataframe tbody tr th {\n",
       "        vertical-align: top;\n",
       "    }\n",
       "\n",
       "    .dataframe thead th {\n",
       "        text-align: right;\n",
       "    }\n",
       "</style>\n",
       "<table border=\"1\" class=\"dataframe\">\n",
       "  <thead>\n",
       "    <tr style=\"text-align: right;\">\n",
       "      <th></th>\n",
       "      <th>file_id</th>\n",
       "      <th>date</th>\n",
       "      <th>init_time</th>\n",
       "      <th>end_time</th>\n",
       "      <th>location</th>\n",
       "      <th>address</th>\n",
       "      <th>comuna</th>\n",
       "      <th>n_members</th>\n",
       "      <th>group_name</th>\n",
       "    </tr>\n",
       "  </thead>\n",
       "  <tbody>\n",
       "    <tr>\n",
       "      <th>37</th>\n",
       "      <td>enc_u_4598383170151924860</td>\n",
       "      <td>11-02-2020</td>\n",
       "      <td>14:50:00</td>\n",
       "      <td>16:25:00</td>\n",
       "      <td>casa</td>\n",
       "      <td>villa magisteco</td>\n",
       "      <td>talca</td>\n",
       "      <td>5</td>\n",
       "      <td>usuarios de oficina movil de bienes nacionales</td>\n",
       "    </tr>\n",
       "    <tr>\n",
       "      <th>83</th>\n",
       "      <td>enc_u_4596763700997702847</td>\n",
       "      <td>09-03-2020</td>\n",
       "      <td>18:30:00</td>\n",
       "      <td>20:30:00</td>\n",
       "      <td>barros luco y vecinos</td>\n",
       "      <td>barros luco #2247</td>\n",
       "      <td>arica</td>\n",
       "      <td>5</td>\n",
       "      <td>usuarios de oficina movil de bienes nacionales</td>\n",
       "    </tr>\n",
       "    <tr>\n",
       "      <th>62</th>\n",
       "      <td>enc_u_4597641730116574573</td>\n",
       "      <td>05-03-2020</td>\n",
       "      <td>10:00:00</td>\n",
       "      <td>12:00:00</td>\n",
       "      <td>centro cultural  de freire</td>\n",
       "      <td>pedro canales numero 137</td>\n",
       "      <td>freire</td>\n",
       "      <td>5</td>\n",
       "      <td>usuarios de oficina movil de bienes nacionales</td>\n",
       "    </tr>\n",
       "  </tbody>\n",
       "</table>\n",
       "</div>"
      ],
      "text/plain": [
       "                      file_id        date init_time  end_time  \\\n",
       "37  enc_u_4598383170151924860  11-02-2020  14:50:00  16:25:00   \n",
       "83  enc_u_4596763700997702847  09-03-2020  18:30:00  20:30:00   \n",
       "62  enc_u_4597641730116574573  05-03-2020  10:00:00  12:00:00   \n",
       "\n",
       "                      location                   address  comuna n_members  \\\n",
       "37                        casa           villa magisteco   talca         5   \n",
       "83       barros luco y vecinos         barros luco #2247   arica         5   \n",
       "62  centro cultural  de freire  pedro canales numero 137  freire         5   \n",
       "\n",
       "                                        group_name  \n",
       "37  usuarios de oficina movil de bienes nacionales  \n",
       "83  usuarios de oficina movil de bienes nacionales  \n",
       "62  usuarios de oficina movil de bienes nacionales  "
      ]
     },
     "execution_count": 28,
     "metadata": {},
     "output_type": "execute_result"
    }
   ],
   "source": [
    "dialogues_table.sample(3)"
   ]
  },
  {
   "cell_type": "markdown",
   "metadata": {},
   "source": [
    "### Emotions\n",
    "\n",
    "<img src=\"diagrams/q1.png\" width=730 height=520 />"
   ]
  },
  {
   "cell_type": "code",
   "execution_count": 29,
   "metadata": {},
   "outputs": [
    {
     "name": "stdout",
     "output_type": "stream",
     "text": [
      "CPU times: user 994 ms, sys: 119 ms, total: 1.11 s\n",
      "Wall time: 1.12 s\n"
     ]
    }
   ],
   "source": [
    "%%time\n",
    "emotions_table = process_emotions(survey)"
   ]
  },
  {
   "cell_type": "code",
   "execution_count": 31,
   "metadata": {},
   "outputs": [
    {
     "data": {
      "text/html": [
       "<div>\n",
       "<style scoped>\n",
       "    .dataframe tbody tr th:only-of-type {\n",
       "        vertical-align: middle;\n",
       "    }\n",
       "\n",
       "    .dataframe tbody tr th {\n",
       "        vertical-align: top;\n",
       "    }\n",
       "\n",
       "    .dataframe thead th {\n",
       "        text-align: right;\n",
       "    }\n",
       "</style>\n",
       "<table border=\"1\" class=\"dataframe\">\n",
       "  <thead>\n",
       "    <tr style=\"text-align: right;\">\n",
       "      <th></th>\n",
       "      <th>file_ids</th>\n",
       "      <th>name</th>\n",
       "      <th>name_token</th>\n",
       "      <th>macro</th>\n",
       "      <th>text</th>\n",
       "      <th>text_tokens</th>\n",
       "    </tr>\n",
       "  </thead>\n",
       "  <tbody>\n",
       "    <tr>\n",
       "      <th>71</th>\n",
       "      <td>ENC_U_4597419179157584588</td>\n",
       "      <td>impotencia</td>\n",
       "      <td>[impotencia]</td>\n",
       "      <td>impotencia</td>\n",
       "      <td>de que la justicia no haga lo suyo.</td>\n",
       "      <td>[justicia, haga]</td>\n",
       "    </tr>\n",
       "    <tr>\n",
       "      <th>9</th>\n",
       "      <td>ENC_U_4602015808803327609</td>\n",
       "      <td>dolor</td>\n",
       "      <td>[dolor]</td>\n",
       "      <td>dolor</td>\n",
       "      <td>por sentirse abandonado</td>\n",
       "      <td>[sentirse, abandonado]</td>\n",
       "    </tr>\n",
       "  </tbody>\n",
       "</table>\n",
       "</div>"
      ],
      "text/plain": [
       "                     file_ids        name    name_token       macro  \\\n",
       "71  ENC_U_4597419179157584588  impotencia  [impotencia]  impotencia   \n",
       "9   ENC_U_4602015808803327609       dolor       [dolor]       dolor   \n",
       "\n",
       "                                   text             text_tokens  \n",
       "71  de que la justicia no haga lo suyo.        [justicia, haga]  \n",
       "9               por sentirse abandonado  [sentirse, abandonado]  "
      ]
     },
     "execution_count": 31,
     "metadata": {},
     "output_type": "execute_result"
    }
   ],
   "source": [
    "emotions_table.sample(2)"
   ]
  },
  {
   "cell_type": "markdown",
   "metadata": {},
   "source": [
    "### Individuals"
   ]
  },
  {
   "cell_type": "code",
   "execution_count": 275,
   "metadata": {},
   "outputs": [],
   "source": [
    "individuals_table = create_table_individuals(ind_online_survey, ind_survey)"
   ]
  },
  {
   "cell_type": "code",
   "execution_count": 287,
   "metadata": {},
   "outputs": [
    {
     "data": {
      "text/html": [
       "<div>\n",
       "<style scoped>\n",
       "    .dataframe tbody tr th:only-of-type {\n",
       "        vertical-align: middle;\n",
       "    }\n",
       "\n",
       "    .dataframe tbody tr th {\n",
       "        vertical-align: top;\n",
       "    }\n",
       "\n",
       "    .dataframe thead th {\n",
       "        text-align: right;\n",
       "    }\n",
       "</style>\n",
       "<table border=\"1\" class=\"dataframe\">\n",
       "  <thead>\n",
       "    <tr style=\"text-align: right;\">\n",
       "      <th></th>\n",
       "      <th>id</th>\n",
       "      <th>date</th>\n",
       "      <th>age</th>\n",
       "      <th>comuna</th>\n",
       "      <th>level</th>\n",
       "      <th>online</th>\n",
       "    </tr>\n",
       "  </thead>\n",
       "  <tbody>\n",
       "    <tr>\n",
       "      <th>784</th>\n",
       "      <td>2588</td>\n",
       "      <td>17-01-2020</td>\n",
       "      <td>37</td>\n",
       "      <td>10104</td>\n",
       "      <td>Media completa. Técnica incompleta</td>\n",
       "      <td>False</td>\n",
       "    </tr>\n",
       "    <tr>\n",
       "      <th>4345</th>\n",
       "      <td>6149</td>\n",
       "      <td>27-01-2020</td>\n",
       "      <td>65</td>\n",
       "      <td>5703</td>\n",
       "      <td>Media incompleta (incluyendo Media Técnica)</td>\n",
       "      <td>False</td>\n",
       "    </tr>\n",
       "  </tbody>\n",
       "</table>\n",
       "</div>"
      ],
      "text/plain": [
       "        id        date age  comuna  \\\n",
       "784   2588  17-01-2020  37   10104   \n",
       "4345  6149  27-01-2020  65    5703   \n",
       "\n",
       "                                            level  online  \n",
       "784            Media completa. Técnica incompleta   False  \n",
       "4345  Media incompleta (incluyendo Media Técnica)   False  "
      ]
     },
     "execution_count": 287,
     "metadata": {},
     "output_type": "execute_result"
    }
   ],
   "source": [
    "individuals_table.sample(2)"
   ]
  },
  {
   "cell_type": "markdown",
   "metadata": {},
   "source": [
    "### Country Needs"
   ]
  },
  {
   "cell_type": "code",
   "execution_count": 41,
   "metadata": {},
   "outputs": [
    {
     "name": "stdout",
     "output_type": "stream",
     "text": [
      "0                  salud\n",
      "1                  salud\n",
      "2     mejores pensiones.\n",
      "3       pensiones dignas\n",
      "4                  salud\n",
      "             ...        \n",
      "95                   afp\n",
      "96      mejorar la salud\n",
      "97        medio ambiente\n",
      "98                 salud\n",
      "99            educacion \n",
      "Name: P2_1_A, Length: 100, dtype: object\n"
     ]
    }
   ],
   "source": [
    "n = create_table_country_needs(survey)"
   ]
  },
  {
   "cell_type": "code",
   "execution_count": null,
   "metadata": {},
   "outputs": [],
   "source": []
  },
  {
   "cell_type": "code",
   "execution_count": null,
   "metadata": {},
   "outputs": [],
   "source": []
  },
  {
   "cell_type": "markdown",
   "metadata": {},
   "source": [
    "### Family Needs"
   ]
  },
  {
   "cell_type": "code",
   "execution_count": null,
   "metadata": {},
   "outputs": [],
   "source": []
  },
  {
   "cell_type": "code",
   "execution_count": null,
   "metadata": {},
   "outputs": [],
   "source": []
  },
  {
   "cell_type": "code",
   "execution_count": null,
   "metadata": {},
   "outputs": [],
   "source": []
  },
  {
   "cell_type": "markdown",
   "metadata": {},
   "source": [
    "### Contributions"
   ]
  },
  {
   "cell_type": "code",
   "execution_count": null,
   "metadata": {},
   "outputs": [],
   "source": []
  },
  {
   "cell_type": "code",
   "execution_count": null,
   "metadata": {},
   "outputs": [],
   "source": []
  },
  {
   "cell_type": "code",
   "execution_count": null,
   "metadata": {},
   "outputs": [],
   "source": []
  },
  {
   "cell_type": "code",
   "execution_count": null,
   "metadata": {},
   "outputs": [],
   "source": []
  }
 ],
 "metadata": {
  "kernelspec": {
   "display_name": "Python 3",
   "language": "python",
   "name": "python3"
  },
  "language_info": {
   "codemirror_mode": {
    "name": "ipython",
    "version": 3
   },
   "file_extension": ".py",
   "mimetype": "text/x-python",
   "name": "python",
   "nbconvert_exporter": "python",
   "pygments_lexer": "ipython3",
   "version": "3.7.6"
  }
 },
 "nbformat": 4,
 "nbformat_minor": 4
}
