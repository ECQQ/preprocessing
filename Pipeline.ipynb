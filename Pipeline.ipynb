{
 "cells": [
  {
   "cell_type": "markdown",
   "metadata": {},
   "source": [
    "# Data cleaning "
   ]
  },
  {
   "cell_type": "code",
   "execution_count": 548,
   "metadata": {},
   "outputs": [],
   "source": [
    "import pandas as pd"
   ]
  },
  {
   "cell_type": "code",
   "execution_count": 549,
   "metadata": {},
   "outputs": [
    {
     "name": "stdout",
     "output_type": "stream",
     "text": [
      "The autoreload extension is already loaded. To reload it, use:\n",
      "  %reload_ext autoreload\n"
     ]
    }
   ],
   "source": [
    "from use_cases.contributions import create_table_contributions\n",
    "\n",
    "from use_cases.emotions import create_table_emotions\n",
    "from use_cases.personal_needs import create_table_personal_needs\n",
    "from use_cases.dialogues import create_table_dialogues\n",
    "from use_cases.country_needs import create_table_country_needs\n",
    "from use_cases.persons import create_table_persons\n",
    "from use_cases.individuals import create_table_individuals\n",
    "\n",
    "\n",
    "pd.options.mode.chained_assignment = None \n",
    "\n",
    "%load_ext autoreload\n",
    "%autoreload 2"
   ]
  },
  {
   "cell_type": "markdown",
   "metadata": {},
   "source": [
    "## Loading Data Surveys"
   ]
  },
  {
   "cell_type": "code",
   "execution_count": 550,
   "metadata": {},
   "outputs": [],
   "source": [
    "chunksize   = 100 # Just for debugging\n",
    "survey_path = './data/BBDD_Dialogos_2021_01_27.csv' \n",
    "survey = pd.read_csv(survey_path, chunksize=chunksize, low_memory=False)\n",
    "for survey in survey: break\n",
    "    \n",
    "ind_online_survey_path = './data/Consulta_Individual_online_v2.xlsx'\n",
    "ind_online_survey = pd.read_excel(ind_online_survey_path, 'Sheet1')\n",
    "    \n",
    "ind_survey_path = './data/Base_final_digitación_Consultas.xlsx'\n",
    "ind_survey = pd.read_excel(ind_survey_path, 'CONSULTAS')"
   ]
  },
  {
   "cell_type": "code",
   "execution_count": 551,
   "metadata": {},
   "outputs": [
    {
     "data": {
      "text/html": [
       "<div>\n",
       "<style scoped>\n",
       "    .dataframe tbody tr th:only-of-type {\n",
       "        vertical-align: middle;\n",
       "    }\n",
       "\n",
       "    .dataframe tbody tr th {\n",
       "        vertical-align: top;\n",
       "    }\n",
       "\n",
       "    .dataframe thead th {\n",
       "        text-align: right;\n",
       "    }\n",
       "</style>\n",
       "<table border=\"1\" class=\"dataframe\">\n",
       "  <thead>\n",
       "    <tr style=\"text-align: right;\">\n",
       "      <th></th>\n",
       "      <th>Submission Date</th>\n",
       "      <th>RUN</th>\n",
       "      <th>Edad</th>\n",
       "      <th>Comuna</th>\n",
       "      <th>1. ¿Cuál es el nivel de educación alcanzado por Usted?</th>\n",
       "      <th>2. ¿Cuál es el nivel de educación que alcanzó el jefe de su hogar? (sólo si se trata de alguien distinto a Usted)</th>\n",
       "      <th>1 &gt;&gt; Emociones / Sentimientos / Sensaciones</th>\n",
       "      <th>1 &gt;&gt; Explique lo mencionado</th>\n",
       "      <th>2 &gt;&gt; Emociones / Sentimientos / Sensaciones</th>\n",
       "      <th>2 &gt;&gt; Explique lo mencionado</th>\n",
       "      <th>...</th>\n",
       "      <th>2 &gt;&gt; Rol del actor social (Describa)</th>\n",
       "      <th>3 &gt;&gt; Necesidades del país identificadas</th>\n",
       "      <th>3 &gt;&gt; Rol del Estado (Describa)</th>\n",
       "      <th>3 &gt;&gt; Actor social (empresa, organizaciones sociales, medios de comunicación, comunidad, etc)</th>\n",
       "      <th>3 &gt;&gt; Rol del actor social (Describa)</th>\n",
       "      <th>5. Pregunta: ¿Cuál es mi contribución personal para construir el Chile que queremos?</th>\n",
       "      <th>Comuna.1</th>\n",
       "      <th>Comentarios finales: Si tiene alguna observación o sugerencia, en este espacio puede indicarla.</th>\n",
       "      <th>Región</th>\n",
       "      <th>Región.1</th>\n",
       "    </tr>\n",
       "  </thead>\n",
       "  <tbody>\n",
       "    <tr>\n",
       "      <th>1584</th>\n",
       "      <td>2019/11/29 15:52:33</td>\n",
       "      <td>ebf80e0c64045cdcc8922626638e45af</td>\n",
       "      <td>44</td>\n",
       "      <td>La Serena</td>\n",
       "      <td>Universitaria completa.</td>\n",
       "      <td>Yo soy el jefe de hogar.</td>\n",
       "      <td>Miedo</td>\n",
       "      <td>Miedo del país que le dejare a mi hijo</td>\n",
       "      <td>Pena</td>\n",
       "      <td>Pena por las personas que han perdido sus fuen...</td>\n",
       "      <td>...</td>\n",
       "      <td>pago obligatorio de seguro de salud a los trab...</td>\n",
       "      <td>Mejorar sueldo minimo</td>\n",
       "      <td>Legislar para aumentarlo</td>\n",
       "      <td>empresa debe tener ética social y de justicia</td>\n",
       "      <td>El sueldo minimo solo debe ser referencial. En...</td>\n",
       "      <td>Estoy segura que el día que entendamos lo que ...</td>\n",
       "      <td>NaN</td>\n",
       "      <td>No participare en cabildos porque siento que e...</td>\n",
       "      <td>NaN</td>\n",
       "      <td>Coquimbo</td>\n",
       "    </tr>\n",
       "    <tr>\n",
       "      <th>470</th>\n",
       "      <td>2020/01/15 11:09:37</td>\n",
       "      <td>58b5eafe5e4edfd031b4a476cee99ce0</td>\n",
       "      <td>47</td>\n",
       "      <td>NaN</td>\n",
       "      <td>Post Grado (Master, Doctor o equivalente)</td>\n",
       "      <td>Yo soy el jefe de hogar.</td>\n",
       "      <td>desesperanzado</td>\n",
       "      <td>Al ver tanta violencia y division entre los ch...</td>\n",
       "      <td>triste</td>\n",
       "      <td>al ver tanta ignarancia y falta de educacion, ...</td>\n",
       "      <td>...</td>\n",
       "      <td>NaN</td>\n",
       "      <td>NaN</td>\n",
       "      <td>NaN</td>\n",
       "      <td>NaN</td>\n",
       "      <td>NaN</td>\n",
       "      <td>Estoy consciente de mis deberes y trato de cum...</td>\n",
       "      <td>Concepción</td>\n",
       "      <td>NaN</td>\n",
       "      <td>Región del Biobío</td>\n",
       "      <td>NaN</td>\n",
       "    </tr>\n",
       "  </tbody>\n",
       "</table>\n",
       "<p>2 rows × 44 columns</p>\n",
       "</div>"
      ],
      "text/plain": [
       "          Submission Date                               RUN Edad     Comuna  \\\n",
       "1584  2019/11/29 15:52:33  ebf80e0c64045cdcc8922626638e45af   44  La Serena   \n",
       "470   2020/01/15 11:09:37  58b5eafe5e4edfd031b4a476cee99ce0   47        NaN   \n",
       "\n",
       "     1. ¿Cuál es el nivel de educación alcanzado por Usted?  \\\n",
       "1584                            Universitaria completa.       \n",
       "470           Post Grado (Master, Doctor o equivalente)       \n",
       "\n",
       "     2. ¿Cuál es el nivel de educación que alcanzó el jefe de su hogar? (sólo si se trata de alguien distinto a Usted)  \\\n",
       "1584                           Yo soy el jefe de hogar.                                                                  \n",
       "470                            Yo soy el jefe de hogar.                                                                  \n",
       "\n",
       "     1 >> Emociones / Sentimientos / Sensaciones  \\\n",
       "1584                                       Miedo   \n",
       "470                               desesperanzado   \n",
       "\n",
       "                            1 >> Explique lo mencionado  \\\n",
       "1584             Miedo del país que le dejare a mi hijo   \n",
       "470   Al ver tanta violencia y division entre los ch...   \n",
       "\n",
       "     2 >> Emociones / Sentimientos / Sensaciones  \\\n",
       "1584                                        Pena   \n",
       "470                                       triste   \n",
       "\n",
       "                            2 >> Explique lo mencionado  ...  \\\n",
       "1584  Pena por las personas que han perdido sus fuen...  ...   \n",
       "470   al ver tanta ignarancia y falta de educacion, ...  ...   \n",
       "\n",
       "                   2 >> Rol del actor social (Describa)  \\\n",
       "1584  pago obligatorio de seguro de salud a los trab...   \n",
       "470                                                 NaN   \n",
       "\n",
       "     3 >> Necesidades del país identificadas 3 >> Rol del Estado (Describa)  \\\n",
       "1584                   Mejorar sueldo minimo       Legislar para aumentarlo   \n",
       "470                                      NaN                            NaN   \n",
       "\n",
       "     3 >> Actor social (empresa, organizaciones sociales, medios de comunicación, comunidad, etc)  \\\n",
       "1584      empresa debe tener ética social y de justicia                                             \n",
       "470                                                 NaN                                             \n",
       "\n",
       "                   3 >> Rol del actor social (Describa)  \\\n",
       "1584  El sueldo minimo solo debe ser referencial. En...   \n",
       "470                                                 NaN   \n",
       "\n",
       "     5. Pregunta: ¿Cuál es mi contribución personal para construir el Chile que queremos?  \\\n",
       "1584  Estoy segura que el día que entendamos lo que ...                                       \n",
       "470   Estoy consciente de mis deberes y trato de cum...                                       \n",
       "\n",
       "        Comuna.1  \\\n",
       "1584         NaN   \n",
       "470   Concepción   \n",
       "\n",
       "     Comentarios finales: Si tiene alguna observación o sugerencia, en este espacio puede indicarla.  \\\n",
       "1584  No participare en cabildos porque siento que e...                                                 \n",
       "470                                                 NaN                                                 \n",
       "\n",
       "                 Región  Región.1  \n",
       "1584                NaN  Coquimbo  \n",
       "470   Región del Biobío       NaN  \n",
       "\n",
       "[2 rows x 44 columns]"
      ]
     },
     "execution_count": 551,
     "metadata": {},
     "output_type": "execute_result"
    }
   ],
   "source": [
    "survey.sample(2)\n",
    "ind_online_survey.sample(2)"
   ]
  },
  {
   "cell_type": "markdown",
   "metadata": {},
   "source": [
    "## Processing Uses Cases\n",
    "1. Emotions \n",
    "2. Contributions\n",
    "3. Country needs \n",
    "4. Personal/familiar needs"
   ]
  },
  {
   "cell_type": "markdown",
   "metadata": {},
   "source": [
    "### Persons Table (Dialogue)"
   ]
  },
  {
   "cell_type": "code",
   "execution_count": 552,
   "metadata": {},
   "outputs": [],
   "source": [
    "persons_table = create_table_persons(survey)"
   ]
  },
  {
   "cell_type": "code",
   "execution_count": 553,
   "metadata": {},
   "outputs": [
    {
     "data": {
      "text/html": [
       "<div>\n",
       "<style scoped>\n",
       "    .dataframe tbody tr th:only-of-type {\n",
       "        vertical-align: middle;\n",
       "    }\n",
       "\n",
       "    .dataframe tbody tr th {\n",
       "        vertical-align: top;\n",
       "    }\n",
       "\n",
       "    .dataframe thead th {\n",
       "        text-align: right;\n",
       "    }\n",
       "</style>\n",
       "<table border=\"1\" class=\"dataframe\">\n",
       "  <thead>\n",
       "    <tr style=\"text-align: right;\">\n",
       "      <th></th>\n",
       "      <th>id</th>\n",
       "      <th>diag_id</th>\n",
       "      <th>age</th>\n",
       "      <th>sex</th>\n",
       "      <th>level</th>\n",
       "      <th>comuna_id</th>\n",
       "      <th>age_range</th>\n",
       "    </tr>\n",
       "  </thead>\n",
       "  <tbody>\n",
       "    <tr>\n",
       "      <th>99</th>\n",
       "      <td>299</td>\n",
       "      <td>enc_u_4595903120153792064</td>\n",
       "      <td>38</td>\n",
       "      <td>f</td>\n",
       "      <td>universitaria_completa</td>\n",
       "      <td>7101</td>\n",
       "      <td>30-45</td>\n",
       "    </tr>\n",
       "    <tr>\n",
       "      <th>82</th>\n",
       "      <td>481</td>\n",
       "      <td>enc_u_4596766050112223446</td>\n",
       "      <td>33</td>\n",
       "      <td>h</td>\n",
       "      <td>media_completa</td>\n",
       "      <td>1</td>\n",
       "      <td>30-45</td>\n",
       "    </tr>\n",
       "    <tr>\n",
       "      <th>37</th>\n",
       "      <td>436</td>\n",
       "      <td>enc_u_4598383170151924860</td>\n",
       "      <td>77</td>\n",
       "      <td>f</td>\n",
       "      <td>basica_incompleta</td>\n",
       "      <td>7101</td>\n",
       "      <td>&gt;=60</td>\n",
       "    </tr>\n",
       "  </tbody>\n",
       "</table>\n",
       "</div>"
      ],
      "text/plain": [
       "     id                    diag_id age sex                   level  comuna_id  \\\n",
       "99  299  enc_u_4595903120153792064  38   f  universitaria_completa       7101   \n",
       "82  481  enc_u_4596766050112223446  33   h          media_completa          1   \n",
       "37  436  enc_u_4598383170151924860  77   f       basica_incompleta       7101   \n",
       "\n",
       "   age_range  \n",
       "99     30-45  \n",
       "82     30-45  \n",
       "37      >=60  "
      ]
     },
     "execution_count": 553,
     "metadata": {},
     "output_type": "execute_result"
    }
   ],
   "source": [
    "persons_table.sample(3)"
   ]
  },
  {
   "cell_type": "markdown",
   "metadata": {},
   "source": [
    "### Dialogues"
   ]
  },
  {
   "cell_type": "code",
   "execution_count": 554,
   "metadata": {},
   "outputs": [],
   "source": [
    "dialogues_table = create_table_dialogues(survey)"
   ]
  },
  {
   "cell_type": "code",
   "execution_count": 555,
   "metadata": {},
   "outputs": [
    {
     "data": {
      "text/html": [
       "<div>\n",
       "<style scoped>\n",
       "    .dataframe tbody tr th:only-of-type {\n",
       "        vertical-align: middle;\n",
       "    }\n",
       "\n",
       "    .dataframe tbody tr th {\n",
       "        vertical-align: top;\n",
       "    }\n",
       "\n",
       "    .dataframe thead th {\n",
       "        text-align: right;\n",
       "    }\n",
       "</style>\n",
       "<table border=\"1\" class=\"dataframe\">\n",
       "  <thead>\n",
       "    <tr style=\"text-align: right;\">\n",
       "      <th></th>\n",
       "      <th>id</th>\n",
       "      <th>date</th>\n",
       "      <th>init_time</th>\n",
       "      <th>end_time</th>\n",
       "      <th>location</th>\n",
       "      <th>address</th>\n",
       "      <th>comuna_id</th>\n",
       "      <th>n_members</th>\n",
       "      <th>group_name</th>\n",
       "    </tr>\n",
       "  </thead>\n",
       "  <tbody>\n",
       "    <tr>\n",
       "      <th>85</th>\n",
       "      <td>enc_u_4596619275164164128</td>\n",
       "      <td>03-02-2020</td>\n",
       "      <td>15:00:00</td>\n",
       "      <td>17:00:00</td>\n",
       "      <td>consultorio cajual la serena</td>\n",
       "      <td>colon 225</td>\n",
       "      <td>4101</td>\n",
       "      <td>9</td>\n",
       "      <td>usuarios de oficina movil de bienes nacionales</td>\n",
       "    </tr>\n",
       "    <tr>\n",
       "      <th>2</th>\n",
       "      <td>enc_u_4602777200118509403</td>\n",
       "      <td>14-02-2020</td>\n",
       "      <td>10:20:00</td>\n",
       "      <td>12:20:00</td>\n",
       "      <td>municipalidad de cunco</td>\n",
       "      <td>pedro aguirre cerda 600</td>\n",
       "      <td>9103</td>\n",
       "      <td>5</td>\n",
       "      <td>usuarios de oficina movil de bienes nacionales</td>\n",
       "    </tr>\n",
       "    <tr>\n",
       "      <th>83</th>\n",
       "      <td>enc_u_4596763700997702847</td>\n",
       "      <td>09-03-2020</td>\n",
       "      <td>18:30:00</td>\n",
       "      <td>20:30:00</td>\n",
       "      <td>barros luco y vecinos</td>\n",
       "      <td>barros luco #2247</td>\n",
       "      <td>15101</td>\n",
       "      <td>5</td>\n",
       "      <td>usuarios de oficina movil de bienes nacionales</td>\n",
       "    </tr>\n",
       "  </tbody>\n",
       "</table>\n",
       "</div>"
      ],
      "text/plain": [
       "                           id        date init_time  end_time  \\\n",
       "85  enc_u_4596619275164164128  03-02-2020  15:00:00  17:00:00   \n",
       "2   enc_u_4602777200118509403  14-02-2020  10:20:00  12:20:00   \n",
       "83  enc_u_4596763700997702847  09-03-2020  18:30:00  20:30:00   \n",
       "\n",
       "                        location                  address  comuna_id  \\\n",
       "85  consultorio cajual la serena                colon 225       4101   \n",
       "2         municipalidad de cunco  pedro aguirre cerda 600       9103   \n",
       "83         barros luco y vecinos        barros luco #2247      15101   \n",
       "\n",
       "   n_members                                      group_name  \n",
       "85         9  usuarios de oficina movil de bienes nacionales  \n",
       "2          5  usuarios de oficina movil de bienes nacionales  \n",
       "83         5  usuarios de oficina movil de bienes nacionales  "
      ]
     },
     "execution_count": 555,
     "metadata": {},
     "output_type": "execute_result"
    }
   ],
   "source": [
    "dialogues_table.sample(3)"
   ]
  },
  {
   "cell_type": "markdown",
   "metadata": {},
   "source": [
    "### Individuals"
   ]
  },
  {
   "cell_type": "code",
   "execution_count": 11,
   "metadata": {
    "scrolled": true
   },
   "outputs": [
    {
     "name": "stdout",
     "output_type": "stream",
     "text": [
      "CPU times: user 7.37 s, sys: 28.8 ms, total: 7.4 s\n",
      "Wall time: 7.35 s\n"
     ]
    }
   ],
   "source": [
    "%%time\n",
    "individuals_table = create_table_individuals(ind_online_survey, ind_survey)"
   ]
  },
  {
   "cell_type": "code",
   "execution_count": 12,
   "metadata": {},
   "outputs": [
    {
     "data": {
      "text/html": [
       "<div>\n",
       "<style scoped>\n",
       "    .dataframe tbody tr th:only-of-type {\n",
       "        vertical-align: middle;\n",
       "    }\n",
       "\n",
       "    .dataframe tbody tr th {\n",
       "        vertical-align: top;\n",
       "    }\n",
       "\n",
       "    .dataframe thead th {\n",
       "        text-align: right;\n",
       "    }\n",
       "</style>\n",
       "<table border=\"1\" class=\"dataframe\">\n",
       "  <thead>\n",
       "    <tr style=\"text-align: right;\">\n",
       "      <th></th>\n",
       "      <th>id</th>\n",
       "      <th>date</th>\n",
       "      <th>age</th>\n",
       "      <th>comuna_id</th>\n",
       "      <th>level</th>\n",
       "      <th>online</th>\n",
       "      <th>age_range</th>\n",
       "    </tr>\n",
       "  </thead>\n",
       "  <tbody>\n",
       "    <tr>\n",
       "      <th>2059</th>\n",
       "      <td>3094162</td>\n",
       "      <td>15-01-2020</td>\n",
       "      <td>65</td>\n",
       "      <td>4301</td>\n",
       "      <td>Educación básica incompleta o inferior</td>\n",
       "      <td></td>\n",
       "      <td>&gt;=60</td>\n",
       "    </tr>\n",
       "    <tr>\n",
       "      <th>6777</th>\n",
       "      <td>3449396</td>\n",
       "      <td>27-01-2020</td>\n",
       "      <td>59</td>\n",
       "      <td>6301</td>\n",
       "      <td>Media incompleta (incluyendo Media Técnica)</td>\n",
       "      <td></td>\n",
       "      <td>45-60</td>\n",
       "    </tr>\n",
       "  </tbody>\n",
       "</table>\n",
       "</div>"
      ],
      "text/plain": [
       "           id        date age  comuna_id  \\\n",
       "2059  3094162  15-01-2020  65       4301   \n",
       "6777  3449396  27-01-2020  59       6301   \n",
       "\n",
       "                                            level online age_range  \n",
       "2059       Educación básica incompleta o inferior             >=60  \n",
       "6777  Media incompleta (incluyendo Media Técnica)            45-60  "
      ]
     },
     "execution_count": 12,
     "metadata": {},
     "output_type": "execute_result"
    }
   ],
   "source": [
    "individuals_table.sample(2)"
   ]
  },
  {
   "cell_type": "markdown",
   "metadata": {},
   "source": [
    "### Emotions\n",
    "\n",
    "<img src=\"diagrams/q1.png\" width=730 height=520 />"
   ]
  },
  {
   "cell_type": "code",
   "execution_count": 560,
   "metadata": {},
   "outputs": [
    {
     "name": "stdout",
     "output_type": "stream",
     "text": [
      "CPU times: user 39.4 s, sys: 2.29 s, total: 41.7 s\n",
      "Wall time: 41.7 s\n"
     ]
    }
   ],
   "source": [
    "%%time\n",
    "emotions_table = create_table_emotions(survey,ind_survey_path, ind_online_survey)"
   ]
  },
  {
   "cell_type": "code",
   "execution_count": 562,
   "metadata": {},
   "outputs": [
    {
     "data": {
      "text/html": [
       "<div>\n",
       "<style scoped>\n",
       "    .dataframe tbody tr th:only-of-type {\n",
       "        vertical-align: middle;\n",
       "    }\n",
       "\n",
       "    .dataframe tbody tr th {\n",
       "        vertical-align: top;\n",
       "    }\n",
       "\n",
       "    .dataframe thead th {\n",
       "        text-align: right;\n",
       "    }\n",
       "</style>\n",
       "<table border=\"1\" class=\"dataframe\">\n",
       "  <thead>\n",
       "    <tr style=\"text-align: right;\">\n",
       "      <th></th>\n",
       "      <th>id</th>\n",
       "      <th>diag_id</th>\n",
       "      <th>ind_id</th>\n",
       "      <th>name</th>\n",
       "      <th>name_tokens</th>\n",
       "      <th>macro</th>\n",
       "      <th>exp</th>\n",
       "      <th>exp_tokens</th>\n",
       "      <th>is_online</th>\n",
       "      <th>source_id</th>\n",
       "    </tr>\n",
       "  </thead>\n",
       "  <tbody>\n",
       "    <tr>\n",
       "      <th>3724</th>\n",
       "      <td>3849</td>\n",
       "      <td></td>\n",
       "      <td></td>\n",
       "      <td>regular</td>\n",
       "      <td>[regular]</td>\n",
       "      <td></td>\n",
       "      <td>altos y bajos economia del pais</td>\n",
       "      <td>[altos, bajos, economia, pais]</td>\n",
       "      <td>0</td>\n",
       "      <td>3172624</td>\n",
       "    </tr>\n",
       "    <tr>\n",
       "      <th>24</th>\n",
       "      <td>24</td>\n",
       "      <td>ENC_U_4599526090195321552</td>\n",
       "      <td></td>\n",
       "      <td>temor</td>\n",
       "      <td>[temor]</td>\n",
       "      <td>temor</td>\n",
       "      <td>a la situacion que podria continuar o terminar...</td>\n",
       "      <td>[situacion, podria, continuar, terminar, peor]</td>\n",
       "      <td>0</td>\n",
       "      <td></td>\n",
       "    </tr>\n",
       "  </tbody>\n",
       "</table>\n",
       "</div>"
      ],
      "text/plain": [
       "        id                    diag_id ind_id     name name_tokens  macro  \\\n",
       "3724  3849                                    regular   [regular]          \n",
       "24      24  ENC_U_4599526090195321552           temor     [temor]  temor   \n",
       "\n",
       "                                                    exp  \\\n",
       "3724                    altos y bajos economia del pais   \n",
       "24    a la situacion que podria continuar o terminar...   \n",
       "\n",
       "                                          exp_tokens  is_online source_id  \n",
       "3724                  [altos, bajos, economia, pais]          0   3172624  \n",
       "24    [situacion, podria, continuar, terminar, peor]          0            "
      ]
     },
     "execution_count": 562,
     "metadata": {},
     "output_type": "execute_result"
    }
   ],
   "source": [
    "emotions_table.sample(2)"
   ]
  },
  {
   "cell_type": "markdown",
   "metadata": {},
   "source": [
    "### Country Needs"
   ]
  },
  {
   "cell_type": "code",
   "execution_count": 565,
   "metadata": {},
   "outputs": [
    {
     "name": "stdout",
     "output_type": "stream",
     "text": [
      "CPU times: user 1min 13s, sys: 3.03 s, total: 1min 16s\n",
      "Wall time: 1min 16s\n"
     ]
    }
   ],
   "source": [
    "%%time\n",
    "country_needs = create_table_country_needs(survey, ind_survey, ind_survey_path, ind_online_survey_path)"
   ]
  },
  {
   "cell_type": "code",
   "execution_count": 572,
   "metadata": {
    "scrolled": false
   },
   "outputs": [
    {
     "data": {
      "text/html": [
       "<div>\n",
       "<style scoped>\n",
       "    .dataframe tbody tr th:only-of-type {\n",
       "        vertical-align: middle;\n",
       "    }\n",
       "\n",
       "    .dataframe tbody tr th {\n",
       "        vertical-align: top;\n",
       "    }\n",
       "\n",
       "    .dataframe thead th {\n",
       "        text-align: right;\n",
       "    }\n",
       "</style>\n",
       "<table border=\"1\" class=\"dataframe\">\n",
       "  <thead>\n",
       "    <tr style=\"text-align: right;\">\n",
       "      <th></th>\n",
       "      <th>id</th>\n",
       "      <th>diag_id</th>\n",
       "      <th>ind_id</th>\n",
       "      <th>name</th>\n",
       "      <th>name_tokens</th>\n",
       "      <th>macro</th>\n",
       "      <th>exp</th>\n",
       "      <th>exp_tokens</th>\n",
       "      <th>role</th>\n",
       "      <th>role_tokens</th>\n",
       "      <th>actor</th>\n",
       "      <th>priority</th>\n",
       "      <th>is_online</th>\n",
       "    </tr>\n",
       "  </thead>\n",
       "  <tbody>\n",
       "    <tr>\n",
       "      <th>2595</th>\n",
       "      <td>3297</td>\n",
       "      <td></td>\n",
       "      <td>3395725</td>\n",
       "      <td>dialogo</td>\n",
       "      <td>[dialogo]</td>\n",
       "      <td></td>\n",
       "      <td></td>\n",
       "      <td></td>\n",
       "      <td>capacidad de escucha de todos los sectores, ac...</td>\n",
       "      <td>[capacidad, escucha, sectores, aceptacion, dif...</td>\n",
       "      <td>estado</td>\n",
       "      <td></td>\n",
       "      <td>0</td>\n",
       "    </tr>\n",
       "    <tr>\n",
       "      <th>14086</th>\n",
       "      <td>30662</td>\n",
       "      <td></td>\n",
       "      <td>4280222</td>\n",
       "      <td>salud</td>\n",
       "      <td>[salud]</td>\n",
       "      <td></td>\n",
       "      <td></td>\n",
       "      <td></td>\n",
       "      <td></td>\n",
       "      <td></td>\n",
       "      <td></td>\n",
       "      <td>3</td>\n",
       "      <td>0</td>\n",
       "    </tr>\n",
       "    <tr>\n",
       "      <th>11861</th>\n",
       "      <td>41683</td>\n",
       "      <td></td>\n",
       "      <td>3631392</td>\n",
       "      <td>pension digna</td>\n",
       "      <td>[pension, digna]</td>\n",
       "      <td></td>\n",
       "      <td></td>\n",
       "      <td></td>\n",
       "      <td></td>\n",
       "      <td></td>\n",
       "      <td></td>\n",
       "      <td></td>\n",
       "      <td>0</td>\n",
       "    </tr>\n",
       "  </tbody>\n",
       "</table>\n",
       "</div>"
      ],
      "text/plain": [
       "          id diag_id   ind_id           name       name_tokens macro exp  \\\n",
       "2595    3297          3395725        dialogo         [dialogo]             \n",
       "14086  30662          4280222          salud           [salud]             \n",
       "11861  41683          3631392  pension digna  [pension, digna]             \n",
       "\n",
       "      exp_tokens                                               role  \\\n",
       "2595              capacidad de escucha de todos los sectores, ac...   \n",
       "14086                                                                 \n",
       "11861                                                                 \n",
       "\n",
       "                                             role_tokens   actor priority  \\\n",
       "2595   [capacidad, escucha, sectores, aceptacion, dif...  estado            \n",
       "14086                                                                   3   \n",
       "11861                                                                       \n",
       "\n",
       "       is_online  \n",
       "2595           0  \n",
       "14086          0  \n",
       "11861          0  "
      ]
     },
     "execution_count": 572,
     "metadata": {},
     "output_type": "execute_result"
    }
   ],
   "source": [
    "country_needs.sample(3)"
   ]
  },
  {
   "cell_type": "code",
   "execution_count": null,
   "metadata": {},
   "outputs": [],
   "source": []
  },
  {
   "cell_type": "markdown",
   "metadata": {},
   "source": [
    "### Family/PersonalNeeds"
   ]
  },
  {
   "cell_type": "code",
   "execution_count": 575,
   "metadata": {},
   "outputs": [
    {
     "name": "stdout",
     "output_type": "stream",
     "text": [
      "CPU times: user 58.9 s, sys: 4 s, total: 1min 2s\n",
      "Wall time: 1min 2s\n"
     ]
    }
   ],
   "source": [
    "%%time\n",
    "personal_needs = create_table_personal_needs(survey, ind_survey, ind_online_survey)"
   ]
  },
  {
   "cell_type": "code",
   "execution_count": 576,
   "metadata": {},
   "outputs": [
    {
     "data": {
      "text/html": [
       "<div>\n",
       "<style scoped>\n",
       "    .dataframe tbody tr th:only-of-type {\n",
       "        vertical-align: middle;\n",
       "    }\n",
       "\n",
       "    .dataframe tbody tr th {\n",
       "        vertical-align: top;\n",
       "    }\n",
       "\n",
       "    .dataframe thead th {\n",
       "        text-align: right;\n",
       "    }\n",
       "</style>\n",
       "<table border=\"1\" class=\"dataframe\">\n",
       "  <thead>\n",
       "    <tr style=\"text-align: right;\">\n",
       "      <th></th>\n",
       "      <th>id</th>\n",
       "      <th>diag_id</th>\n",
       "      <th>ind_id</th>\n",
       "      <th>name</th>\n",
       "      <th>name_tokens</th>\n",
       "      <th>exp</th>\n",
       "      <th>exp_tokens</th>\n",
       "      <th>macro</th>\n",
       "      <th>priority</th>\n",
       "      <th>is_online</th>\n",
       "    </tr>\n",
       "  </thead>\n",
       "  <tbody>\n",
       "    <tr>\n",
       "      <th>10954</th>\n",
       "      <td>22934</td>\n",
       "      <td></td>\n",
       "      <td>5336323</td>\n",
       "      <td>sueldos bajos</td>\n",
       "      <td>[sueldos, bajos]</td>\n",
       "      <td>no cubre las necesidades de las familias y un ...</td>\n",
       "      <td>[cubre, necesidades, familias, standar, calida...</td>\n",
       "      <td>sueldos bajos</td>\n",
       "      <td>2.0</td>\n",
       "      <td>0</td>\n",
       "    </tr>\n",
       "    <tr>\n",
       "      <th>1365</th>\n",
       "      <td>26198</td>\n",
       "      <td></td>\n",
       "      <td>62117f5b2140e724c9728345caf6feb1</td>\n",
       "      <td>costos de salud por enfermedades</td>\n",
       "      <td>[costos, salud, enfermedades]</td>\n",
       "      <td>en seis meses mas, si quiero mantener mi plan ...</td>\n",
       "      <td>[seis, meses, mas, si, quiero, mantener, plan,...</td>\n",
       "      <td>costos de salud por enfermedades</td>\n",
       "      <td>2.0</td>\n",
       "      <td>1</td>\n",
       "    </tr>\n",
       "    <tr>\n",
       "      <th>710</th>\n",
       "      <td>25544</td>\n",
       "      <td></td>\n",
       "      <td>f62d0382b6ce69991a27c1a40b523f20</td>\n",
       "      <td>pensiones bajas.</td>\n",
       "      <td>[pensiones, bajas]</td>\n",
       "      <td>mi padre trabajo como profesional toda su vida...</td>\n",
       "      <td>[padre, trabajo, profesional, toda, vida, sect...</td>\n",
       "      <td>pensiones bajas.</td>\n",
       "      <td>2.0</td>\n",
       "      <td>1</td>\n",
       "    </tr>\n",
       "  </tbody>\n",
       "</table>\n",
       "</div>"
      ],
      "text/plain": [
       "          id diag_id                            ind_id  \\\n",
       "10954  22934                                   5336323   \n",
       "1365   26198          62117f5b2140e724c9728345caf6feb1   \n",
       "710    25544          f62d0382b6ce69991a27c1a40b523f20   \n",
       "\n",
       "                                   name                    name_tokens  \\\n",
       "10954                     sueldos bajos               [sueldos, bajos]   \n",
       "1365   costos de salud por enfermedades  [costos, salud, enfermedades]   \n",
       "710                    pensiones bajas.             [pensiones, bajas]   \n",
       "\n",
       "                                                     exp  \\\n",
       "10954  no cubre las necesidades de las familias y un ...   \n",
       "1365   en seis meses mas, si quiero mantener mi plan ...   \n",
       "710    mi padre trabajo como profesional toda su vida...   \n",
       "\n",
       "                                              exp_tokens  \\\n",
       "10954  [cubre, necesidades, familias, standar, calida...   \n",
       "1365   [seis, meses, mas, si, quiero, mantener, plan,...   \n",
       "710    [padre, trabajo, profesional, toda, vida, sect...   \n",
       "\n",
       "                                  macro  priority  is_online  \n",
       "10954                     sueldos bajos       2.0          0  \n",
       "1365   costos de salud por enfermedades       2.0          1  \n",
       "710                    pensiones bajas.       2.0          1  "
      ]
     },
     "execution_count": 576,
     "metadata": {},
     "output_type": "execute_result"
    }
   ],
   "source": [
    "personal_needs.sample(3)"
   ]
  },
  {
   "cell_type": "code",
   "execution_count": null,
   "metadata": {},
   "outputs": [],
   "source": []
  },
  {
   "cell_type": "markdown",
   "metadata": {},
   "source": [
    "### Contributions"
   ]
  },
  {
   "cell_type": "code",
   "execution_count": 577,
   "metadata": {},
   "outputs": [],
   "source": [
    "contributions = create_table_contributions(survey, ind_survey, ind_online_survey)"
   ]
  },
  {
   "cell_type": "code",
   "execution_count": 578,
   "metadata": {},
   "outputs": [
    {
     "data": {
      "text/html": [
       "<div>\n",
       "<style scoped>\n",
       "    .dataframe tbody tr th:only-of-type {\n",
       "        vertical-align: middle;\n",
       "    }\n",
       "\n",
       "    .dataframe tbody tr th {\n",
       "        vertical-align: top;\n",
       "    }\n",
       "\n",
       "    .dataframe thead th {\n",
       "        text-align: right;\n",
       "    }\n",
       "</style>\n",
       "<table border=\"1\" class=\"dataframe\">\n",
       "  <thead>\n",
       "    <tr style=\"text-align: right;\">\n",
       "      <th></th>\n",
       "      <th>id</th>\n",
       "      <th>diag_id</th>\n",
       "      <th>ind_id</th>\n",
       "      <th>text</th>\n",
       "      <th>tokens</th>\n",
       "      <th>macro</th>\n",
       "      <th>is_online</th>\n",
       "    </tr>\n",
       "  </thead>\n",
       "  <tbody>\n",
       "    <tr>\n",
       "      <th>5377</th>\n",
       "      <td>5877</td>\n",
       "      <td></td>\n",
       "      <td>3226252</td>\n",
       "      <td>colaborar y unir a las personas para que todos...</td>\n",
       "      <td>[colaborar, unir, personas, aportemos, granito...</td>\n",
       "      <td>colaborar y unir a las personas para que todos...</td>\n",
       "      <td>0</td>\n",
       "    </tr>\n",
       "    <tr>\n",
       "      <th>6999</th>\n",
       "      <td>7499</td>\n",
       "      <td></td>\n",
       "      <td>3398834</td>\n",
       "      <td>trabajo como voluntario en la asociacion de sc...</td>\n",
       "      <td>[trabajo, voluntario, asociacion, scout, chile]</td>\n",
       "      <td>trabajo como voluntario en la asociacion de sc...</td>\n",
       "      <td>0</td>\n",
       "    </tr>\n",
       "    <tr>\n",
       "      <th>10979</th>\n",
       "      <td>11479</td>\n",
       "      <td></td>\n",
       "      <td>5337903</td>\n",
       "      <td>esperar las soluciones</td>\n",
       "      <td>[esperar, soluciones]</td>\n",
       "      <td>esperar las soluciones</td>\n",
       "      <td>0</td>\n",
       "    </tr>\n",
       "  </tbody>\n",
       "</table>\n",
       "</div>"
      ],
      "text/plain": [
       "          id diag_id   ind_id  \\\n",
       "5377    5877          3226252   \n",
       "6999    7499          3398834   \n",
       "10979  11479          5337903   \n",
       "\n",
       "                                                    text  \\\n",
       "5377   colaborar y unir a las personas para que todos...   \n",
       "6999   trabajo como voluntario en la asociacion de sc...   \n",
       "10979                             esperar las soluciones   \n",
       "\n",
       "                                                  tokens  \\\n",
       "5377   [colaborar, unir, personas, aportemos, granito...   \n",
       "6999     [trabajo, voluntario, asociacion, scout, chile]   \n",
       "10979                              [esperar, soluciones]   \n",
       "\n",
       "                                                   macro  is_online  \n",
       "5377   colaborar y unir a las personas para que todos...          0  \n",
       "6999   trabajo como voluntario en la asociacion de sc...          0  \n",
       "10979                             esperar las soluciones          0  "
      ]
     },
     "execution_count": 578,
     "metadata": {},
     "output_type": "execute_result"
    }
   ],
   "source": [
    "contributions.sample(3)"
   ]
  },
  {
   "cell_type": "code",
   "execution_count": null,
   "metadata": {},
   "outputs": [],
   "source": []
  },
  {
   "cell_type": "code",
   "execution_count": null,
   "metadata": {},
   "outputs": [],
   "source": []
  }
 ],
 "metadata": {
  "kernelspec": {
   "display_name": "Python 3",
   "language": "python",
   "name": "python3"
  },
  "language_info": {
   "codemirror_mode": {
    "name": "ipython",
    "version": 3
   },
   "file_extension": ".py",
   "mimetype": "text/x-python",
   "name": "python",
   "nbconvert_exporter": "python",
   "pygments_lexer": "ipython3",
   "version": "3.7.6"
  }
 },
 "nbformat": 4,
 "nbformat_minor": 4
}
