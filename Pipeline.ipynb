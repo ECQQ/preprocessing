{
 "cells": [
  {
   "cell_type": "markdown",
   "metadata": {},
   "source": [
    "# Data cleaning "
   ]
  },
  {
   "cell_type": "code",
   "execution_count": 27,
   "metadata": {},
   "outputs": [],
   "source": [
    "import pandas as pd\n",
    "import os"
   ]
  },
  {
   "cell_type": "code",
   "execution_count": 2,
   "metadata": {},
   "outputs": [
    {
     "name": "stderr",
     "output_type": "stream",
     "text": [
      "[nltk_data] Downloading package stopwords to /home/jovyan/nltk_data...\n",
      "[nltk_data]   Package stopwords is already up-to-date!\n"
     ]
    }
   ],
   "source": [
    "from use_cases.contributions import create_table_contributions\n",
    "\n",
    "from use_cases.emotions import create_table_emotions\n",
    "from use_cases.personal_needs import create_table_personal_needs\n",
    "from use_cases.dialogues import create_table_dialogues\n",
    "from use_cases.country_needs import create_table_country_needs\n",
    "from use_cases.persons import create_table_persons\n",
    "from use_cases.individuals import create_table_individuals\n",
    "from use_cases.pairs import create_pair_token\n",
    "\n",
    "\n",
    "pd.options.mode.chained_assignment = None \n",
    "\n",
    "%load_ext autoreload\n",
    "%autoreload 2"
   ]
  },
  {
   "cell_type": "markdown",
   "metadata": {},
   "source": [
    "## Loading Data Surveys"
   ]
  },
  {
   "cell_type": "code",
   "execution_count": 3,
   "metadata": {},
   "outputs": [],
   "source": [
    "chunksize   = 100 # Just for debugging\n",
    "survey_path = './data/BBDD_Dialogos_2021_01_27.csv' #  chunksize=chunksize,\n",
    "survey = pd.read_csv(survey_path, low_memory=False)\n",
    "# for survey in survey: break\n",
    "    \n",
    "ind_online_survey_path = './data/Consulta_Individual_online_v2.xlsx'\n",
    "ind_online_survey = pd.read_excel(ind_online_survey_path, 'Sheet1')\n",
    "    \n",
    "ind_survey_path = './data/Base_final_digitación_Consultas.xlsx'\n",
    "ind_survey = pd.read_excel(ind_survey_path, 'CONSULTAS')"
   ]
  },
  {
   "cell_type": "code",
   "execution_count": 4,
   "metadata": {},
   "outputs": [
    {
     "data": {
      "text/html": [
       "<div>\n",
       "<style scoped>\n",
       "    .dataframe tbody tr th:only-of-type {\n",
       "        vertical-align: middle;\n",
       "    }\n",
       "\n",
       "    .dataframe tbody tr th {\n",
       "        vertical-align: top;\n",
       "    }\n",
       "\n",
       "    .dataframe thead th {\n",
       "        text-align: right;\n",
       "    }\n",
       "</style>\n",
       "<table border=\"1\" class=\"dataframe\">\n",
       "  <thead>\n",
       "    <tr style=\"text-align: right;\">\n",
       "      <th></th>\n",
       "      <th>Submission Date</th>\n",
       "      <th>RUN</th>\n",
       "      <th>Edad</th>\n",
       "      <th>Comuna</th>\n",
       "      <th>1. ¿Cuál es el nivel de educación alcanzado por Usted?</th>\n",
       "      <th>2. ¿Cuál es el nivel de educación que alcanzó el jefe de su hogar? (sólo si se trata de alguien distinto a Usted)</th>\n",
       "      <th>1 &gt;&gt; Emociones / Sentimientos / Sensaciones</th>\n",
       "      <th>1 &gt;&gt; Explique lo mencionado</th>\n",
       "      <th>2 &gt;&gt; Emociones / Sentimientos / Sensaciones</th>\n",
       "      <th>2 &gt;&gt; Explique lo mencionado</th>\n",
       "      <th>...</th>\n",
       "      <th>2 &gt;&gt; Rol del actor social (Describa)</th>\n",
       "      <th>3 &gt;&gt; Necesidades del país identificadas</th>\n",
       "      <th>3 &gt;&gt; Rol del Estado (Describa)</th>\n",
       "      <th>3 &gt;&gt; Actor social (empresa, organizaciones sociales, medios de comunicación, comunidad, etc)</th>\n",
       "      <th>3 &gt;&gt; Rol del actor social (Describa)</th>\n",
       "      <th>5. Pregunta: ¿Cuál es mi contribución personal para construir el Chile que queremos?</th>\n",
       "      <th>Comuna.1</th>\n",
       "      <th>Comentarios finales: Si tiene alguna observación o sugerencia, en este espacio puede indicarla.</th>\n",
       "      <th>Región</th>\n",
       "      <th>Región.1</th>\n",
       "    </tr>\n",
       "  </thead>\n",
       "  <tbody>\n",
       "    <tr>\n",
       "      <th>381</th>\n",
       "      <td>2020/01/17 12:00:36</td>\n",
       "      <td>1649cf3ea0809f3049991295aac1fda1</td>\n",
       "      <td>35</td>\n",
       "      <td>NaN</td>\n",
       "      <td>Universitaria completa.</td>\n",
       "      <td>Universitaria completa.</td>\n",
       "      <td>enojada</td>\n",
       "      <td>me enoja la situacion que vivimos como pais</td>\n",
       "      <td>insegura</td>\n",
       "      <td>me molesta las situaciones de vandalismo</td>\n",
       "      <td>...</td>\n",
       "      <td>NaN</td>\n",
       "      <td>educacion</td>\n",
       "      <td>el estado debiera hacer una reforma en la educ...</td>\n",
       "      <td>las universidades no deberian pedir psu</td>\n",
       "      <td>NaN</td>\n",
       "      <td>Contribuyo con mi trabajo y con los impuestos ...</td>\n",
       "      <td>Punta Arenas</td>\n",
       "      <td>NaN</td>\n",
       "      <td>Región de Magallanes y Antártica Chilena</td>\n",
       "      <td>NaN</td>\n",
       "    </tr>\n",
       "    <tr>\n",
       "      <th>1243</th>\n",
       "      <td>2019/12/18 16:35:20</td>\n",
       "      <td>a49062d4bbfb7ec322045c2e036e97fb</td>\n",
       "      <td>38</td>\n",
       "      <td>Viña del Mar</td>\n",
       "      <td>Universitaria completa.</td>\n",
       "      <td>Post Grado (Master, Doctor o equivalente)</td>\n",
       "      <td>Furiosa</td>\n",
       "      <td>Con ganas de patear al gobierno por ser tan en...</td>\n",
       "      <td>Frustrada</td>\n",
       "      <td>Porque votamos y elegimos a un presidente supu...</td>\n",
       "      <td>...</td>\n",
       "      <td>Los colegios privados tienen que asegurarse, t...</td>\n",
       "      <td>Salud</td>\n",
       "      <td>El Estado tiene que preocuparse de sus centros...</td>\n",
       "      <td>Clínicas y otras entidades de salud privadas</td>\n",
       "      <td>Deben mantener su excelencia y trabajar más es...</td>\n",
       "      <td>Voto en todas las elecciones, confiando en la ...</td>\n",
       "      <td>NaN</td>\n",
       "      <td>Me gustaría que el presidente de Chile, Sebast...</td>\n",
       "      <td>NaN</td>\n",
       "      <td>Valparaíso</td>\n",
       "    </tr>\n",
       "  </tbody>\n",
       "</table>\n",
       "<p>2 rows × 44 columns</p>\n",
       "</div>"
      ],
      "text/plain": [
       "          Submission Date                               RUN Edad  \\\n",
       "381   2020/01/17 12:00:36  1649cf3ea0809f3049991295aac1fda1   35   \n",
       "1243  2019/12/18 16:35:20  a49062d4bbfb7ec322045c2e036e97fb   38   \n",
       "\n",
       "            Comuna 1. ¿Cuál es el nivel de educación alcanzado por Usted?  \\\n",
       "381            NaN                            Universitaria completa.       \n",
       "1243  Viña del Mar                            Universitaria completa.       \n",
       "\n",
       "     2. ¿Cuál es el nivel de educación que alcanzó el jefe de su hogar? (sólo si se trata de alguien distinto a Usted)  \\\n",
       "381                             Universitaria completa.                                                                  \n",
       "1243          Post Grado (Master, Doctor o equivalente)                                                                  \n",
       "\n",
       "     1 >> Emociones / Sentimientos / Sensaciones  \\\n",
       "381                                      enojada   \n",
       "1243                                     Furiosa   \n",
       "\n",
       "                            1 >> Explique lo mencionado  \\\n",
       "381         me enoja la situacion que vivimos como pais   \n",
       "1243  Con ganas de patear al gobierno por ser tan en...   \n",
       "\n",
       "     2 >> Emociones / Sentimientos / Sensaciones  \\\n",
       "381                                     insegura   \n",
       "1243                                   Frustrada   \n",
       "\n",
       "                            2 >> Explique lo mencionado  ...  \\\n",
       "381            me molesta las situaciones de vandalismo  ...   \n",
       "1243  Porque votamos y elegimos a un presidente supu...  ...   \n",
       "\n",
       "                   2 >> Rol del actor social (Describa)  \\\n",
       "381                                                 NaN   \n",
       "1243  Los colegios privados tienen que asegurarse, t...   \n",
       "\n",
       "     3 >> Necesidades del país identificadas  \\\n",
       "381                                educacion   \n",
       "1243                                   Salud   \n",
       "\n",
       "                         3 >> Rol del Estado (Describa)  \\\n",
       "381   el estado debiera hacer una reforma en la educ...   \n",
       "1243  El Estado tiene que preocuparse de sus centros...   \n",
       "\n",
       "     3 >> Actor social (empresa, organizaciones sociales, medios de comunicación, comunidad, etc)  \\\n",
       "381             las universidades no deberian pedir psu                                             \n",
       "1243       Clínicas y otras entidades de salud privadas                                             \n",
       "\n",
       "                   3 >> Rol del actor social (Describa)  \\\n",
       "381                                                 NaN   \n",
       "1243  Deben mantener su excelencia y trabajar más es...   \n",
       "\n",
       "     5. Pregunta: ¿Cuál es mi contribución personal para construir el Chile que queremos?  \\\n",
       "381   Contribuyo con mi trabajo y con los impuestos ...                                       \n",
       "1243  Voto en todas las elecciones, confiando en la ...                                       \n",
       "\n",
       "          Comuna.1  \\\n",
       "381   Punta Arenas   \n",
       "1243           NaN   \n",
       "\n",
       "     Comentarios finales: Si tiene alguna observación o sugerencia, en este espacio puede indicarla.  \\\n",
       "381                                                 NaN                                                 \n",
       "1243  Me gustaría que el presidente de Chile, Sebast...                                                 \n",
       "\n",
       "                                        Región    Región.1  \n",
       "381   Región de Magallanes y Antártica Chilena         NaN  \n",
       "1243                                       NaN  Valparaíso  \n",
       "\n",
       "[2 rows x 44 columns]"
      ]
     },
     "execution_count": 4,
     "metadata": {},
     "output_type": "execute_result"
    }
   ],
   "source": [
    "survey.sample(2)\n",
    "ind_online_survey.sample(2)"
   ]
  },
  {
   "cell_type": "markdown",
   "metadata": {},
   "source": [
    "## Processing Uses Cases\n",
    "1. Emotions \n",
    "2. Contributions\n",
    "3. Country needs \n",
    "4. Personal/familiar needs"
   ]
  },
  {
   "cell_type": "markdown",
   "metadata": {},
   "source": [
    "### Persons Table (Dialogue)"
   ]
  },
  {
   "cell_type": "code",
   "execution_count": 5,
   "metadata": {},
   "outputs": [
    {
     "name": "stdout",
     "output_type": "stream",
     "text": [
      "CPU times: user 1min 31s, sys: 55.8 ms, total: 1min 31s\n",
      "Wall time: 1min 31s\n"
     ]
    }
   ],
   "source": [
    "%%time\n",
    "persons_table = create_table_persons(survey)"
   ]
  },
  {
   "cell_type": "code",
   "execution_count": 6,
   "metadata": {},
   "outputs": [
    {
     "data": {
      "text/html": [
       "<div>\n",
       "<style scoped>\n",
       "    .dataframe tbody tr th:only-of-type {\n",
       "        vertical-align: middle;\n",
       "    }\n",
       "\n",
       "    .dataframe tbody tr th {\n",
       "        vertical-align: top;\n",
       "    }\n",
       "\n",
       "    .dataframe thead th {\n",
       "        text-align: right;\n",
       "    }\n",
       "</style>\n",
       "<table border=\"1\" class=\"dataframe\">\n",
       "  <thead>\n",
       "    <tr style=\"text-align: right;\">\n",
       "      <th></th>\n",
       "      <th>id</th>\n",
       "      <th>diag_id</th>\n",
       "      <th>age</th>\n",
       "      <th>sex</th>\n",
       "      <th>level</th>\n",
       "      <th>comuna_id</th>\n",
       "      <th>age_range</th>\n",
       "    </tr>\n",
       "  </thead>\n",
       "  <tbody>\n",
       "    <tr>\n",
       "      <th>229</th>\n",
       "      <td>51148</td>\n",
       "      <td>enc_u_4584412065317688074</td>\n",
       "      <td>61</td>\n",
       "      <td>f</td>\n",
       "      <td>tecnico_ completo</td>\n",
       "      <td>8301</td>\n",
       "      <td>&gt;=60</td>\n",
       "    </tr>\n",
       "    <tr>\n",
       "      <th>9253</th>\n",
       "      <td>59699</td>\n",
       "      <td>enc_u_3301344</td>\n",
       "      <td>48</td>\n",
       "      <td>h</td>\n",
       "      <td></td>\n",
       "      <td>1</td>\n",
       "      <td>45-60</td>\n",
       "    </tr>\n",
       "    <tr>\n",
       "      <th>10954</th>\n",
       "      <td>10589</td>\n",
       "      <td>enc_u_4564226989027123245</td>\n",
       "      <td>37</td>\n",
       "      <td>h</td>\n",
       "      <td>universitaria_incompleta</td>\n",
       "      <td>13106</td>\n",
       "      <td>30-45</td>\n",
       "    </tr>\n",
       "  </tbody>\n",
       "</table>\n",
       "</div>"
      ],
      "text/plain": [
       "          id                    diag_id age sex                     level  \\\n",
       "229    51148  enc_u_4584412065317688074  61   f         tecnico_ completo   \n",
       "9253   59699              enc_u_3301344  48   h                             \n",
       "10954  10589  enc_u_4564226989027123245  37   h  universitaria_incompleta   \n",
       "\n",
       "       comuna_id age_range  \n",
       "229         8301      >=60  \n",
       "9253           1     45-60  \n",
       "10954      13106     30-45  "
      ]
     },
     "execution_count": 6,
     "metadata": {},
     "output_type": "execute_result"
    }
   ],
   "source": [
    "persons_table.sample(3)"
   ]
  },
  {
   "cell_type": "markdown",
   "metadata": {},
   "source": [
    "### Dialogues"
   ]
  },
  {
   "cell_type": "code",
   "execution_count": 7,
   "metadata": {},
   "outputs": [
    {
     "name": "stdout",
     "output_type": "stream",
     "text": [
      "CPU times: user 1.61 s, sys: 0 ns, total: 1.61 s\n",
      "Wall time: 1.61 s\n"
     ]
    }
   ],
   "source": [
    "%%time\n",
    "dialogues_table = create_table_dialogues(survey)"
   ]
  },
  {
   "cell_type": "code",
   "execution_count": 8,
   "metadata": {},
   "outputs": [
    {
     "data": {
      "text/html": [
       "<div>\n",
       "<style scoped>\n",
       "    .dataframe tbody tr th:only-of-type {\n",
       "        vertical-align: middle;\n",
       "    }\n",
       "\n",
       "    .dataframe tbody tr th {\n",
       "        vertical-align: top;\n",
       "    }\n",
       "\n",
       "    .dataframe thead th {\n",
       "        text-align: right;\n",
       "    }\n",
       "</style>\n",
       "<table border=\"1\" class=\"dataframe\">\n",
       "  <thead>\n",
       "    <tr style=\"text-align: right;\">\n",
       "      <th></th>\n",
       "      <th>id</th>\n",
       "      <th>date</th>\n",
       "      <th>init_time</th>\n",
       "      <th>end_time</th>\n",
       "      <th>location</th>\n",
       "      <th>address</th>\n",
       "      <th>comuna_id</th>\n",
       "      <th>n_members</th>\n",
       "      <th>group_name</th>\n",
       "    </tr>\n",
       "  </thead>\n",
       "  <tbody>\n",
       "    <tr>\n",
       "      <th>12988</th>\n",
       "      <td>enc_u_4517191811489237194</td>\n",
       "      <td>09-12-2019</td>\n",
       "      <td>11:00:00</td>\n",
       "      <td>13:00:00</td>\n",
       "      <td>centro diurno adulto mayor</td>\n",
       "      <td>camino publico</td>\n",
       "      <td>13501</td>\n",
       "      <td>10</td>\n",
       "      <td>usuarios de oficina movil de bienes nacionales</td>\n",
       "    </tr>\n",
       "    <tr>\n",
       "      <th>7858</th>\n",
       "      <td>enc_u_4559459052499790303</td>\n",
       "      <td>23-01-2020</td>\n",
       "      <td>18:00:00</td>\n",
       "      <td>19:30:00</td>\n",
       "      <td>salon consejo municipal</td>\n",
       "      <td>plaza del cabildo s/n</td>\n",
       "      <td>5606</td>\n",
       "      <td>8</td>\n",
       "      <td>usuarios de oficina movil de bienes nacionales</td>\n",
       "    </tr>\n",
       "    <tr>\n",
       "      <th>10881</th>\n",
       "      <td>enc_u_4558651993122756353</td>\n",
       "      <td>22-01-2020</td>\n",
       "      <td>16:27:00</td>\n",
       "      <td>18:03:00</td>\n",
       "      <td>sede</td>\n",
       "      <td>avda central 0217</td>\n",
       "      <td>13201</td>\n",
       "      <td>5</td>\n",
       "      <td>usuarios de oficina movil de bienes nacionales</td>\n",
       "    </tr>\n",
       "  </tbody>\n",
       "</table>\n",
       "</div>"
      ],
      "text/plain": [
       "                              id        date init_time  end_time  \\\n",
       "12988  enc_u_4517191811489237194  09-12-2019  11:00:00  13:00:00   \n",
       "7858   enc_u_4559459052499790303  23-01-2020  18:00:00  19:30:00   \n",
       "10881  enc_u_4558651993122756353  22-01-2020  16:27:00  18:03:00   \n",
       "\n",
       "                         location                address  comuna_id n_members  \\\n",
       "12988  centro diurno adulto mayor         camino publico      13501        10   \n",
       "7858      salon consejo municipal  plaza del cabildo s/n       5606         8   \n",
       "10881                        sede      avda central 0217      13201         5   \n",
       "\n",
       "                                           group_name  \n",
       "12988  usuarios de oficina movil de bienes nacionales  \n",
       "7858   usuarios de oficina movil de bienes nacionales  \n",
       "10881  usuarios de oficina movil de bienes nacionales  "
      ]
     },
     "execution_count": 8,
     "metadata": {},
     "output_type": "execute_result"
    }
   ],
   "source": [
    "dialogues_table.sample(3)"
   ]
  },
  {
   "cell_type": "markdown",
   "metadata": {},
   "source": [
    "### Individuals"
   ]
  },
  {
   "cell_type": "code",
   "execution_count": 9,
   "metadata": {
    "scrolled": true
   },
   "outputs": [
    {
     "name": "stdout",
     "output_type": "stream",
     "text": [
      "CPU times: user 7.26 s, sys: 48.5 ms, total: 7.31 s\n",
      "Wall time: 7.23 s\n"
     ]
    }
   ],
   "source": [
    "%%time\n",
    "individuals_table = create_table_individuals(ind_online_survey, ind_survey)"
   ]
  },
  {
   "cell_type": "code",
   "execution_count": 10,
   "metadata": {},
   "outputs": [
    {
     "data": {
      "text/html": [
       "<div>\n",
       "<style scoped>\n",
       "    .dataframe tbody tr th:only-of-type {\n",
       "        vertical-align: middle;\n",
       "    }\n",
       "\n",
       "    .dataframe tbody tr th {\n",
       "        vertical-align: top;\n",
       "    }\n",
       "\n",
       "    .dataframe thead th {\n",
       "        text-align: right;\n",
       "    }\n",
       "</style>\n",
       "<table border=\"1\" class=\"dataframe\">\n",
       "  <thead>\n",
       "    <tr style=\"text-align: right;\">\n",
       "      <th></th>\n",
       "      <th>id</th>\n",
       "      <th>date</th>\n",
       "      <th>age</th>\n",
       "      <th>comuna_id</th>\n",
       "      <th>level</th>\n",
       "      <th>online</th>\n",
       "      <th>age_range</th>\n",
       "    </tr>\n",
       "  </thead>\n",
       "  <tbody>\n",
       "    <tr>\n",
       "      <th>5368</th>\n",
       "      <td>3234194</td>\n",
       "      <td>28-01-2020</td>\n",
       "      <td>73</td>\n",
       "      <td>10108</td>\n",
       "      <td>Universitaria incompleta. Técnica completa</td>\n",
       "      <td></td>\n",
       "      <td>&gt;=60</td>\n",
       "    </tr>\n",
       "    <tr>\n",
       "      <th>9809</th>\n",
       "      <td>5144614</td>\n",
       "      <td></td>\n",
       "      <td></td>\n",
       "      <td>1</td>\n",
       "      <td></td>\n",
       "      <td></td>\n",
       "      <td>0-15</td>\n",
       "    </tr>\n",
       "  </tbody>\n",
       "</table>\n",
       "</div>"
      ],
      "text/plain": [
       "           id        date age  comuna_id  \\\n",
       "5368  3234194  28-01-2020  73      10108   \n",
       "9809  5144614                          1   \n",
       "\n",
       "                                           level online age_range  \n",
       "5368  Universitaria incompleta. Técnica completa             >=60  \n",
       "9809                                                         0-15  "
      ]
     },
     "execution_count": 10,
     "metadata": {},
     "output_type": "execute_result"
    }
   ],
   "source": [
    "individuals_table.sample(2)"
   ]
  },
  {
   "cell_type": "markdown",
   "metadata": {},
   "source": [
    "### Emotions"
   ]
  },
  {
   "cell_type": "code",
   "execution_count": 11,
   "metadata": {},
   "outputs": [
    {
     "name": "stdout",
     "output_type": "stream",
     "text": [
      "CPU times: user 2min 9s, sys: 9.06 s, total: 2min 18s\n",
      "Wall time: 2min 18s\n"
     ]
    }
   ],
   "source": [
    "%%time\n",
    "emotions_table = create_table_emotions(survey, ind_survey_path, ind_online_survey)"
   ]
  },
  {
   "cell_type": "code",
   "execution_count": 12,
   "metadata": {},
   "outputs": [
    {
     "data": {
      "text/html": [
       "<div>\n",
       "<style scoped>\n",
       "    .dataframe tbody tr th:only-of-type {\n",
       "        vertical-align: middle;\n",
       "    }\n",
       "\n",
       "    .dataframe tbody tr th {\n",
       "        vertical-align: top;\n",
       "    }\n",
       "\n",
       "    .dataframe thead th {\n",
       "        text-align: right;\n",
       "    }\n",
       "</style>\n",
       "<table border=\"1\" class=\"dataframe\">\n",
       "  <thead>\n",
       "    <tr style=\"text-align: right;\">\n",
       "      <th></th>\n",
       "      <th>id</th>\n",
       "      <th>diag_id</th>\n",
       "      <th>ind_id</th>\n",
       "      <th>name</th>\n",
       "      <th>name_tokens</th>\n",
       "      <th>macro</th>\n",
       "      <th>exp</th>\n",
       "      <th>exp_tokens</th>\n",
       "      <th>is_online</th>\n",
       "      <th>source_id</th>\n",
       "    </tr>\n",
       "  </thead>\n",
       "  <tbody>\n",
       "    <tr>\n",
       "      <th>13056</th>\n",
       "      <td>60143</td>\n",
       "      <td>ENC_U_4544929856116003794</td>\n",
       "      <td></td>\n",
       "      <td>camila\\n(mal)</td>\n",
       "      <td>[camila, mal]</td>\n",
       "      <td>camila\\n(mal)</td>\n",
       "      <td>- como estudiante me ah afectado por el alza d...</td>\n",
       "      <td>[estudiante, ah, afectado, alza, transporte, a...</td>\n",
       "      <td>0</td>\n",
       "      <td></td>\n",
       "    </tr>\n",
       "    <tr>\n",
       "      <th>7253</th>\n",
       "      <td>55583</td>\n",
       "      <td>ENC_U_4548220530117013700</td>\n",
       "      <td></td>\n",
       "      <td>estres.</td>\n",
       "      <td>[estres]</td>\n",
       "      <td>estres.</td>\n",
       "      <td>por la violencia desplegada los ultimas semana...</td>\n",
       "      <td>[violencia, desplegada, ultimas, semanas, part...</td>\n",
       "      <td>0</td>\n",
       "      <td></td>\n",
       "    </tr>\n",
       "  </tbody>\n",
       "</table>\n",
       "</div>"
      ],
      "text/plain": [
       "          id                    diag_id ind_id           name    name_tokens  \\\n",
       "13056  60143  ENC_U_4544929856116003794         camila\\n(mal)  [camila, mal]   \n",
       "7253   55583  ENC_U_4548220530117013700              estres.        [estres]   \n",
       "\n",
       "               macro                                                exp  \\\n",
       "13056  camila\\n(mal)  - como estudiante me ah afectado por el alza d...   \n",
       "7253        estres.   por la violencia desplegada los ultimas semana...   \n",
       "\n",
       "                                              exp_tokens  is_online source_id  \n",
       "13056  [estudiante, ah, afectado, alza, transporte, a...          0            \n",
       "7253   [violencia, desplegada, ultimas, semanas, part...          0            "
      ]
     },
     "execution_count": 12,
     "metadata": {},
     "output_type": "execute_result"
    }
   ],
   "source": [
    "emotions_table.sample(2)"
   ]
  },
  {
   "cell_type": "markdown",
   "metadata": {},
   "source": [
    "### Emotion Pair"
   ]
  },
  {
   "cell_type": "code",
   "execution_count": 13,
   "metadata": {},
   "outputs": [
    {
     "name": "stdout",
     "output_type": "stream",
     "text": [
      "CPU times: user 10.6 s, sys: 48 ms, total: 10.7 s\n",
      "Wall time: 10.7 s\n"
     ]
    }
   ],
   "source": [
    "%%time\n",
    "emotion_pair = create_pair_token(emotions_table, 'exp_tokens', 'emotion_id')"
   ]
  },
  {
   "cell_type": "code",
   "execution_count": 14,
   "metadata": {},
   "outputs": [
    {
     "data": {
      "text/html": [
       "<div>\n",
       "<style scoped>\n",
       "    .dataframe tbody tr th:only-of-type {\n",
       "        vertical-align: middle;\n",
       "    }\n",
       "\n",
       "    .dataframe tbody tr th {\n",
       "        vertical-align: top;\n",
       "    }\n",
       "\n",
       "    .dataframe thead th {\n",
       "        text-align: right;\n",
       "    }\n",
       "</style>\n",
       "<table border=\"1\" class=\"dataframe\">\n",
       "  <thead>\n",
       "    <tr style=\"text-align: right;\">\n",
       "      <th></th>\n",
       "      <th>id</th>\n",
       "      <th>emotion_id</th>\n",
       "      <th>word_1</th>\n",
       "      <th>word_2</th>\n",
       "    </tr>\n",
       "  </thead>\n",
       "  <tbody>\n",
       "    <tr>\n",
       "      <th>68927</th>\n",
       "      <td>68928</td>\n",
       "      <td>12280</td>\n",
       "      <td>dolor</td>\n",
       "      <td>pais</td>\n",
       "    </tr>\n",
       "    <tr>\n",
       "      <th>169719</th>\n",
       "      <td>169720</td>\n",
       "      <td>30761</td>\n",
       "      <td>habran</td>\n",
       "      <td>cambios</td>\n",
       "    </tr>\n",
       "    <tr>\n",
       "      <th>50612</th>\n",
       "      <td>50613</td>\n",
       "      <td>9076</td>\n",
       "      <td>reventar</td>\n",
       "      <td>igual</td>\n",
       "    </tr>\n",
       "  </tbody>\n",
       "</table>\n",
       "</div>"
      ],
      "text/plain": [
       "            id  emotion_id    word_1   word_2\n",
       "68927    68928       12280     dolor     pais\n",
       "169719  169720       30761    habran  cambios\n",
       "50612    50613        9076  reventar    igual"
      ]
     },
     "execution_count": 14,
     "metadata": {},
     "output_type": "execute_result"
    }
   ],
   "source": [
    "emotion_pair.sample(3)"
   ]
  },
  {
   "cell_type": "markdown",
   "metadata": {},
   "source": [
    "### Country Needs"
   ]
  },
  {
   "cell_type": "code",
   "execution_count": 15,
   "metadata": {},
   "outputs": [
    {
     "name": "stdout",
     "output_type": "stream",
     "text": [
      "CPU times: user 4min 21s, sys: 15.5 s, total: 4min 36s\n",
      "Wall time: 4min 37s\n"
     ]
    }
   ],
   "source": [
    "%%time\n",
    "country_needs = create_table_country_needs(survey, ind_survey, ind_survey_path, ind_online_survey_path)"
   ]
  },
  {
   "cell_type": "code",
   "execution_count": 16,
   "metadata": {
    "scrolled": true
   },
   "outputs": [
    {
     "data": {
      "text/html": [
       "<div>\n",
       "<style scoped>\n",
       "    .dataframe tbody tr th:only-of-type {\n",
       "        vertical-align: middle;\n",
       "    }\n",
       "\n",
       "    .dataframe tbody tr th {\n",
       "        vertical-align: top;\n",
       "    }\n",
       "\n",
       "    .dataframe thead th {\n",
       "        text-align: right;\n",
       "    }\n",
       "</style>\n",
       "<table border=\"1\" class=\"dataframe\">\n",
       "  <thead>\n",
       "    <tr style=\"text-align: right;\">\n",
       "      <th></th>\n",
       "      <th>id</th>\n",
       "      <th>diag_id</th>\n",
       "      <th>ind_id</th>\n",
       "      <th>name</th>\n",
       "      <th>name_tokens</th>\n",
       "      <th>macro</th>\n",
       "      <th>exp</th>\n",
       "      <th>exp_tokens</th>\n",
       "      <th>role</th>\n",
       "      <th>role_tokens</th>\n",
       "      <th>actor</th>\n",
       "      <th>priority</th>\n",
       "      <th>is_online</th>\n",
       "    </tr>\n",
       "  </thead>\n",
       "  <tbody>\n",
       "    <tr>\n",
       "      <th>10191</th>\n",
       "      <td>49296</td>\n",
       "      <td>enc_u_4555129598558603784</td>\n",
       "      <td></td>\n",
       "      <td>afp</td>\n",
       "      <td>[afp]</td>\n",
       "      <td></td>\n",
       "      <td>malo \\nmejorar la edad de la jubilacion\\nhacia...</td>\n",
       "      <td>[malo, mejorar, edad, jubilacion, hacia, anos]</td>\n",
       "      <td></td>\n",
       "      <td></td>\n",
       "      <td></td>\n",
       "      <td>0</td>\n",
       "      <td>0</td>\n",
       "    </tr>\n",
       "    <tr>\n",
       "      <th>20958</th>\n",
       "      <td>77225</td>\n",
       "      <td>enc_u_4556921180157433493</td>\n",
       "      <td></td>\n",
       "      <td>aumentar pensiones 3 edad</td>\n",
       "      <td>[aumentar, pensiones, edad]</td>\n",
       "      <td></td>\n",
       "      <td></td>\n",
       "      <td></td>\n",
       "      <td>parlamentarios</td>\n",
       "      <td>[parlamentarios]</td>\n",
       "      <td>estado</td>\n",
       "      <td></td>\n",
       "      <td>0</td>\n",
       "    </tr>\n",
       "    <tr>\n",
       "      <th>3458</th>\n",
       "      <td>80680</td>\n",
       "      <td>enc_u_4608704691193105727</td>\n",
       "      <td></td>\n",
       "      <td>proteccion a la infancia</td>\n",
       "      <td>[proteccion, infancia]</td>\n",
       "      <td></td>\n",
       "      <td>mejorar la educacion familiar\\n-seguimiento a ...</td>\n",
       "      <td>[mejorar, educacion, familiar, seguimiento, ca...</td>\n",
       "      <td>-impartir clases y actividades para padres y f...</td>\n",
       "      <td>[impartir, clases, actividades, padres, familia]</td>\n",
       "      <td>comunidad</td>\n",
       "      <td>5</td>\n",
       "      <td>0</td>\n",
       "    </tr>\n",
       "  </tbody>\n",
       "</table>\n",
       "</div>"
      ],
      "text/plain": [
       "          id                    diag_id ind_id                       name  \\\n",
       "10191  49296  enc_u_4555129598558603784                              afp    \n",
       "20958  77225  enc_u_4556921180157433493         aumentar pensiones 3 edad   \n",
       "3458   80680  enc_u_4608704691193105727          proteccion a la infancia   \n",
       "\n",
       "                       name_tokens macro  \\\n",
       "10191                        [afp]         \n",
       "20958  [aumentar, pensiones, edad]         \n",
       "3458        [proteccion, infancia]         \n",
       "\n",
       "                                                     exp  \\\n",
       "10191  malo \\nmejorar la edad de la jubilacion\\nhacia...   \n",
       "20958                                                      \n",
       "3458   mejorar la educacion familiar\\n-seguimiento a ...   \n",
       "\n",
       "                                              exp_tokens  \\\n",
       "10191     [malo, mejorar, edad, jubilacion, hacia, anos]   \n",
       "20958                                                      \n",
       "3458   [mejorar, educacion, familiar, seguimiento, ca...   \n",
       "\n",
       "                                                    role  \\\n",
       "10191                                                      \n",
       "20958                                     parlamentarios   \n",
       "3458   -impartir clases y actividades para padres y f...   \n",
       "\n",
       "                                            role_tokens      actor priority  \\\n",
       "10191                                                                     0   \n",
       "20958                                  [parlamentarios]     estado            \n",
       "3458   [impartir, clases, actividades, padres, familia]  comunidad        5   \n",
       "\n",
       "       is_online  \n",
       "10191          0  \n",
       "20958          0  \n",
       "3458           0  "
      ]
     },
     "execution_count": 16,
     "metadata": {},
     "output_type": "execute_result"
    }
   ],
   "source": [
    "country_needs.sample(3)"
   ]
  },
  {
   "cell_type": "markdown",
   "metadata": {},
   "source": [
    "### Country Need Role Pair"
   ]
  },
  {
   "cell_type": "code",
   "execution_count": 17,
   "metadata": {},
   "outputs": [
    {
     "name": "stdout",
     "output_type": "stream",
     "text": [
      "CPU times: user 13.7 s, sys: 56.1 ms, total: 13.7 s\n",
      "Wall time: 13.7 s\n"
     ]
    }
   ],
   "source": [
    "%%time\n",
    "country_need_role_pair = create_pair_token(country_needs, 'role_tokens', 'country_need_id')"
   ]
  },
  {
   "cell_type": "code",
   "execution_count": 18,
   "metadata": {},
   "outputs": [
    {
     "data": {
      "text/html": [
       "<div>\n",
       "<style scoped>\n",
       "    .dataframe tbody tr th:only-of-type {\n",
       "        vertical-align: middle;\n",
       "    }\n",
       "\n",
       "    .dataframe tbody tr th {\n",
       "        vertical-align: top;\n",
       "    }\n",
       "\n",
       "    .dataframe thead th {\n",
       "        text-align: right;\n",
       "    }\n",
       "</style>\n",
       "<table border=\"1\" class=\"dataframe\">\n",
       "  <thead>\n",
       "    <tr style=\"text-align: right;\">\n",
       "      <th></th>\n",
       "      <th>id</th>\n",
       "      <th>country_need_id</th>\n",
       "      <th>word_1</th>\n",
       "      <th>word_2</th>\n",
       "    </tr>\n",
       "  </thead>\n",
       "  <tbody>\n",
       "    <tr>\n",
       "      <th>76064</th>\n",
       "      <td>76065</td>\n",
       "      <td>24447</td>\n",
       "      <td>queden</td>\n",
       "      <td>toda</td>\n",
       "    </tr>\n",
       "    <tr>\n",
       "      <th>320333</th>\n",
       "      <td>320334</td>\n",
       "      <td>116939</td>\n",
       "      <td>parte</td>\n",
       "      <td>plan</td>\n",
       "    </tr>\n",
       "  </tbody>\n",
       "</table>\n",
       "</div>"
      ],
      "text/plain": [
       "            id  country_need_id  word_1 word_2\n",
       "76064    76065            24447  queden   toda\n",
       "320333  320334           116939   parte   plan"
      ]
     },
     "execution_count": 18,
     "metadata": {},
     "output_type": "execute_result"
    }
   ],
   "source": [
    "country_need_role_pair.sample(2)"
   ]
  },
  {
   "cell_type": "markdown",
   "metadata": {},
   "source": [
    "### Country Need Explanation Pair"
   ]
  },
  {
   "cell_type": "code",
   "execution_count": 19,
   "metadata": {},
   "outputs": [
    {
     "name": "stdout",
     "output_type": "stream",
     "text": [
      "CPU times: user 14.3 s, sys: 72 ms, total: 14.4 s\n",
      "Wall time: 14.4 s\n"
     ]
    }
   ],
   "source": [
    "%%time\n",
    "country_need_exp_pair = create_pair_token(country_needs, 'exp_tokens', 'country_need_id')"
   ]
  },
  {
   "cell_type": "code",
   "execution_count": 20,
   "metadata": {},
   "outputs": [
    {
     "data": {
      "text/html": [
       "<div>\n",
       "<style scoped>\n",
       "    .dataframe tbody tr th:only-of-type {\n",
       "        vertical-align: middle;\n",
       "    }\n",
       "\n",
       "    .dataframe tbody tr th {\n",
       "        vertical-align: top;\n",
       "    }\n",
       "\n",
       "    .dataframe thead th {\n",
       "        text-align: right;\n",
       "    }\n",
       "</style>\n",
       "<table border=\"1\" class=\"dataframe\">\n",
       "  <thead>\n",
       "    <tr style=\"text-align: right;\">\n",
       "      <th></th>\n",
       "      <th>id</th>\n",
       "      <th>country_need_id</th>\n",
       "      <th>word_1</th>\n",
       "      <th>word_2</th>\n",
       "    </tr>\n",
       "  </thead>\n",
       "  <tbody>\n",
       "    <tr>\n",
       "      <th>319255</th>\n",
       "      <td>319256</td>\n",
       "      <td>70216</td>\n",
       "      <td>mas</td>\n",
       "      <td>viviendas</td>\n",
       "    </tr>\n",
       "    <tr>\n",
       "      <th>72588</th>\n",
       "      <td>72589</td>\n",
       "      <td>11039</td>\n",
       "      <td>ser</td>\n",
       "      <td>calidad</td>\n",
       "    </tr>\n",
       "  </tbody>\n",
       "</table>\n",
       "</div>"
      ],
      "text/plain": [
       "            id  country_need_id word_1     word_2\n",
       "319255  319256            70216    mas  viviendas\n",
       "72588    72589            11039    ser    calidad"
      ]
     },
     "execution_count": 20,
     "metadata": {},
     "output_type": "execute_result"
    }
   ],
   "source": [
    "country_need_exp_pair.sample(2)"
   ]
  },
  {
   "cell_type": "markdown",
   "metadata": {},
   "source": [
    "### Family/Personal Needs"
   ]
  },
  {
   "cell_type": "code",
   "execution_count": 21,
   "metadata": {},
   "outputs": [
    {
     "name": "stdout",
     "output_type": "stream",
     "text": [
      "CPU times: user 2min 23s, sys: 10.3 s, total: 2min 33s\n",
      "Wall time: 2min 33s\n"
     ]
    }
   ],
   "source": [
    "%%time\n",
    "personal_needs = create_table_personal_needs(survey, ind_survey, ind_online_survey)"
   ]
  },
  {
   "cell_type": "code",
   "execution_count": 22,
   "metadata": {},
   "outputs": [
    {
     "data": {
      "text/html": [
       "<div>\n",
       "<style scoped>\n",
       "    .dataframe tbody tr th:only-of-type {\n",
       "        vertical-align: middle;\n",
       "    }\n",
       "\n",
       "    .dataframe tbody tr th {\n",
       "        vertical-align: top;\n",
       "    }\n",
       "\n",
       "    .dataframe thead th {\n",
       "        text-align: right;\n",
       "    }\n",
       "</style>\n",
       "<table border=\"1\" class=\"dataframe\">\n",
       "  <thead>\n",
       "    <tr style=\"text-align: right;\">\n",
       "      <th></th>\n",
       "      <th>id</th>\n",
       "      <th>diag_id</th>\n",
       "      <th>ind_id</th>\n",
       "      <th>name</th>\n",
       "      <th>name_tokens</th>\n",
       "      <th>exp</th>\n",
       "      <th>exp_tokens</th>\n",
       "      <th>macro</th>\n",
       "      <th>priority</th>\n",
       "      <th>is_online</th>\n",
       "    </tr>\n",
       "  </thead>\n",
       "  <tbody>\n",
       "    <tr>\n",
       "      <th>4286</th>\n",
       "      <td>16069</td>\n",
       "      <td>ENC_U_4555386981336010252</td>\n",
       "      <td></td>\n",
       "      <td>salud</td>\n",
       "      <td>[salud]</td>\n",
       "      <td>mejorar la calidad de la atencion publica que ...</td>\n",
       "      <td>[mejorar, calidad, atencion, publica, igualita...</td>\n",
       "      <td>salud</td>\n",
       "      <td>0.0</td>\n",
       "      <td>0</td>\n",
       "    </tr>\n",
       "    <tr>\n",
       "      <th>7863</th>\n",
       "      <td>19174</td>\n",
       "      <td>ENC_U_4559501678807239126</td>\n",
       "      <td></td>\n",
       "      <td>pensiones</td>\n",
       "      <td>[pensiones]</td>\n",
       "      <td>-las pensiones nos alcanza solo para nuestros ...</td>\n",
       "      <td>[pensiones, alcanza, solo, gastos, basicos]</td>\n",
       "      <td>pensiones</td>\n",
       "      <td>2.0</td>\n",
       "      <td>0</td>\n",
       "    </tr>\n",
       "    <tr>\n",
       "      <th>5854</th>\n",
       "      <td>71584</td>\n",
       "      <td></td>\n",
       "      <td>3247056</td>\n",
       "      <td>recibir mi sueldo siempre</td>\n",
       "      <td>[recibir, sueldo, siempre]</td>\n",
       "      <td></td>\n",
       "      <td></td>\n",
       "      <td>recibir mi sueldo siempre</td>\n",
       "      <td>2.0</td>\n",
       "      <td>0</td>\n",
       "    </tr>\n",
       "  </tbody>\n",
       "</table>\n",
       "</div>"
      ],
      "text/plain": [
       "         id                    diag_id   ind_id                       name  \\\n",
       "4286  16069  ENC_U_4555386981336010252                               salud   \n",
       "7863  19174  ENC_U_4559501678807239126                           pensiones   \n",
       "5854  71584                             3247056  recibir mi sueldo siempre   \n",
       "\n",
       "                     name_tokens  \\\n",
       "4286                     [salud]   \n",
       "7863                 [pensiones]   \n",
       "5854  [recibir, sueldo, siempre]   \n",
       "\n",
       "                                                    exp  \\\n",
       "4286  mejorar la calidad de la atencion publica que ...   \n",
       "7863  -las pensiones nos alcanza solo para nuestros ...   \n",
       "5854                                                      \n",
       "\n",
       "                                             exp_tokens  \\\n",
       "4286  [mejorar, calidad, atencion, publica, igualita...   \n",
       "7863        [pensiones, alcanza, solo, gastos, basicos]   \n",
       "5854                                                      \n",
       "\n",
       "                          macro  priority  is_online  \n",
       "4286                      salud       0.0          0  \n",
       "7863                  pensiones       2.0          0  \n",
       "5854  recibir mi sueldo siempre       2.0          0  "
      ]
     },
     "execution_count": 22,
     "metadata": {},
     "output_type": "execute_result"
    }
   ],
   "source": [
    "personal_needs.sample(3)"
   ]
  },
  {
   "cell_type": "markdown",
   "metadata": {},
   "source": [
    "### Family/Personal Need Pair"
   ]
  },
  {
   "cell_type": "code",
   "execution_count": 23,
   "metadata": {},
   "outputs": [
    {
     "name": "stdout",
     "output_type": "stream",
     "text": [
      "CPU times: user 12.2 s, sys: 56 ms, total: 12.2 s\n",
      "Wall time: 12.2 s\n"
     ]
    }
   ],
   "source": [
    "%%time\n",
    "personal_need_pair = create_pair_token(personal_needs, 'exp_tokens', 'personal_need_id')"
   ]
  },
  {
   "cell_type": "code",
   "execution_count": 24,
   "metadata": {},
   "outputs": [
    {
     "data": {
      "text/html": [
       "<div>\n",
       "<style scoped>\n",
       "    .dataframe tbody tr th:only-of-type {\n",
       "        vertical-align: middle;\n",
       "    }\n",
       "\n",
       "    .dataframe tbody tr th {\n",
       "        vertical-align: top;\n",
       "    }\n",
       "\n",
       "    .dataframe thead th {\n",
       "        text-align: right;\n",
       "    }\n",
       "</style>\n",
       "<table border=\"1\" class=\"dataframe\">\n",
       "  <thead>\n",
       "    <tr style=\"text-align: right;\">\n",
       "      <th></th>\n",
       "      <th>id</th>\n",
       "      <th>personal_need_id</th>\n",
       "      <th>word_1</th>\n",
       "      <th>word_2</th>\n",
       "    </tr>\n",
       "  </thead>\n",
       "  <tbody>\n",
       "    <tr>\n",
       "      <th>412575</th>\n",
       "      <td>412576</td>\n",
       "      <td>74901</td>\n",
       "      <td>trabajo</td>\n",
       "      <td>integrantes</td>\n",
       "    </tr>\n",
       "    <tr>\n",
       "      <th>10824</th>\n",
       "      <td>10825</td>\n",
       "      <td>1726</td>\n",
       "      <td>obligaciones</td>\n",
       "      <td>ley</td>\n",
       "    </tr>\n",
       "    <tr>\n",
       "      <th>82815</th>\n",
       "      <td>82816</td>\n",
       "      <td>13111</td>\n",
       "      <td>debiera</td>\n",
       "      <td>ser</td>\n",
       "    </tr>\n",
       "  </tbody>\n",
       "</table>\n",
       "</div>"
      ],
      "text/plain": [
       "            id  personal_need_id        word_1       word_2\n",
       "412575  412576             74901       trabajo  integrantes\n",
       "10824    10825              1726  obligaciones          ley\n",
       "82815    82816             13111       debiera          ser"
      ]
     },
     "execution_count": 24,
     "metadata": {},
     "output_type": "execute_result"
    }
   ],
   "source": [
    "personal_need_pair.sample(3)"
   ]
  },
  {
   "cell_type": "markdown",
   "metadata": {},
   "source": [
    "### Contributions"
   ]
  },
  {
   "cell_type": "code",
   "execution_count": 25,
   "metadata": {},
   "outputs": [
    {
     "name": "stdout",
     "output_type": "stream",
     "text": [
      "CPU times: user 57.8 s, sys: 4.33 s, total: 1min 2s\n",
      "Wall time: 1min 2s\n"
     ]
    }
   ],
   "source": [
    "%%time\n",
    "contributions = create_table_contributions(survey, ind_survey, ind_online_survey)"
   ]
  },
  {
   "cell_type": "code",
   "execution_count": 26,
   "metadata": {},
   "outputs": [
    {
     "data": {
      "text/html": [
       "<div>\n",
       "<style scoped>\n",
       "    .dataframe tbody tr th:only-of-type {\n",
       "        vertical-align: middle;\n",
       "    }\n",
       "\n",
       "    .dataframe tbody tr th {\n",
       "        vertical-align: top;\n",
       "    }\n",
       "\n",
       "    .dataframe thead th {\n",
       "        text-align: right;\n",
       "    }\n",
       "</style>\n",
       "<table border=\"1\" class=\"dataframe\">\n",
       "  <thead>\n",
       "    <tr style=\"text-align: right;\">\n",
       "      <th></th>\n",
       "      <th>id</th>\n",
       "      <th>diag_id</th>\n",
       "      <th>ind_id</th>\n",
       "      <th>text</th>\n",
       "      <th>tokens</th>\n",
       "      <th>macro</th>\n",
       "      <th>is_online</th>\n",
       "    </tr>\n",
       "  </thead>\n",
       "  <tbody>\n",
       "    <tr>\n",
       "      <th>2833</th>\n",
       "      <td>29481</td>\n",
       "      <td>ENC_U_4541418198643324428</td>\n",
       "      <td></td>\n",
       "      <td>ir a votar</td>\n",
       "      <td>[ir, votar]</td>\n",
       "      <td>ir a votar</td>\n",
       "      <td>0</td>\n",
       "    </tr>\n",
       "    <tr>\n",
       "      <th>343</th>\n",
       "      <td>40315</td>\n",
       "      <td>ENC_U_4575155340779421978</td>\n",
       "      <td></td>\n",
       "      <td>aportar de manera activa en la sociedad</td>\n",
       "      <td>[aportar, manera, activa, sociedad]</td>\n",
       "      <td>aportar de manera activa en la sociedad</td>\n",
       "      <td>0</td>\n",
       "    </tr>\n",
       "    <tr>\n",
       "      <th>1527</th>\n",
       "      <td>14851</td>\n",
       "      <td>ENC_U_4553457074807180068</td>\n",
       "      <td></td>\n",
       "      <td>dando ideas</td>\n",
       "      <td>[dando, ideas]</td>\n",
       "      <td>dando ideas</td>\n",
       "      <td>0</td>\n",
       "    </tr>\n",
       "  </tbody>\n",
       "</table>\n",
       "</div>"
      ],
      "text/plain": [
       "         id                    diag_id ind_id  \\\n",
       "2833  29481  ENC_U_4541418198643324428          \n",
       "343   40315  ENC_U_4575155340779421978          \n",
       "1527  14851  ENC_U_4553457074807180068          \n",
       "\n",
       "                                         text  \\\n",
       "2833                               ir a votar   \n",
       "343   aportar de manera activa en la sociedad   \n",
       "1527                              dando ideas   \n",
       "\n",
       "                                   tokens  \\\n",
       "2833                          [ir, votar]   \n",
       "343   [aportar, manera, activa, sociedad]   \n",
       "1527                       [dando, ideas]   \n",
       "\n",
       "                                        macro  is_online  \n",
       "2833                               ir a votar          0  \n",
       "343   aportar de manera activa en la sociedad          0  \n",
       "1527                              dando ideas          0  "
      ]
     },
     "execution_count": 26,
     "metadata": {},
     "output_type": "execute_result"
    }
   ],
   "source": [
    "contributions.sample(3)"
   ]
  },
  {
   "cell_type": "markdown",
   "metadata": {},
   "source": [
    "## Saving `.csv`"
   ]
  },
  {
   "cell_type": "code",
   "execution_count": 28,
   "metadata": {},
   "outputs": [],
   "source": [
    "out_dir = './out'\n",
    "os.makedirs(out_dir, exist_ok=True)"
   ]
  },
  {
   "cell_type": "code",
   "execution_count": 30,
   "metadata": {},
   "outputs": [],
   "source": [
    "contributions.to_csv(os.path.join(out_dir, 'contributions.csv'), index=False)\n",
    "personal_need_pair.to_csv(os.path.join(out_dir, 'personal_need_pair.csv'), index=False)\n",
    "personal_needs.to_csv(os.path.join(out_dir, 'personal_needs.csv'), index=False)\n",
    "country_need_exp_pair.to_csv(os.path.join(out_dir, 'country_need_exp_pair.csv'), index=False)\n",
    "country_need_role_pair.to_csv(os.path.join(out_dir, 'country_need_role_pair.csv'), index=False)\n",
    "country_needs.to_csv(os.path.join(out_dir, 'country_needs.csv'), index=False)\n",
    "emotion_pair.to_csv(os.path.join(out_dir, 'emotion_pair.csv'), index=False)\n",
    "emotions_table.to_csv(os.path.join(out_dir, 'emotions_table.csv'), index=False)\n",
    "individuals_table.to_csv(os.path.join(out_dir, 'individuals_table.csv'), index=False)\n",
    "dialogues_table.to_csv(os.path.join(out_dir, 'dialogues_table.csv'), index=False)\n",
    "persons_table.to_csv(os.path.join(out_dir, 'persons_table.csv'), index=False)"
   ]
  },
  {
   "cell_type": "code",
   "execution_count": null,
   "metadata": {},
   "outputs": [],
   "source": []
  },
  {
   "cell_type": "code",
   "execution_count": null,
   "metadata": {},
   "outputs": [],
   "source": []
  }
 ],
 "metadata": {
  "kernelspec": {
   "display_name": "Python 3",
   "language": "python",
   "name": "python3"
  },
  "language_info": {
   "codemirror_mode": {
    "name": "ipython",
    "version": 3
   },
   "file_extension": ".py",
   "mimetype": "text/x-python",
   "name": "python",
   "nbconvert_exporter": "python",
   "pygments_lexer": "ipython3",
   "version": "3.7.6"
  }
 },
 "nbformat": 4,
 "nbformat_minor": 4
}
