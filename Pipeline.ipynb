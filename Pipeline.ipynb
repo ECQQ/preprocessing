{
 "cells": [
  {
   "cell_type": "markdown",
   "metadata": {},
   "source": [
    "# Data cleaning "
   ]
  },
  {
   "cell_type": "code",
   "execution_count": 74,
   "metadata": {},
   "outputs": [],
   "source": [
    "import pandas as pd"
   ]
  },
  {
   "cell_type": "code",
   "execution_count": 76,
   "metadata": {},
   "outputs": [
    {
     "name": "stdout",
     "output_type": "stream",
     "text": [
      "The autoreload extension is already loaded. To reload it, use:\n",
      "  %reload_ext autoreload\n"
     ]
    }
   ],
   "source": [
    "from use_cases.emotions import process_emotions\n",
    "from use_cases.contributions import process_contributions\n",
    "from use_cases.individuals import process_individuals\n",
    "from use_cases.country_needs import process_needs\n",
    "from use_cases.personal_needs import process_needs\n",
    "\n",
    "from use_cases.dialogues import create_table_dialogues\n",
    "from use_cases.persons import create_table\n",
    "\n",
    "\n",
    "pd.options.mode.chained_assignment = None \n",
    "\n",
    "%load_ext autoreload\n",
    "%autoreload 2"
   ]
  },
  {
   "cell_type": "markdown",
   "metadata": {},
   "source": [
    "## Loading Data Surveys"
   ]
  },
  {
   "cell_type": "code",
   "execution_count": 77,
   "metadata": {},
   "outputs": [],
   "source": [
    "chunksize   = 100 # Just for debugging\n",
    "survey_path = './data/BBDD_Dialogos_2021_01_27.csv' \n",
    "survey = pd.read_csv(survey_path, chunksize=chunksize, low_memory=False)\n",
    "for survey in survey: break"
   ]
  },
  {
   "cell_type": "code",
   "execution_count": 78,
   "metadata": {},
   "outputs": [
    {
     "data": {
      "text/html": [
       "<div>\n",
       "<style scoped>\n",
       "    .dataframe tbody tr th:only-of-type {\n",
       "        vertical-align: middle;\n",
       "    }\n",
       "\n",
       "    .dataframe tbody tr th {\n",
       "        vertical-align: top;\n",
       "    }\n",
       "\n",
       "    .dataframe thead th {\n",
       "        text-align: right;\n",
       "    }\n",
       "</style>\n",
       "<table border=\"1\" class=\"dataframe\">\n",
       "  <thead>\n",
       "    <tr style=\"text-align: right;\">\n",
       "      <th></th>\n",
       "      <th>ID</th>\n",
       "      <th>ID Archivo</th>\n",
       "      <th>Fecha</th>\n",
       "      <th>Hora Inicio</th>\n",
       "      <th>Hora Termino</th>\n",
       "      <th>Lugar</th>\n",
       "      <th>Dirección</th>\n",
       "      <th>Comuna</th>\n",
       "      <th>Region</th>\n",
       "      <th>Participantes</th>\n",
       "      <th>...</th>\n",
       "      <th>LP_COD_SEXO_P27</th>\n",
       "      <th>LP_COD_NIVEL_P27</th>\n",
       "      <th>LP_COD_SEXO_P28</th>\n",
       "      <th>LP_COD_NIVEL_P28</th>\n",
       "      <th>LP_COD_SEXO_P29</th>\n",
       "      <th>LP_COD_NIVEL_P29</th>\n",
       "      <th>LP_COD_SEXO_P30</th>\n",
       "      <th>LP_COD_NIVEL_P30</th>\n",
       "      <th>ALPDEI</th>\n",
       "      <th>TIPO INCIDECIA</th>\n",
       "    </tr>\n",
       "  </thead>\n",
       "  <tbody>\n",
       "    <tr>\n",
       "      <th>27</th>\n",
       "      <td>28</td>\n",
       "      <td>ENC_U_4599158663298166911</td>\n",
       "      <td>11-03-2020</td>\n",
       "      <td>10:45:00</td>\n",
       "      <td>12:05:00</td>\n",
       "      <td>Sala Consejo Municipal Comuna Puerto Octay</td>\n",
       "      <td>Pedro Montt S/N</td>\n",
       "      <td>Puerto Octay</td>\n",
       "      <td>de los Lagos</td>\n",
       "      <td>8</td>\n",
       "      <td>...</td>\n",
       "      <td>NaN</td>\n",
       "      <td>NaN</td>\n",
       "      <td>NaN</td>\n",
       "      <td>NaN</td>\n",
       "      <td>NaN</td>\n",
       "      <td>NaN</td>\n",
       "      <td>NaN</td>\n",
       "      <td>NaN</td>\n",
       "      <td>Y</td>\n",
       "      <td>Encuesta Digitada con Incidencias</td>\n",
       "    </tr>\n",
       "    <tr>\n",
       "      <th>77</th>\n",
       "      <td>78</td>\n",
       "      <td>ENC_U_4596866960111106515</td>\n",
       "      <td>02-03-2020</td>\n",
       "      <td>10:30:00</td>\n",
       "      <td>12:30:00</td>\n",
       "      <td>Municipalidad de Traiguen</td>\n",
       "      <td>Basilio Urrutia 914</td>\n",
       "      <td>Traiguén</td>\n",
       "      <td>de la Araucania</td>\n",
       "      <td>5</td>\n",
       "      <td>...</td>\n",
       "      <td>NaN</td>\n",
       "      <td>NaN</td>\n",
       "      <td>NaN</td>\n",
       "      <td>NaN</td>\n",
       "      <td>NaN</td>\n",
       "      <td>NaN</td>\n",
       "      <td>NaN</td>\n",
       "      <td>NaN</td>\n",
       "      <td>Y</td>\n",
       "      <td>Aprobada con Incidencias</td>\n",
       "    </tr>\n",
       "  </tbody>\n",
       "</table>\n",
       "<p>2 rows × 289 columns</p>\n",
       "</div>"
      ],
      "text/plain": [
       "    ID                 ID Archivo       Fecha Hora Inicio Hora Termino  \\\n",
       "27  28  ENC_U_4599158663298166911  11-03-2020    10:45:00     12:05:00   \n",
       "77  78  ENC_U_4596866960111106515  02-03-2020    10:30:00     12:30:00   \n",
       "\n",
       "                                         Lugar            Dirección  \\\n",
       "27  Sala Consejo Municipal Comuna Puerto Octay      Pedro Montt S/N   \n",
       "77                   Municipalidad de Traiguen  Basilio Urrutia 914   \n",
       "\n",
       "          Comuna           Region  Participantes  ... LP_COD_SEXO_P27  \\\n",
       "27  Puerto Octay     de los Lagos              8  ...             NaN   \n",
       "77      Traiguén  de la Araucania              5  ...             NaN   \n",
       "\n",
       "   LP_COD_NIVEL_P27 LP_COD_SEXO_P28 LP_COD_NIVEL_P28 LP_COD_SEXO_P29  \\\n",
       "27              NaN             NaN              NaN             NaN   \n",
       "77              NaN             NaN              NaN             NaN   \n",
       "\n",
       "   LP_COD_NIVEL_P29 LP_COD_SEXO_P30 LP_COD_NIVEL_P30 ALPDEI  \\\n",
       "27              NaN             NaN              NaN      Y   \n",
       "77              NaN             NaN              NaN      Y   \n",
       "\n",
       "                       TIPO INCIDECIA  \n",
       "27  Encuesta Digitada con Incidencias  \n",
       "77           Aprobada con Incidencias  \n",
       "\n",
       "[2 rows x 289 columns]"
      ]
     },
     "execution_count": 78,
     "metadata": {},
     "output_type": "execute_result"
    }
   ],
   "source": [
    "survey.sample(2)"
   ]
  },
  {
   "cell_type": "markdown",
   "metadata": {},
   "source": [
    "## Processing Uses Cases\n",
    "1. Emotions \n",
    "2. Contributions\n",
    "3. Country needs \n",
    "4. Personal/familiar needs"
   ]
  },
  {
   "cell_type": "markdown",
   "metadata": {},
   "source": [
    "### Persons Table (Dialogue)"
   ]
  },
  {
   "cell_type": "code",
   "execution_count": 83,
   "metadata": {},
   "outputs": [],
   "source": [
    "persons_table = create_table(survey)"
   ]
  },
  {
   "cell_type": "code",
   "execution_count": 84,
   "metadata": {},
   "outputs": [
    {
     "data": {
      "text/html": [
       "<div>\n",
       "<style scoped>\n",
       "    .dataframe tbody tr th:only-of-type {\n",
       "        vertical-align: middle;\n",
       "    }\n",
       "\n",
       "    .dataframe tbody tr th {\n",
       "        vertical-align: top;\n",
       "    }\n",
       "\n",
       "    .dataframe thead th {\n",
       "        text-align: right;\n",
       "    }\n",
       "</style>\n",
       "<table border=\"1\" class=\"dataframe\">\n",
       "  <thead>\n",
       "    <tr style=\"text-align: right;\">\n",
       "      <th></th>\n",
       "      <th>file_id</th>\n",
       "      <th>age</th>\n",
       "      <th>sex</th>\n",
       "      <th>level</th>\n",
       "      <th>comuna</th>\n",
       "      <th>age_range</th>\n",
       "    </tr>\n",
       "  </thead>\n",
       "  <tbody>\n",
       "    <tr>\n",
       "      <th>79</th>\n",
       "      <td>enc_u_4596806191197827612</td>\n",
       "      <td>62</td>\n",
       "      <td>f</td>\n",
       "      <td>universitaria_completa</td>\n",
       "      <td>arica</td>\n",
       "      <td>&gt;=60</td>\n",
       "    </tr>\n",
       "    <tr>\n",
       "      <th>17</th>\n",
       "      <td>enc_u_4601818270117498182</td>\n",
       "      <td>46</td>\n",
       "      <td>f</td>\n",
       "      <td>basica_completa</td>\n",
       "      <td>temuco</td>\n",
       "      <td>45-60</td>\n",
       "    </tr>\n",
       "    <tr>\n",
       "      <th>86</th>\n",
       "      <td>enc_u_4596538444129461689</td>\n",
       "      <td>41</td>\n",
       "      <td>h</td>\n",
       "      <td>basica_completa</td>\n",
       "      <td>la serena</td>\n",
       "      <td>30-45</td>\n",
       "    </tr>\n",
       "  </tbody>\n",
       "</table>\n",
       "</div>"
      ],
      "text/plain": [
       "                      file_id age sex                   level     comuna  \\\n",
       "79  enc_u_4596806191197827612  62   f  universitaria_completa      arica   \n",
       "17  enc_u_4601818270117498182  46   f         basica_completa     temuco   \n",
       "86  enc_u_4596538444129461689  41   h         basica_completa  la serena   \n",
       "\n",
       "   age_range  \n",
       "79      >=60  \n",
       "17     45-60  \n",
       "86     30-45  "
      ]
     },
     "execution_count": 84,
     "metadata": {},
     "output_type": "execute_result"
    }
   ],
   "source": [
    "persons_table.sample(3)"
   ]
  },
  {
   "cell_type": "markdown",
   "metadata": {},
   "source": [
    "### Dialogues"
   ]
  },
  {
   "cell_type": "code",
   "execution_count": 103,
   "metadata": {},
   "outputs": [
    {
     "name": "stdout",
     "output_type": "stream",
     "text": [
      "Index(['ID Archivo', 'Fecha', 'Hora Inicio', 'Hora Termino', 'Lugar',\n",
      "       'Dirección', 'Comuna', 'Participantes', 'Grupo'],\n",
      "      dtype='object')\n"
     ]
    }
   ],
   "source": [
    "dialogues_table = create_table_dialogues(survey)"
   ]
  },
  {
   "cell_type": "code",
   "execution_count": 106,
   "metadata": {},
   "outputs": [
    {
     "data": {
      "text/html": [
       "<div>\n",
       "<style scoped>\n",
       "    .dataframe tbody tr th:only-of-type {\n",
       "        vertical-align: middle;\n",
       "    }\n",
       "\n",
       "    .dataframe tbody tr th {\n",
       "        vertical-align: top;\n",
       "    }\n",
       "\n",
       "    .dataframe thead th {\n",
       "        text-align: right;\n",
       "    }\n",
       "</style>\n",
       "<table border=\"1\" class=\"dataframe\">\n",
       "  <thead>\n",
       "    <tr style=\"text-align: right;\">\n",
       "      <th></th>\n",
       "      <th>file_id</th>\n",
       "      <th>date</th>\n",
       "      <th>init_time</th>\n",
       "      <th>end_time</th>\n",
       "      <th>location</th>\n",
       "      <th>address</th>\n",
       "      <th>comuna</th>\n",
       "      <th>n_members</th>\n",
       "      <th>group_name</th>\n",
       "    </tr>\n",
       "  </thead>\n",
       "  <tbody>\n",
       "    <tr>\n",
       "      <th>14</th>\n",
       "      <td>enc_u_4601871500116167158</td>\n",
       "      <td>09-03-2020</td>\n",
       "      <td>09:00:00</td>\n",
       "      <td>10:00:00</td>\n",
       "      <td>seremi de bienes nacionales</td>\n",
       "      <td>arturo prat 535</td>\n",
       "      <td>temuco</td>\n",
       "      <td>5</td>\n",
       "      <td>usuarios de oficina movil de bienes nacionales</td>\n",
       "    </tr>\n",
       "    <tr>\n",
       "      <th>59</th>\n",
       "      <td>enc_u_4597643380118026494</td>\n",
       "      <td>06-03-2020</td>\n",
       "      <td>10:00:00</td>\n",
       "      <td>12:00:00</td>\n",
       "      <td>ilustre municipalidad de temuco</td>\n",
       "      <td>avenida prat 650</td>\n",
       "      <td>temuco</td>\n",
       "      <td>5</td>\n",
       "      <td>usuarios de oficina movil de bienes nacionales</td>\n",
       "    </tr>\n",
       "    <tr>\n",
       "      <th>46</th>\n",
       "      <td>enc_u_4598364490156912284</td>\n",
       "      <td>29-01-2020</td>\n",
       "      <td>16:15:00</td>\n",
       "      <td>18:25:00</td>\n",
       "      <td>casa</td>\n",
       "      <td>villa las americas</td>\n",
       "      <td>talca</td>\n",
       "      <td>5</td>\n",
       "      <td>usuarios de oficina movil de bienes nacionales</td>\n",
       "    </tr>\n",
       "  </tbody>\n",
       "</table>\n",
       "</div>"
      ],
      "text/plain": [
       "                      file_id        date init_time  end_time  \\\n",
       "14  enc_u_4601871500116167158  09-03-2020  09:00:00  10:00:00   \n",
       "59  enc_u_4597643380118026494  06-03-2020  10:00:00  12:00:00   \n",
       "46  enc_u_4598364490156912284  29-01-2020  16:15:00  18:25:00   \n",
       "\n",
       "                           location             address  comuna n_members  \\\n",
       "14      seremi de bienes nacionales     arturo prat 535  temuco         5   \n",
       "59  ilustre municipalidad de temuco    avenida prat 650  temuco         5   \n",
       "46                             casa  villa las americas   talca         5   \n",
       "\n",
       "                                        group_name  \n",
       "14  usuarios de oficina movil de bienes nacionales  \n",
       "59  usuarios de oficina movil de bienes nacionales  \n",
       "46  usuarios de oficina movil de bienes nacionales  "
      ]
     },
     "execution_count": 106,
     "metadata": {},
     "output_type": "execute_result"
    }
   ],
   "source": [
    "dialogues_table.sample(3)"
   ]
  },
  {
   "cell_type": "markdown",
   "metadata": {},
   "source": [
    "### Emotions\n",
    "\n",
    "<img src=\"diagrams/q1.png\" width=730 height=520 />"
   ]
  },
  {
   "cell_type": "code",
   "execution_count": 149,
   "metadata": {},
   "outputs": [
    {
     "name": "stderr",
     "output_type": "stream",
     "text": [
      "[nltk_data] Downloading package stopwords to /home/jovyan/nltk_data...\n",
      "[nltk_data]   Package stopwords is already up-to-date!\n"
     ]
    },
    {
     "name": "stdout",
     "output_type": "stream",
     "text": [
      "CPU times: user 688 ms, sys: 55.7 ms, total: 744 ms\n",
      "Wall time: 743 ms\n"
     ]
    }
   ],
   "source": [
    "%%time\n",
    "emotions_table = process_emotions(survey)"
   ]
  },
  {
   "cell_type": "code",
   "execution_count": 150,
   "metadata": {},
   "outputs": [
    {
     "data": {
      "text/html": [
       "<div>\n",
       "<style scoped>\n",
       "    .dataframe tbody tr th:only-of-type {\n",
       "        vertical-align: middle;\n",
       "    }\n",
       "\n",
       "    .dataframe tbody tr th {\n",
       "        vertical-align: top;\n",
       "    }\n",
       "\n",
       "    .dataframe thead th {\n",
       "        text-align: right;\n",
       "    }\n",
       "</style>\n",
       "<table border=\"1\" class=\"dataframe\">\n",
       "  <thead>\n",
       "    <tr style=\"text-align: right;\">\n",
       "      <th></th>\n",
       "      <th>file_ids</th>\n",
       "      <th>name</th>\n",
       "      <th>name_token</th>\n",
       "      <th>macro</th>\n",
       "      <th>text</th>\n",
       "      <th>text_tokens</th>\n",
       "    </tr>\n",
       "  </thead>\n",
       "  <tbody>\n",
       "    <tr>\n",
       "      <th>16</th>\n",
       "      <td>ENC_U_4601845869157670140</td>\n",
       "      <td>da miedo por nuestros familiares</td>\n",
       "      <td>[da, miedo, familiares]</td>\n",
       "      <td>da miedo por nuestros familiares</td>\n",
       "      <td>han aumentado los despidos y el peligro</td>\n",
       "      <td>[aumentado, despidos, peligro]</td>\n",
       "    </tr>\n",
       "    <tr>\n",
       "      <th>19</th>\n",
       "      <td>ENC_U_4601775450115858328</td>\n",
       "      <td>inseguridad</td>\n",
       "      <td>[inseguridad]</td>\n",
       "      <td>inseguridad</td>\n",
       "      <td>por los saqueos, robos, destruccion</td>\n",
       "      <td>[saqueos, robos, destruccion]</td>\n",
       "    </tr>\n",
       "  </tbody>\n",
       "</table>\n",
       "</div>"
      ],
      "text/plain": [
       "                     file_ids                               name  \\\n",
       "16  ENC_U_4601845869157670140  da miedo por nuestros familiares    \n",
       "19  ENC_U_4601775450115858328                        inseguridad   \n",
       "\n",
       "                 name_token                              macro  \\\n",
       "16  [da, miedo, familiares]  da miedo por nuestros familiares    \n",
       "19            [inseguridad]                        inseguridad   \n",
       "\n",
       "                                       text                     text_tokens  \n",
       "16  han aumentado los despidos y el peligro  [aumentado, despidos, peligro]  \n",
       "19      por los saqueos, robos, destruccion   [saqueos, robos, destruccion]  "
      ]
     },
     "execution_count": 150,
     "metadata": {},
     "output_type": "execute_result"
    }
   ],
   "source": [
    "emotions_table.sample(2)"
   ]
  },
  {
   "cell_type": "code",
   "execution_count": null,
   "metadata": {},
   "outputs": [],
   "source": []
  },
  {
   "cell_type": "markdown",
   "metadata": {},
   "source": [
    "### Contributions"
   ]
  },
  {
   "cell_type": "code",
   "execution_count": null,
   "metadata": {},
   "outputs": [],
   "source": []
  },
  {
   "cell_type": "code",
   "execution_count": null,
   "metadata": {},
   "outputs": [],
   "source": []
  },
  {
   "cell_type": "code",
   "execution_count": null,
   "metadata": {},
   "outputs": [],
   "source": []
  },
  {
   "cell_type": "markdown",
   "metadata": {},
   "source": [
    "### Family Needs"
   ]
  },
  {
   "cell_type": "code",
   "execution_count": null,
   "metadata": {},
   "outputs": [],
   "source": []
  },
  {
   "cell_type": "code",
   "execution_count": null,
   "metadata": {},
   "outputs": [],
   "source": []
  },
  {
   "cell_type": "code",
   "execution_count": null,
   "metadata": {},
   "outputs": [],
   "source": []
  },
  {
   "cell_type": "markdown",
   "metadata": {},
   "source": [
    "### Country Needs"
   ]
  },
  {
   "cell_type": "code",
   "execution_count": null,
   "metadata": {},
   "outputs": [],
   "source": []
  },
  {
   "cell_type": "code",
   "execution_count": null,
   "metadata": {},
   "outputs": [],
   "source": []
  },
  {
   "cell_type": "code",
   "execution_count": null,
   "metadata": {},
   "outputs": [],
   "source": []
  },
  {
   "cell_type": "code",
   "execution_count": null,
   "metadata": {},
   "outputs": [],
   "source": []
  }
 ],
 "metadata": {
  "kernelspec": {
   "display_name": "Python 3",
   "language": "python",
   "name": "python3"
  },
  "language_info": {
   "codemirror_mode": {
    "name": "ipython",
    "version": 3
   },
   "file_extension": ".py",
   "mimetype": "text/x-python",
   "name": "python",
   "nbconvert_exporter": "python",
   "pygments_lexer": "ipython3",
   "version": "3.7.6"
  }
 },
 "nbformat": 4,
 "nbformat_minor": 4
}
