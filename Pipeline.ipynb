{
 "cells": [
  {
   "cell_type": "markdown",
   "metadata": {},
   "source": [
    "# Data cleaning "
   ]
  },
  {
   "cell_type": "code",
   "execution_count": 3,
   "metadata": {},
   "outputs": [],
   "source": [
    "import pandas as pd"
   ]
  },
  {
   "cell_type": "code",
   "execution_count": 55,
   "metadata": {},
   "outputs": [
    {
     "name": "stdout",
     "output_type": "stream",
     "text": [
      "The autoreload extension is already loaded. To reload it, use:\n",
      "  %reload_ext autoreload\n"
     ]
    }
   ],
   "source": [
    "from use_cases.contributions import create_table_contributions\n",
    "\n",
    "from use_cases.emotions import create_table_emotions\n",
    "from use_cases.personal_needs import create_table_personal_needs\n",
    "from use_cases.dialogues import create_table_dialogues\n",
    "from use_cases.country_needs import create_table_country_needs\n",
    "from use_cases.persons import create_table_persons\n",
    "from use_cases.individuals import create_table_individuals\n",
    "\n",
    "\n",
    "pd.options.mode.chained_assignment = None \n",
    "\n",
    "%load_ext autoreload\n",
    "%autoreload 2"
   ]
  },
  {
   "cell_type": "markdown",
   "metadata": {},
   "source": [
    "## Loading Data Surveys"
   ]
  },
  {
   "cell_type": "code",
   "execution_count": 28,
   "metadata": {},
   "outputs": [],
   "source": [
    "chunksize   = 100 # Just for debugging\n",
    "survey_path = './data/BBDD_Dialogos_2021_01_27.csv' \n",
    "survey = pd.read_csv(survey_path, chunksize=chunksize, low_memory=False)\n",
    "for survey in survey: break\n",
    "    \n",
    "ind_online_survey_path = './data/Consulta_Individual_online_v2.xlsx'\n",
    "ind_online_survey = pd.read_excel(ind_online_survey_path, 'Sheet1')\n",
    "    \n",
    "ind_survey_path = './data/Base_final_digitación_Consultas.xlsx'\n",
    "ind_survey = pd.read_excel(ind_survey_path, 'CONSULTAS')"
   ]
  },
  {
   "cell_type": "code",
   "execution_count": 25,
   "metadata": {},
   "outputs": [
    {
     "data": {
      "text/html": [
       "<div>\n",
       "<style scoped>\n",
       "    .dataframe tbody tr th:only-of-type {\n",
       "        vertical-align: middle;\n",
       "    }\n",
       "\n",
       "    .dataframe tbody tr th {\n",
       "        vertical-align: top;\n",
       "    }\n",
       "\n",
       "    .dataframe thead th {\n",
       "        text-align: right;\n",
       "    }\n",
       "</style>\n",
       "<table border=\"1\" class=\"dataframe\">\n",
       "  <thead>\n",
       "    <tr style=\"text-align: right;\">\n",
       "      <th></th>\n",
       "      <th>Submission Date</th>\n",
       "      <th>RUN</th>\n",
       "      <th>Edad</th>\n",
       "      <th>Comuna</th>\n",
       "      <th>1. ¿Cuál es el nivel de educación alcanzado por Usted?</th>\n",
       "      <th>2. ¿Cuál es el nivel de educación que alcanzó el jefe de su hogar? (sólo si se trata de alguien distinto a Usted)</th>\n",
       "      <th>1 &gt;&gt; Emociones / Sentimientos / Sensaciones</th>\n",
       "      <th>1 &gt;&gt; Explique lo mencionado</th>\n",
       "      <th>2 &gt;&gt; Emociones / Sentimientos / Sensaciones</th>\n",
       "      <th>2 &gt;&gt; Explique lo mencionado</th>\n",
       "      <th>...</th>\n",
       "      <th>2 &gt;&gt; Rol del actor social (Describa)</th>\n",
       "      <th>3 &gt;&gt; Necesidades del país identificadas</th>\n",
       "      <th>3 &gt;&gt; Rol del Estado (Describa)</th>\n",
       "      <th>3 &gt;&gt; Actor social (empresa, organizaciones sociales, medios de comunicación, comunidad, etc)</th>\n",
       "      <th>3 &gt;&gt; Rol del actor social (Describa)</th>\n",
       "      <th>5. Pregunta: ¿Cuál es mi contribución personal para construir el Chile que queremos?</th>\n",
       "      <th>Comuna.1</th>\n",
       "      <th>Comentarios finales: Si tiene alguna observación o sugerencia, en este espacio puede indicarla.</th>\n",
       "      <th>Región</th>\n",
       "      <th>Región.1</th>\n",
       "    </tr>\n",
       "  </thead>\n",
       "  <tbody>\n",
       "    <tr>\n",
       "      <th>118</th>\n",
       "      <td>2020/01/28 17:16:55</td>\n",
       "      <td>fe4e1e449153be2f636ef9f2b1ce4cc1</td>\n",
       "      <td>57</td>\n",
       "      <td>NaN</td>\n",
       "      <td>Universitaria incompleta. Técnica completa.</td>\n",
       "      <td>Yo soy el jefe de hogar.</td>\n",
       "      <td>deprimido</td>\n",
       "      <td>no veo solucion por parte del estado o gobiern...</td>\n",
       "      <td>desanimado</td>\n",
       "      <td>sinestimulo a continuar mis labores agricolas ...</td>\n",
       "      <td>...</td>\n",
       "      <td>participar de las politicas publicas al respec...</td>\n",
       "      <td>prevision publica</td>\n",
       "      <td>contralor y parte del reparto, mediantecsusins...</td>\n",
       "      <td>ministerio del trabajo y desarrollo social</td>\n",
       "      <td>ser parte del mecanismodecontrol y voto</td>\n",
       "      <td>Aportar con mis impuestos, mi formacion, mis h...</td>\n",
       "      <td>Constitucion</td>\n",
       "      <td>la encuesta no me da espacio a tocar temas com...</td>\n",
       "      <td>Región del Maule</td>\n",
       "      <td>NaN</td>\n",
       "    </tr>\n",
       "    <tr>\n",
       "      <th>1295</th>\n",
       "      <td>2019/12/17 21:52:33</td>\n",
       "      <td>4bae087f3bfd2fb1e4b67cc9cca3607c</td>\n",
       "      <td>22</td>\n",
       "      <td>Las Condes</td>\n",
       "      <td>Universitaria incompleta. Técnica completa.</td>\n",
       "      <td>Universitaria completa.</td>\n",
       "      <td>Decepcionado</td>\n",
       "      <td>Falta de empatia y de responsabilidad del estado</td>\n",
       "      <td>Deprimido</td>\n",
       "      <td>Veo un futuro inestable , donde o se perpetuán...</td>\n",
       "      <td>...</td>\n",
       "      <td>Ellos deben saber los reales problemas que se ...</td>\n",
       "      <td>Subsidiar un poco mas</td>\n",
       "      <td>que el estado tome un rol de dar un poco de di...</td>\n",
       "      <td>----</td>\n",
       "      <td>----</td>\n",
       "      <td>contestar esta encuesta\\nseguir las leyes\\ninf...</td>\n",
       "      <td>NaN</td>\n",
       "      <td>Hagan caso a la gente. porfavor. Yo ya no pued...</td>\n",
       "      <td>NaN</td>\n",
       "      <td>Region Metropolitana</td>\n",
       "    </tr>\n",
       "  </tbody>\n",
       "</table>\n",
       "<p>2 rows × 44 columns</p>\n",
       "</div>"
      ],
      "text/plain": [
       "          Submission Date                               RUN Edad      Comuna  \\\n",
       "118   2020/01/28 17:16:55  fe4e1e449153be2f636ef9f2b1ce4cc1   57         NaN   \n",
       "1295  2019/12/17 21:52:33  4bae087f3bfd2fb1e4b67cc9cca3607c   22  Las Condes   \n",
       "\n",
       "     1. ¿Cuál es el nivel de educación alcanzado por Usted?  \\\n",
       "118         Universitaria incompleta. Técnica completa.       \n",
       "1295        Universitaria incompleta. Técnica completa.       \n",
       "\n",
       "     2. ¿Cuál es el nivel de educación que alcanzó el jefe de su hogar? (sólo si se trata de alguien distinto a Usted)  \\\n",
       "118                            Yo soy el jefe de hogar.                                                                  \n",
       "1295                            Universitaria completa.                                                                  \n",
       "\n",
       "     1 >> Emociones / Sentimientos / Sensaciones  \\\n",
       "118                                    deprimido   \n",
       "1295                                Decepcionado   \n",
       "\n",
       "                            1 >> Explique lo mencionado  \\\n",
       "118   no veo solucion por parte del estado o gobiern...   \n",
       "1295   Falta de empatia y de responsabilidad del estado   \n",
       "\n",
       "     2 >> Emociones / Sentimientos / Sensaciones  \\\n",
       "118                                   desanimado   \n",
       "1295                                   Deprimido   \n",
       "\n",
       "                            2 >> Explique lo mencionado  ...  \\\n",
       "118   sinestimulo a continuar mis labores agricolas ...  ...   \n",
       "1295  Veo un futuro inestable , donde o se perpetuán...  ...   \n",
       "\n",
       "                   2 >> Rol del actor social (Describa)  \\\n",
       "118   participar de las politicas publicas al respec...   \n",
       "1295  Ellos deben saber los reales problemas que se ...   \n",
       "\n",
       "     3 >> Necesidades del país identificadas  \\\n",
       "118                        prevision publica   \n",
       "1295                   Subsidiar un poco mas   \n",
       "\n",
       "                         3 >> Rol del Estado (Describa)  \\\n",
       "118   contralor y parte del reparto, mediantecsusins...   \n",
       "1295  que el estado tome un rol de dar un poco de di...   \n",
       "\n",
       "     3 >> Actor social (empresa, organizaciones sociales, medios de comunicación, comunidad, etc)  \\\n",
       "118          ministerio del trabajo y desarrollo social                                             \n",
       "1295                                               ----                                             \n",
       "\n",
       "         3 >> Rol del actor social (Describa)  \\\n",
       "118   ser parte del mecanismodecontrol y voto   \n",
       "1295                                     ----   \n",
       "\n",
       "     5. Pregunta: ¿Cuál es mi contribución personal para construir el Chile que queremos?  \\\n",
       "118   Aportar con mis impuestos, mi formacion, mis h...                                       \n",
       "1295  contestar esta encuesta\\nseguir las leyes\\ninf...                                       \n",
       "\n",
       "          Comuna.1  \\\n",
       "118   Constitucion   \n",
       "1295           NaN   \n",
       "\n",
       "     Comentarios finales: Si tiene alguna observación o sugerencia, en este espacio puede indicarla.  \\\n",
       "118   la encuesta no me da espacio a tocar temas com...                                                 \n",
       "1295  Hagan caso a la gente. porfavor. Yo ya no pued...                                                 \n",
       "\n",
       "                Región              Región.1  \n",
       "118   Región del Maule                   NaN  \n",
       "1295               NaN  Region Metropolitana  \n",
       "\n",
       "[2 rows x 44 columns]"
      ]
     },
     "execution_count": 25,
     "metadata": {},
     "output_type": "execute_result"
    }
   ],
   "source": [
    "survey.sample(2)\n",
    "ind_online_survey.sample(2)"
   ]
  },
  {
   "cell_type": "markdown",
   "metadata": {},
   "source": [
    "## Processing Uses Cases\n",
    "1. Emotions \n",
    "2. Contributions\n",
    "3. Country needs \n",
    "4. Personal/familiar needs"
   ]
  },
  {
   "cell_type": "markdown",
   "metadata": {},
   "source": [
    "### Persons Table (Dialogue)"
   ]
  },
  {
   "cell_type": "code",
   "execution_count": 8,
   "metadata": {},
   "outputs": [],
   "source": [
    "persons_table = create_table_persons(survey)"
   ]
  },
  {
   "cell_type": "code",
   "execution_count": 9,
   "metadata": {},
   "outputs": [
    {
     "data": {
      "text/html": [
       "<div>\n",
       "<style scoped>\n",
       "    .dataframe tbody tr th:only-of-type {\n",
       "        vertical-align: middle;\n",
       "    }\n",
       "\n",
       "    .dataframe tbody tr th {\n",
       "        vertical-align: top;\n",
       "    }\n",
       "\n",
       "    .dataframe thead th {\n",
       "        text-align: right;\n",
       "    }\n",
       "</style>\n",
       "<table border=\"1\" class=\"dataframe\">\n",
       "  <thead>\n",
       "    <tr style=\"text-align: right;\">\n",
       "      <th></th>\n",
       "      <th>file_id</th>\n",
       "      <th>age</th>\n",
       "      <th>sex</th>\n",
       "      <th>level</th>\n",
       "      <th>comuna_id</th>\n",
       "      <th>age_range</th>\n",
       "    </tr>\n",
       "  </thead>\n",
       "  <tbody>\n",
       "    <tr>\n",
       "      <th>79</th>\n",
       "      <td>enc_u_4596806191197827612</td>\n",
       "      <td>62</td>\n",
       "      <td>f</td>\n",
       "      <td>universitaria_completa</td>\n",
       "      <td>15101</td>\n",
       "      <td>&gt;=60</td>\n",
       "    </tr>\n",
       "    <tr>\n",
       "      <th>64</th>\n",
       "      <td>enc_u_4597463400111912984</td>\n",
       "      <td>66</td>\n",
       "      <td>h</td>\n",
       "      <td></td>\n",
       "      <td>9105</td>\n",
       "      <td>&gt;=60</td>\n",
       "    </tr>\n",
       "    <tr>\n",
       "      <th>60</th>\n",
       "      <td>enc_u_4597643359322725615</td>\n",
       "      <td>64</td>\n",
       "      <td>h</td>\n",
       "      <td>universitaria_completa</td>\n",
       "      <td>8201</td>\n",
       "      <td>&gt;=60</td>\n",
       "    </tr>\n",
       "  </tbody>\n",
       "</table>\n",
       "</div>"
      ],
      "text/plain": [
       "                      file_id age sex                   level  comuna_id  \\\n",
       "79  enc_u_4596806191197827612  62   f  universitaria_completa      15101   \n",
       "64  enc_u_4597463400111912984  66   h                               9105   \n",
       "60  enc_u_4597643359322725615  64   h  universitaria_completa       8201   \n",
       "\n",
       "   age_range  \n",
       "79      >=60  \n",
       "64      >=60  \n",
       "60      >=60  "
      ]
     },
     "execution_count": 9,
     "metadata": {},
     "output_type": "execute_result"
    }
   ],
   "source": [
    "persons_table.sample(3)"
   ]
  },
  {
   "cell_type": "markdown",
   "metadata": {},
   "source": [
    "### Dialogues"
   ]
  },
  {
   "cell_type": "code",
   "execution_count": 10,
   "metadata": {},
   "outputs": [],
   "source": [
    "dialogues_table = create_table_dialogues(survey)"
   ]
  },
  {
   "cell_type": "code",
   "execution_count": 11,
   "metadata": {},
   "outputs": [
    {
     "data": {
      "text/html": [
       "<div>\n",
       "<style scoped>\n",
       "    .dataframe tbody tr th:only-of-type {\n",
       "        vertical-align: middle;\n",
       "    }\n",
       "\n",
       "    .dataframe tbody tr th {\n",
       "        vertical-align: top;\n",
       "    }\n",
       "\n",
       "    .dataframe thead th {\n",
       "        text-align: right;\n",
       "    }\n",
       "</style>\n",
       "<table border=\"1\" class=\"dataframe\">\n",
       "  <thead>\n",
       "    <tr style=\"text-align: right;\">\n",
       "      <th></th>\n",
       "      <th>file_id</th>\n",
       "      <th>date</th>\n",
       "      <th>init_time</th>\n",
       "      <th>end_time</th>\n",
       "      <th>location</th>\n",
       "      <th>address</th>\n",
       "      <th>comuna_id</th>\n",
       "      <th>n_members</th>\n",
       "      <th>group_name</th>\n",
       "    </tr>\n",
       "  </thead>\n",
       "  <tbody>\n",
       "    <tr>\n",
       "      <th>68</th>\n",
       "      <td>enc_u_4597427340775463337</td>\n",
       "      <td>28-02-2020</td>\n",
       "      <td>10:00:00</td>\n",
       "      <td>12:00:00</td>\n",
       "      <td>facultad de medicina ufro</td>\n",
       "      <td>casino de la facultad</td>\n",
       "      <td>9101</td>\n",
       "      <td>5</td>\n",
       "      <td>usuarios de oficina movil de bienes nacionales</td>\n",
       "    </tr>\n",
       "    <tr>\n",
       "      <th>16</th>\n",
       "      <td>enc_u_4601845869157670140</td>\n",
       "      <td>13-03-2020</td>\n",
       "      <td>10:15:00</td>\n",
       "      <td>11:45:00</td>\n",
       "      <td>sed union comunal adulto mayor</td>\n",
       "      <td>conuepan esquina mc oliver</td>\n",
       "      <td>9112</td>\n",
       "      <td>0</td>\n",
       "      <td>usuarios de oficina movil de bienes nacionales</td>\n",
       "    </tr>\n",
       "    <tr>\n",
       "      <th>49</th>\n",
       "      <td>enc_u_4598360210156649032</td>\n",
       "      <td>14-01-2020</td>\n",
       "      <td>19:00:00</td>\n",
       "      <td>20:30:00</td>\n",
       "      <td>15 norte #2363 villa parque industrial</td>\n",
       "      <td>15 norte #2363</td>\n",
       "      <td>7101</td>\n",
       "      <td>5</td>\n",
       "      <td>usuarios de oficina movil de bienes nacionales</td>\n",
       "    </tr>\n",
       "  </tbody>\n",
       "</table>\n",
       "</div>"
      ],
      "text/plain": [
       "                      file_id        date init_time  end_time  \\\n",
       "68  enc_u_4597427340775463337  28-02-2020  10:00:00  12:00:00   \n",
       "16  enc_u_4601845869157670140  13-03-2020  10:15:00  11:45:00   \n",
       "49  enc_u_4598360210156649032  14-01-2020  19:00:00  20:30:00   \n",
       "\n",
       "                                  location                      address  \\\n",
       "68               facultad de medicina ufro        casino de la facultad   \n",
       "16          sed union comunal adulto mayor  conuepan esquina mc oliver    \n",
       "49  15 norte #2363 villa parque industrial               15 norte #2363   \n",
       "\n",
       "    comuna_id n_members                                      group_name  \n",
       "68       9101         5  usuarios de oficina movil de bienes nacionales  \n",
       "16       9112         0  usuarios de oficina movil de bienes nacionales  \n",
       "49       7101         5  usuarios de oficina movil de bienes nacionales  "
      ]
     },
     "execution_count": 11,
     "metadata": {},
     "output_type": "execute_result"
    }
   ],
   "source": [
    "dialogues_table.sample(3)"
   ]
  },
  {
   "cell_type": "markdown",
   "metadata": {},
   "source": [
    "### Emotions\n",
    "\n",
    "<img src=\"diagrams/q1.png\" width=730 height=520 />"
   ]
  },
  {
   "cell_type": "code",
   "execution_count": 13,
   "metadata": {},
   "outputs": [
    {
     "name": "stdout",
     "output_type": "stream",
     "text": [
      "CPU times: user 697 ms, sys: 48.3 ms, total: 746 ms\n",
      "Wall time: 747 ms\n"
     ]
    }
   ],
   "source": [
    "%%time\n",
    "emotions_table = create_table_emotions(survey)"
   ]
  },
  {
   "cell_type": "code",
   "execution_count": 14,
   "metadata": {},
   "outputs": [
    {
     "data": {
      "text/html": [
       "<div>\n",
       "<style scoped>\n",
       "    .dataframe tbody tr th:only-of-type {\n",
       "        vertical-align: middle;\n",
       "    }\n",
       "\n",
       "    .dataframe tbody tr th {\n",
       "        vertical-align: top;\n",
       "    }\n",
       "\n",
       "    .dataframe thead th {\n",
       "        text-align: right;\n",
       "    }\n",
       "</style>\n",
       "<table border=\"1\" class=\"dataframe\">\n",
       "  <thead>\n",
       "    <tr style=\"text-align: right;\">\n",
       "      <th></th>\n",
       "      <th>file_ids</th>\n",
       "      <th>name</th>\n",
       "      <th>name_token</th>\n",
       "      <th>macro</th>\n",
       "      <th>text</th>\n",
       "      <th>text_tokens</th>\n",
       "    </tr>\n",
       "  </thead>\n",
       "  <tbody>\n",
       "    <tr>\n",
       "      <th>79</th>\n",
       "      <td>ENC_U_4596806191197827612</td>\n",
       "      <td>preocupacion por la situacion diaria incierta.</td>\n",
       "      <td>[preocupacion, situacion, diaria, incierta]</td>\n",
       "      <td>preocupacion por la situacion diaria incierta.</td>\n",
       "      <td>porque el movimiento ha generado disminucion e...</td>\n",
       "      <td>[movimiento, generado, disminucion, creacion, ...</td>\n",
       "    </tr>\n",
       "    <tr>\n",
       "      <th>22</th>\n",
       "      <td>ENC_U_4601731044543916003</td>\n",
       "      <td>miedo y terror</td>\n",
       "      <td>[miedo, terror]</td>\n",
       "      <td>miedo y terror</td>\n",
       "      <td>lo que no se sabe que va a pasar.\\nla incertid...</td>\n",
       "      <td>[sabe, va, pasar, incertidumbre, pare, ves, to...</td>\n",
       "    </tr>\n",
       "  </tbody>\n",
       "</table>\n",
       "</div>"
      ],
      "text/plain": [
       "                     file_ids                                            name  \\\n",
       "79  ENC_U_4596806191197827612  preocupacion por la situacion diaria incierta.   \n",
       "22  ENC_U_4601731044543916003                                  miedo y terror   \n",
       "\n",
       "                                     name_token  \\\n",
       "79  [preocupacion, situacion, diaria, incierta]   \n",
       "22                              [miedo, terror]   \n",
       "\n",
       "                                             macro  \\\n",
       "79  preocupacion por la situacion diaria incierta.   \n",
       "22                                  miedo y terror   \n",
       "\n",
       "                                                 text  \\\n",
       "79  porque el movimiento ha generado disminucion e...   \n",
       "22  lo que no se sabe que va a pasar.\\nla incertid...   \n",
       "\n",
       "                                          text_tokens  \n",
       "79  [movimiento, generado, disminucion, creacion, ...  \n",
       "22  [sabe, va, pasar, incertidumbre, pare, ves, to...  "
      ]
     },
     "execution_count": 14,
     "metadata": {},
     "output_type": "execute_result"
    }
   ],
   "source": [
    "emotions_table.sample(2)"
   ]
  },
  {
   "cell_type": "markdown",
   "metadata": {},
   "source": [
    "### Individuals"
   ]
  },
  {
   "cell_type": "code",
   "execution_count": 31,
   "metadata": {
    "scrolled": true
   },
   "outputs": [
    {
     "name": "stdout",
     "output_type": "stream",
     "text": [
      "CPU times: user 8.66 s, sys: 56.7 ms, total: 8.72 s\n",
      "Wall time: 8.63 s\n"
     ]
    }
   ],
   "source": [
    "%%time\n",
    "individuals_table = create_table_individuals(ind_online_survey, ind_survey)"
   ]
  },
  {
   "cell_type": "code",
   "execution_count": 32,
   "metadata": {},
   "outputs": [
    {
     "data": {
      "text/html": [
       "<div>\n",
       "<style scoped>\n",
       "    .dataframe tbody tr th:only-of-type {\n",
       "        vertical-align: middle;\n",
       "    }\n",
       "\n",
       "    .dataframe tbody tr th {\n",
       "        vertical-align: top;\n",
       "    }\n",
       "\n",
       "    .dataframe thead th {\n",
       "        text-align: right;\n",
       "    }\n",
       "</style>\n",
       "<table border=\"1\" class=\"dataframe\">\n",
       "  <thead>\n",
       "    <tr style=\"text-align: right;\">\n",
       "      <th></th>\n",
       "      <th>id</th>\n",
       "      <th>date</th>\n",
       "      <th>age</th>\n",
       "      <th>comuna_id</th>\n",
       "      <th>level</th>\n",
       "      <th>online</th>\n",
       "      <th>age_range</th>\n",
       "    </tr>\n",
       "  </thead>\n",
       "  <tbody>\n",
       "    <tr>\n",
       "      <th>7829</th>\n",
       "      <td>9633</td>\n",
       "      <td>13-02-2020</td>\n",
       "      <td>24</td>\n",
       "      <td>10301</td>\n",
       "      <td>Media completa. Técnica incompleta</td>\n",
       "      <td></td>\n",
       "      <td>15-30</td>\n",
       "    </tr>\n",
       "    <tr>\n",
       "      <th>3049</th>\n",
       "      <td>4853</td>\n",
       "      <td></td>\n",
       "      <td></td>\n",
       "      <td>11402</td>\n",
       "      <td>Media completa. Técnica incompleta</td>\n",
       "      <td></td>\n",
       "      <td>0-15</td>\n",
       "    </tr>\n",
       "  </tbody>\n",
       "</table>\n",
       "</div>"
      ],
      "text/plain": [
       "        id        date age  comuna_id                               level  \\\n",
       "7829  9633  13-02-2020  24      10301  Media completa. Técnica incompleta   \n",
       "3049  4853                      11402  Media completa. Técnica incompleta   \n",
       "\n",
       "     online age_range  \n",
       "7829            15-30  \n",
       "3049             0-15  "
      ]
     },
     "execution_count": 32,
     "metadata": {},
     "output_type": "execute_result"
    }
   ],
   "source": [
    "individuals_table.sample(2)"
   ]
  },
  {
   "cell_type": "markdown",
   "metadata": {},
   "source": [
    "### Country Needs"
   ]
  },
  {
   "cell_type": "code",
   "execution_count": 41,
   "metadata": {},
   "outputs": [],
   "source": [
    "country_needs = create_table_country_needs(survey)"
   ]
  },
  {
   "cell_type": "code",
   "execution_count": 249,
   "metadata": {
    "scrolled": false
   },
   "outputs": [
    {
     "data": {
      "text/html": [
       "<div>\n",
       "<style scoped>\n",
       "    .dataframe tbody tr th:only-of-type {\n",
       "        vertical-align: middle;\n",
       "    }\n",
       "\n",
       "    .dataframe tbody tr th {\n",
       "        vertical-align: top;\n",
       "    }\n",
       "\n",
       "    .dataframe thead th {\n",
       "        text-align: right;\n",
       "    }\n",
       "</style>\n",
       "<table border=\"1\" class=\"dataframe\">\n",
       "  <thead>\n",
       "    <tr style=\"text-align: right;\">\n",
       "      <th></th>\n",
       "      <th>id</th>\n",
       "      <th>name</th>\n",
       "      <th>name_tokens</th>\n",
       "      <th>macro</th>\n",
       "      <th>exp</th>\n",
       "      <th>exp_tokens</th>\n",
       "      <th>role</th>\n",
       "      <th>role_tokens</th>\n",
       "      <th>actor</th>\n",
       "      <th>priority</th>\n",
       "    </tr>\n",
       "  </thead>\n",
       "  <tbody>\n",
       "    <tr>\n",
       "      <th>59</th>\n",
       "      <td>510</td>\n",
       "      <td>responsabilidad</td>\n",
       "      <td>[responsabilidad]</td>\n",
       "      <td></td>\n",
       "      <td>el pais carece del valor de la responsabilidad...</td>\n",
       "      <td>[pais, carece, valor, responsabilidad, gobiern...</td>\n",
       "      <td>rol activo</td>\n",
       "      <td>[rol, activo]</td>\n",
       "      <td>estado</td>\n",
       "      <td>5</td>\n",
       "    </tr>\n",
       "    <tr>\n",
       "      <th>112</th>\n",
       "      <td>112</td>\n",
       "      <td>pensiones</td>\n",
       "      <td>[pensiones]</td>\n",
       "      <td></td>\n",
       "      <td></td>\n",
       "      <td></td>\n",
       "      <td>aumentar las pensiones de todos los chilenos y...</td>\n",
       "      <td>[aumentar, pensiones, chilenos, chilenas, baja...</td>\n",
       "      <td>estado</td>\n",
       "      <td></td>\n",
       "    </tr>\n",
       "    <tr>\n",
       "      <th>86</th>\n",
       "      <td>388</td>\n",
       "      <td>eliminar</td>\n",
       "      <td>[eliminar]</td>\n",
       "      <td></td>\n",
       "      <td>- cambiar constitucion \\n- o restructurarla\\n-...</td>\n",
       "      <td>[cambiar, constitucion, restructurarla, elimin...</td>\n",
       "      <td></td>\n",
       "      <td></td>\n",
       "      <td></td>\n",
       "      <td>0</td>\n",
       "    </tr>\n",
       "  </tbody>\n",
       "</table>\n",
       "</div>"
      ],
      "text/plain": [
       "      id             name        name_tokens macro  \\\n",
       "59   510  responsabilidad  [responsabilidad]         \n",
       "112  112        pensiones        [pensiones]         \n",
       "86   388         eliminar         [eliminar]         \n",
       "\n",
       "                                                   exp  \\\n",
       "59   el pais carece del valor de la responsabilidad...   \n",
       "112                                                      \n",
       "86   - cambiar constitucion \\n- o restructurarla\\n-...   \n",
       "\n",
       "                                            exp_tokens  \\\n",
       "59   [pais, carece, valor, responsabilidad, gobiern...   \n",
       "112                                                      \n",
       "86   [cambiar, constitucion, restructurarla, elimin...   \n",
       "\n",
       "                                                  role  \\\n",
       "59                                          rol activo   \n",
       "112  aumentar las pensiones de todos los chilenos y...   \n",
       "86                                                       \n",
       "\n",
       "                                           role_tokens   actor priority  \n",
       "59                                       [rol, activo]  estado        5  \n",
       "112  [aumentar, pensiones, chilenos, chilenas, baja...  estado           \n",
       "86                                                                    0  "
      ]
     },
     "execution_count": 249,
     "metadata": {},
     "output_type": "execute_result"
    }
   ],
   "source": [
    "country_needs.sample(3)"
   ]
  },
  {
   "cell_type": "code",
   "execution_count": null,
   "metadata": {},
   "outputs": [],
   "source": []
  },
  {
   "cell_type": "markdown",
   "metadata": {},
   "source": [
    "### Family/PersonalNeeds"
   ]
  },
  {
   "cell_type": "code",
   "execution_count": 53,
   "metadata": {},
   "outputs": [],
   "source": [
    "personal_needs = create_table_personal_needs(survey)"
   ]
  },
  {
   "cell_type": "code",
   "execution_count": 54,
   "metadata": {},
   "outputs": [
    {
     "data": {
      "text/html": [
       "<div>\n",
       "<style scoped>\n",
       "    .dataframe tbody tr th:only-of-type {\n",
       "        vertical-align: middle;\n",
       "    }\n",
       "\n",
       "    .dataframe tbody tr th {\n",
       "        vertical-align: top;\n",
       "    }\n",
       "\n",
       "    .dataframe thead th {\n",
       "        text-align: right;\n",
       "    }\n",
       "</style>\n",
       "<table border=\"1\" class=\"dataframe\">\n",
       "  <thead>\n",
       "    <tr style=\"text-align: right;\">\n",
       "      <th></th>\n",
       "      <th>id</th>\n",
       "      <th>diag_id</th>\n",
       "      <th>name</th>\n",
       "      <th>name_tokens</th>\n",
       "      <th>exp</th>\n",
       "      <th>exp_tokens</th>\n",
       "      <th>macro</th>\n",
       "      <th>priority</th>\n",
       "    </tr>\n",
       "  </thead>\n",
       "  <tbody>\n",
       "    <tr>\n",
       "      <th>67</th>\n",
       "      <td>167</td>\n",
       "      <td>ENC_U_4597430940772627274</td>\n",
       "      <td>salud</td>\n",
       "      <td>[salud]</td>\n",
       "      <td>que la salud no sea burocratica y que su atenc...</td>\n",
       "      <td>[salud, burocratica, atencion, semejante, salu...</td>\n",
       "      <td>salud</td>\n",
       "      <td>2</td>\n",
       "    </tr>\n",
       "    <tr>\n",
       "      <th>60</th>\n",
       "      <td>460</td>\n",
       "      <td>ENC_U_4597643359322725615</td>\n",
       "      <td>respuesta sin completar.</td>\n",
       "      <td>[respuesta, completar]</td>\n",
       "      <td></td>\n",
       "      <td></td>\n",
       "      <td>respuesta sin completar.</td>\n",
       "      <td>0</td>\n",
       "    </tr>\n",
       "    <tr>\n",
       "      <th>1</th>\n",
       "      <td>1</td>\n",
       "      <td>ENC_U_4602778880117363308</td>\n",
       "      <td>agua potable</td>\n",
       "      <td>[agua, potable]</td>\n",
       "      <td>aun no tenemos agua potable en el sector rural</td>\n",
       "      <td>[aun, agua, potable, sector, rural]</td>\n",
       "      <td>agua potable</td>\n",
       "      <td>1</td>\n",
       "    </tr>\n",
       "  </tbody>\n",
       "</table>\n",
       "</div>"
      ],
      "text/plain": [
       "     id                    diag_id                      name  \\\n",
       "67  167  ENC_U_4597430940772627274                     salud   \n",
       "60  460  ENC_U_4597643359322725615  respuesta sin completar.   \n",
       "1     1  ENC_U_4602778880117363308              agua potable   \n",
       "\n",
       "               name_tokens                                                exp  \\\n",
       "67                 [salud]  que la salud no sea burocratica y que su atenc...   \n",
       "60  [respuesta, completar]                                                      \n",
       "1          [agua, potable]     aun no tenemos agua potable en el sector rural   \n",
       "\n",
       "                                           exp_tokens  \\\n",
       "67  [salud, burocratica, atencion, semejante, salu...   \n",
       "60                                                      \n",
       "1                 [aun, agua, potable, sector, rural]   \n",
       "\n",
       "                       macro  priority  \n",
       "67                     salud         2  \n",
       "60  respuesta sin completar.         0  \n",
       "1               agua potable         1  "
      ]
     },
     "execution_count": 54,
     "metadata": {},
     "output_type": "execute_result"
    }
   ],
   "source": [
    "personal_needs.sample(3)"
   ]
  },
  {
   "cell_type": "code",
   "execution_count": null,
   "metadata": {},
   "outputs": [],
   "source": []
  },
  {
   "cell_type": "markdown",
   "metadata": {},
   "source": [
    "### Contributions"
   ]
  },
  {
   "cell_type": "code",
   "execution_count": 58,
   "metadata": {},
   "outputs": [],
   "source": [
    "contributions = create_table_contributions(survey)"
   ]
  },
  {
   "cell_type": "code",
   "execution_count": 59,
   "metadata": {},
   "outputs": [
    {
     "data": {
      "text/html": [
       "<div>\n",
       "<style scoped>\n",
       "    .dataframe tbody tr th:only-of-type {\n",
       "        vertical-align: middle;\n",
       "    }\n",
       "\n",
       "    .dataframe tbody tr th {\n",
       "        vertical-align: top;\n",
       "    }\n",
       "\n",
       "    .dataframe thead th {\n",
       "        text-align: right;\n",
       "    }\n",
       "</style>\n",
       "<table border=\"1\" class=\"dataframe\">\n",
       "  <thead>\n",
       "    <tr style=\"text-align: right;\">\n",
       "      <th></th>\n",
       "      <th>id</th>\n",
       "      <th>diag_id</th>\n",
       "      <th>text</th>\n",
       "      <th>text_tokens</th>\n",
       "      <th>macro</th>\n",
       "    </tr>\n",
       "  </thead>\n",
       "  <tbody>\n",
       "    <tr>\n",
       "      <th>15</th>\n",
       "      <td>415</td>\n",
       "      <td>ENC_U_4601870260112596575</td>\n",
       "      <td>ser buenos ciudadanos.</td>\n",
       "      <td>[ser, buenos, ciudadanos]</td>\n",
       "      <td>ser buenos ciudadanos.</td>\n",
       "    </tr>\n",
       "    <tr>\n",
       "      <th>61</th>\n",
       "      <td>261</td>\n",
       "      <td>ENC_U_4597643308415751967</td>\n",
       "      <td>participar de los procesos electorales que afr...</td>\n",
       "      <td>[participar, procesos, electorales, afrontara,...</td>\n",
       "      <td>participar de los procesos electorales que afr...</td>\n",
       "    </tr>\n",
       "    <tr>\n",
       "      <th>35</th>\n",
       "      <td>135</td>\n",
       "      <td>ENC_U_4598389170159296566</td>\n",
       "      <td>participando en actividades actividades civicas</td>\n",
       "      <td>[participando, actividades, actividades, civicas]</td>\n",
       "      <td>participando en actividades actividades civicas</td>\n",
       "    </tr>\n",
       "  </tbody>\n",
       "</table>\n",
       "</div>"
      ],
      "text/plain": [
       "     id                    diag_id  \\\n",
       "15  415  ENC_U_4601870260112596575   \n",
       "61  261  ENC_U_4597643308415751967   \n",
       "35  135  ENC_U_4598389170159296566   \n",
       "\n",
       "                                                 text  \\\n",
       "15                             ser buenos ciudadanos.   \n",
       "61  participar de los procesos electorales que afr...   \n",
       "35    participando en actividades actividades civicas   \n",
       "\n",
       "                                          text_tokens  \\\n",
       "15                          [ser, buenos, ciudadanos]   \n",
       "61  [participar, procesos, electorales, afrontara,...   \n",
       "35  [participando, actividades, actividades, civicas]   \n",
       "\n",
       "                                                macro  \n",
       "15                             ser buenos ciudadanos.  \n",
       "61  participar de los procesos electorales que afr...  \n",
       "35    participando en actividades actividades civicas  "
      ]
     },
     "execution_count": 59,
     "metadata": {},
     "output_type": "execute_result"
    }
   ],
   "source": [
    "contributions.sample(3)"
   ]
  },
  {
   "cell_type": "code",
   "execution_count": null,
   "metadata": {},
   "outputs": [],
   "source": []
  },
  {
   "cell_type": "code",
   "execution_count": null,
   "metadata": {},
   "outputs": [],
   "source": []
  }
 ],
 "metadata": {
  "kernelspec": {
   "display_name": "Python 3",
   "language": "python",
   "name": "python3"
  },
  "language_info": {
   "codemirror_mode": {
    "name": "ipython",
    "version": 3
   },
   "file_extension": ".py",
   "mimetype": "text/x-python",
   "name": "python",
   "nbconvert_exporter": "python",
   "pygments_lexer": "ipython3",
   "version": "3.7.6"
  }
 },
 "nbformat": 4,
 "nbformat_minor": 4
}
