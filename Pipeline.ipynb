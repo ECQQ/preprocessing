{
 "cells": [
  {
   "cell_type": "markdown",
   "metadata": {},
   "source": [
    "# Data cleaning "
   ]
  },
  {
   "cell_type": "code",
   "execution_count": 3,
   "metadata": {},
   "outputs": [],
   "source": [
    "import pandas as pd"
   ]
  },
  {
   "cell_type": "code",
   "execution_count": 71,
   "metadata": {},
   "outputs": [
    {
     "name": "stdout",
     "output_type": "stream",
     "text": [
      "The autoreload extension is already loaded. To reload it, use:\n",
      "  %reload_ext autoreload\n"
     ]
    }
   ],
   "source": [
    "from use_cases.contributions import create_table_contributions\n",
    "\n",
    "from use_cases.emotions import create_table_emotions\n",
    "from use_cases.personal_needs import create_table_personal_needs\n",
    "from use_cases.dialogues import create_table_dialogues\n",
    "from use_cases.country_needs import create_table_country_needs\n",
    "from use_cases.persons import create_table_persons\n",
    "from use_cases.individuals import create_table_individuals\n",
    "\n",
    "\n",
    "pd.options.mode.chained_assignment = None \n",
    "\n",
    "%load_ext autoreload\n",
    "%autoreload 2"
   ]
  },
  {
   "cell_type": "markdown",
   "metadata": {},
   "source": [
    "## Loading Data Surveys"
   ]
  },
  {
   "cell_type": "code",
   "execution_count": 81,
   "metadata": {},
   "outputs": [],
   "source": [
    "chunksize   = 100 # Just for debugging\n",
    "survey_path = './data/BBDD_Dialogos_2021_01_27.csv' \n",
    "survey = pd.read_csv(survey_path, chunksize=chunksize, low_memory=False)\n",
    "for survey in survey: break\n",
    "    \n",
    "ind_online_survey_path = './data/Consulta_Individual_online_v2.xlsx'\n",
    "ind_online_survey = pd.read_excel(ind_online_survey_path, 'Sheet1')\n",
    "    \n",
    "ind_survey_path = './data/Base_final_digitación_Consultas.xlsx'\n",
    "ind_survey = pd.read_excel(ind_survey_path, 'CONSULTAS')"
   ]
  },
  {
   "cell_type": "code",
   "execution_count": 25,
   "metadata": {},
   "outputs": [
    {
     "data": {
      "text/html": [
       "<div>\n",
       "<style scoped>\n",
       "    .dataframe tbody tr th:only-of-type {\n",
       "        vertical-align: middle;\n",
       "    }\n",
       "\n",
       "    .dataframe tbody tr th {\n",
       "        vertical-align: top;\n",
       "    }\n",
       "\n",
       "    .dataframe thead th {\n",
       "        text-align: right;\n",
       "    }\n",
       "</style>\n",
       "<table border=\"1\" class=\"dataframe\">\n",
       "  <thead>\n",
       "    <tr style=\"text-align: right;\">\n",
       "      <th></th>\n",
       "      <th>Submission Date</th>\n",
       "      <th>RUN</th>\n",
       "      <th>Edad</th>\n",
       "      <th>Comuna</th>\n",
       "      <th>1. ¿Cuál es el nivel de educación alcanzado por Usted?</th>\n",
       "      <th>2. ¿Cuál es el nivel de educación que alcanzó el jefe de su hogar? (sólo si se trata de alguien distinto a Usted)</th>\n",
       "      <th>1 &gt;&gt; Emociones / Sentimientos / Sensaciones</th>\n",
       "      <th>1 &gt;&gt; Explique lo mencionado</th>\n",
       "      <th>2 &gt;&gt; Emociones / Sentimientos / Sensaciones</th>\n",
       "      <th>2 &gt;&gt; Explique lo mencionado</th>\n",
       "      <th>...</th>\n",
       "      <th>2 &gt;&gt; Rol del actor social (Describa)</th>\n",
       "      <th>3 &gt;&gt; Necesidades del país identificadas</th>\n",
       "      <th>3 &gt;&gt; Rol del Estado (Describa)</th>\n",
       "      <th>3 &gt;&gt; Actor social (empresa, organizaciones sociales, medios de comunicación, comunidad, etc)</th>\n",
       "      <th>3 &gt;&gt; Rol del actor social (Describa)</th>\n",
       "      <th>5. Pregunta: ¿Cuál es mi contribución personal para construir el Chile que queremos?</th>\n",
       "      <th>Comuna.1</th>\n",
       "      <th>Comentarios finales: Si tiene alguna observación o sugerencia, en este espacio puede indicarla.</th>\n",
       "      <th>Región</th>\n",
       "      <th>Región.1</th>\n",
       "    </tr>\n",
       "  </thead>\n",
       "  <tbody>\n",
       "    <tr>\n",
       "      <th>118</th>\n",
       "      <td>2020/01/28 17:16:55</td>\n",
       "      <td>fe4e1e449153be2f636ef9f2b1ce4cc1</td>\n",
       "      <td>57</td>\n",
       "      <td>NaN</td>\n",
       "      <td>Universitaria incompleta. Técnica completa.</td>\n",
       "      <td>Yo soy el jefe de hogar.</td>\n",
       "      <td>deprimido</td>\n",
       "      <td>no veo solucion por parte del estado o gobiern...</td>\n",
       "      <td>desanimado</td>\n",
       "      <td>sinestimulo a continuar mis labores agricolas ...</td>\n",
       "      <td>...</td>\n",
       "      <td>participar de las politicas publicas al respec...</td>\n",
       "      <td>prevision publica</td>\n",
       "      <td>contralor y parte del reparto, mediantecsusins...</td>\n",
       "      <td>ministerio del trabajo y desarrollo social</td>\n",
       "      <td>ser parte del mecanismodecontrol y voto</td>\n",
       "      <td>Aportar con mis impuestos, mi formacion, mis h...</td>\n",
       "      <td>Constitucion</td>\n",
       "      <td>la encuesta no me da espacio a tocar temas com...</td>\n",
       "      <td>Región del Maule</td>\n",
       "      <td>NaN</td>\n",
       "    </tr>\n",
       "    <tr>\n",
       "      <th>1295</th>\n",
       "      <td>2019/12/17 21:52:33</td>\n",
       "      <td>4bae087f3bfd2fb1e4b67cc9cca3607c</td>\n",
       "      <td>22</td>\n",
       "      <td>Las Condes</td>\n",
       "      <td>Universitaria incompleta. Técnica completa.</td>\n",
       "      <td>Universitaria completa.</td>\n",
       "      <td>Decepcionado</td>\n",
       "      <td>Falta de empatia y de responsabilidad del estado</td>\n",
       "      <td>Deprimido</td>\n",
       "      <td>Veo un futuro inestable , donde o se perpetuán...</td>\n",
       "      <td>...</td>\n",
       "      <td>Ellos deben saber los reales problemas que se ...</td>\n",
       "      <td>Subsidiar un poco mas</td>\n",
       "      <td>que el estado tome un rol de dar un poco de di...</td>\n",
       "      <td>----</td>\n",
       "      <td>----</td>\n",
       "      <td>contestar esta encuesta\\nseguir las leyes\\ninf...</td>\n",
       "      <td>NaN</td>\n",
       "      <td>Hagan caso a la gente. porfavor. Yo ya no pued...</td>\n",
       "      <td>NaN</td>\n",
       "      <td>Region Metropolitana</td>\n",
       "    </tr>\n",
       "  </tbody>\n",
       "</table>\n",
       "<p>2 rows × 44 columns</p>\n",
       "</div>"
      ],
      "text/plain": [
       "          Submission Date                               RUN Edad      Comuna  \\\n",
       "118   2020/01/28 17:16:55  fe4e1e449153be2f636ef9f2b1ce4cc1   57         NaN   \n",
       "1295  2019/12/17 21:52:33  4bae087f3bfd2fb1e4b67cc9cca3607c   22  Las Condes   \n",
       "\n",
       "     1. ¿Cuál es el nivel de educación alcanzado por Usted?  \\\n",
       "118         Universitaria incompleta. Técnica completa.       \n",
       "1295        Universitaria incompleta. Técnica completa.       \n",
       "\n",
       "     2. ¿Cuál es el nivel de educación que alcanzó el jefe de su hogar? (sólo si se trata de alguien distinto a Usted)  \\\n",
       "118                            Yo soy el jefe de hogar.                                                                  \n",
       "1295                            Universitaria completa.                                                                  \n",
       "\n",
       "     1 >> Emociones / Sentimientos / Sensaciones  \\\n",
       "118                                    deprimido   \n",
       "1295                                Decepcionado   \n",
       "\n",
       "                            1 >> Explique lo mencionado  \\\n",
       "118   no veo solucion por parte del estado o gobiern...   \n",
       "1295   Falta de empatia y de responsabilidad del estado   \n",
       "\n",
       "     2 >> Emociones / Sentimientos / Sensaciones  \\\n",
       "118                                   desanimado   \n",
       "1295                                   Deprimido   \n",
       "\n",
       "                            2 >> Explique lo mencionado  ...  \\\n",
       "118   sinestimulo a continuar mis labores agricolas ...  ...   \n",
       "1295  Veo un futuro inestable , donde o se perpetuán...  ...   \n",
       "\n",
       "                   2 >> Rol del actor social (Describa)  \\\n",
       "118   participar de las politicas publicas al respec...   \n",
       "1295  Ellos deben saber los reales problemas que se ...   \n",
       "\n",
       "     3 >> Necesidades del país identificadas  \\\n",
       "118                        prevision publica   \n",
       "1295                   Subsidiar un poco mas   \n",
       "\n",
       "                         3 >> Rol del Estado (Describa)  \\\n",
       "118   contralor y parte del reparto, mediantecsusins...   \n",
       "1295  que el estado tome un rol de dar un poco de di...   \n",
       "\n",
       "     3 >> Actor social (empresa, organizaciones sociales, medios de comunicación, comunidad, etc)  \\\n",
       "118          ministerio del trabajo y desarrollo social                                             \n",
       "1295                                               ----                                             \n",
       "\n",
       "         3 >> Rol del actor social (Describa)  \\\n",
       "118   ser parte del mecanismodecontrol y voto   \n",
       "1295                                     ----   \n",
       "\n",
       "     5. Pregunta: ¿Cuál es mi contribución personal para construir el Chile que queremos?  \\\n",
       "118   Aportar con mis impuestos, mi formacion, mis h...                                       \n",
       "1295  contestar esta encuesta\\nseguir las leyes\\ninf...                                       \n",
       "\n",
       "          Comuna.1  \\\n",
       "118   Constitucion   \n",
       "1295           NaN   \n",
       "\n",
       "     Comentarios finales: Si tiene alguna observación o sugerencia, en este espacio puede indicarla.  \\\n",
       "118   la encuesta no me da espacio a tocar temas com...                                                 \n",
       "1295  Hagan caso a la gente. porfavor. Yo ya no pued...                                                 \n",
       "\n",
       "                Región              Región.1  \n",
       "118   Región del Maule                   NaN  \n",
       "1295               NaN  Region Metropolitana  \n",
       "\n",
       "[2 rows x 44 columns]"
      ]
     },
     "execution_count": 25,
     "metadata": {},
     "output_type": "execute_result"
    }
   ],
   "source": [
    "survey.sample(2)\n",
    "ind_online_survey.sample(2)"
   ]
  },
  {
   "cell_type": "markdown",
   "metadata": {},
   "source": [
    "## Processing Uses Cases\n",
    "1. Emotions \n",
    "2. Contributions\n",
    "3. Country needs \n",
    "4. Personal/familiar needs"
   ]
  },
  {
   "cell_type": "markdown",
   "metadata": {},
   "source": [
    "### Persons Table (Dialogue)"
   ]
  },
  {
   "cell_type": "code",
   "execution_count": 69,
   "metadata": {},
   "outputs": [],
   "source": [
    "persons_table = create_table_persons(survey)"
   ]
  },
  {
   "cell_type": "code",
   "execution_count": 70,
   "metadata": {},
   "outputs": [
    {
     "data": {
      "text/html": [
       "<div>\n",
       "<style scoped>\n",
       "    .dataframe tbody tr th:only-of-type {\n",
       "        vertical-align: middle;\n",
       "    }\n",
       "\n",
       "    .dataframe tbody tr th {\n",
       "        vertical-align: top;\n",
       "    }\n",
       "\n",
       "    .dataframe thead th {\n",
       "        text-align: right;\n",
       "    }\n",
       "</style>\n",
       "<table border=\"1\" class=\"dataframe\">\n",
       "  <thead>\n",
       "    <tr style=\"text-align: right;\">\n",
       "      <th></th>\n",
       "      <th>diag_id</th>\n",
       "      <th>age</th>\n",
       "      <th>sex</th>\n",
       "      <th>level</th>\n",
       "      <th>comuna_id</th>\n",
       "      <th>age_range</th>\n",
       "    </tr>\n",
       "  </thead>\n",
       "  <tbody>\n",
       "    <tr>\n",
       "      <th>36</th>\n",
       "      <td>enc_u_4598385550153533853</td>\n",
       "      <td>21</td>\n",
       "      <td>f</td>\n",
       "      <td>basica_completa</td>\n",
       "      <td>7101</td>\n",
       "      <td>15-30</td>\n",
       "    </tr>\n",
       "    <tr>\n",
       "      <th>90</th>\n",
       "      <td>enc_u_4595944093321943387</td>\n",
       "      <td>28</td>\n",
       "      <td>f</td>\n",
       "      <td>universitaria_completa</td>\n",
       "      <td>14101</td>\n",
       "      <td>15-30</td>\n",
       "    </tr>\n",
       "    <tr>\n",
       "      <th>6</th>\n",
       "      <td>enc_u_4602649914809752187</td>\n",
       "      <td>21</td>\n",
       "      <td>f</td>\n",
       "      <td>universitaria_incompleta</td>\n",
       "      <td>14101</td>\n",
       "      <td>15-30</td>\n",
       "    </tr>\n",
       "  </tbody>\n",
       "</table>\n",
       "</div>"
      ],
      "text/plain": [
       "                      diag_id age sex                     level  comuna_id  \\\n",
       "36  enc_u_4598385550153533853  21   f           basica_completa       7101   \n",
       "90  enc_u_4595944093321943387  28   f    universitaria_completa      14101   \n",
       "6   enc_u_4602649914809752187  21   f  universitaria_incompleta      14101   \n",
       "\n",
       "   age_range  \n",
       "36     15-30  \n",
       "90     15-30  \n",
       "6      15-30  "
      ]
     },
     "execution_count": 70,
     "metadata": {},
     "output_type": "execute_result"
    }
   ],
   "source": [
    "persons_table.sample(3)"
   ]
  },
  {
   "cell_type": "markdown",
   "metadata": {},
   "source": [
    "### Dialogues"
   ]
  },
  {
   "cell_type": "code",
   "execution_count": 67,
   "metadata": {},
   "outputs": [],
   "source": [
    "dialogues_table = create_table_dialogues(survey)"
   ]
  },
  {
   "cell_type": "code",
   "execution_count": 68,
   "metadata": {},
   "outputs": [
    {
     "data": {
      "text/html": [
       "<div>\n",
       "<style scoped>\n",
       "    .dataframe tbody tr th:only-of-type {\n",
       "        vertical-align: middle;\n",
       "    }\n",
       "\n",
       "    .dataframe tbody tr th {\n",
       "        vertical-align: top;\n",
       "    }\n",
       "\n",
       "    .dataframe thead th {\n",
       "        text-align: right;\n",
       "    }\n",
       "</style>\n",
       "<table border=\"1\" class=\"dataframe\">\n",
       "  <thead>\n",
       "    <tr style=\"text-align: right;\">\n",
       "      <th></th>\n",
       "      <th>diag_id</th>\n",
       "      <th>date</th>\n",
       "      <th>init_time</th>\n",
       "      <th>end_time</th>\n",
       "      <th>location</th>\n",
       "      <th>address</th>\n",
       "      <th>comuna_id</th>\n",
       "      <th>n_members</th>\n",
       "      <th>group_name</th>\n",
       "    </tr>\n",
       "  </thead>\n",
       "  <tbody>\n",
       "    <tr>\n",
       "      <th>51</th>\n",
       "      <td>enc_u_4598337190995449677</td>\n",
       "      <td>22-01-2020</td>\n",
       "      <td>17:00:00</td>\n",
       "      <td>00:00:00</td>\n",
       "      <td>direccion regional injuv coquimbo</td>\n",
       "      <td>av francisco de aguirre #414</td>\n",
       "      <td>4101</td>\n",
       "      <td>7</td>\n",
       "      <td>usuarios de oficina movil de bienes nacionales</td>\n",
       "    </tr>\n",
       "    <tr>\n",
       "      <th>86</th>\n",
       "      <td>enc_u_4596538444129461689</td>\n",
       "      <td>06-03-2020</td>\n",
       "      <td>16:00:00</td>\n",
       "      <td>17:30:00</td>\n",
       "      <td>terminal lincosur</td>\n",
       "      <td>sala de star terminales</td>\n",
       "      <td>4101</td>\n",
       "      <td>8</td>\n",
       "      <td>usuarios de oficina movil de bienes nacionales</td>\n",
       "    </tr>\n",
       "    <tr>\n",
       "      <th>62</th>\n",
       "      <td>enc_u_4597641730116574573</td>\n",
       "      <td>05-03-2020</td>\n",
       "      <td>10:00:00</td>\n",
       "      <td>12:00:00</td>\n",
       "      <td>centro cultural  de freire</td>\n",
       "      <td>pedro canales numero 137</td>\n",
       "      <td>9105</td>\n",
       "      <td>5</td>\n",
       "      <td>usuarios de oficina movil de bienes nacionales</td>\n",
       "    </tr>\n",
       "  </tbody>\n",
       "</table>\n",
       "</div>"
      ],
      "text/plain": [
       "                      diag_id        date init_time  end_time  \\\n",
       "51  enc_u_4598337190995449677  22-01-2020  17:00:00  00:00:00   \n",
       "86  enc_u_4596538444129461689  06-03-2020  16:00:00  17:30:00   \n",
       "62  enc_u_4597641730116574573  05-03-2020  10:00:00  12:00:00   \n",
       "\n",
       "                             location                       address  \\\n",
       "51  direccion regional injuv coquimbo  av francisco de aguirre #414   \n",
       "86                  terminal lincosur       sala de star terminales   \n",
       "62         centro cultural  de freire      pedro canales numero 137   \n",
       "\n",
       "    comuna_id n_members                                      group_name  \n",
       "51       4101         7  usuarios de oficina movil de bienes nacionales  \n",
       "86       4101         8  usuarios de oficina movil de bienes nacionales  \n",
       "62       9105         5  usuarios de oficina movil de bienes nacionales  "
      ]
     },
     "execution_count": 68,
     "metadata": {},
     "output_type": "execute_result"
    }
   ],
   "source": [
    "dialogues_table.sample(3)"
   ]
  },
  {
   "cell_type": "markdown",
   "metadata": {},
   "source": [
    "### Emotions\n",
    "\n",
    "<img src=\"diagrams/q1.png\" width=730 height=520 />"
   ]
  },
  {
   "cell_type": "code",
   "execution_count": 63,
   "metadata": {},
   "outputs": [
    {
     "name": "stdout",
     "output_type": "stream",
     "text": [
      "CPU times: user 722 ms, sys: 52 ms, total: 774 ms\n",
      "Wall time: 774 ms\n"
     ]
    }
   ],
   "source": [
    "%%time\n",
    "emotions_table = create_table_emotions(survey)"
   ]
  },
  {
   "cell_type": "code",
   "execution_count": 64,
   "metadata": {},
   "outputs": [
    {
     "data": {
      "text/html": [
       "<div>\n",
       "<style scoped>\n",
       "    .dataframe tbody tr th:only-of-type {\n",
       "        vertical-align: middle;\n",
       "    }\n",
       "\n",
       "    .dataframe tbody tr th {\n",
       "        vertical-align: top;\n",
       "    }\n",
       "\n",
       "    .dataframe thead th {\n",
       "        text-align: right;\n",
       "    }\n",
       "</style>\n",
       "<table border=\"1\" class=\"dataframe\">\n",
       "  <thead>\n",
       "    <tr style=\"text-align: right;\">\n",
       "      <th></th>\n",
       "      <th>diag_id</th>\n",
       "      <th>name</th>\n",
       "      <th>name_token</th>\n",
       "      <th>macro</th>\n",
       "      <th>text</th>\n",
       "      <th>text_tokens</th>\n",
       "    </tr>\n",
       "  </thead>\n",
       "  <tbody>\n",
       "    <tr>\n",
       "      <th>86</th>\n",
       "      <td>ENC_U_4596538444129461689</td>\n",
       "      <td>angustia y preocupacion</td>\n",
       "      <td>[angustia, preocupacion]</td>\n",
       "      <td>angustia y preocupacion</td>\n",
       "      <td>por la baja en los salarios de las recaudacion...</td>\n",
       "      <td>[baja, salarios, recaudaciones, diarias, depen...</td>\n",
       "    </tr>\n",
       "    <tr>\n",
       "      <th>73</th>\n",
       "      <td>ENC_U_4597390948805369662</td>\n",
       "      <td>identificada</td>\n",
       "      <td>[identificada]</td>\n",
       "      <td>identificada</td>\n",
       "      <td>- participante activa\\n- positivo para todas\\n...</td>\n",
       "      <td>[participante, activa, positivo, todas, decepc...</td>\n",
       "    </tr>\n",
       "  </tbody>\n",
       "</table>\n",
       "</div>"
      ],
      "text/plain": [
       "                      diag_id                     name  \\\n",
       "86  ENC_U_4596538444129461689  angustia y preocupacion   \n",
       "73  ENC_U_4597390948805369662             identificada   \n",
       "\n",
       "                  name_token                    macro  \\\n",
       "86  [angustia, preocupacion]  angustia y preocupacion   \n",
       "73            [identificada]             identificada   \n",
       "\n",
       "                                                 text  \\\n",
       "86  por la baja en los salarios de las recaudacion...   \n",
       "73  - participante activa\\n- positivo para todas\\n...   \n",
       "\n",
       "                                          text_tokens  \n",
       "86  [baja, salarios, recaudaciones, diarias, depen...  \n",
       "73  [participante, activa, positivo, todas, decepc...  "
      ]
     },
     "execution_count": 64,
     "metadata": {},
     "output_type": "execute_result"
    }
   ],
   "source": [
    "emotions_table.sample(2)"
   ]
  },
  {
   "cell_type": "markdown",
   "metadata": {},
   "source": [
    "### Individuals"
   ]
  },
  {
   "cell_type": "code",
   "execution_count": 31,
   "metadata": {
    "scrolled": true
   },
   "outputs": [
    {
     "name": "stdout",
     "output_type": "stream",
     "text": [
      "CPU times: user 8.66 s, sys: 56.7 ms, total: 8.72 s\n",
      "Wall time: 8.63 s\n"
     ]
    }
   ],
   "source": [
    "%%time\n",
    "individuals_table = create_table_individuals(ind_online_survey, ind_survey)"
   ]
  },
  {
   "cell_type": "code",
   "execution_count": 32,
   "metadata": {},
   "outputs": [
    {
     "data": {
      "text/html": [
       "<div>\n",
       "<style scoped>\n",
       "    .dataframe tbody tr th:only-of-type {\n",
       "        vertical-align: middle;\n",
       "    }\n",
       "\n",
       "    .dataframe tbody tr th {\n",
       "        vertical-align: top;\n",
       "    }\n",
       "\n",
       "    .dataframe thead th {\n",
       "        text-align: right;\n",
       "    }\n",
       "</style>\n",
       "<table border=\"1\" class=\"dataframe\">\n",
       "  <thead>\n",
       "    <tr style=\"text-align: right;\">\n",
       "      <th></th>\n",
       "      <th>id</th>\n",
       "      <th>date</th>\n",
       "      <th>age</th>\n",
       "      <th>comuna_id</th>\n",
       "      <th>level</th>\n",
       "      <th>online</th>\n",
       "      <th>age_range</th>\n",
       "    </tr>\n",
       "  </thead>\n",
       "  <tbody>\n",
       "    <tr>\n",
       "      <th>7829</th>\n",
       "      <td>9633</td>\n",
       "      <td>13-02-2020</td>\n",
       "      <td>24</td>\n",
       "      <td>10301</td>\n",
       "      <td>Media completa. Técnica incompleta</td>\n",
       "      <td></td>\n",
       "      <td>15-30</td>\n",
       "    </tr>\n",
       "    <tr>\n",
       "      <th>3049</th>\n",
       "      <td>4853</td>\n",
       "      <td></td>\n",
       "      <td></td>\n",
       "      <td>11402</td>\n",
       "      <td>Media completa. Técnica incompleta</td>\n",
       "      <td></td>\n",
       "      <td>0-15</td>\n",
       "    </tr>\n",
       "  </tbody>\n",
       "</table>\n",
       "</div>"
      ],
      "text/plain": [
       "        id        date age  comuna_id                               level  \\\n",
       "7829  9633  13-02-2020  24      10301  Media completa. Técnica incompleta   \n",
       "3049  4853                      11402  Media completa. Técnica incompleta   \n",
       "\n",
       "     online age_range  \n",
       "7829            15-30  \n",
       "3049             0-15  "
      ]
     },
     "execution_count": 32,
     "metadata": {},
     "output_type": "execute_result"
    }
   ],
   "source": [
    "individuals_table.sample(2)"
   ]
  },
  {
   "cell_type": "markdown",
   "metadata": {},
   "source": [
    "### Country Needs"
   ]
  },
  {
   "cell_type": "code",
   "execution_count": 100,
   "metadata": {},
   "outputs": [
    {
     "name": "stdout",
     "output_type": "stream",
     "text": [
      "1\n",
      "2\n",
      "3\n"
     ]
    }
   ],
   "source": [
    "country_needs = create_table_country_needs(survey, ind_survey_path, ind_online_survey_path)"
   ]
  },
  {
   "cell_type": "code",
   "execution_count": 62,
   "metadata": {
    "scrolled": false
   },
   "outputs": [
    {
     "data": {
      "text/html": [
       "<div>\n",
       "<style scoped>\n",
       "    .dataframe tbody tr th:only-of-type {\n",
       "        vertical-align: middle;\n",
       "    }\n",
       "\n",
       "    .dataframe tbody tr th {\n",
       "        vertical-align: top;\n",
       "    }\n",
       "\n",
       "    .dataframe thead th {\n",
       "        text-align: right;\n",
       "    }\n",
       "</style>\n",
       "<table border=\"1\" class=\"dataframe\">\n",
       "  <thead>\n",
       "    <tr style=\"text-align: right;\">\n",
       "      <th></th>\n",
       "      <th>id</th>\n",
       "      <th>diag_id</th>\n",
       "      <th>name</th>\n",
       "      <th>name_tokens</th>\n",
       "      <th>macro</th>\n",
       "      <th>exp</th>\n",
       "      <th>exp_tokens</th>\n",
       "      <th>role</th>\n",
       "      <th>role_tokens</th>\n",
       "      <th>actor</th>\n",
       "      <th>priority</th>\n",
       "    </tr>\n",
       "  </thead>\n",
       "  <tbody>\n",
       "    <tr>\n",
       "      <th>69</th>\n",
       "      <td>520</td>\n",
       "      <td>enc_u_4597425290772173197</td>\n",
       "      <td>amor</td>\n",
       "      <td>[amor]</td>\n",
       "      <td></td>\n",
       "      <td>- falta de amor por nuestro pais, amor propia,...</td>\n",
       "      <td>[falta, amor, pais, amor, propia, amor, progimo]</td>\n",
       "      <td>- amor por las personas\\n- ensenar a amar nues...</td>\n",
       "      <td>[amor, personas, ensenar, amar, pais]</td>\n",
       "      <td>estado</td>\n",
       "      <td>0</td>\n",
       "    </tr>\n",
       "    <tr>\n",
       "      <th>122</th>\n",
       "      <td>424</td>\n",
       "      <td>enc_u_4598360210156649032</td>\n",
       "      <td>medicamentos</td>\n",
       "      <td>[medicamentos]</td>\n",
       "      <td></td>\n",
       "      <td></td>\n",
       "      <td></td>\n",
       "      <td>-tener  mas fiscalizacion para que los remedio...</td>\n",
       "      <td>[tener, mas, fiscalizacion, remedios, precios,...</td>\n",
       "      <td>estado</td>\n",
       "      <td></td>\n",
       "    </tr>\n",
       "    <tr>\n",
       "      <th>85</th>\n",
       "      <td>536</td>\n",
       "      <td>enc_u_4596619275164164128</td>\n",
       "      <td>educacion</td>\n",
       "      <td>[educacion]</td>\n",
       "      <td></td>\n",
       "      <td>- fortalecer la educacion publica. \\n- no pued...</td>\n",
       "      <td>[fortalecer, educacion, publica, pueden, forta...</td>\n",
       "      <td>tiene que hacerse cargo de la educacion y debe...</td>\n",
       "      <td>[hacerse, cargo, educacion, debe, ser, publica]</td>\n",
       "      <td>estado</td>\n",
       "      <td>0</td>\n",
       "    </tr>\n",
       "  </tbody>\n",
       "</table>\n",
       "</div>"
      ],
      "text/plain": [
       "      id                    diag_id          name     name_tokens macro  \\\n",
       "69   520  enc_u_4597425290772173197          amor          [amor]         \n",
       "122  424  enc_u_4598360210156649032  medicamentos  [medicamentos]         \n",
       "85   536  enc_u_4596619275164164128     educacion     [educacion]         \n",
       "\n",
       "                                                   exp  \\\n",
       "69   - falta de amor por nuestro pais, amor propia,...   \n",
       "122                                                      \n",
       "85   - fortalecer la educacion publica. \\n- no pued...   \n",
       "\n",
       "                                            exp_tokens  \\\n",
       "69    [falta, amor, pais, amor, propia, amor, progimo]   \n",
       "122                                                      \n",
       "85   [fortalecer, educacion, publica, pueden, forta...   \n",
       "\n",
       "                                                  role  \\\n",
       "69   - amor por las personas\\n- ensenar a amar nues...   \n",
       "122  -tener  mas fiscalizacion para que los remedio...   \n",
       "85   tiene que hacerse cargo de la educacion y debe...   \n",
       "\n",
       "                                           role_tokens   actor priority  \n",
       "69               [amor, personas, ensenar, amar, pais]  estado        0  \n",
       "122  [tener, mas, fiscalizacion, remedios, precios,...  estado           \n",
       "85     [hacerse, cargo, educacion, debe, ser, publica]  estado        0  "
      ]
     },
     "execution_count": 62,
     "metadata": {},
     "output_type": "execute_result"
    }
   ],
   "source": [
    "country_needs.sample(3)"
   ]
  },
  {
   "cell_type": "code",
   "execution_count": null,
   "metadata": {},
   "outputs": [],
   "source": []
  },
  {
   "cell_type": "markdown",
   "metadata": {},
   "source": [
    "### Family/PersonalNeeds"
   ]
  },
  {
   "cell_type": "code",
   "execution_count": 53,
   "metadata": {},
   "outputs": [],
   "source": [
    "personal_needs = create_table_personal_needs(survey)"
   ]
  },
  {
   "cell_type": "code",
   "execution_count": 54,
   "metadata": {},
   "outputs": [
    {
     "data": {
      "text/html": [
       "<div>\n",
       "<style scoped>\n",
       "    .dataframe tbody tr th:only-of-type {\n",
       "        vertical-align: middle;\n",
       "    }\n",
       "\n",
       "    .dataframe tbody tr th {\n",
       "        vertical-align: top;\n",
       "    }\n",
       "\n",
       "    .dataframe thead th {\n",
       "        text-align: right;\n",
       "    }\n",
       "</style>\n",
       "<table border=\"1\" class=\"dataframe\">\n",
       "  <thead>\n",
       "    <tr style=\"text-align: right;\">\n",
       "      <th></th>\n",
       "      <th>id</th>\n",
       "      <th>diag_id</th>\n",
       "      <th>name</th>\n",
       "      <th>name_tokens</th>\n",
       "      <th>exp</th>\n",
       "      <th>exp_tokens</th>\n",
       "      <th>macro</th>\n",
       "      <th>priority</th>\n",
       "    </tr>\n",
       "  </thead>\n",
       "  <tbody>\n",
       "    <tr>\n",
       "      <th>67</th>\n",
       "      <td>167</td>\n",
       "      <td>ENC_U_4597430940772627274</td>\n",
       "      <td>salud</td>\n",
       "      <td>[salud]</td>\n",
       "      <td>que la salud no sea burocratica y que su atenc...</td>\n",
       "      <td>[salud, burocratica, atencion, semejante, salu...</td>\n",
       "      <td>salud</td>\n",
       "      <td>2</td>\n",
       "    </tr>\n",
       "    <tr>\n",
       "      <th>60</th>\n",
       "      <td>460</td>\n",
       "      <td>ENC_U_4597643359322725615</td>\n",
       "      <td>respuesta sin completar.</td>\n",
       "      <td>[respuesta, completar]</td>\n",
       "      <td></td>\n",
       "      <td></td>\n",
       "      <td>respuesta sin completar.</td>\n",
       "      <td>0</td>\n",
       "    </tr>\n",
       "    <tr>\n",
       "      <th>1</th>\n",
       "      <td>1</td>\n",
       "      <td>ENC_U_4602778880117363308</td>\n",
       "      <td>agua potable</td>\n",
       "      <td>[agua, potable]</td>\n",
       "      <td>aun no tenemos agua potable en el sector rural</td>\n",
       "      <td>[aun, agua, potable, sector, rural]</td>\n",
       "      <td>agua potable</td>\n",
       "      <td>1</td>\n",
       "    </tr>\n",
       "  </tbody>\n",
       "</table>\n",
       "</div>"
      ],
      "text/plain": [
       "     id                    diag_id                      name  \\\n",
       "67  167  ENC_U_4597430940772627274                     salud   \n",
       "60  460  ENC_U_4597643359322725615  respuesta sin completar.   \n",
       "1     1  ENC_U_4602778880117363308              agua potable   \n",
       "\n",
       "               name_tokens                                                exp  \\\n",
       "67                 [salud]  que la salud no sea burocratica y que su atenc...   \n",
       "60  [respuesta, completar]                                                      \n",
       "1          [agua, potable]     aun no tenemos agua potable en el sector rural   \n",
       "\n",
       "                                           exp_tokens  \\\n",
       "67  [salud, burocratica, atencion, semejante, salu...   \n",
       "60                                                      \n",
       "1                 [aun, agua, potable, sector, rural]   \n",
       "\n",
       "                       macro  priority  \n",
       "67                     salud         2  \n",
       "60  respuesta sin completar.         0  \n",
       "1               agua potable         1  "
      ]
     },
     "execution_count": 54,
     "metadata": {},
     "output_type": "execute_result"
    }
   ],
   "source": [
    "personal_needs.sample(3)"
   ]
  },
  {
   "cell_type": "code",
   "execution_count": null,
   "metadata": {},
   "outputs": [],
   "source": []
  },
  {
   "cell_type": "markdown",
   "metadata": {},
   "source": [
    "### Contributions"
   ]
  },
  {
   "cell_type": "code",
   "execution_count": 58,
   "metadata": {},
   "outputs": [],
   "source": [
    "contributions = create_table_contributions(survey)"
   ]
  },
  {
   "cell_type": "code",
   "execution_count": 59,
   "metadata": {},
   "outputs": [
    {
     "data": {
      "text/html": [
       "<div>\n",
       "<style scoped>\n",
       "    .dataframe tbody tr th:only-of-type {\n",
       "        vertical-align: middle;\n",
       "    }\n",
       "\n",
       "    .dataframe tbody tr th {\n",
       "        vertical-align: top;\n",
       "    }\n",
       "\n",
       "    .dataframe thead th {\n",
       "        text-align: right;\n",
       "    }\n",
       "</style>\n",
       "<table border=\"1\" class=\"dataframe\">\n",
       "  <thead>\n",
       "    <tr style=\"text-align: right;\">\n",
       "      <th></th>\n",
       "      <th>id</th>\n",
       "      <th>diag_id</th>\n",
       "      <th>text</th>\n",
       "      <th>text_tokens</th>\n",
       "      <th>macro</th>\n",
       "    </tr>\n",
       "  </thead>\n",
       "  <tbody>\n",
       "    <tr>\n",
       "      <th>15</th>\n",
       "      <td>415</td>\n",
       "      <td>ENC_U_4601870260112596575</td>\n",
       "      <td>ser buenos ciudadanos.</td>\n",
       "      <td>[ser, buenos, ciudadanos]</td>\n",
       "      <td>ser buenos ciudadanos.</td>\n",
       "    </tr>\n",
       "    <tr>\n",
       "      <th>61</th>\n",
       "      <td>261</td>\n",
       "      <td>ENC_U_4597643308415751967</td>\n",
       "      <td>participar de los procesos electorales que afr...</td>\n",
       "      <td>[participar, procesos, electorales, afrontara,...</td>\n",
       "      <td>participar de los procesos electorales que afr...</td>\n",
       "    </tr>\n",
       "    <tr>\n",
       "      <th>35</th>\n",
       "      <td>135</td>\n",
       "      <td>ENC_U_4598389170159296566</td>\n",
       "      <td>participando en actividades actividades civicas</td>\n",
       "      <td>[participando, actividades, actividades, civicas]</td>\n",
       "      <td>participando en actividades actividades civicas</td>\n",
       "    </tr>\n",
       "  </tbody>\n",
       "</table>\n",
       "</div>"
      ],
      "text/plain": [
       "     id                    diag_id  \\\n",
       "15  415  ENC_U_4601870260112596575   \n",
       "61  261  ENC_U_4597643308415751967   \n",
       "35  135  ENC_U_4598389170159296566   \n",
       "\n",
       "                                                 text  \\\n",
       "15                             ser buenos ciudadanos.   \n",
       "61  participar de los procesos electorales que afr...   \n",
       "35    participando en actividades actividades civicas   \n",
       "\n",
       "                                          text_tokens  \\\n",
       "15                          [ser, buenos, ciudadanos]   \n",
       "61  [participar, procesos, electorales, afrontara,...   \n",
       "35  [participando, actividades, actividades, civicas]   \n",
       "\n",
       "                                                macro  \n",
       "15                             ser buenos ciudadanos.  \n",
       "61  participar de los procesos electorales que afr...  \n",
       "35    participando en actividades actividades civicas  "
      ]
     },
     "execution_count": 59,
     "metadata": {},
     "output_type": "execute_result"
    }
   ],
   "source": [
    "contributions.sample(3)"
   ]
  },
  {
   "cell_type": "code",
   "execution_count": null,
   "metadata": {},
   "outputs": [],
   "source": []
  },
  {
   "cell_type": "code",
   "execution_count": null,
   "metadata": {},
   "outputs": [],
   "source": []
  }
 ],
 "metadata": {
  "kernelspec": {
   "display_name": "Python 3",
   "language": "python",
   "name": "python3"
  },
  "language_info": {
   "codemirror_mode": {
    "name": "ipython",
    "version": 3
   },
   "file_extension": ".py",
   "mimetype": "text/x-python",
   "name": "python",
   "nbconvert_exporter": "python",
   "pygments_lexer": "ipython3",
   "version": "3.7.6"
  }
 },
 "nbformat": 4,
 "nbformat_minor": 4
}
