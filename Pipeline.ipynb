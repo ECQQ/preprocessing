{
 "cells": [
  {
   "cell_type": "markdown",
   "metadata": {},
   "source": [
    "# Data cleaning "
   ]
  },
  {
   "cell_type": "code",
   "execution_count": 1,
   "metadata": {},
   "outputs": [],
   "source": [
    "import pandas as pd"
   ]
  },
  {
   "cell_type": "code",
   "execution_count": 2,
   "metadata": {},
   "outputs": [
    {
     "name": "stderr",
     "output_type": "stream",
     "text": [
      "[nltk_data] Downloading package stopwords to /home/jovyan/nltk_data...\n",
      "[nltk_data]   Package stopwords is already up-to-date!\n"
     ]
    }
   ],
   "source": [
    "from use_cases.contributions import create_table_contributions\n",
    "\n",
    "from use_cases.emotions import create_table_emotions\n",
    "from use_cases.personal_needs import create_table_personal_needs\n",
    "from use_cases.dialogues import create_table_dialogues\n",
    "from use_cases.country_needs import create_table_country_needs\n",
    "from use_cases.persons import create_table_persons\n",
    "from use_cases.individuals import create_table_individuals\n",
    "\n",
    "\n",
    "pd.options.mode.chained_assignment = None \n",
    "\n",
    "%load_ext autoreload\n",
    "%autoreload 2"
   ]
  },
  {
   "cell_type": "markdown",
   "metadata": {},
   "source": [
    "## Loading Data Surveys"
   ]
  },
  {
   "cell_type": "code",
   "execution_count": 3,
   "metadata": {},
   "outputs": [],
   "source": [
    "chunksize   = 100 # Just for debugging\n",
    "survey_path = './data/BBDD_Dialogos_2021_01_27.csv' \n",
    "survey = pd.read_csv(survey_path, chunksize=chunksize, low_memory=False)\n",
    "for survey in survey: break\n",
    "    \n",
    "ind_online_survey_path = './data/Consulta_Individual_online_v2.xlsx'\n",
    "ind_online_survey = pd.read_excel(ind_online_survey_path, 'Sheet1')\n",
    "    \n",
    "ind_survey_path = './data/Base_final_digitación_Consultas.xlsx'\n",
    "ind_survey = pd.read_excel(ind_survey_path, 'CONSULTAS')"
   ]
  },
  {
   "cell_type": "code",
   "execution_count": 4,
   "metadata": {},
   "outputs": [
    {
     "data": {
      "text/html": [
       "<div>\n",
       "<style scoped>\n",
       "    .dataframe tbody tr th:only-of-type {\n",
       "        vertical-align: middle;\n",
       "    }\n",
       "\n",
       "    .dataframe tbody tr th {\n",
       "        vertical-align: top;\n",
       "    }\n",
       "\n",
       "    .dataframe thead th {\n",
       "        text-align: right;\n",
       "    }\n",
       "</style>\n",
       "<table border=\"1\" class=\"dataframe\">\n",
       "  <thead>\n",
       "    <tr style=\"text-align: right;\">\n",
       "      <th></th>\n",
       "      <th>Submission Date</th>\n",
       "      <th>RUN</th>\n",
       "      <th>Edad</th>\n",
       "      <th>Comuna</th>\n",
       "      <th>1. ¿Cuál es el nivel de educación alcanzado por Usted?</th>\n",
       "      <th>2. ¿Cuál es el nivel de educación que alcanzó el jefe de su hogar? (sólo si se trata de alguien distinto a Usted)</th>\n",
       "      <th>1 &gt;&gt; Emociones / Sentimientos / Sensaciones</th>\n",
       "      <th>1 &gt;&gt; Explique lo mencionado</th>\n",
       "      <th>2 &gt;&gt; Emociones / Sentimientos / Sensaciones</th>\n",
       "      <th>2 &gt;&gt; Explique lo mencionado</th>\n",
       "      <th>...</th>\n",
       "      <th>2 &gt;&gt; Rol del actor social (Describa)</th>\n",
       "      <th>3 &gt;&gt; Necesidades del país identificadas</th>\n",
       "      <th>3 &gt;&gt; Rol del Estado (Describa)</th>\n",
       "      <th>3 &gt;&gt; Actor social (empresa, organizaciones sociales, medios de comunicación, comunidad, etc)</th>\n",
       "      <th>3 &gt;&gt; Rol del actor social (Describa)</th>\n",
       "      <th>5. Pregunta: ¿Cuál es mi contribución personal para construir el Chile que queremos?</th>\n",
       "      <th>Comuna.1</th>\n",
       "      <th>Comentarios finales: Si tiene alguna observación o sugerencia, en este espacio puede indicarla.</th>\n",
       "      <th>Región</th>\n",
       "      <th>Región.1</th>\n",
       "    </tr>\n",
       "  </thead>\n",
       "  <tbody>\n",
       "    <tr>\n",
       "      <th>1411</th>\n",
       "      <td>2019/12/09 16:08:10</td>\n",
       "      <td>648b91bb0ad8e4156479a09900ff212a</td>\n",
       "      <td>28</td>\n",
       "      <td>La calera</td>\n",
       "      <td>Universitaria completa.</td>\n",
       "      <td>Media completa. Técnica incompleta.</td>\n",
       "      <td>Preocupación</td>\n",
       "      <td>No saber si el gobierno va a hacer lo correcto...</td>\n",
       "      <td>Estres</td>\n",
       "      <td>me gebera agotamiento la situación donde no pu...</td>\n",
       "      <td>...</td>\n",
       "      <td>NaN</td>\n",
       "      <td>Salud</td>\n",
       "      <td>Aumentar la inversión a la red publica de aten...</td>\n",
       "      <td>El gobierno es el único responsable</td>\n",
       "      <td>NaN</td>\n",
       "      <td>Mi contribución personal va enfocada a partici...</td>\n",
       "      <td>NaN</td>\n",
       "      <td>El gobierno sabe cuales son los cambios que de...</td>\n",
       "      <td>NaN</td>\n",
       "      <td>Valparaíso</td>\n",
       "    </tr>\n",
       "    <tr>\n",
       "      <th>790</th>\n",
       "      <td>2019/12/31 09:53:12</td>\n",
       "      <td>f08bbda9a1c8c403304b1675d5285852</td>\n",
       "      <td>28</td>\n",
       "      <td>La Florida</td>\n",
       "      <td>Universitaria completa.</td>\n",
       "      <td>Universitaria incompleta. Técnica completa.</td>\n",
       "      <td>Angustia</td>\n",
       "      <td>Mucha angustia al día siguiente de las quemas ...</td>\n",
       "      <td>Rabia</td>\n",
       "      <td>Contra las élites y el gobierno, es incomprens...</td>\n",
       "      <td>...</td>\n",
       "      <td>El estado falla en esto</td>\n",
       "      <td>Desigualdad Horizontal</td>\n",
       "      <td>Garantizar igualdad de acceso a infraestructur...</td>\n",
       "      <td>ninguno</td>\n",
       "      <td>El estado falla en esto</td>\n",
       "      <td>Participar en la dirigencia de mi comunidad, a...</td>\n",
       "      <td>NaN</td>\n",
       "      <td>Es necesario:\\n1. Regular a las AFP, poner alt...</td>\n",
       "      <td>Región Metropolitana de Santiago</td>\n",
       "      <td>NaN</td>\n",
       "    </tr>\n",
       "  </tbody>\n",
       "</table>\n",
       "<p>2 rows × 44 columns</p>\n",
       "</div>"
      ],
      "text/plain": [
       "          Submission Date                               RUN Edad      Comuna  \\\n",
       "1411  2019/12/09 16:08:10  648b91bb0ad8e4156479a09900ff212a   28   La calera   \n",
       "790   2019/12/31 09:53:12  f08bbda9a1c8c403304b1675d5285852   28  La Florida   \n",
       "\n",
       "     1. ¿Cuál es el nivel de educación alcanzado por Usted?  \\\n",
       "1411                            Universitaria completa.       \n",
       "790                             Universitaria completa.       \n",
       "\n",
       "     2. ¿Cuál es el nivel de educación que alcanzó el jefe de su hogar? (sólo si se trata de alguien distinto a Usted)  \\\n",
       "1411                Media completa. Técnica incompleta.                                                                  \n",
       "790         Universitaria incompleta. Técnica completa.                                                                  \n",
       "\n",
       "     1 >> Emociones / Sentimientos / Sensaciones  \\\n",
       "1411                                Preocupación   \n",
       "790                                     Angustia   \n",
       "\n",
       "                            1 >> Explique lo mencionado  \\\n",
       "1411  No saber si el gobierno va a hacer lo correcto...   \n",
       "790   Mucha angustia al día siguiente de las quemas ...   \n",
       "\n",
       "     2 >> Emociones / Sentimientos / Sensaciones  \\\n",
       "1411                                      Estres   \n",
       "790                                        Rabia   \n",
       "\n",
       "                            2 >> Explique lo mencionado  ...  \\\n",
       "1411  me gebera agotamiento la situación donde no pu...  ...   \n",
       "790   Contra las élites y el gobierno, es incomprens...  ...   \n",
       "\n",
       "     2 >> Rol del actor social (Describa)  \\\n",
       "1411                                  NaN   \n",
       "790               El estado falla en esto   \n",
       "\n",
       "     3 >> Necesidades del país identificadas  \\\n",
       "1411                                   Salud   \n",
       "790                   Desigualdad Horizontal   \n",
       "\n",
       "                         3 >> Rol del Estado (Describa)  \\\n",
       "1411  Aumentar la inversión a la red publica de aten...   \n",
       "790   Garantizar igualdad de acceso a infraestructur...   \n",
       "\n",
       "     3 >> Actor social (empresa, organizaciones sociales, medios de comunicación, comunidad, etc)  \\\n",
       "1411                El gobierno es el único responsable                                             \n",
       "790                                             ninguno                                             \n",
       "\n",
       "     3 >> Rol del actor social (Describa)  \\\n",
       "1411                                  NaN   \n",
       "790               El estado falla en esto   \n",
       "\n",
       "     5. Pregunta: ¿Cuál es mi contribución personal para construir el Chile que queremos?  \\\n",
       "1411  Mi contribución personal va enfocada a partici...                                       \n",
       "790   Participar en la dirigencia de mi comunidad, a...                                       \n",
       "\n",
       "     Comuna.1  \\\n",
       "1411      NaN   \n",
       "790       NaN   \n",
       "\n",
       "     Comentarios finales: Si tiene alguna observación o sugerencia, en este espacio puede indicarla.  \\\n",
       "1411  El gobierno sabe cuales son los cambios que de...                                                 \n",
       "790   Es necesario:\\n1. Regular a las AFP, poner alt...                                                 \n",
       "\n",
       "                                Región    Región.1  \n",
       "1411                               NaN  Valparaíso  \n",
       "790   Región Metropolitana de Santiago         NaN  \n",
       "\n",
       "[2 rows x 44 columns]"
      ]
     },
     "execution_count": 4,
     "metadata": {},
     "output_type": "execute_result"
    }
   ],
   "source": [
    "survey.sample(2)\n",
    "ind_online_survey.sample(2)"
   ]
  },
  {
   "cell_type": "markdown",
   "metadata": {},
   "source": [
    "## Processing Uses Cases\n",
    "1. Emotions \n",
    "2. Contributions\n",
    "3. Country needs \n",
    "4. Personal/familiar needs"
   ]
  },
  {
   "cell_type": "markdown",
   "metadata": {},
   "source": [
    "### Persons Table (Dialogue)"
   ]
  },
  {
   "cell_type": "code",
   "execution_count": 323,
   "metadata": {},
   "outputs": [],
   "source": [
    "persons_table = create_table_persons(survey)"
   ]
  },
  {
   "cell_type": "code",
   "execution_count": 324,
   "metadata": {},
   "outputs": [
    {
     "data": {
      "text/html": [
       "<div>\n",
       "<style scoped>\n",
       "    .dataframe tbody tr th:only-of-type {\n",
       "        vertical-align: middle;\n",
       "    }\n",
       "\n",
       "    .dataframe tbody tr th {\n",
       "        vertical-align: top;\n",
       "    }\n",
       "\n",
       "    .dataframe thead th {\n",
       "        text-align: right;\n",
       "    }\n",
       "</style>\n",
       "<table border=\"1\" class=\"dataframe\">\n",
       "  <thead>\n",
       "    <tr style=\"text-align: right;\">\n",
       "      <th></th>\n",
       "      <th>id</th>\n",
       "      <th>diag_id</th>\n",
       "      <th>age</th>\n",
       "      <th>sex</th>\n",
       "      <th>level</th>\n",
       "      <th>comuna_id</th>\n",
       "      <th>age_range</th>\n",
       "    </tr>\n",
       "  </thead>\n",
       "  <tbody>\n",
       "    <tr>\n",
       "      <th>43</th>\n",
       "      <td>143</td>\n",
       "      <td>enc_u_4598371090155421436</td>\n",
       "      <td>26</td>\n",
       "      <td>f</td>\n",
       "      <td>universitaria_completa</td>\n",
       "      <td>7101</td>\n",
       "      <td>15-30</td>\n",
       "    </tr>\n",
       "    <tr>\n",
       "      <th>39</th>\n",
       "      <td>139</td>\n",
       "      <td>enc_u_4598379130154541284</td>\n",
       "      <td>36</td>\n",
       "      <td>h</td>\n",
       "      <td>basica_completa</td>\n",
       "      <td>7101</td>\n",
       "      <td>30-45</td>\n",
       "    </tr>\n",
       "    <tr>\n",
       "      <th>71</th>\n",
       "      <td>71</td>\n",
       "      <td>enc_u_4597419179157584588</td>\n",
       "      <td>62</td>\n",
       "      <td>f</td>\n",
       "      <td>media_incompleta</td>\n",
       "      <td>9105</td>\n",
       "      <td>&gt;=60</td>\n",
       "    </tr>\n",
       "  </tbody>\n",
       "</table>\n",
       "</div>"
      ],
      "text/plain": [
       "     id                    diag_id age sex                   level  comuna_id  \\\n",
       "43  143  enc_u_4598371090155421436  26   f  universitaria_completa       7101   \n",
       "39  139  enc_u_4598379130154541284  36   h         basica_completa       7101   \n",
       "71   71  enc_u_4597419179157584588  62   f        media_incompleta       9105   \n",
       "\n",
       "   age_range  \n",
       "43     15-30  \n",
       "39     30-45  \n",
       "71      >=60  "
      ]
     },
     "execution_count": 324,
     "metadata": {},
     "output_type": "execute_result"
    }
   ],
   "source": [
    "persons_table.sample(3)"
   ]
  },
  {
   "cell_type": "markdown",
   "metadata": {},
   "source": [
    "### Dialogues"
   ]
  },
  {
   "cell_type": "code",
   "execution_count": 360,
   "metadata": {},
   "outputs": [],
   "source": [
    "dialogues_table = create_table_dialogues(survey)"
   ]
  },
  {
   "cell_type": "code",
   "execution_count": 356,
   "metadata": {},
   "outputs": [
    {
     "data": {
      "text/html": [
       "<div>\n",
       "<style scoped>\n",
       "    .dataframe tbody tr th:only-of-type {\n",
       "        vertical-align: middle;\n",
       "    }\n",
       "\n",
       "    .dataframe tbody tr th {\n",
       "        vertical-align: top;\n",
       "    }\n",
       "\n",
       "    .dataframe thead th {\n",
       "        text-align: right;\n",
       "    }\n",
       "</style>\n",
       "<table border=\"1\" class=\"dataframe\">\n",
       "  <thead>\n",
       "    <tr style=\"text-align: right;\">\n",
       "      <th></th>\n",
       "      <th>id</th>\n",
       "      <th>date</th>\n",
       "      <th>init_time</th>\n",
       "      <th>end_time</th>\n",
       "      <th>location</th>\n",
       "      <th>address</th>\n",
       "      <th>comuna_id</th>\n",
       "      <th>n_members</th>\n",
       "      <th>group_name</th>\n",
       "    </tr>\n",
       "  </thead>\n",
       "  <tbody>\n",
       "    <tr>\n",
       "      <th>71</th>\n",
       "      <td>enc_u_4597419179157584588</td>\n",
       "      <td>06-03-2020</td>\n",
       "      <td>11:00:00</td>\n",
       "      <td>12:40:00</td>\n",
       "      <td>centro cultural freire</td>\n",
       "      <td>canales sur #186</td>\n",
       "      <td>9105</td>\n",
       "      <td>5</td>\n",
       "      <td>usuarios de oficina movil de bienes nacionales</td>\n",
       "    </tr>\n",
       "    <tr>\n",
       "      <th>79</th>\n",
       "      <td>enc_u_4596806191197827612</td>\n",
       "      <td>22-12-2019</td>\n",
       "      <td>20:30:00</td>\n",
       "      <td>21:30:00</td>\n",
       "      <td>eiffel 582</td>\n",
       "      <td>eiffel 582 villa pedro lagos</td>\n",
       "      <td>15101</td>\n",
       "      <td>12</td>\n",
       "      <td>usuarios de oficina movil de bienes nacionales</td>\n",
       "    </tr>\n",
       "    <tr>\n",
       "      <th>97</th>\n",
       "      <td>enc_u_4595907200156285158</td>\n",
       "      <td>31-01-2020</td>\n",
       "      <td>22:10:00</td>\n",
       "      <td>23:50:00</td>\n",
       "      <td>brisas de san miguel</td>\n",
       "      <td></td>\n",
       "      <td>7101</td>\n",
       "      <td>5</td>\n",
       "      <td>usuarios de oficina movil de bienes nacionales</td>\n",
       "    </tr>\n",
       "  </tbody>\n",
       "</table>\n",
       "</div>"
      ],
      "text/plain": [
       "                           id        date init_time  end_time  \\\n",
       "71  enc_u_4597419179157584588  06-03-2020  11:00:00  12:40:00   \n",
       "79  enc_u_4596806191197827612  22-12-2019  20:30:00  21:30:00   \n",
       "97  enc_u_4595907200156285158  31-01-2020  22:10:00  23:50:00   \n",
       "\n",
       "                  location                       address  comuna_id n_members  \\\n",
       "71  centro cultural freire              canales sur #186       9105         5   \n",
       "79              eiffel 582  eiffel 582 villa pedro lagos      15101        12   \n",
       "97    brisas de san miguel                                     7101         5   \n",
       "\n",
       "                                        group_name  \n",
       "71  usuarios de oficina movil de bienes nacionales  \n",
       "79  usuarios de oficina movil de bienes nacionales  \n",
       "97  usuarios de oficina movil de bienes nacionales  "
      ]
     },
     "execution_count": 356,
     "metadata": {},
     "output_type": "execute_result"
    }
   ],
   "source": [
    "dialogues_table.sample(3)"
   ]
  },
  {
   "cell_type": "markdown",
   "metadata": {},
   "source": [
    "### Emotions\n",
    "\n",
    "<img src=\"diagrams/q1.png\" width=730 height=520 />"
   ]
  },
  {
   "cell_type": "code",
   "execution_count": 380,
   "metadata": {},
   "outputs": [
    {
     "name": "stdout",
     "output_type": "stream",
     "text": [
      "CPU times: user 38.9 s, sys: 2.01 s, total: 40.9 s\n",
      "Wall time: 41 s\n"
     ]
    }
   ],
   "source": [
    "%%time\n",
    "emotions_table = create_table_emotions(survey,ind_survey_path, ind_online_survey)"
   ]
  },
  {
   "cell_type": "code",
   "execution_count": 547,
   "metadata": {},
   "outputs": [
    {
     "data": {
      "text/html": [
       "<div>\n",
       "<style scoped>\n",
       "    .dataframe tbody tr th:only-of-type {\n",
       "        vertical-align: middle;\n",
       "    }\n",
       "\n",
       "    .dataframe tbody tr th {\n",
       "        vertical-align: top;\n",
       "    }\n",
       "\n",
       "    .dataframe thead th {\n",
       "        text-align: right;\n",
       "    }\n",
       "</style>\n",
       "<table border=\"1\" class=\"dataframe\">\n",
       "  <thead>\n",
       "    <tr style=\"text-align: right;\">\n",
       "      <th></th>\n",
       "      <th>source_id</th>\n",
       "      <th>name</th>\n",
       "      <th>name_tokens</th>\n",
       "      <th>macro</th>\n",
       "      <th>exp</th>\n",
       "      <th>exp_tokens</th>\n",
       "      <th>is_dialogue</th>\n",
       "      <th>is_online</th>\n",
       "      <th>id</th>\n",
       "    </tr>\n",
       "  </thead>\n",
       "  <tbody>\n",
       "    <tr>\n",
       "      <th>59</th>\n",
       "      <td>ENC_U_4597643380118026494</td>\n",
       "      <td>pena</td>\n",
       "      <td>[pena]</td>\n",
       "      <td>pena</td>\n",
       "      <td>- al ver como se pierde y no se valora la inst...</td>\n",
       "      <td>[ver, pierde, valora, institucionalidad, gente...</td>\n",
       "      <td>1</td>\n",
       "      <td>0</td>\n",
       "      <td>255</td>\n",
       "    </tr>\n",
       "    <tr>\n",
       "      <th>9737</th>\n",
       "      <td>4839317</td>\n",
       "      <td>tristeza</td>\n",
       "      <td>[tristeza]</td>\n",
       "      <td></td>\n",
       "      <td>por los destrozos que han hecho a lo largo de ...</td>\n",
       "      <td>[destrozos, hecho, largo, pais, perjudicando, ...</td>\n",
       "      <td>0</td>\n",
       "      <td>0</td>\n",
       "      <td>9537</td>\n",
       "    </tr>\n",
       "  </tbody>\n",
       "</table>\n",
       "</div>"
      ],
      "text/plain": [
       "                      source_id      name name_tokens macro  \\\n",
       "59    ENC_U_4597643380118026494      pena      [pena]  pena   \n",
       "9737                    4839317  tristeza  [tristeza]         \n",
       "\n",
       "                                                    exp  \\\n",
       "59    - al ver como se pierde y no se valora la inst...   \n",
       "9737  por los destrozos que han hecho a lo largo de ...   \n",
       "\n",
       "                                             exp_tokens  is_dialogue  \\\n",
       "59    [ver, pierde, valora, institucionalidad, gente...            1   \n",
       "9737  [destrozos, hecho, largo, pais, perjudicando, ...            0   \n",
       "\n",
       "      is_online    id  \n",
       "59            0   255  \n",
       "9737          0  9537  "
      ]
     },
     "execution_count": 547,
     "metadata": {},
     "output_type": "execute_result"
    }
   ],
   "source": [
    "emotions_table.sample(2)"
   ]
  },
  {
   "cell_type": "markdown",
   "metadata": {},
   "source": [
    "### Individuals"
   ]
  },
  {
   "cell_type": "code",
   "execution_count": 11,
   "metadata": {
    "scrolled": true
   },
   "outputs": [
    {
     "name": "stdout",
     "output_type": "stream",
     "text": [
      "CPU times: user 7.37 s, sys: 28.8 ms, total: 7.4 s\n",
      "Wall time: 7.35 s\n"
     ]
    }
   ],
   "source": [
    "%%time\n",
    "individuals_table = create_table_individuals(ind_online_survey, ind_survey)"
   ]
  },
  {
   "cell_type": "code",
   "execution_count": 12,
   "metadata": {},
   "outputs": [
    {
     "data": {
      "text/html": [
       "<div>\n",
       "<style scoped>\n",
       "    .dataframe tbody tr th:only-of-type {\n",
       "        vertical-align: middle;\n",
       "    }\n",
       "\n",
       "    .dataframe tbody tr th {\n",
       "        vertical-align: top;\n",
       "    }\n",
       "\n",
       "    .dataframe thead th {\n",
       "        text-align: right;\n",
       "    }\n",
       "</style>\n",
       "<table border=\"1\" class=\"dataframe\">\n",
       "  <thead>\n",
       "    <tr style=\"text-align: right;\">\n",
       "      <th></th>\n",
       "      <th>id</th>\n",
       "      <th>date</th>\n",
       "      <th>age</th>\n",
       "      <th>comuna_id</th>\n",
       "      <th>level</th>\n",
       "      <th>online</th>\n",
       "      <th>age_range</th>\n",
       "    </tr>\n",
       "  </thead>\n",
       "  <tbody>\n",
       "    <tr>\n",
       "      <th>2059</th>\n",
       "      <td>3094162</td>\n",
       "      <td>15-01-2020</td>\n",
       "      <td>65</td>\n",
       "      <td>4301</td>\n",
       "      <td>Educación básica incompleta o inferior</td>\n",
       "      <td></td>\n",
       "      <td>&gt;=60</td>\n",
       "    </tr>\n",
       "    <tr>\n",
       "      <th>6777</th>\n",
       "      <td>3449396</td>\n",
       "      <td>27-01-2020</td>\n",
       "      <td>59</td>\n",
       "      <td>6301</td>\n",
       "      <td>Media incompleta (incluyendo Media Técnica)</td>\n",
       "      <td></td>\n",
       "      <td>45-60</td>\n",
       "    </tr>\n",
       "  </tbody>\n",
       "</table>\n",
       "</div>"
      ],
      "text/plain": [
       "           id        date age  comuna_id  \\\n",
       "2059  3094162  15-01-2020  65       4301   \n",
       "6777  3449396  27-01-2020  59       6301   \n",
       "\n",
       "                                            level online age_range  \n",
       "2059       Educación básica incompleta o inferior             >=60  \n",
       "6777  Media incompleta (incluyendo Media Técnica)            45-60  "
      ]
     },
     "execution_count": 12,
     "metadata": {},
     "output_type": "execute_result"
    }
   ],
   "source": [
    "individuals_table.sample(2)"
   ]
  },
  {
   "cell_type": "markdown",
   "metadata": {},
   "source": [
    "### Country Needs"
   ]
  },
  {
   "cell_type": "code",
   "execution_count": 307,
   "metadata": {},
   "outputs": [
    {
     "name": "stdout",
     "output_type": "stream",
     "text": [
      "CPU times: user 1min 14s, sys: 2.97 s, total: 1min 17s\n",
      "Wall time: 1min 17s\n"
     ]
    }
   ],
   "source": [
    "%%time\n",
    "country_needs = create_table_country_needs(survey, ind_survey, ind_survey_path, ind_online_survey_path)"
   ]
  },
  {
   "cell_type": "code",
   "execution_count": 317,
   "metadata": {
    "scrolled": false
   },
   "outputs": [
    {
     "data": {
      "text/html": [
       "<div>\n",
       "<style scoped>\n",
       "    .dataframe tbody tr th:only-of-type {\n",
       "        vertical-align: middle;\n",
       "    }\n",
       "\n",
       "    .dataframe tbody tr th {\n",
       "        vertical-align: top;\n",
       "    }\n",
       "\n",
       "    .dataframe thead th {\n",
       "        text-align: right;\n",
       "    }\n",
       "</style>\n",
       "<table border=\"1\" class=\"dataframe\">\n",
       "  <thead>\n",
       "    <tr style=\"text-align: right;\">\n",
       "      <th></th>\n",
       "      <th>source_id</th>\n",
       "      <th>name</th>\n",
       "      <th>name_tokens</th>\n",
       "      <th>macro</th>\n",
       "      <th>exp</th>\n",
       "      <th>exp_tokens</th>\n",
       "      <th>role</th>\n",
       "      <th>role_tokens</th>\n",
       "      <th>actor</th>\n",
       "      <th>priority</th>\n",
       "      <th>is_dialogue</th>\n",
       "      <th>is_online</th>\n",
       "      <th>id</th>\n",
       "    </tr>\n",
       "  </thead>\n",
       "  <tbody>\n",
       "    <tr>\n",
       "      <th>16703</th>\n",
       "      <td>5129661</td>\n",
       "      <td>desigualdad</td>\n",
       "      <td>[desigualdad]</td>\n",
       "      <td></td>\n",
       "      <td></td>\n",
       "      <td></td>\n",
       "      <td></td>\n",
       "      <td></td>\n",
       "      <td></td>\n",
       "      <td></td>\n",
       "      <td>0</td>\n",
       "      <td>0</td>\n",
       "      <td>16487</td>\n",
       "    </tr>\n",
       "    <tr>\n",
       "      <th>2167</th>\n",
       "      <td>3400383</td>\n",
       "      <td>equidad</td>\n",
       "      <td>[equidad]</td>\n",
       "      <td></td>\n",
       "      <td></td>\n",
       "      <td></td>\n",
       "      <td></td>\n",
       "      <td></td>\n",
       "      <td>estado</td>\n",
       "      <td>1</td>\n",
       "      <td>0</td>\n",
       "      <td>0</td>\n",
       "      <td>21770</td>\n",
       "    </tr>\n",
       "    <tr>\n",
       "      <th>260</th>\n",
       "      <td>2997498</td>\n",
       "      <td>salud</td>\n",
       "      <td>[salud]</td>\n",
       "      <td></td>\n",
       "      <td></td>\n",
       "      <td></td>\n",
       "      <td>el ministro que se la juegue</td>\n",
       "      <td>[ministro, juegue]</td>\n",
       "      <td>estado</td>\n",
       "      <td></td>\n",
       "      <td>0</td>\n",
       "      <td>0</td>\n",
       "      <td>962</td>\n",
       "    </tr>\n",
       "  </tbody>\n",
       "</table>\n",
       "</div>"
      ],
      "text/plain": [
       "      source_id         name    name_tokens macro exp exp_tokens  \\\n",
       "16703   5129661  desigualdad  [desigualdad]                        \n",
       "2167    3400383      equidad      [equidad]                        \n",
       "260     2997498        salud        [salud]                        \n",
       "\n",
       "                               role         role_tokens   actor priority  \\\n",
       "16703                                                                      \n",
       "2167                                                     estado        1   \n",
       "260    el ministro que se la juegue  [ministro, juegue]  estado            \n",
       "\n",
       "       is_dialogue  is_online     id  \n",
       "16703            0          0  16487  \n",
       "2167             0          0  21770  \n",
       "260              0          0    962  "
      ]
     },
     "execution_count": 317,
     "metadata": {},
     "output_type": "execute_result"
    }
   ],
   "source": [
    "country_needs.sample(3)"
   ]
  },
  {
   "cell_type": "code",
   "execution_count": null,
   "metadata": {},
   "outputs": [],
   "source": []
  },
  {
   "cell_type": "markdown",
   "metadata": {},
   "source": [
    "### Family/PersonalNeeds"
   ]
  },
  {
   "cell_type": "code",
   "execution_count": 305,
   "metadata": {},
   "outputs": [
    {
     "name": "stdout",
     "output_type": "stream",
     "text": [
      "CPU times: user 56.2 s, sys: 3.65 s, total: 59.9 s\n",
      "Wall time: 59.9 s\n"
     ]
    }
   ],
   "source": [
    "%%time\n",
    "personal_needs = create_table_personal_needs(survey, ind_survey, ind_online_survey)"
   ]
  },
  {
   "cell_type": "code",
   "execution_count": 306,
   "metadata": {},
   "outputs": [
    {
     "data": {
      "text/html": [
       "<div>\n",
       "<style scoped>\n",
       "    .dataframe tbody tr th:only-of-type {\n",
       "        vertical-align: middle;\n",
       "    }\n",
       "\n",
       "    .dataframe tbody tr th {\n",
       "        vertical-align: top;\n",
       "    }\n",
       "\n",
       "    .dataframe thead th {\n",
       "        text-align: right;\n",
       "    }\n",
       "</style>\n",
       "<table border=\"1\" class=\"dataframe\">\n",
       "  <thead>\n",
       "    <tr style=\"text-align: right;\">\n",
       "      <th></th>\n",
       "      <th>source_id</th>\n",
       "      <th>name</th>\n",
       "      <th>name_tokens</th>\n",
       "      <th>exp</th>\n",
       "      <th>exp_tokens</th>\n",
       "      <th>macro</th>\n",
       "      <th>priority</th>\n",
       "      <th>is_dialogue</th>\n",
       "      <th>is_online</th>\n",
       "      <th>id</th>\n",
       "    </tr>\n",
       "  </thead>\n",
       "  <tbody>\n",
       "    <tr>\n",
       "      <th>11961</th>\n",
       "      <td>5838240</td>\n",
       "      <td>inseguridad</td>\n",
       "      <td>[inseguridad]</td>\n",
       "      <td>el no vivir en forma tranquila por la delincue...</td>\n",
       "      <td>[vivir, forma, tranquila, delincuencia, debier...</td>\n",
       "      <td>inseguridad</td>\n",
       "      <td>3.0</td>\n",
       "      <td>0</td>\n",
       "      <td>0</td>\n",
       "      <td>36931</td>\n",
       "    </tr>\n",
       "    <tr>\n",
       "      <th>6881</th>\n",
       "      <td>3378109</td>\n",
       "      <td>trabajo, tranquilidad</td>\n",
       "      <td>[trabajo, tranquilidad]</td>\n",
       "      <td>para ir a mi pega, que no hayan incidentes</td>\n",
       "      <td>[ir, pega, incidentes]</td>\n",
       "      <td>trabajo, tranquilidad</td>\n",
       "      <td>1.0</td>\n",
       "      <td>0</td>\n",
       "      <td>0</td>\n",
       "      <td>6239</td>\n",
       "    </tr>\n",
       "    <tr>\n",
       "      <th>52</th>\n",
       "      <td>3d897e8dea843aaaf7a8fb97983274f4</td>\n",
       "      <td>economica</td>\n",
       "      <td>[economica]</td>\n",
       "      <td>aumentar las pensiones, terminar con las afp, ...</td>\n",
       "      <td>[aumentar, pensiones, terminar, afp, crear, nu...</td>\n",
       "      <td>economica</td>\n",
       "      <td>1.0</td>\n",
       "      <td>0</td>\n",
       "      <td>1</td>\n",
       "      <td>11766</td>\n",
       "    </tr>\n",
       "  </tbody>\n",
       "</table>\n",
       "</div>"
      ],
      "text/plain": [
       "                              source_id                   name  \\\n",
       "11961                           5838240            inseguridad   \n",
       "6881                            3378109  trabajo, tranquilidad   \n",
       "52     3d897e8dea843aaaf7a8fb97983274f4              economica   \n",
       "\n",
       "                   name_tokens  \\\n",
       "11961            [inseguridad]   \n",
       "6881   [trabajo, tranquilidad]   \n",
       "52                 [economica]   \n",
       "\n",
       "                                                     exp  \\\n",
       "11961  el no vivir en forma tranquila por la delincue...   \n",
       "6881          para ir a mi pega, que no hayan incidentes   \n",
       "52     aumentar las pensiones, terminar con las afp, ...   \n",
       "\n",
       "                                              exp_tokens  \\\n",
       "11961  [vivir, forma, tranquila, delincuencia, debier...   \n",
       "6881                              [ir, pega, incidentes]   \n",
       "52     [aumentar, pensiones, terminar, afp, crear, nu...   \n",
       "\n",
       "                       macro  priority  is_dialogue  is_online     id  \n",
       "11961            inseguridad       3.0            0          0  36931  \n",
       "6881   trabajo, tranquilidad       1.0            0          0   6239  \n",
       "52                 economica       1.0            0          1  11766  "
      ]
     },
     "execution_count": 306,
     "metadata": {},
     "output_type": "execute_result"
    }
   ],
   "source": [
    "personal_needs.sample(3)"
   ]
  },
  {
   "cell_type": "code",
   "execution_count": null,
   "metadata": {},
   "outputs": [],
   "source": []
  },
  {
   "cell_type": "markdown",
   "metadata": {},
   "source": [
    "### Contributions"
   ]
  },
  {
   "cell_type": "code",
   "execution_count": 303,
   "metadata": {},
   "outputs": [],
   "source": [
    "contributions = create_table_contributions(survey, ind_survey, ind_online_survey)"
   ]
  },
  {
   "cell_type": "code",
   "execution_count": 304,
   "metadata": {},
   "outputs": [
    {
     "data": {
      "text/html": [
       "<div>\n",
       "<style scoped>\n",
       "    .dataframe tbody tr th:only-of-type {\n",
       "        vertical-align: middle;\n",
       "    }\n",
       "\n",
       "    .dataframe tbody tr th {\n",
       "        vertical-align: top;\n",
       "    }\n",
       "\n",
       "    .dataframe thead th {\n",
       "        text-align: right;\n",
       "    }\n",
       "</style>\n",
       "<table border=\"1\" class=\"dataframe\">\n",
       "  <thead>\n",
       "    <tr style=\"text-align: right;\">\n",
       "      <th></th>\n",
       "      <th>id</th>\n",
       "      <th>source_id</th>\n",
       "      <th>text</th>\n",
       "      <th>tokens</th>\n",
       "      <th>macro</th>\n",
       "      <th>is_dialogue</th>\n",
       "      <th>is_online</th>\n",
       "    </tr>\n",
       "  </thead>\n",
       "  <tbody>\n",
       "    <tr>\n",
       "      <th>4816</th>\n",
       "      <td>5316</td>\n",
       "      <td>3203816</td>\n",
       "      <td>ninguna</td>\n",
       "      <td>[ninguna]</td>\n",
       "      <td>ninguna</td>\n",
       "      <td>0</td>\n",
       "      <td>0</td>\n",
       "    </tr>\n",
       "    <tr>\n",
       "      <th>8492</th>\n",
       "      <td>8992</td>\n",
       "      <td>4196077</td>\n",
       "      <td>una buena reinsercion laboral y ser un aporte ...</td>\n",
       "      <td>[buena, reinsercion, laboral, ser, aporte, soc...</td>\n",
       "      <td>una buena reinsercion laboral y ser un aporte ...</td>\n",
       "      <td>0</td>\n",
       "      <td>0</td>\n",
       "    </tr>\n",
       "    <tr>\n",
       "      <th>3506</th>\n",
       "      <td>4006</td>\n",
       "      <td>3159647</td>\n",
       "      <td>cada dia ser mejor persona</td>\n",
       "      <td>[cada, dia, ser, mejor, persona]</td>\n",
       "      <td>cada dia ser mejor persona</td>\n",
       "      <td>0</td>\n",
       "      <td>0</td>\n",
       "    </tr>\n",
       "  </tbody>\n",
       "</table>\n",
       "</div>"
      ],
      "text/plain": [
       "        id source_id                                               text  \\\n",
       "4816  5316   3203816                                            ninguna   \n",
       "8492  8992   4196077  una buena reinsercion laboral y ser un aporte ...   \n",
       "3506  4006   3159647                         cada dia ser mejor persona   \n",
       "\n",
       "                                                 tokens  \\\n",
       "4816                                          [ninguna]   \n",
       "8492  [buena, reinsercion, laboral, ser, aporte, soc...   \n",
       "3506                   [cada, dia, ser, mejor, persona]   \n",
       "\n",
       "                                                  macro  is_dialogue  \\\n",
       "4816                                            ninguna            0   \n",
       "8492  una buena reinsercion laboral y ser un aporte ...            0   \n",
       "3506                         cada dia ser mejor persona            0   \n",
       "\n",
       "      is_online  \n",
       "4816          0  \n",
       "8492          0  \n",
       "3506          0  "
      ]
     },
     "execution_count": 304,
     "metadata": {},
     "output_type": "execute_result"
    }
   ],
   "source": [
    "contributions.sample(3)"
   ]
  },
  {
   "cell_type": "code",
   "execution_count": null,
   "metadata": {},
   "outputs": [],
   "source": []
  },
  {
   "cell_type": "code",
   "execution_count": null,
   "metadata": {},
   "outputs": [],
   "source": []
  }
 ],
 "metadata": {
  "kernelspec": {
   "display_name": "Python 3",
   "language": "python",
   "name": "python3"
  },
  "language_info": {
   "codemirror_mode": {
    "name": "ipython",
    "version": 3
   },
   "file_extension": ".py",
   "mimetype": "text/x-python",
   "name": "python",
   "nbconvert_exporter": "python",
   "pygments_lexer": "ipython3",
   "version": "3.7.6"
  }
 },
 "nbformat": 4,
 "nbformat_minor": 4
}
