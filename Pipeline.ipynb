{
 "cells": [
  {
   "cell_type": "markdown",
   "metadata": {},
   "source": [
    "# Data cleaning "
   ]
  },
  {
   "cell_type": "code",
   "execution_count": 1,
   "metadata": {},
   "outputs": [],
   "source": [
    "import pandas as pd"
   ]
  },
  {
   "cell_type": "code",
   "execution_count": 2,
   "metadata": {},
   "outputs": [
    {
     "name": "stderr",
     "output_type": "stream",
     "text": [
      "[nltk_data] Downloading package stopwords to /home/jovyan/nltk_data...\n",
      "[nltk_data]   Package stopwords is already up-to-date!\n"
     ]
    }
   ],
   "source": [
    "from use_cases.contributions import create_table_contributions\n",
    "\n",
    "from use_cases.emotions import create_table_emotions\n",
    "from use_cases.personal_needs import create_table_personal_needs\n",
    "from use_cases.dialogues import create_table_dialogues\n",
    "from use_cases.country_needs import create_table_country_needs\n",
    "from use_cases.persons import create_table_persons\n",
    "from use_cases.individuals import create_table_individuals\n",
    "from use_cases.pairs import create_pair_token\n",
    "\n",
    "\n",
    "pd.options.mode.chained_assignment = None \n",
    "\n",
    "%load_ext autoreload\n",
    "%autoreload 2"
   ]
  },
  {
   "cell_type": "markdown",
   "metadata": {},
   "source": [
    "## Loading Data Surveys"
   ]
  },
  {
   "cell_type": "code",
   "execution_count": 3,
   "metadata": {},
   "outputs": [],
   "source": [
    "chunksize   = 100 # Just for debugging\n",
    "survey_path = './data/BBDD_Dialogos_2021_01_27.csv' \n",
    "survey = pd.read_csv(survey_path, chunksize=chunksize, low_memory=False)\n",
    "for survey in survey: break\n",
    "    \n",
    "ind_online_survey_path = './data/Consulta_Individual_online_v2.xlsx'\n",
    "ind_online_survey = pd.read_excel(ind_online_survey_path, 'Sheet1')\n",
    "    \n",
    "ind_survey_path = './data/Base_final_digitación_Consultas.xlsx'\n",
    "ind_survey = pd.read_excel(ind_survey_path, 'CONSULTAS')"
   ]
  },
  {
   "cell_type": "code",
   "execution_count": 4,
   "metadata": {},
   "outputs": [
    {
     "data": {
      "text/html": [
       "<div>\n",
       "<style scoped>\n",
       "    .dataframe tbody tr th:only-of-type {\n",
       "        vertical-align: middle;\n",
       "    }\n",
       "\n",
       "    .dataframe tbody tr th {\n",
       "        vertical-align: top;\n",
       "    }\n",
       "\n",
       "    .dataframe thead th {\n",
       "        text-align: right;\n",
       "    }\n",
       "</style>\n",
       "<table border=\"1\" class=\"dataframe\">\n",
       "  <thead>\n",
       "    <tr style=\"text-align: right;\">\n",
       "      <th></th>\n",
       "      <th>Submission Date</th>\n",
       "      <th>RUN</th>\n",
       "      <th>Edad</th>\n",
       "      <th>Comuna</th>\n",
       "      <th>1. ¿Cuál es el nivel de educación alcanzado por Usted?</th>\n",
       "      <th>2. ¿Cuál es el nivel de educación que alcanzó el jefe de su hogar? (sólo si se trata de alguien distinto a Usted)</th>\n",
       "      <th>1 &gt;&gt; Emociones / Sentimientos / Sensaciones</th>\n",
       "      <th>1 &gt;&gt; Explique lo mencionado</th>\n",
       "      <th>2 &gt;&gt; Emociones / Sentimientos / Sensaciones</th>\n",
       "      <th>2 &gt;&gt; Explique lo mencionado</th>\n",
       "      <th>...</th>\n",
       "      <th>2 &gt;&gt; Rol del actor social (Describa)</th>\n",
       "      <th>3 &gt;&gt; Necesidades del país identificadas</th>\n",
       "      <th>3 &gt;&gt; Rol del Estado (Describa)</th>\n",
       "      <th>3 &gt;&gt; Actor social (empresa, organizaciones sociales, medios de comunicación, comunidad, etc)</th>\n",
       "      <th>3 &gt;&gt; Rol del actor social (Describa)</th>\n",
       "      <th>5. Pregunta: ¿Cuál es mi contribución personal para construir el Chile que queremos?</th>\n",
       "      <th>Comuna.1</th>\n",
       "      <th>Comentarios finales: Si tiene alguna observación o sugerencia, en este espacio puede indicarla.</th>\n",
       "      <th>Región</th>\n",
       "      <th>Región.1</th>\n",
       "    </tr>\n",
       "  </thead>\n",
       "  <tbody>\n",
       "    <tr>\n",
       "      <th>44</th>\n",
       "      <td>2020/02/03 17:16:22</td>\n",
       "      <td>e4a58e536e1ef5f75cc4aa12c6b3a5f0</td>\n",
       "      <td>50</td>\n",
       "      <td>NaN</td>\n",
       "      <td>Universitaria incompleta. Técnica completa.</td>\n",
       "      <td>Yo soy el jefe de hogar.</td>\n",
       "      <td>alegria</td>\n",
       "      <td>por el despertar de la sociedad</td>\n",
       "      <td>Preocupacion</td>\n",
       "      <td>Cuando se agravo la violencia, temor por lo qu...</td>\n",
       "      <td>...</td>\n",
       "      <td>NaN</td>\n",
       "      <td>Delincuencia</td>\n",
       "      <td>nuevas reformas</td>\n",
       "      <td>NaN</td>\n",
       "      <td>NaN</td>\n",
       "      <td>preocuparme por el medio ambiente en contamina...</td>\n",
       "      <td>Valdivia</td>\n",
       "      <td>Con respecto a la delincuencia, así como cada ...</td>\n",
       "      <td>Región de Los Ríos</td>\n",
       "      <td>NaN</td>\n",
       "    </tr>\n",
       "    <tr>\n",
       "      <th>146</th>\n",
       "      <td>2020/01/27 17:20:08</td>\n",
       "      <td>febeaafa2aac92987d2b03199c20b791</td>\n",
       "      <td>52</td>\n",
       "      <td>NaN</td>\n",
       "      <td>Universitaria completa.</td>\n",
       "      <td>Yo soy el jefe de hogar.</td>\n",
       "      <td>Agotada</td>\n",
       "      <td>Por el incremento de trabajo en la Unidad.</td>\n",
       "      <td>Melancólica</td>\n",
       "      <td>Quizás por falta de recreación</td>\n",
       "      <td>...</td>\n",
       "      <td>NaN</td>\n",
       "      <td>NaN</td>\n",
       "      <td>NaN</td>\n",
       "      <td>NaN</td>\n",
       "      <td>NaN</td>\n",
       "      <td>Apoyar aquellas propuestas que beneficien en g...</td>\n",
       "      <td>Rancagua</td>\n",
       "      <td>La sugerencia es seguir manteniendo este tipo ...</td>\n",
       "      <td>Región del Libertador General Bernardo O’Higgins</td>\n",
       "      <td>NaN</td>\n",
       "    </tr>\n",
       "  </tbody>\n",
       "</table>\n",
       "<p>2 rows × 44 columns</p>\n",
       "</div>"
      ],
      "text/plain": [
       "         Submission Date                               RUN Edad Comuna  \\\n",
       "44   2020/02/03 17:16:22  e4a58e536e1ef5f75cc4aa12c6b3a5f0   50    NaN   \n",
       "146  2020/01/27 17:20:08  febeaafa2aac92987d2b03199c20b791   52    NaN   \n",
       "\n",
       "    1. ¿Cuál es el nivel de educación alcanzado por Usted?  \\\n",
       "44         Universitaria incompleta. Técnica completa.       \n",
       "146                            Universitaria completa.       \n",
       "\n",
       "    2. ¿Cuál es el nivel de educación que alcanzó el jefe de su hogar? (sólo si se trata de alguien distinto a Usted)  \\\n",
       "44                            Yo soy el jefe de hogar.                                                                  \n",
       "146                           Yo soy el jefe de hogar.                                                                  \n",
       "\n",
       "    1 >> Emociones / Sentimientos / Sensaciones  \\\n",
       "44                                      alegria   \n",
       "146                                     Agotada   \n",
       "\n",
       "                    1 >> Explique lo mencionado  \\\n",
       "44              por el despertar de la sociedad   \n",
       "146  Por el incremento de trabajo en la Unidad.   \n",
       "\n",
       "    2 >> Emociones / Sentimientos / Sensaciones  \\\n",
       "44                                 Preocupacion   \n",
       "146                                 Melancólica   \n",
       "\n",
       "                           2 >> Explique lo mencionado  ...  \\\n",
       "44   Cuando se agravo la violencia, temor por lo qu...  ...   \n",
       "146                     Quizás por falta de recreación  ...   \n",
       "\n",
       "    2 >> Rol del actor social (Describa)  \\\n",
       "44                                   NaN   \n",
       "146                                  NaN   \n",
       "\n",
       "    3 >> Necesidades del país identificadas 3 >> Rol del Estado (Describa)  \\\n",
       "44                             Delincuencia                nuevas reformas   \n",
       "146                                     NaN                            NaN   \n",
       "\n",
       "    3 >> Actor social (empresa, organizaciones sociales, medios de comunicación, comunidad, etc)  \\\n",
       "44                                                 NaN                                             \n",
       "146                                                NaN                                             \n",
       "\n",
       "    3 >> Rol del actor social (Describa)  \\\n",
       "44                                   NaN   \n",
       "146                                  NaN   \n",
       "\n",
       "    5. Pregunta: ¿Cuál es mi contribución personal para construir el Chile que queremos?  \\\n",
       "44   preocuparme por el medio ambiente en contamina...                                       \n",
       "146  Apoyar aquellas propuestas que beneficien en g...                                       \n",
       "\n",
       "     Comuna.1  \\\n",
       "44   Valdivia   \n",
       "146  Rancagua   \n",
       "\n",
       "    Comentarios finales: Si tiene alguna observación o sugerencia, en este espacio puede indicarla.  \\\n",
       "44   Con respecto a la delincuencia, así como cada ...                                                 \n",
       "146  La sugerencia es seguir manteniendo este tipo ...                                                 \n",
       "\n",
       "                                               Región Región.1  \n",
       "44                                 Región de Los Ríos      NaN  \n",
       "146  Región del Libertador General Bernardo O’Higgins      NaN  \n",
       "\n",
       "[2 rows x 44 columns]"
      ]
     },
     "execution_count": 4,
     "metadata": {},
     "output_type": "execute_result"
    }
   ],
   "source": [
    "survey.sample(2)\n",
    "ind_online_survey.sample(2)"
   ]
  },
  {
   "cell_type": "markdown",
   "metadata": {},
   "source": [
    "## Processing Uses Cases\n",
    "1. Emotions \n",
    "2. Contributions\n",
    "3. Country needs \n",
    "4. Personal/familiar needs"
   ]
  },
  {
   "cell_type": "markdown",
   "metadata": {},
   "source": [
    "### Persons Table (Dialogue)"
   ]
  },
  {
   "cell_type": "code",
   "execution_count": 5,
   "metadata": {},
   "outputs": [],
   "source": [
    "persons_table = create_table_persons(survey)"
   ]
  },
  {
   "cell_type": "code",
   "execution_count": 6,
   "metadata": {},
   "outputs": [
    {
     "data": {
      "text/html": [
       "<div>\n",
       "<style scoped>\n",
       "    .dataframe tbody tr th:only-of-type {\n",
       "        vertical-align: middle;\n",
       "    }\n",
       "\n",
       "    .dataframe tbody tr th {\n",
       "        vertical-align: top;\n",
       "    }\n",
       "\n",
       "    .dataframe thead th {\n",
       "        text-align: right;\n",
       "    }\n",
       "</style>\n",
       "<table border=\"1\" class=\"dataframe\">\n",
       "  <thead>\n",
       "    <tr style=\"text-align: right;\">\n",
       "      <th></th>\n",
       "      <th>id</th>\n",
       "      <th>diag_id</th>\n",
       "      <th>age</th>\n",
       "      <th>sex</th>\n",
       "      <th>level</th>\n",
       "      <th>comuna_id</th>\n",
       "      <th>age_range</th>\n",
       "    </tr>\n",
       "  </thead>\n",
       "  <tbody>\n",
       "    <tr>\n",
       "      <th>82</th>\n",
       "      <td>481</td>\n",
       "      <td>enc_u_4596766050112223446</td>\n",
       "      <td>33</td>\n",
       "      <td>h</td>\n",
       "      <td>media_completa</td>\n",
       "      <td>1</td>\n",
       "      <td>30-45</td>\n",
       "    </tr>\n",
       "    <tr>\n",
       "      <th>22</th>\n",
       "      <td>561</td>\n",
       "      <td>enc_u_4601731044543916003</td>\n",
       "      <td>43</td>\n",
       "      <td>f</td>\n",
       "      <td>universitaria_completa</td>\n",
       "      <td>8302</td>\n",
       "      <td>30-45</td>\n",
       "    </tr>\n",
       "    <tr>\n",
       "      <th>98</th>\n",
       "      <td>198</td>\n",
       "      <td>enc_u_4595906623579183150</td>\n",
       "      <td>51</td>\n",
       "      <td>f</td>\n",
       "      <td>basica_completa</td>\n",
       "      <td>8105</td>\n",
       "      <td>45-60</td>\n",
       "    </tr>\n",
       "  </tbody>\n",
       "</table>\n",
       "</div>"
      ],
      "text/plain": [
       "     id                    diag_id age sex                   level  comuna_id  \\\n",
       "82  481  enc_u_4596766050112223446  33   h          media_completa          1   \n",
       "22  561  enc_u_4601731044543916003  43   f  universitaria_completa       8302   \n",
       "98  198  enc_u_4595906623579183150  51   f         basica_completa       8105   \n",
       "\n",
       "   age_range  \n",
       "82     30-45  \n",
       "22     30-45  \n",
       "98     45-60  "
      ]
     },
     "execution_count": 6,
     "metadata": {},
     "output_type": "execute_result"
    }
   ],
   "source": [
    "persons_table.sample(3)"
   ]
  },
  {
   "cell_type": "markdown",
   "metadata": {},
   "source": [
    "### Dialogues"
   ]
  },
  {
   "cell_type": "code",
   "execution_count": 7,
   "metadata": {},
   "outputs": [],
   "source": [
    "dialogues_table = create_table_dialogues(survey)"
   ]
  },
  {
   "cell_type": "code",
   "execution_count": 8,
   "metadata": {},
   "outputs": [
    {
     "data": {
      "text/html": [
       "<div>\n",
       "<style scoped>\n",
       "    .dataframe tbody tr th:only-of-type {\n",
       "        vertical-align: middle;\n",
       "    }\n",
       "\n",
       "    .dataframe tbody tr th {\n",
       "        vertical-align: top;\n",
       "    }\n",
       "\n",
       "    .dataframe thead th {\n",
       "        text-align: right;\n",
       "    }\n",
       "</style>\n",
       "<table border=\"1\" class=\"dataframe\">\n",
       "  <thead>\n",
       "    <tr style=\"text-align: right;\">\n",
       "      <th></th>\n",
       "      <th>id</th>\n",
       "      <th>date</th>\n",
       "      <th>init_time</th>\n",
       "      <th>end_time</th>\n",
       "      <th>location</th>\n",
       "      <th>address</th>\n",
       "      <th>comuna_id</th>\n",
       "      <th>n_members</th>\n",
       "      <th>group_name</th>\n",
       "    </tr>\n",
       "  </thead>\n",
       "  <tbody>\n",
       "    <tr>\n",
       "      <th>51</th>\n",
       "      <td>enc_u_4598337190995449677</td>\n",
       "      <td>22-01-2020</td>\n",
       "      <td>17:00:00</td>\n",
       "      <td>00:00:00</td>\n",
       "      <td>direccion regional injuv coquimbo</td>\n",
       "      <td>av francisco de aguirre #414</td>\n",
       "      <td>4101</td>\n",
       "      <td>7</td>\n",
       "      <td>usuarios de oficina movil de bienes nacionales</td>\n",
       "    </tr>\n",
       "    <tr>\n",
       "      <th>50</th>\n",
       "      <td>enc_u_4598338985522268051</td>\n",
       "      <td>06-03-2020</td>\n",
       "      <td>10:30:00</td>\n",
       "      <td>12:00:00</td>\n",
       "      <td>pucon</td>\n",
       "      <td>calle ansorena s/n</td>\n",
       "      <td>9115</td>\n",
       "      <td>5</td>\n",
       "      <td>usuarios de oficina movil de bienes nacionales</td>\n",
       "    </tr>\n",
       "    <tr>\n",
       "      <th>80</th>\n",
       "      <td>enc_u_4596799489416460526</td>\n",
       "      <td>10-01-2020</td>\n",
       "      <td>15:00:00</td>\n",
       "      <td>17:45:00</td>\n",
       "      <td>sala de reuniones seremi mop</td>\n",
       "      <td>bulnes 897</td>\n",
       "      <td>9101</td>\n",
       "      <td>5</td>\n",
       "      <td>usuarios de oficina movil de bienes nacionales</td>\n",
       "    </tr>\n",
       "  </tbody>\n",
       "</table>\n",
       "</div>"
      ],
      "text/plain": [
       "                           id        date init_time  end_time  \\\n",
       "51  enc_u_4598337190995449677  22-01-2020  17:00:00  00:00:00   \n",
       "50  enc_u_4598338985522268051  06-03-2020  10:30:00  12:00:00   \n",
       "80  enc_u_4596799489416460526  10-01-2020  15:00:00  17:45:00   \n",
       "\n",
       "                             location                       address  \\\n",
       "51  direccion regional injuv coquimbo  av francisco de aguirre #414   \n",
       "50                              pucon            calle ansorena s/n   \n",
       "80       sala de reuniones seremi mop                    bulnes 897   \n",
       "\n",
       "    comuna_id n_members                                      group_name  \n",
       "51       4101         7  usuarios de oficina movil de bienes nacionales  \n",
       "50       9115         5  usuarios de oficina movil de bienes nacionales  \n",
       "80       9101         5  usuarios de oficina movil de bienes nacionales  "
      ]
     },
     "execution_count": 8,
     "metadata": {},
     "output_type": "execute_result"
    }
   ],
   "source": [
    "dialogues_table.sample(3)"
   ]
  },
  {
   "cell_type": "markdown",
   "metadata": {},
   "source": [
    "### Individuals"
   ]
  },
  {
   "cell_type": "code",
   "execution_count": 9,
   "metadata": {
    "scrolled": true
   },
   "outputs": [
    {
     "name": "stdout",
     "output_type": "stream",
     "text": [
      "CPU times: user 7.49 s, sys: 76.5 ms, total: 7.57 s\n",
      "Wall time: 7.74 s\n"
     ]
    }
   ],
   "source": [
    "%%time\n",
    "individuals_table = create_table_individuals(ind_online_survey, ind_survey)"
   ]
  },
  {
   "cell_type": "code",
   "execution_count": 10,
   "metadata": {},
   "outputs": [
    {
     "data": {
      "text/html": [
       "<div>\n",
       "<style scoped>\n",
       "    .dataframe tbody tr th:only-of-type {\n",
       "        vertical-align: middle;\n",
       "    }\n",
       "\n",
       "    .dataframe tbody tr th {\n",
       "        vertical-align: top;\n",
       "    }\n",
       "\n",
       "    .dataframe thead th {\n",
       "        text-align: right;\n",
       "    }\n",
       "</style>\n",
       "<table border=\"1\" class=\"dataframe\">\n",
       "  <thead>\n",
       "    <tr style=\"text-align: right;\">\n",
       "      <th></th>\n",
       "      <th>id</th>\n",
       "      <th>date</th>\n",
       "      <th>age</th>\n",
       "      <th>comuna_id</th>\n",
       "      <th>level</th>\n",
       "      <th>online</th>\n",
       "      <th>age_range</th>\n",
       "    </tr>\n",
       "  </thead>\n",
       "  <tbody>\n",
       "    <tr>\n",
       "      <th>10005</th>\n",
       "      <td>5227912</td>\n",
       "      <td>21-01-2020</td>\n",
       "      <td>45</td>\n",
       "      <td>13129</td>\n",
       "      <td>Técnica completa</td>\n",
       "      <td></td>\n",
       "      <td>45-60</td>\n",
       "    </tr>\n",
       "    <tr>\n",
       "      <th>5586</th>\n",
       "      <td>3251581</td>\n",
       "      <td>23-01-2020</td>\n",
       "      <td>71</td>\n",
       "      <td>4301</td>\n",
       "      <td>Básica completa</td>\n",
       "      <td></td>\n",
       "      <td>&gt;=60</td>\n",
       "    </tr>\n",
       "  </tbody>\n",
       "</table>\n",
       "</div>"
      ],
      "text/plain": [
       "            id        date age  comuna_id             level online age_range\n",
       "10005  5227912  21-01-2020  45      13129  Técnica completa            45-60\n",
       "5586   3251581  23-01-2020  71       4301   Básica completa             >=60"
      ]
     },
     "execution_count": 10,
     "metadata": {},
     "output_type": "execute_result"
    }
   ],
   "source": [
    "individuals_table.sample(2)"
   ]
  },
  {
   "cell_type": "markdown",
   "metadata": {},
   "source": [
    "### Emotions"
   ]
  },
  {
   "cell_type": "code",
   "execution_count": 14,
   "metadata": {},
   "outputs": [],
   "source": [
    "emotions_table = create_table_emotions(survey, ind_survey_path, ind_online_survey)"
   ]
  },
  {
   "cell_type": "code",
   "execution_count": 16,
   "metadata": {},
   "outputs": [
    {
     "data": {
      "text/html": [
       "<div>\n",
       "<style scoped>\n",
       "    .dataframe tbody tr th:only-of-type {\n",
       "        vertical-align: middle;\n",
       "    }\n",
       "\n",
       "    .dataframe tbody tr th {\n",
       "        vertical-align: top;\n",
       "    }\n",
       "\n",
       "    .dataframe thead th {\n",
       "        text-align: right;\n",
       "    }\n",
       "</style>\n",
       "<table border=\"1\" class=\"dataframe\">\n",
       "  <thead>\n",
       "    <tr style=\"text-align: right;\">\n",
       "      <th></th>\n",
       "      <th>id</th>\n",
       "      <th>diag_id</th>\n",
       "      <th>ind_id</th>\n",
       "      <th>name</th>\n",
       "      <th>name_tokens</th>\n",
       "      <th>macro</th>\n",
       "      <th>exp</th>\n",
       "      <th>exp_tokens</th>\n",
       "      <th>is_online</th>\n",
       "      <th>source_id</th>\n",
       "    </tr>\n",
       "  </thead>\n",
       "  <tbody>\n",
       "    <tr>\n",
       "      <th>8439</th>\n",
       "      <td>19645</td>\n",
       "      <td></td>\n",
       "      <td></td>\n",
       "      <td>preocupacion</td>\n",
       "      <td>[preocupacion]</td>\n",
       "      <td></td>\n",
       "      <td>incertidumbre ante acontecimientos</td>\n",
       "      <td>[incertidumbre, acontecimientos]</td>\n",
       "      <td>0</td>\n",
       "      <td>4162910</td>\n",
       "    </tr>\n",
       "    <tr>\n",
       "      <th>857</th>\n",
       "      <td>13666</td>\n",
       "      <td></td>\n",
       "      <td>243960e69adeee65e31bb13224c1e96a</td>\n",
       "      <td>decepcionada</td>\n",
       "      <td>[decepcionada]</td>\n",
       "      <td></td>\n",
       "      <td>de la respuestas del gobierno dia  a dia, fue ...</td>\n",
       "      <td>[respuestas, gobierno, dia, dia, decepcionante...</td>\n",
       "      <td>1</td>\n",
       "      <td></td>\n",
       "    </tr>\n",
       "  </tbody>\n",
       "</table>\n",
       "</div>"
      ],
      "text/plain": [
       "         id diag_id                            ind_id          name  \\\n",
       "8439  19645                                            preocupacion   \n",
       "857   13666          243960e69adeee65e31bb13224c1e96a  decepcionada   \n",
       "\n",
       "         name_tokens macro                                                exp  \\\n",
       "8439  [preocupacion]                       incertidumbre ante acontecimientos   \n",
       "857   [decepcionada]        de la respuestas del gobierno dia  a dia, fue ...   \n",
       "\n",
       "                                             exp_tokens  is_online source_id  \n",
       "8439                   [incertidumbre, acontecimientos]          0   4162910  \n",
       "857   [respuestas, gobierno, dia, dia, decepcionante...          1            "
      ]
     },
     "execution_count": 16,
     "metadata": {},
     "output_type": "execute_result"
    }
   ],
   "source": [
    "emotions_table.sample(2)"
   ]
  },
  {
   "cell_type": "markdown",
   "metadata": {},
   "source": [
    "### Emotion Pair"
   ]
  },
  {
   "cell_type": "code",
   "execution_count": 18,
   "metadata": {},
   "outputs": [],
   "source": [
    "emotion_pair = create_pair_token(emotions_table, 'exp_tokens', 'emotion_id')"
   ]
  },
  {
   "cell_type": "code",
   "execution_count": 19,
   "metadata": {},
   "outputs": [
    {
     "data": {
      "text/html": [
       "<div>\n",
       "<style scoped>\n",
       "    .dataframe tbody tr th:only-of-type {\n",
       "        vertical-align: middle;\n",
       "    }\n",
       "\n",
       "    .dataframe tbody tr th {\n",
       "        vertical-align: top;\n",
       "    }\n",
       "\n",
       "    .dataframe thead th {\n",
       "        text-align: right;\n",
       "    }\n",
       "</style>\n",
       "<table border=\"1\" class=\"dataframe\">\n",
       "  <thead>\n",
       "    <tr style=\"text-align: right;\">\n",
       "      <th></th>\n",
       "      <th>id</th>\n",
       "      <th>emotion_id</th>\n",
       "      <th>word_1</th>\n",
       "      <th>word_2</th>\n",
       "    </tr>\n",
       "  </thead>\n",
       "  <tbody>\n",
       "    <tr>\n",
       "      <th>28834</th>\n",
       "      <td>28835</td>\n",
       "      <td>7718</td>\n",
       "      <td>bonito</td>\n",
       "      <td>cambie</td>\n",
       "    </tr>\n",
       "    <tr>\n",
       "      <th>73774</th>\n",
       "      <td>73775</td>\n",
       "      <td>20184</td>\n",
       "      <td>queda</td>\n",
       "      <td>gente</td>\n",
       "    </tr>\n",
       "    <tr>\n",
       "      <th>9270</th>\n",
       "      <td>9271</td>\n",
       "      <td>2258</td>\n",
       "      <td>cambios</td>\n",
       "      <td>concretos</td>\n",
       "    </tr>\n",
       "  </tbody>\n",
       "</table>\n",
       "</div>"
      ],
      "text/plain": [
       "          id  emotion_id   word_1     word_2\n",
       "28834  28835        7718   bonito     cambie\n",
       "73774  73775       20184    queda      gente\n",
       "9270    9271        2258  cambios  concretos"
      ]
     },
     "execution_count": 19,
     "metadata": {},
     "output_type": "execute_result"
    }
   ],
   "source": [
    "emotion_pair.sample(3)"
   ]
  },
  {
   "cell_type": "markdown",
   "metadata": {},
   "source": [
    "### Country Needs"
   ]
  },
  {
   "cell_type": "code",
   "execution_count": 20,
   "metadata": {},
   "outputs": [
    {
     "name": "stdout",
     "output_type": "stream",
     "text": [
      "CPU times: user 1min 13s, sys: 3.46 s, total: 1min 17s\n",
      "Wall time: 1min 17s\n"
     ]
    }
   ],
   "source": [
    "%%time\n",
    "country_needs = create_table_country_needs(survey, ind_survey, ind_survey_path, ind_online_survey_path)"
   ]
  },
  {
   "cell_type": "code",
   "execution_count": 21,
   "metadata": {
    "scrolled": true
   },
   "outputs": [
    {
     "data": {
      "text/html": [
       "<div>\n",
       "<style scoped>\n",
       "    .dataframe tbody tr th:only-of-type {\n",
       "        vertical-align: middle;\n",
       "    }\n",
       "\n",
       "    .dataframe tbody tr th {\n",
       "        vertical-align: top;\n",
       "    }\n",
       "\n",
       "    .dataframe thead th {\n",
       "        text-align: right;\n",
       "    }\n",
       "</style>\n",
       "<table border=\"1\" class=\"dataframe\">\n",
       "  <thead>\n",
       "    <tr style=\"text-align: right;\">\n",
       "      <th></th>\n",
       "      <th>id</th>\n",
       "      <th>diag_id</th>\n",
       "      <th>ind_id</th>\n",
       "      <th>name</th>\n",
       "      <th>name_tokens</th>\n",
       "      <th>macro</th>\n",
       "      <th>exp</th>\n",
       "      <th>exp_tokens</th>\n",
       "      <th>role</th>\n",
       "      <th>role_tokens</th>\n",
       "      <th>actor</th>\n",
       "      <th>priority</th>\n",
       "      <th>is_online</th>\n",
       "    </tr>\n",
       "  </thead>\n",
       "  <tbody>\n",
       "    <tr>\n",
       "      <th>13711</th>\n",
       "      <td>13749</td>\n",
       "      <td></td>\n",
       "      <td>3226816</td>\n",
       "      <td>salud</td>\n",
       "      <td>[salud]</td>\n",
       "      <td></td>\n",
       "      <td></td>\n",
       "      <td></td>\n",
       "      <td></td>\n",
       "      <td></td>\n",
       "      <td></td>\n",
       "      <td>1</td>\n",
       "      <td>0</td>\n",
       "    </tr>\n",
       "    <tr>\n",
       "      <th>16674</th>\n",
       "      <td>32002</td>\n",
       "      <td></td>\n",
       "      <td>3222266</td>\n",
       "      <td>justicia real</td>\n",
       "      <td>[justicia, real]</td>\n",
       "      <td></td>\n",
       "      <td></td>\n",
       "      <td></td>\n",
       "      <td></td>\n",
       "      <td></td>\n",
       "      <td></td>\n",
       "      <td></td>\n",
       "      <td>0</td>\n",
       "    </tr>\n",
       "    <tr>\n",
       "      <th>6103</th>\n",
       "      <td>6805</td>\n",
       "      <td></td>\n",
       "      <td>3147777</td>\n",
       "      <td>igualdad</td>\n",
       "      <td>[igualdad]</td>\n",
       "      <td></td>\n",
       "      <td></td>\n",
       "      <td></td>\n",
       "      <td>mas union entre la clase trabajadora y los sin...</td>\n",
       "      <td>[mas, union, clase, trabajadora, sindicatos, t...</td>\n",
       "      <td>trabajador y sindicatos</td>\n",
       "      <td>1</td>\n",
       "      <td>0</td>\n",
       "    </tr>\n",
       "  </tbody>\n",
       "</table>\n",
       "</div>"
      ],
      "text/plain": [
       "          id diag_id   ind_id           name       name_tokens macro exp  \\\n",
       "13711  13749          3226816          salud           [salud]             \n",
       "16674  32002          3222266  justicia real  [justicia, real]             \n",
       "6103    6805          3147777       igualdad        [igualdad]             \n",
       "\n",
       "      exp_tokens                                               role  \\\n",
       "13711                                                                 \n",
       "16674                                                                 \n",
       "6103              mas union entre la clase trabajadora y los sin...   \n",
       "\n",
       "                                             role_tokens  \\\n",
       "13711                                                      \n",
       "16674                                                      \n",
       "6103   [mas, union, clase, trabajadora, sindicatos, t...   \n",
       "\n",
       "                         actor priority  is_online  \n",
       "13711                                 1          0  \n",
       "16674                                            0  \n",
       "6103   trabajador y sindicatos        1          0  "
      ]
     },
     "execution_count": 21,
     "metadata": {},
     "output_type": "execute_result"
    }
   ],
   "source": [
    "country_needs.sample(3)"
   ]
  },
  {
   "cell_type": "markdown",
   "metadata": {},
   "source": [
    "### Country Need Role Pair"
   ]
  },
  {
   "cell_type": "code",
   "execution_count": 22,
   "metadata": {},
   "outputs": [],
   "source": [
    "country_need_role_pair = create_pair_token(country_needs, 'role_tokens', 'country_need_id')"
   ]
  },
  {
   "cell_type": "code",
   "execution_count": 23,
   "metadata": {},
   "outputs": [
    {
     "data": {
      "text/html": [
       "<div>\n",
       "<style scoped>\n",
       "    .dataframe tbody tr th:only-of-type {\n",
       "        vertical-align: middle;\n",
       "    }\n",
       "\n",
       "    .dataframe tbody tr th {\n",
       "        vertical-align: top;\n",
       "    }\n",
       "\n",
       "    .dataframe thead th {\n",
       "        text-align: right;\n",
       "    }\n",
       "</style>\n",
       "<table border=\"1\" class=\"dataframe\">\n",
       "  <thead>\n",
       "    <tr style=\"text-align: right;\">\n",
       "      <th></th>\n",
       "      <th>id</th>\n",
       "      <th>country_need_id</th>\n",
       "      <th>word_1</th>\n",
       "      <th>word_2</th>\n",
       "    </tr>\n",
       "  </thead>\n",
       "  <tbody>\n",
       "    <tr>\n",
       "      <th>60047</th>\n",
       "      <td>60048</td>\n",
       "      <td>36453</td>\n",
       "      <td>hospitales</td>\n",
       "      <td>mayor</td>\n",
       "    </tr>\n",
       "    <tr>\n",
       "      <th>61661</th>\n",
       "      <td>61662</td>\n",
       "      <td>37689</td>\n",
       "      <td>mas</td>\n",
       "      <td>activos</td>\n",
       "    </tr>\n",
       "  </tbody>\n",
       "</table>\n",
       "</div>"
      ],
      "text/plain": [
       "          id  country_need_id      word_1   word_2\n",
       "60047  60048            36453  hospitales    mayor\n",
       "61661  61662            37689         mas  activos"
      ]
     },
     "execution_count": 23,
     "metadata": {},
     "output_type": "execute_result"
    }
   ],
   "source": [
    "country_need_role_pair.sample(2)"
   ]
  },
  {
   "cell_type": "markdown",
   "metadata": {},
   "source": [
    "### Country Need Explanation Pair"
   ]
  },
  {
   "cell_type": "code",
   "execution_count": 24,
   "metadata": {},
   "outputs": [],
   "source": [
    "country_need_exp_pair = create_pair_token(country_needs, 'exp_tokens', 'country_need_id')"
   ]
  },
  {
   "cell_type": "code",
   "execution_count": 25,
   "metadata": {},
   "outputs": [
    {
     "data": {
      "text/html": [
       "<div>\n",
       "<style scoped>\n",
       "    .dataframe tbody tr th:only-of-type {\n",
       "        vertical-align: middle;\n",
       "    }\n",
       "\n",
       "    .dataframe tbody tr th {\n",
       "        vertical-align: top;\n",
       "    }\n",
       "\n",
       "    .dataframe thead th {\n",
       "        text-align: right;\n",
       "    }\n",
       "</style>\n",
       "<table border=\"1\" class=\"dataframe\">\n",
       "  <thead>\n",
       "    <tr style=\"text-align: right;\">\n",
       "      <th></th>\n",
       "      <th>id</th>\n",
       "      <th>country_need_id</th>\n",
       "      <th>word_1</th>\n",
       "      <th>word_2</th>\n",
       "    </tr>\n",
       "  </thead>\n",
       "  <tbody>\n",
       "    <tr>\n",
       "      <th>19192</th>\n",
       "      <td>19193</td>\n",
       "      <td>32691</td>\n",
       "      <td>tribunales</td>\n",
       "      <td>privilegian</td>\n",
       "    </tr>\n",
       "    <tr>\n",
       "      <th>33696</th>\n",
       "      <td>33697</td>\n",
       "      <td>44320</td>\n",
       "      <td>necesarios</td>\n",
       "      <td>entonces</td>\n",
       "    </tr>\n",
       "  </tbody>\n",
       "</table>\n",
       "</div>"
      ],
      "text/plain": [
       "          id  country_need_id      word_1       word_2\n",
       "19192  19193            32691  tribunales  privilegian\n",
       "33696  33697            44320  necesarios     entonces"
      ]
     },
     "execution_count": 25,
     "metadata": {},
     "output_type": "execute_result"
    }
   ],
   "source": [
    "country_need_exp_pair.sample(2)"
   ]
  },
  {
   "cell_type": "markdown",
   "metadata": {},
   "source": [
    "### Family/Personal Needs"
   ]
  },
  {
   "cell_type": "code",
   "execution_count": 28,
   "metadata": {},
   "outputs": [
    {
     "name": "stdout",
     "output_type": "stream",
     "text": [
      "CPU times: user 1min, sys: 4.27 s, total: 1min 4s\n",
      "Wall time: 1min 4s\n"
     ]
    }
   ],
   "source": [
    "%%time\n",
    "personal_needs = create_table_personal_needs(survey, ind_survey, ind_online_survey)"
   ]
  },
  {
   "cell_type": "code",
   "execution_count": 29,
   "metadata": {},
   "outputs": [
    {
     "data": {
      "text/html": [
       "<div>\n",
       "<style scoped>\n",
       "    .dataframe tbody tr th:only-of-type {\n",
       "        vertical-align: middle;\n",
       "    }\n",
       "\n",
       "    .dataframe tbody tr th {\n",
       "        vertical-align: top;\n",
       "    }\n",
       "\n",
       "    .dataframe thead th {\n",
       "        text-align: right;\n",
       "    }\n",
       "</style>\n",
       "<table border=\"1\" class=\"dataframe\">\n",
       "  <thead>\n",
       "    <tr style=\"text-align: right;\">\n",
       "      <th></th>\n",
       "      <th>id</th>\n",
       "      <th>diag_id</th>\n",
       "      <th>ind_id</th>\n",
       "      <th>name</th>\n",
       "      <th>name_tokens</th>\n",
       "      <th>exp</th>\n",
       "      <th>exp_tokens</th>\n",
       "      <th>macro</th>\n",
       "      <th>priority</th>\n",
       "      <th>is_online</th>\n",
       "    </tr>\n",
       "  </thead>\n",
       "  <tbody>\n",
       "    <tr>\n",
       "      <th>370</th>\n",
       "      <td>692</td>\n",
       "      <td></td>\n",
       "      <td>2843589</td>\n",
       "      <td>pensiones</td>\n",
       "      <td>[pensiones]</td>\n",
       "      <td>dos adultos mayores con pensiones asistenciales</td>\n",
       "      <td>[dos, adultos, mayores, pensiones, asistenciales]</td>\n",
       "      <td>pensiones</td>\n",
       "      <td>1.0</td>\n",
       "      <td>0</td>\n",
       "    </tr>\n",
       "    <tr>\n",
       "      <th>9723</th>\n",
       "      <td>8729</td>\n",
       "      <td></td>\n",
       "      <td>4737176</td>\n",
       "      <td>tiempo</td>\n",
       "      <td>[tiempo]</td>\n",
       "      <td>para estar en familia</td>\n",
       "      <td>[familia]</td>\n",
       "      <td>tiempo</td>\n",
       "      <td>1.0</td>\n",
       "      <td>0</td>\n",
       "    </tr>\n",
       "    <tr>\n",
       "      <th>12491</th>\n",
       "      <td>24143</td>\n",
       "      <td></td>\n",
       "      <td>3159838</td>\n",
       "      <td>pensiones</td>\n",
       "      <td>[pensiones]</td>\n",
       "      <td>mis abuelos tienen muy poca pension y no le al...</td>\n",
       "      <td>[abuelos, poca, pension, alcanza, remedios, co...</td>\n",
       "      <td>pensiones</td>\n",
       "      <td>2.0</td>\n",
       "      <td>0</td>\n",
       "    </tr>\n",
       "  </tbody>\n",
       "</table>\n",
       "</div>"
      ],
      "text/plain": [
       "          id diag_id   ind_id       name  name_tokens  \\\n",
       "370      692          2843589  pensiones  [pensiones]   \n",
       "9723    8729          4737176     tiempo     [tiempo]   \n",
       "12491  24143          3159838  pensiones  [pensiones]   \n",
       "\n",
       "                                                     exp  \\\n",
       "370      dos adultos mayores con pensiones asistenciales   \n",
       "9723                               para estar en familia   \n",
       "12491  mis abuelos tienen muy poca pension y no le al...   \n",
       "\n",
       "                                              exp_tokens      macro  priority  \\\n",
       "370    [dos, adultos, mayores, pensiones, asistenciales]  pensiones       1.0   \n",
       "9723                                           [familia]     tiempo       1.0   \n",
       "12491  [abuelos, poca, pension, alcanza, remedios, co...  pensiones       2.0   \n",
       "\n",
       "       is_online  \n",
       "370            0  \n",
       "9723           0  \n",
       "12491          0  "
      ]
     },
     "execution_count": 29,
     "metadata": {},
     "output_type": "execute_result"
    }
   ],
   "source": [
    "personal_needs.sample(3)"
   ]
  },
  {
   "cell_type": "markdown",
   "metadata": {},
   "source": [
    "### Family/Personal Need Pair"
   ]
  },
  {
   "cell_type": "code",
   "execution_count": 30,
   "metadata": {},
   "outputs": [],
   "source": [
    "personal_need_pair = create_pair_token(personal_needs, 'exp_tokens', 'personal_need_id')"
   ]
  },
  {
   "cell_type": "code",
   "execution_count": 31,
   "metadata": {},
   "outputs": [
    {
     "data": {
      "text/html": [
       "<div>\n",
       "<style scoped>\n",
       "    .dataframe tbody tr th:only-of-type {\n",
       "        vertical-align: middle;\n",
       "    }\n",
       "\n",
       "    .dataframe tbody tr th {\n",
       "        vertical-align: top;\n",
       "    }\n",
       "\n",
       "    .dataframe thead th {\n",
       "        text-align: right;\n",
       "    }\n",
       "</style>\n",
       "<table border=\"1\" class=\"dataframe\">\n",
       "  <thead>\n",
       "    <tr style=\"text-align: right;\">\n",
       "      <th></th>\n",
       "      <th>id</th>\n",
       "      <th>personal_need_id</th>\n",
       "      <th>word_1</th>\n",
       "      <th>word_2</th>\n",
       "    </tr>\n",
       "  </thead>\n",
       "  <tbody>\n",
       "    <tr>\n",
       "      <th>81096</th>\n",
       "      <td>81097</td>\n",
       "      <td>19095</td>\n",
       "      <td>respaldo</td>\n",
       "      <td>persona</td>\n",
       "    </tr>\n",
       "    <tr>\n",
       "      <th>107476</th>\n",
       "      <td>107477</td>\n",
       "      <td>25458</td>\n",
       "      <td>sueldo</td>\n",
       "      <td>decente</td>\n",
       "    </tr>\n",
       "    <tr>\n",
       "      <th>92744</th>\n",
       "      <td>92745</td>\n",
       "      <td>22135</td>\n",
       "      <td>hogar</td>\n",
       "      <td>necesitamos</td>\n",
       "    </tr>\n",
       "  </tbody>\n",
       "</table>\n",
       "</div>"
      ],
      "text/plain": [
       "            id  personal_need_id    word_1       word_2\n",
       "81096    81097             19095  respaldo      persona\n",
       "107476  107477             25458    sueldo      decente\n",
       "92744    92745             22135     hogar  necesitamos"
      ]
     },
     "execution_count": 31,
     "metadata": {},
     "output_type": "execute_result"
    }
   ],
   "source": [
    "personal_need_pair.sample(3)"
   ]
  },
  {
   "cell_type": "markdown",
   "metadata": {},
   "source": [
    "### Contributions"
   ]
  },
  {
   "cell_type": "code",
   "execution_count": 32,
   "metadata": {},
   "outputs": [],
   "source": [
    "contributions = create_table_contributions(survey, ind_survey, ind_online_survey)"
   ]
  },
  {
   "cell_type": "code",
   "execution_count": 33,
   "metadata": {},
   "outputs": [
    {
     "data": {
      "text/html": [
       "<div>\n",
       "<style scoped>\n",
       "    .dataframe tbody tr th:only-of-type {\n",
       "        vertical-align: middle;\n",
       "    }\n",
       "\n",
       "    .dataframe tbody tr th {\n",
       "        vertical-align: top;\n",
       "    }\n",
       "\n",
       "    .dataframe thead th {\n",
       "        text-align: right;\n",
       "    }\n",
       "</style>\n",
       "<table border=\"1\" class=\"dataframe\">\n",
       "  <thead>\n",
       "    <tr style=\"text-align: right;\">\n",
       "      <th></th>\n",
       "      <th>id</th>\n",
       "      <th>diag_id</th>\n",
       "      <th>ind_id</th>\n",
       "      <th>text</th>\n",
       "      <th>tokens</th>\n",
       "      <th>macro</th>\n",
       "      <th>is_online</th>\n",
       "    </tr>\n",
       "  </thead>\n",
       "  <tbody>\n",
       "    <tr>\n",
       "      <th>335</th>\n",
       "      <td>14424</td>\n",
       "      <td></td>\n",
       "      <td>dd7987bb58a487b829f4f5ee2a3db380</td>\n",
       "      <td>poder brindar el mayor esfuerzo para obtener u...</td>\n",
       "      <td>[poder, brindar, mayor, esfuerzo, obtener, mej...</td>\n",
       "      <td>poder brindar el mayor esfuerzo para obtener u...</td>\n",
       "      <td>1</td>\n",
       "    </tr>\n",
       "    <tr>\n",
       "      <th>4449</th>\n",
       "      <td>4949</td>\n",
       "      <td></td>\n",
       "      <td>3194106</td>\n",
       "      <td>en mi casa doy trabajo a 15 grupos familiares,...</td>\n",
       "      <td>[casa, doy, trabajo, grupos, familiares, debo,...</td>\n",
       "      <td>en mi casa doy trabajo a 15 grupos familiares,...</td>\n",
       "      <td>0</td>\n",
       "    </tr>\n",
       "    <tr>\n",
       "      <th>8867</th>\n",
       "      <td>9367</td>\n",
       "      <td></td>\n",
       "      <td>4241605</td>\n",
       "      <td>una nueva constitucion hecha por el pueblo</td>\n",
       "      <td>[nueva, constitucion, hecha, pueblo]</td>\n",
       "      <td>una nueva constitucion hecha por el pueblo</td>\n",
       "      <td>0</td>\n",
       "    </tr>\n",
       "  </tbody>\n",
       "</table>\n",
       "</div>"
      ],
      "text/plain": [
       "         id diag_id                            ind_id  \\\n",
       "335   14424          dd7987bb58a487b829f4f5ee2a3db380   \n",
       "4449   4949                                   3194106   \n",
       "8867   9367                                   4241605   \n",
       "\n",
       "                                                   text  \\\n",
       "335   poder brindar el mayor esfuerzo para obtener u...   \n",
       "4449  en mi casa doy trabajo a 15 grupos familiares,...   \n",
       "8867         una nueva constitucion hecha por el pueblo   \n",
       "\n",
       "                                                 tokens  \\\n",
       "335   [poder, brindar, mayor, esfuerzo, obtener, mej...   \n",
       "4449  [casa, doy, trabajo, grupos, familiares, debo,...   \n",
       "8867               [nueva, constitucion, hecha, pueblo]   \n",
       "\n",
       "                                                  macro  is_online  \n",
       "335   poder brindar el mayor esfuerzo para obtener u...          1  \n",
       "4449  en mi casa doy trabajo a 15 grupos familiares,...          0  \n",
       "8867         una nueva constitucion hecha por el pueblo          0  "
      ]
     },
     "execution_count": 33,
     "metadata": {},
     "output_type": "execute_result"
    }
   ],
   "source": [
    "contributions.sample(3)"
   ]
  },
  {
   "cell_type": "code",
   "execution_count": null,
   "metadata": {},
   "outputs": [],
   "source": []
  },
  {
   "cell_type": "code",
   "execution_count": null,
   "metadata": {},
   "outputs": [],
   "source": []
  }
 ],
 "metadata": {
  "kernelspec": {
   "display_name": "Python 3",
   "language": "python",
   "name": "python3"
  },
  "language_info": {
   "codemirror_mode": {
    "name": "ipython",
    "version": 3
   },
   "file_extension": ".py",
   "mimetype": "text/x-python",
   "name": "python",
   "nbconvert_exporter": "python",
   "pygments_lexer": "ipython3",
   "version": "3.7.6"
  }
 },
 "nbformat": 4,
 "nbformat_minor": 4
}
