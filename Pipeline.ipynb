{
 "cells": [
  {
   "cell_type": "markdown",
   "metadata": {},
   "source": [
    "# Data cleaning "
   ]
  },
  {
   "cell_type": "code",
   "execution_count": 548,
   "metadata": {},
   "outputs": [],
   "source": [
    "import pandas as pd"
   ]
  },
  {
   "cell_type": "code",
   "execution_count": 549,
   "metadata": {},
   "outputs": [
    {
     "name": "stdout",
     "output_type": "stream",
     "text": [
      "The autoreload extension is already loaded. To reload it, use:\n",
      "  %reload_ext autoreload\n"
     ]
    }
   ],
   "source": [
    "from use_cases.contributions import create_table_contributions\n",
    "\n",
    "from use_cases.emotions import create_table_emotions\n",
    "from use_cases.personal_needs import create_table_personal_needs\n",
    "from use_cases.dialogues import create_table_dialogues\n",
    "from use_cases.country_needs import create_table_country_needs\n",
    "from use_cases.persons import create_table_persons\n",
    "from use_cases.individuals import create_table_individuals\n",
    "from use_cases.pairs import create_pair_token\n",
    "\n",
    "\n",
    "pd.options.mode.chained_assignment = None \n",
    "\n",
    "%load_ext autoreload\n",
    "%autoreload 2"
   ]
  },
  {
   "cell_type": "markdown",
   "metadata": {},
   "source": [
    "## Loading Data Surveys"
   ]
  },
  {
   "cell_type": "code",
   "execution_count": 550,
   "metadata": {},
   "outputs": [],
   "source": [
    "chunksize   = 100 # Just for debugging\n",
    "survey_path = './data/BBDD_Dialogos_2021_01_27.csv' \n",
    "survey = pd.read_csv(survey_path, chunksize=chunksize, low_memory=False)\n",
    "for survey in survey: break\n",
    "    \n",
    "ind_online_survey_path = './data/Consulta_Individual_online_v2.xlsx'\n",
    "ind_online_survey = pd.read_excel(ind_online_survey_path, 'Sheet1')\n",
    "    \n",
    "ind_survey_path = './data/Base_final_digitación_Consultas.xlsx'\n",
    "ind_survey = pd.read_excel(ind_survey_path, 'CONSULTAS')"
   ]
  },
  {
   "cell_type": "code",
   "execution_count": 551,
   "metadata": {},
   "outputs": [
    {
     "data": {
      "text/html": [
       "<div>\n",
       "<style scoped>\n",
       "    .dataframe tbody tr th:only-of-type {\n",
       "        vertical-align: middle;\n",
       "    }\n",
       "\n",
       "    .dataframe tbody tr th {\n",
       "        vertical-align: top;\n",
       "    }\n",
       "\n",
       "    .dataframe thead th {\n",
       "        text-align: right;\n",
       "    }\n",
       "</style>\n",
       "<table border=\"1\" class=\"dataframe\">\n",
       "  <thead>\n",
       "    <tr style=\"text-align: right;\">\n",
       "      <th></th>\n",
       "      <th>Submission Date</th>\n",
       "      <th>RUN</th>\n",
       "      <th>Edad</th>\n",
       "      <th>Comuna</th>\n",
       "      <th>1. ¿Cuál es el nivel de educación alcanzado por Usted?</th>\n",
       "      <th>2. ¿Cuál es el nivel de educación que alcanzó el jefe de su hogar? (sólo si se trata de alguien distinto a Usted)</th>\n",
       "      <th>1 &gt;&gt; Emociones / Sentimientos / Sensaciones</th>\n",
       "      <th>1 &gt;&gt; Explique lo mencionado</th>\n",
       "      <th>2 &gt;&gt; Emociones / Sentimientos / Sensaciones</th>\n",
       "      <th>2 &gt;&gt; Explique lo mencionado</th>\n",
       "      <th>...</th>\n",
       "      <th>2 &gt;&gt; Rol del actor social (Describa)</th>\n",
       "      <th>3 &gt;&gt; Necesidades del país identificadas</th>\n",
       "      <th>3 &gt;&gt; Rol del Estado (Describa)</th>\n",
       "      <th>3 &gt;&gt; Actor social (empresa, organizaciones sociales, medios de comunicación, comunidad, etc)</th>\n",
       "      <th>3 &gt;&gt; Rol del actor social (Describa)</th>\n",
       "      <th>5. Pregunta: ¿Cuál es mi contribución personal para construir el Chile que queremos?</th>\n",
       "      <th>Comuna.1</th>\n",
       "      <th>Comentarios finales: Si tiene alguna observación o sugerencia, en este espacio puede indicarla.</th>\n",
       "      <th>Región</th>\n",
       "      <th>Región.1</th>\n",
       "    </tr>\n",
       "  </thead>\n",
       "  <tbody>\n",
       "    <tr>\n",
       "      <th>1584</th>\n",
       "      <td>2019/11/29 15:52:33</td>\n",
       "      <td>ebf80e0c64045cdcc8922626638e45af</td>\n",
       "      <td>44</td>\n",
       "      <td>La Serena</td>\n",
       "      <td>Universitaria completa.</td>\n",
       "      <td>Yo soy el jefe de hogar.</td>\n",
       "      <td>Miedo</td>\n",
       "      <td>Miedo del país que le dejare a mi hijo</td>\n",
       "      <td>Pena</td>\n",
       "      <td>Pena por las personas que han perdido sus fuen...</td>\n",
       "      <td>...</td>\n",
       "      <td>pago obligatorio de seguro de salud a los trab...</td>\n",
       "      <td>Mejorar sueldo minimo</td>\n",
       "      <td>Legislar para aumentarlo</td>\n",
       "      <td>empresa debe tener ética social y de justicia</td>\n",
       "      <td>El sueldo minimo solo debe ser referencial. En...</td>\n",
       "      <td>Estoy segura que el día que entendamos lo que ...</td>\n",
       "      <td>NaN</td>\n",
       "      <td>No participare en cabildos porque siento que e...</td>\n",
       "      <td>NaN</td>\n",
       "      <td>Coquimbo</td>\n",
       "    </tr>\n",
       "    <tr>\n",
       "      <th>470</th>\n",
       "      <td>2020/01/15 11:09:37</td>\n",
       "      <td>58b5eafe5e4edfd031b4a476cee99ce0</td>\n",
       "      <td>47</td>\n",
       "      <td>NaN</td>\n",
       "      <td>Post Grado (Master, Doctor o equivalente)</td>\n",
       "      <td>Yo soy el jefe de hogar.</td>\n",
       "      <td>desesperanzado</td>\n",
       "      <td>Al ver tanta violencia y division entre los ch...</td>\n",
       "      <td>triste</td>\n",
       "      <td>al ver tanta ignarancia y falta de educacion, ...</td>\n",
       "      <td>...</td>\n",
       "      <td>NaN</td>\n",
       "      <td>NaN</td>\n",
       "      <td>NaN</td>\n",
       "      <td>NaN</td>\n",
       "      <td>NaN</td>\n",
       "      <td>Estoy consciente de mis deberes y trato de cum...</td>\n",
       "      <td>Concepción</td>\n",
       "      <td>NaN</td>\n",
       "      <td>Región del Biobío</td>\n",
       "      <td>NaN</td>\n",
       "    </tr>\n",
       "  </tbody>\n",
       "</table>\n",
       "<p>2 rows × 44 columns</p>\n",
       "</div>"
      ],
      "text/plain": [
       "          Submission Date                               RUN Edad     Comuna  \\\n",
       "1584  2019/11/29 15:52:33  ebf80e0c64045cdcc8922626638e45af   44  La Serena   \n",
       "470   2020/01/15 11:09:37  58b5eafe5e4edfd031b4a476cee99ce0   47        NaN   \n",
       "\n",
       "     1. ¿Cuál es el nivel de educación alcanzado por Usted?  \\\n",
       "1584                            Universitaria completa.       \n",
       "470           Post Grado (Master, Doctor o equivalente)       \n",
       "\n",
       "     2. ¿Cuál es el nivel de educación que alcanzó el jefe de su hogar? (sólo si se trata de alguien distinto a Usted)  \\\n",
       "1584                           Yo soy el jefe de hogar.                                                                  \n",
       "470                            Yo soy el jefe de hogar.                                                                  \n",
       "\n",
       "     1 >> Emociones / Sentimientos / Sensaciones  \\\n",
       "1584                                       Miedo   \n",
       "470                               desesperanzado   \n",
       "\n",
       "                            1 >> Explique lo mencionado  \\\n",
       "1584             Miedo del país que le dejare a mi hijo   \n",
       "470   Al ver tanta violencia y division entre los ch...   \n",
       "\n",
       "     2 >> Emociones / Sentimientos / Sensaciones  \\\n",
       "1584                                        Pena   \n",
       "470                                       triste   \n",
       "\n",
       "                            2 >> Explique lo mencionado  ...  \\\n",
       "1584  Pena por las personas que han perdido sus fuen...  ...   \n",
       "470   al ver tanta ignarancia y falta de educacion, ...  ...   \n",
       "\n",
       "                   2 >> Rol del actor social (Describa)  \\\n",
       "1584  pago obligatorio de seguro de salud a los trab...   \n",
       "470                                                 NaN   \n",
       "\n",
       "     3 >> Necesidades del país identificadas 3 >> Rol del Estado (Describa)  \\\n",
       "1584                   Mejorar sueldo minimo       Legislar para aumentarlo   \n",
       "470                                      NaN                            NaN   \n",
       "\n",
       "     3 >> Actor social (empresa, organizaciones sociales, medios de comunicación, comunidad, etc)  \\\n",
       "1584      empresa debe tener ética social y de justicia                                             \n",
       "470                                                 NaN                                             \n",
       "\n",
       "                   3 >> Rol del actor social (Describa)  \\\n",
       "1584  El sueldo minimo solo debe ser referencial. En...   \n",
       "470                                                 NaN   \n",
       "\n",
       "     5. Pregunta: ¿Cuál es mi contribución personal para construir el Chile que queremos?  \\\n",
       "1584  Estoy segura que el día que entendamos lo que ...                                       \n",
       "470   Estoy consciente de mis deberes y trato de cum...                                       \n",
       "\n",
       "        Comuna.1  \\\n",
       "1584         NaN   \n",
       "470   Concepción   \n",
       "\n",
       "     Comentarios finales: Si tiene alguna observación o sugerencia, en este espacio puede indicarla.  \\\n",
       "1584  No participare en cabildos porque siento que e...                                                 \n",
       "470                                                 NaN                                                 \n",
       "\n",
       "                 Región  Región.1  \n",
       "1584                NaN  Coquimbo  \n",
       "470   Región del Biobío       NaN  \n",
       "\n",
       "[2 rows x 44 columns]"
      ]
     },
     "execution_count": 551,
     "metadata": {},
     "output_type": "execute_result"
    }
   ],
   "source": [
    "survey.sample(2)\n",
    "ind_online_survey.sample(2)"
   ]
  },
  {
   "cell_type": "markdown",
   "metadata": {},
   "source": [
    "## Processing Uses Cases\n",
    "1. Emotions \n",
    "2. Contributions\n",
    "3. Country needs \n",
    "4. Personal/familiar needs"
   ]
  },
  {
   "cell_type": "markdown",
   "metadata": {},
   "source": [
    "### Persons Table (Dialogue)"
   ]
  },
  {
   "cell_type": "code",
   "execution_count": 552,
   "metadata": {},
   "outputs": [],
   "source": [
    "persons_table = create_table_persons(survey)"
   ]
  },
  {
   "cell_type": "code",
   "execution_count": 553,
   "metadata": {},
   "outputs": [
    {
     "data": {
      "text/html": [
       "<div>\n",
       "<style scoped>\n",
       "    .dataframe tbody tr th:only-of-type {\n",
       "        vertical-align: middle;\n",
       "    }\n",
       "\n",
       "    .dataframe tbody tr th {\n",
       "        vertical-align: top;\n",
       "    }\n",
       "\n",
       "    .dataframe thead th {\n",
       "        text-align: right;\n",
       "    }\n",
       "</style>\n",
       "<table border=\"1\" class=\"dataframe\">\n",
       "  <thead>\n",
       "    <tr style=\"text-align: right;\">\n",
       "      <th></th>\n",
       "      <th>id</th>\n",
       "      <th>diag_id</th>\n",
       "      <th>age</th>\n",
       "      <th>sex</th>\n",
       "      <th>level</th>\n",
       "      <th>comuna_id</th>\n",
       "      <th>age_range</th>\n",
       "    </tr>\n",
       "  </thead>\n",
       "  <tbody>\n",
       "    <tr>\n",
       "      <th>99</th>\n",
       "      <td>299</td>\n",
       "      <td>enc_u_4595903120153792064</td>\n",
       "      <td>38</td>\n",
       "      <td>f</td>\n",
       "      <td>universitaria_completa</td>\n",
       "      <td>7101</td>\n",
       "      <td>30-45</td>\n",
       "    </tr>\n",
       "    <tr>\n",
       "      <th>82</th>\n",
       "      <td>481</td>\n",
       "      <td>enc_u_4596766050112223446</td>\n",
       "      <td>33</td>\n",
       "      <td>h</td>\n",
       "      <td>media_completa</td>\n",
       "      <td>1</td>\n",
       "      <td>30-45</td>\n",
       "    </tr>\n",
       "    <tr>\n",
       "      <th>37</th>\n",
       "      <td>436</td>\n",
       "      <td>enc_u_4598383170151924860</td>\n",
       "      <td>77</td>\n",
       "      <td>f</td>\n",
       "      <td>basica_incompleta</td>\n",
       "      <td>7101</td>\n",
       "      <td>&gt;=60</td>\n",
       "    </tr>\n",
       "  </tbody>\n",
       "</table>\n",
       "</div>"
      ],
      "text/plain": [
       "     id                    diag_id age sex                   level  comuna_id  \\\n",
       "99  299  enc_u_4595903120153792064  38   f  universitaria_completa       7101   \n",
       "82  481  enc_u_4596766050112223446  33   h          media_completa          1   \n",
       "37  436  enc_u_4598383170151924860  77   f       basica_incompleta       7101   \n",
       "\n",
       "   age_range  \n",
       "99     30-45  \n",
       "82     30-45  \n",
       "37      >=60  "
      ]
     },
     "execution_count": 553,
     "metadata": {},
     "output_type": "execute_result"
    }
   ],
   "source": [
    "persons_table.sample(3)"
   ]
  },
  {
   "cell_type": "markdown",
   "metadata": {},
   "source": [
    "### Dialogues"
   ]
  },
  {
   "cell_type": "code",
   "execution_count": 554,
   "metadata": {},
   "outputs": [],
   "source": [
    "dialogues_table = create_table_dialogues(survey)"
   ]
  },
  {
   "cell_type": "code",
   "execution_count": 555,
   "metadata": {},
   "outputs": [
    {
     "data": {
      "text/html": [
       "<div>\n",
       "<style scoped>\n",
       "    .dataframe tbody tr th:only-of-type {\n",
       "        vertical-align: middle;\n",
       "    }\n",
       "\n",
       "    .dataframe tbody tr th {\n",
       "        vertical-align: top;\n",
       "    }\n",
       "\n",
       "    .dataframe thead th {\n",
       "        text-align: right;\n",
       "    }\n",
       "</style>\n",
       "<table border=\"1\" class=\"dataframe\">\n",
       "  <thead>\n",
       "    <tr style=\"text-align: right;\">\n",
       "      <th></th>\n",
       "      <th>id</th>\n",
       "      <th>date</th>\n",
       "      <th>init_time</th>\n",
       "      <th>end_time</th>\n",
       "      <th>location</th>\n",
       "      <th>address</th>\n",
       "      <th>comuna_id</th>\n",
       "      <th>n_members</th>\n",
       "      <th>group_name</th>\n",
       "    </tr>\n",
       "  </thead>\n",
       "  <tbody>\n",
       "    <tr>\n",
       "      <th>85</th>\n",
       "      <td>enc_u_4596619275164164128</td>\n",
       "      <td>03-02-2020</td>\n",
       "      <td>15:00:00</td>\n",
       "      <td>17:00:00</td>\n",
       "      <td>consultorio cajual la serena</td>\n",
       "      <td>colon 225</td>\n",
       "      <td>4101</td>\n",
       "      <td>9</td>\n",
       "      <td>usuarios de oficina movil de bienes nacionales</td>\n",
       "    </tr>\n",
       "    <tr>\n",
       "      <th>2</th>\n",
       "      <td>enc_u_4602777200118509403</td>\n",
       "      <td>14-02-2020</td>\n",
       "      <td>10:20:00</td>\n",
       "      <td>12:20:00</td>\n",
       "      <td>municipalidad de cunco</td>\n",
       "      <td>pedro aguirre cerda 600</td>\n",
       "      <td>9103</td>\n",
       "      <td>5</td>\n",
       "      <td>usuarios de oficina movil de bienes nacionales</td>\n",
       "    </tr>\n",
       "    <tr>\n",
       "      <th>83</th>\n",
       "      <td>enc_u_4596763700997702847</td>\n",
       "      <td>09-03-2020</td>\n",
       "      <td>18:30:00</td>\n",
       "      <td>20:30:00</td>\n",
       "      <td>barros luco y vecinos</td>\n",
       "      <td>barros luco #2247</td>\n",
       "      <td>15101</td>\n",
       "      <td>5</td>\n",
       "      <td>usuarios de oficina movil de bienes nacionales</td>\n",
       "    </tr>\n",
       "  </tbody>\n",
       "</table>\n",
       "</div>"
      ],
      "text/plain": [
       "                           id        date init_time  end_time  \\\n",
       "85  enc_u_4596619275164164128  03-02-2020  15:00:00  17:00:00   \n",
       "2   enc_u_4602777200118509403  14-02-2020  10:20:00  12:20:00   \n",
       "83  enc_u_4596763700997702847  09-03-2020  18:30:00  20:30:00   \n",
       "\n",
       "                        location                  address  comuna_id  \\\n",
       "85  consultorio cajual la serena                colon 225       4101   \n",
       "2         municipalidad de cunco  pedro aguirre cerda 600       9103   \n",
       "83         barros luco y vecinos        barros luco #2247      15101   \n",
       "\n",
       "   n_members                                      group_name  \n",
       "85         9  usuarios de oficina movil de bienes nacionales  \n",
       "2          5  usuarios de oficina movil de bienes nacionales  \n",
       "83         5  usuarios de oficina movil de bienes nacionales  "
      ]
     },
     "execution_count": 555,
     "metadata": {},
     "output_type": "execute_result"
    }
   ],
   "source": [
    "dialogues_table.sample(3)"
   ]
  },
  {
   "cell_type": "markdown",
   "metadata": {},
   "source": [
    "### Individuals"
   ]
  },
  {
   "cell_type": "code",
   "execution_count": 11,
   "metadata": {
    "scrolled": true
   },
   "outputs": [
    {
     "name": "stdout",
     "output_type": "stream",
     "text": [
      "CPU times: user 7.37 s, sys: 28.8 ms, total: 7.4 s\n",
      "Wall time: 7.35 s\n"
     ]
    }
   ],
   "source": [
    "%%time\n",
    "individuals_table = create_table_individuals(ind_online_survey, ind_survey)"
   ]
  },
  {
   "cell_type": "code",
   "execution_count": 12,
   "metadata": {},
   "outputs": [
    {
     "data": {
      "text/html": [
       "<div>\n",
       "<style scoped>\n",
       "    .dataframe tbody tr th:only-of-type {\n",
       "        vertical-align: middle;\n",
       "    }\n",
       "\n",
       "    .dataframe tbody tr th {\n",
       "        vertical-align: top;\n",
       "    }\n",
       "\n",
       "    .dataframe thead th {\n",
       "        text-align: right;\n",
       "    }\n",
       "</style>\n",
       "<table border=\"1\" class=\"dataframe\">\n",
       "  <thead>\n",
       "    <tr style=\"text-align: right;\">\n",
       "      <th></th>\n",
       "      <th>id</th>\n",
       "      <th>date</th>\n",
       "      <th>age</th>\n",
       "      <th>comuna_id</th>\n",
       "      <th>level</th>\n",
       "      <th>online</th>\n",
       "      <th>age_range</th>\n",
       "    </tr>\n",
       "  </thead>\n",
       "  <tbody>\n",
       "    <tr>\n",
       "      <th>15</th>\n",
       "      <td>ENC_U_4601870260112596575</td>\n",
       "      <td>pena</td>\n",
       "      <td>[pena]</td>\n",
       "      <td>pena</td>\n",
       "      <td>al ver este enfrentamiento entre politicos, pe...</td>\n",
       "      <td>[ver, enfrentamiento, politicos, personas, etc...</td>\n",
       "    </tr>\n",
       "    <tr>\n",
       "      <th>93</th>\n",
       "      <td>ENC_U_4595914560111217720</td>\n",
       "      <td>rabia</td>\n",
       "      <td>[rabia]</td>\n",
       "      <td>rabia</td>\n",
       "      <td>por los destrozos que se han generado, a la pr...</td>\n",
       "      <td>[destrozos, generado, propiedad]</td>\n",
       "    </tr>\n",
       "  </tbody>\n",
       "</table>\n",
       "</div>"
      ],
      "text/plain": [
       "                      diag_id   name name_token  macro  \\\n",
       "15  ENC_U_4601870260112596575   pena     [pena]   pena   \n",
       "93  ENC_U_4595914560111217720  rabia    [rabia]  rabia   \n",
       "\n",
       "                                                 text  \\\n",
       "15  al ver este enfrentamiento entre politicos, pe...   \n",
       "93  por los destrozos que se han generado, a la pr...   \n",
       "\n",
       "                                          text_tokens  \n",
       "15  [ver, enfrentamiento, politicos, personas, etc...  \n",
       "93                   [destrozos, generado, propiedad]  "
      ]
     },
     "execution_count": 75,
     "metadata": {},
     "output_type": "execute_result"
    }
   ],
   "source": [
    "individuals_table.sample(2)"
   ]
  },
  {
   "cell_type": "markdown",
   "metadata": {},
   "source": [
    "### Emotion Pair"
   ]
  },
  {
   "cell_type": "code",
   "execution_count": 78,
   "metadata": {},
   "outputs": [
    {
     "ename": "KeyError",
     "evalue": "'id'",
     "output_type": "error",
     "traceback": [
      "\u001b[0;31m---------------------------------------------------------------------------\u001b[0m",
      "\u001b[0;31mTypeError\u001b[0m                                 Traceback (most recent call last)",
      "\u001b[0;32m/opt/conda/lib/python3.7/site-packages/pandas/core/indexes/base.py\u001b[0m in \u001b[0;36mget_value\u001b[0;34m(self, series, key)\u001b[0m\n\u001b[1;32m   4410\u001b[0m             \u001b[0;32mtry\u001b[0m\u001b[0;34m:\u001b[0m\u001b[0;34m\u001b[0m\u001b[0;34m\u001b[0m\u001b[0m\n\u001b[0;32m-> 4411\u001b[0;31m                 \u001b[0;32mreturn\u001b[0m \u001b[0mlibindex\u001b[0m\u001b[0;34m.\u001b[0m\u001b[0mget_value_at\u001b[0m\u001b[0;34m(\u001b[0m\u001b[0ms\u001b[0m\u001b[0;34m,\u001b[0m \u001b[0mkey\u001b[0m\u001b[0;34m)\u001b[0m\u001b[0;34m\u001b[0m\u001b[0;34m\u001b[0m\u001b[0m\n\u001b[0m\u001b[1;32m   4412\u001b[0m             \u001b[0;32mexcept\u001b[0m \u001b[0mIndexError\u001b[0m\u001b[0;34m:\u001b[0m\u001b[0;34m\u001b[0m\u001b[0;34m\u001b[0m\u001b[0m\n",
      "\u001b[0;32mpandas/_libs/index.pyx\u001b[0m in \u001b[0;36mpandas._libs.index.get_value_at\u001b[0;34m()\u001b[0m\n",
      "\u001b[0;32mpandas/_libs/index.pyx\u001b[0m in \u001b[0;36mpandas._libs.index.get_value_at\u001b[0;34m()\u001b[0m\n",
      "\u001b[0;32mpandas/_libs/util.pxd\u001b[0m in \u001b[0;36mpandas._libs.util.get_value_at\u001b[0;34m()\u001b[0m\n",
      "\u001b[0;32mpandas/_libs/util.pxd\u001b[0m in \u001b[0;36mpandas._libs.util.validate_indexer\u001b[0;34m()\u001b[0m\n",
      "\u001b[0;31mTypeError\u001b[0m: 'str' object cannot be interpreted as an integer",
      "\nDuring handling of the above exception, another exception occurred:\n",
      "\u001b[0;31mKeyError\u001b[0m                                  Traceback (most recent call last)",
      "\u001b[0;32m<ipython-input-78-cd889ce02b8d>\u001b[0m in \u001b[0;36m<module>\u001b[0;34m\u001b[0m\n\u001b[0;32m----> 1\u001b[0;31m \u001b[0memotion_pair\u001b[0m \u001b[0;34m=\u001b[0m \u001b[0mcreate_pair_token\u001b[0m\u001b[0;34m(\u001b[0m\u001b[0memotions_table\u001b[0m\u001b[0;34m,\u001b[0m \u001b[0;34m'text_tokens'\u001b[0m\u001b[0;34m,\u001b[0m \u001b[0;34m'emotion_id'\u001b[0m\u001b[0;34m)\u001b[0m\u001b[0;34m\u001b[0m\u001b[0;34m\u001b[0m\u001b[0m\n\u001b[0m",
      "\u001b[0;32m~/work/use_cases/pairs.py\u001b[0m in \u001b[0;36mcreate_pair_token\u001b[0;34m(frame, col_tokens, id_source_name)\u001b[0m\n\u001b[1;32m     10\u001b[0m             new_row = {\n\u001b[1;32m     11\u001b[0m                 \u001b[0;34m'id'\u001b[0m \u001b[0;34m:\u001b[0m \u001b[0mpair_id\u001b[0m\u001b[0;34m,\u001b[0m\u001b[0;34m\u001b[0m\u001b[0;34m\u001b[0m\u001b[0m\n\u001b[0;32m---> 12\u001b[0;31m                 \u001b[0mid_source_name\u001b[0m \u001b[0;34m:\u001b[0m \u001b[0mrow\u001b[0m\u001b[0;34m[\u001b[0m\u001b[0;34m'id'\u001b[0m\u001b[0;34m]\u001b[0m\u001b[0;34m,\u001b[0m\u001b[0;34m\u001b[0m\u001b[0;34m\u001b[0m\u001b[0m\n\u001b[0m\u001b[1;32m     13\u001b[0m                 \u001b[0;34m'word_1'\u001b[0m \u001b[0;34m:\u001b[0m \u001b[0mtokens\u001b[0m\u001b[0;34m[\u001b[0m\u001b[0mi\u001b[0m\u001b[0;34m]\u001b[0m\u001b[0;34m,\u001b[0m\u001b[0;34m\u001b[0m\u001b[0;34m\u001b[0m\u001b[0m\n\u001b[1;32m     14\u001b[0m                 \u001b[0;34m'word_2'\u001b[0m \u001b[0;34m:\u001b[0m \u001b[0mtokens\u001b[0m\u001b[0;34m[\u001b[0m\u001b[0mi\u001b[0m\u001b[0;34m+\u001b[0m\u001b[0;36m1\u001b[0m\u001b[0;34m]\u001b[0m\u001b[0;34m\u001b[0m\u001b[0;34m\u001b[0m\u001b[0m\n",
      "\u001b[0;32m/opt/conda/lib/python3.7/site-packages/pandas/core/series.py\u001b[0m in \u001b[0;36m__getitem__\u001b[0;34m(self, key)\u001b[0m\n\u001b[1;32m    869\u001b[0m         \u001b[0mkey\u001b[0m \u001b[0;34m=\u001b[0m \u001b[0mcom\u001b[0m\u001b[0;34m.\u001b[0m\u001b[0mapply_if_callable\u001b[0m\u001b[0;34m(\u001b[0m\u001b[0mkey\u001b[0m\u001b[0;34m,\u001b[0m \u001b[0mself\u001b[0m\u001b[0;34m)\u001b[0m\u001b[0;34m\u001b[0m\u001b[0;34m\u001b[0m\u001b[0m\n\u001b[1;32m    870\u001b[0m         \u001b[0;32mtry\u001b[0m\u001b[0;34m:\u001b[0m\u001b[0;34m\u001b[0m\u001b[0;34m\u001b[0m\u001b[0m\n\u001b[0;32m--> 871\u001b[0;31m             \u001b[0mresult\u001b[0m \u001b[0;34m=\u001b[0m \u001b[0mself\u001b[0m\u001b[0;34m.\u001b[0m\u001b[0mindex\u001b[0m\u001b[0;34m.\u001b[0m\u001b[0mget_value\u001b[0m\u001b[0;34m(\u001b[0m\u001b[0mself\u001b[0m\u001b[0;34m,\u001b[0m \u001b[0mkey\u001b[0m\u001b[0;34m)\u001b[0m\u001b[0;34m\u001b[0m\u001b[0;34m\u001b[0m\u001b[0m\n\u001b[0m\u001b[1;32m    872\u001b[0m \u001b[0;34m\u001b[0m\u001b[0m\n\u001b[1;32m    873\u001b[0m             \u001b[0;32mif\u001b[0m \u001b[0;32mnot\u001b[0m \u001b[0mis_scalar\u001b[0m\u001b[0;34m(\u001b[0m\u001b[0mresult\u001b[0m\u001b[0;34m)\u001b[0m\u001b[0;34m:\u001b[0m\u001b[0;34m\u001b[0m\u001b[0;34m\u001b[0m\u001b[0m\n",
      "\u001b[0;32m/opt/conda/lib/python3.7/site-packages/pandas/core/indexes/base.py\u001b[0m in \u001b[0;36mget_value\u001b[0;34m(self, series, key)\u001b[0m\n\u001b[1;32m   4417\u001b[0m                     \u001b[0;32mraise\u001b[0m \u001b[0mInvalidIndexError\u001b[0m\u001b[0;34m(\u001b[0m\u001b[0mkey\u001b[0m\u001b[0;34m)\u001b[0m\u001b[0;34m\u001b[0m\u001b[0;34m\u001b[0m\u001b[0m\n\u001b[1;32m   4418\u001b[0m                 \u001b[0;32melse\u001b[0m\u001b[0;34m:\u001b[0m\u001b[0;34m\u001b[0m\u001b[0;34m\u001b[0m\u001b[0m\n\u001b[0;32m-> 4419\u001b[0;31m                     \u001b[0;32mraise\u001b[0m \u001b[0me1\u001b[0m\u001b[0;34m\u001b[0m\u001b[0;34m\u001b[0m\u001b[0m\n\u001b[0m\u001b[1;32m   4420\u001b[0m             \u001b[0;32mexcept\u001b[0m \u001b[0mException\u001b[0m\u001b[0;34m:\u001b[0m\u001b[0;34m\u001b[0m\u001b[0;34m\u001b[0m\u001b[0m\n\u001b[1;32m   4421\u001b[0m                 \u001b[0;32mraise\u001b[0m \u001b[0me1\u001b[0m\u001b[0;34m\u001b[0m\u001b[0;34m\u001b[0m\u001b[0m\n",
      "\u001b[0;32m/opt/conda/lib/python3.7/site-packages/pandas/core/indexes/base.py\u001b[0m in \u001b[0;36mget_value\u001b[0;34m(self, series, key)\u001b[0m\n\u001b[1;32m   4403\u001b[0m         \u001b[0mk\u001b[0m \u001b[0;34m=\u001b[0m \u001b[0mself\u001b[0m\u001b[0;34m.\u001b[0m\u001b[0m_convert_scalar_indexer\u001b[0m\u001b[0;34m(\u001b[0m\u001b[0mk\u001b[0m\u001b[0;34m,\u001b[0m \u001b[0mkind\u001b[0m\u001b[0;34m=\u001b[0m\u001b[0;34m\"getitem\"\u001b[0m\u001b[0;34m)\u001b[0m\u001b[0;34m\u001b[0m\u001b[0;34m\u001b[0m\u001b[0m\n\u001b[1;32m   4404\u001b[0m         \u001b[0;32mtry\u001b[0m\u001b[0;34m:\u001b[0m\u001b[0;34m\u001b[0m\u001b[0;34m\u001b[0m\u001b[0m\n\u001b[0;32m-> 4405\u001b[0;31m             \u001b[0;32mreturn\u001b[0m \u001b[0mself\u001b[0m\u001b[0;34m.\u001b[0m\u001b[0m_engine\u001b[0m\u001b[0;34m.\u001b[0m\u001b[0mget_value\u001b[0m\u001b[0;34m(\u001b[0m\u001b[0ms\u001b[0m\u001b[0;34m,\u001b[0m \u001b[0mk\u001b[0m\u001b[0;34m,\u001b[0m \u001b[0mtz\u001b[0m\u001b[0;34m=\u001b[0m\u001b[0mgetattr\u001b[0m\u001b[0;34m(\u001b[0m\u001b[0mseries\u001b[0m\u001b[0;34m.\u001b[0m\u001b[0mdtype\u001b[0m\u001b[0;34m,\u001b[0m \u001b[0;34m\"tz\"\u001b[0m\u001b[0;34m,\u001b[0m \u001b[0;32mNone\u001b[0m\u001b[0;34m)\u001b[0m\u001b[0;34m)\u001b[0m\u001b[0;34m\u001b[0m\u001b[0;34m\u001b[0m\u001b[0m\n\u001b[0m\u001b[1;32m   4406\u001b[0m         \u001b[0;32mexcept\u001b[0m \u001b[0mKeyError\u001b[0m \u001b[0;32mas\u001b[0m \u001b[0me1\u001b[0m\u001b[0;34m:\u001b[0m\u001b[0;34m\u001b[0m\u001b[0;34m\u001b[0m\u001b[0m\n\u001b[1;32m   4407\u001b[0m             \u001b[0;32mif\u001b[0m \u001b[0mlen\u001b[0m\u001b[0;34m(\u001b[0m\u001b[0mself\u001b[0m\u001b[0;34m)\u001b[0m \u001b[0;34m>\u001b[0m \u001b[0;36m0\u001b[0m \u001b[0;32mand\u001b[0m \u001b[0;34m(\u001b[0m\u001b[0mself\u001b[0m\u001b[0;34m.\u001b[0m\u001b[0mholds_integer\u001b[0m\u001b[0;34m(\u001b[0m\u001b[0;34m)\u001b[0m \u001b[0;32mor\u001b[0m \u001b[0mself\u001b[0m\u001b[0;34m.\u001b[0m\u001b[0mis_boolean\u001b[0m\u001b[0;34m(\u001b[0m\u001b[0;34m)\u001b[0m\u001b[0;34m)\u001b[0m\u001b[0;34m:\u001b[0m\u001b[0;34m\u001b[0m\u001b[0;34m\u001b[0m\u001b[0m\n",
      "\u001b[0;32mpandas/_libs/index.pyx\u001b[0m in \u001b[0;36mpandas._libs.index.IndexEngine.get_value\u001b[0;34m()\u001b[0m\n",
      "\u001b[0;32mpandas/_libs/index.pyx\u001b[0m in \u001b[0;36mpandas._libs.index.IndexEngine.get_value\u001b[0;34m()\u001b[0m\n",
      "\u001b[0;32mpandas/_libs/index.pyx\u001b[0m in \u001b[0;36mpandas._libs.index.IndexEngine.get_loc\u001b[0;34m()\u001b[0m\n",
      "\u001b[0;32mpandas/_libs/hashtable_class_helper.pxi\u001b[0m in \u001b[0;36mpandas._libs.hashtable.PyObjectHashTable.get_item\u001b[0;34m()\u001b[0m\n",
      "\u001b[0;32mpandas/_libs/hashtable_class_helper.pxi\u001b[0m in \u001b[0;36mpandas._libs.hashtable.PyObjectHashTable.get_item\u001b[0;34m()\u001b[0m\n",
      "\u001b[0;31mKeyError\u001b[0m: 'id'"
     ]
    }
   ],
   "source": [
    "emotion_pair = create_pair_token(emotions_table, 'text_tokens', 'emotion_id')"
   ]
  },
  {
   "cell_type": "code",
   "execution_count": 79,
   "metadata": {},
   "outputs": [
    {
     "ename": "NameError",
     "evalue": "name 'emotion_pair' is not defined",
     "output_type": "error",
     "traceback": [
      "\u001b[0;31m---------------------------------------------------------------------------\u001b[0m",
      "\u001b[0;31mNameError\u001b[0m                                 Traceback (most recent call last)",
      "\u001b[0;32m<ipython-input-79-87e02a69a421>\u001b[0m in \u001b[0;36m<module>\u001b[0;34m\u001b[0m\n\u001b[0;32m----> 1\u001b[0;31m \u001b[0memotion_pair\u001b[0m\u001b[0;34m.\u001b[0m\u001b[0msample\u001b[0m\u001b[0;34m(\u001b[0m\u001b[0;36m3\u001b[0m\u001b[0;34m)\u001b[0m\u001b[0;34m\u001b[0m\u001b[0;34m\u001b[0m\u001b[0m\n\u001b[0m",
      "\u001b[0;31mNameError\u001b[0m: name 'emotion_pair' is not defined"
     ]
    }
   ],
   "source": [
    "emotion_pair.sample(3)"
   ]
  },
  {
   "cell_type": "markdown",
   "metadata": {},
   "source": [
    "### Individuals"
   ]
  },
  {
   "cell_type": "code",
   "execution_count": 560,
   "metadata": {},
   "outputs": [
    {
     "name": "stdout",
     "output_type": "stream",
     "text": [
      "CPU times: user 39.4 s, sys: 2.29 s, total: 41.7 s\n",
      "Wall time: 41.7 s\n"
     ]
    }
   ],
   "source": [
    "%%time\n",
    "emotions_table = create_table_emotions(survey,ind_survey_path, ind_online_survey)"
   ]
  },
  {
   "cell_type": "code",
   "execution_count": 562,
   "metadata": {},
   "outputs": [
    {
     "data": {
      "text/html": [
       "<div>\n",
       "<style scoped>\n",
       "    .dataframe tbody tr th:only-of-type {\n",
       "        vertical-align: middle;\n",
       "    }\n",
       "\n",
       "    .dataframe tbody tr th {\n",
       "        vertical-align: top;\n",
       "    }\n",
       "\n",
       "    .dataframe thead th {\n",
       "        text-align: right;\n",
       "    }\n",
       "</style>\n",
       "<table border=\"1\" class=\"dataframe\">\n",
       "  <thead>\n",
       "    <tr style=\"text-align: right;\">\n",
       "      <th></th>\n",
       "      <th>id</th>\n",
       "      <th>diag_id</th>\n",
       "      <th>ind_id</th>\n",
       "      <th>name</th>\n",
       "      <th>name_tokens</th>\n",
       "      <th>macro</th>\n",
       "      <th>exp</th>\n",
       "      <th>exp_tokens</th>\n",
       "      <th>is_online</th>\n",
       "      <th>source_id</th>\n",
       "    </tr>\n",
       "  </thead>\n",
       "  <tbody>\n",
       "    <tr>\n",
       "      <th>3724</th>\n",
       "      <td>3849</td>\n",
       "      <td></td>\n",
       "      <td></td>\n",
       "      <td>regular</td>\n",
       "      <td>[regular]</td>\n",
       "      <td></td>\n",
       "      <td>altos y bajos economia del pais</td>\n",
       "      <td>[altos, bajos, economia, pais]</td>\n",
       "      <td>0</td>\n",
       "      <td>3172624</td>\n",
       "    </tr>\n",
       "    <tr>\n",
       "      <th>24</th>\n",
       "      <td>24</td>\n",
       "      <td>ENC_U_4599526090195321552</td>\n",
       "      <td></td>\n",
       "      <td>temor</td>\n",
       "      <td>[temor]</td>\n",
       "      <td>temor</td>\n",
       "      <td>a la situacion que podria continuar o terminar...</td>\n",
       "      <td>[situacion, podria, continuar, terminar, peor]</td>\n",
       "      <td>0</td>\n",
       "      <td></td>\n",
       "    </tr>\n",
       "  </tbody>\n",
       "</table>\n",
       "</div>"
      ],
      "text/plain": [
       "        id                    diag_id ind_id     name name_tokens  macro  \\\n",
       "3724  3849                                    regular   [regular]          \n",
       "24      24  ENC_U_4599526090195321552           temor     [temor]  temor   \n",
       "\n",
       "                                                    exp  \\\n",
       "3724                    altos y bajos economia del pais   \n",
       "24    a la situacion que podria continuar o terminar...   \n",
       "\n",
       "                                          exp_tokens  is_online source_id  \n",
       "3724                  [altos, bajos, economia, pais]          0   3172624  \n",
       "24    [situacion, podria, continuar, terminar, peor]          0            "
      ]
     },
     "execution_count": 562,
     "metadata": {},
     "output_type": "execute_result"
    }
   ],
   "source": [
    "individuals_table.sample(2)"
   ]
  },
  {
   "cell_type": "markdown",
   "metadata": {},
   "source": [
    "### Country Needs"
   ]
  },
  {
   "cell_type": "code",
   "execution_count": 565,
   "metadata": {},
   "outputs": [
    {
     "name": "stdout",
     "output_type": "stream",
     "text": [
      "CPU times: user 1min 13s, sys: 3.03 s, total: 1min 16s\n",
      "Wall time: 1min 16s\n"
     ]
    }
   ],
   "source": [
    "%%time\n",
    "country_needs = create_table_country_needs(survey, ind_survey, ind_survey_path, ind_online_survey_path)"
   ]
  },
  {
   "cell_type": "code",
   "execution_count": 40,
   "metadata": {
    "scrolled": true
   },
   "outputs": [
    {
     "data": {
      "text/html": [
       "<div>\n",
       "<style scoped>\n",
       "    .dataframe tbody tr th:only-of-type {\n",
       "        vertical-align: middle;\n",
       "    }\n",
       "\n",
       "    .dataframe tbody tr th {\n",
       "        vertical-align: top;\n",
       "    }\n",
       "\n",
       "    .dataframe thead th {\n",
       "        text-align: right;\n",
       "    }\n",
       "</style>\n",
       "<table border=\"1\" class=\"dataframe\">\n",
       "  <thead>\n",
       "    <tr style=\"text-align: right;\">\n",
       "      <th></th>\n",
       "      <th>id</th>\n",
       "      <th>diag_id</th>\n",
       "      <th>ind_id</th>\n",
       "      <th>name</th>\n",
       "      <th>name_tokens</th>\n",
       "      <th>macro</th>\n",
       "      <th>exp</th>\n",
       "      <th>exp_tokens</th>\n",
       "      <th>role</th>\n",
       "      <th>role_tokens</th>\n",
       "      <th>actor</th>\n",
       "      <th>priority</th>\n",
       "      <th>is_online</th>\n",
       "    </tr>\n",
       "  </thead>\n",
       "  <tbody>\n",
       "    <tr>\n",
       "      <th>28</th>\n",
       "      <td>633</td>\n",
       "      <td>enc_u_4598585422351013149</td>\n",
       "      <td></td>\n",
       "      <td></td>\n",
       "      <td></td>\n",
       "      <td>no mas afp</td>\n",
       "      <td>[mas, afp]</td>\n",
       "      <td></td>\n",
       "      <td></td>\n",
       "      <td>estado</td>\n",
       "      <td></td>\n",
       "      <td>0</td>\n",
       "    </tr>\n",
       "    <tr>\n",
       "      <th>118</th>\n",
       "      <td>420</td>\n",
       "      <td>enc_u_4598374070151027288</td>\n",
       "      <td>transporte</td>\n",
       "      <td>[transporte]</td>\n",
       "      <td></td>\n",
       "      <td></td>\n",
       "      <td></td>\n",
       "      <td>subsidiar el transporte para los adultos mayores.</td>\n",
       "      <td>[subsidiar, transporte, adultos, mayores]</td>\n",
       "      <td>estado</td>\n",
       "      <td></td>\n",
       "      <td></td>\n",
       "      <td>3</td>\n",
       "      <td>0</td>\n",
       "    </tr>\n",
       "    <tr>\n",
       "      <th>6</th>\n",
       "      <td>152</td>\n",
       "      <td>enc_u_4602649914809752187</td>\n",
       "      <td>educacion</td>\n",
       "      <td>[educacion]</td>\n",
       "      <td></td>\n",
       "      <td>malo el proceso de admision a la educacion bas...</td>\n",
       "      <td>[malo, proceso, admision, educacion, basica, m...</td>\n",
       "      <td>que se renueven los procesos de seleccion educ...</td>\n",
       "      <td>[renueven, procesos, seleccion, educativos, es...</td>\n",
       "      <td>estado</td>\n",
       "      <td>0</td>\n",
       "    </tr>\n",
       "  </tbody>\n",
       "</table>\n",
       "</div>"
      ],
      "text/plain": [
       "      id                    diag_id        name   name_tokens macro  \\\n",
       "28   633  enc_u_4598585422351013149                                   \n",
       "118  420  enc_u_4598374070151027288  transporte  [transporte]         \n",
       "6    152  enc_u_4602649914809752187   educacion   [educacion]         \n",
       "\n",
       "                                                   exp  \\\n",
       "28                                          no mas afp   \n",
       "118                                                      \n",
       "6    malo el proceso de admision a la educacion bas...   \n",
       "\n",
       "                                            exp_tokens  \\\n",
       "28                                          [mas, afp]   \n",
       "118                                                      \n",
       "6    [malo, proceso, admision, educacion, basica, m...   \n",
       "\n",
       "                                                  role  \\\n",
       "28                                                       \n",
       "118  subsidiar el transporte para los adultos mayores.   \n",
       "6    que se renueven los procesos de seleccion educ...   \n",
       "\n",
       "                                           role_tokens   actor priority  \n",
       "28                                                      estado        0  \n",
       "118          [subsidiar, transporte, adultos, mayores]  estado           \n",
       "6    [renueven, procesos, seleccion, educativos, es...  estado        0  "
      ]
     },
     "execution_count": 40,
     "metadata": {},
     "output_type": "execute_result"
    }
   ],
   "source": [
    "country_needs.sample(3)"
   ]
  },
  {
   "cell_type": "markdown",
   "metadata": {},
   "source": [
    "### Country Need Role Pair"
   ]
  },
  {
   "cell_type": "code",
   "execution_count": 66,
   "metadata": {},
   "outputs": [],
   "source": [
    "country_need_role_pair = create_pair_token(country_needs, 'role_tokens', 'country_need_id')"
   ]
  },
  {
   "cell_type": "code",
   "execution_count": 67,
   "metadata": {},
   "outputs": [
    {
     "data": {
      "text/html": [
       "<div>\n",
       "<style scoped>\n",
       "    .dataframe tbody tr th:only-of-type {\n",
       "        vertical-align: middle;\n",
       "    }\n",
       "\n",
       "    .dataframe tbody tr th {\n",
       "        vertical-align: top;\n",
       "    }\n",
       "\n",
       "    .dataframe thead th {\n",
       "        text-align: right;\n",
       "    }\n",
       "</style>\n",
       "<table border=\"1\" class=\"dataframe\">\n",
       "  <thead>\n",
       "    <tr style=\"text-align: right;\">\n",
       "      <th></th>\n",
       "      <th>id</th>\n",
       "      <th>country_need_id</th>\n",
       "      <th>word_1</th>\n",
       "      <th>word_2</th>\n",
       "    </tr>\n",
       "  </thead>\n",
       "  <tbody>\n",
       "    <tr>\n",
       "      <th>1025</th>\n",
       "      <td>1026</td>\n",
       "      <td>294</td>\n",
       "      <td>cotizaciones</td>\n",
       "      <td>previsionales</td>\n",
       "    </tr>\n",
       "    <tr>\n",
       "      <th>2212</th>\n",
       "      <td>2213</td>\n",
       "      <td>707</td>\n",
       "      <td>lineamientos</td>\n",
       "      <td>estrictos</td>\n",
       "    </tr>\n",
       "  </tbody>\n",
       "</table>\n",
       "</div>"
      ],
      "text/plain": [
       "        id  country_need_id        word_1         word_2\n",
       "1025  1026              294  cotizaciones  previsionales\n",
       "2212  2213              707  lineamientos      estrictos"
      ]
     },
     "execution_count": 67,
     "metadata": {},
     "output_type": "execute_result"
    }
   ],
   "source": [
    "country_need_role_pair.sample(2)"
   ]
  },
  {
   "cell_type": "markdown",
   "metadata": {},
   "source": [
    "### Country Need Exp Pair"
   ]
  },
  {
   "cell_type": "code",
   "execution_count": 68,
   "metadata": {},
   "outputs": [],
   "source": [
    "country_need_exp_pair = create_pair_token(country_needs, 'exp_tokens', 'country_need_id')"
   ]
  },
  {
   "cell_type": "code",
   "execution_count": 69,
   "metadata": {},
   "outputs": [
    {
     "data": {
      "text/html": [
       "<div>\n",
       "<style scoped>\n",
       "    .dataframe tbody tr th:only-of-type {\n",
       "        vertical-align: middle;\n",
       "    }\n",
       "\n",
       "    .dataframe tbody tr th {\n",
       "        vertical-align: top;\n",
       "    }\n",
       "\n",
       "    .dataframe thead th {\n",
       "        text-align: right;\n",
       "    }\n",
       "</style>\n",
       "<table border=\"1\" class=\"dataframe\">\n",
       "  <thead>\n",
       "    <tr style=\"text-align: right;\">\n",
       "      <th></th>\n",
       "      <th>id</th>\n",
       "      <th>country_need_id</th>\n",
       "      <th>word_1</th>\n",
       "      <th>word_2</th>\n",
       "    </tr>\n",
       "  </thead>\n",
       "  <tbody>\n",
       "    <tr>\n",
       "      <th>86</th>\n",
       "      <td>87</td>\n",
       "      <td>10</td>\n",
       "      <td>atencion</td>\n",
       "      <td>especialistas</td>\n",
       "    </tr>\n",
       "    <tr>\n",
       "      <th>2509</th>\n",
       "      <td>2510</td>\n",
       "      <td>621</td>\n",
       "      <td>hijos</td>\n",
       "      <td>nietos</td>\n",
       "    </tr>\n",
       "  </tbody>\n",
       "</table>\n",
       "</div>"
      ],
      "text/plain": [
       "        id  country_need_id    word_1         word_2\n",
       "86      87               10  atencion  especialistas\n",
       "2509  2510              621     hijos         nietos"
      ]
     },
     "execution_count": 69,
     "metadata": {},
     "output_type": "execute_result"
    }
   ],
   "source": [
    "country_need_exp_pair.sample(2)"
   ]
  },
  {
   "cell_type": "markdown",
   "metadata": {},
   "source": [
    "### Family/PersonalNeeds"
   ]
  },
  {
   "cell_type": "code",
   "execution_count": 70,
   "metadata": {},
   "outputs": [
    {
     "name": "stdout",
     "output_type": "stream",
     "text": [
      "CPU times: user 58.9 s, sys: 4 s, total: 1min 2s\n",
      "Wall time: 1min 2s\n"
     ]
    }
   ],
   "source": [
    "%%time\n",
    "personal_needs = create_table_personal_needs(survey, ind_survey, ind_online_survey)"
   ]
  },
  {
   "cell_type": "code",
   "execution_count": 71,
   "metadata": {},
   "outputs": [
    {
     "data": {
      "text/html": [
       "<div>\n",
       "<style scoped>\n",
       "    .dataframe tbody tr th:only-of-type {\n",
       "        vertical-align: middle;\n",
       "    }\n",
       "\n",
       "    .dataframe tbody tr th {\n",
       "        vertical-align: top;\n",
       "    }\n",
       "\n",
       "    .dataframe thead th {\n",
       "        text-align: right;\n",
       "    }\n",
       "</style>\n",
       "<table border=\"1\" class=\"dataframe\">\n",
       "  <thead>\n",
       "    <tr style=\"text-align: right;\">\n",
       "      <th></th>\n",
       "      <th>id</th>\n",
       "      <th>diag_id</th>\n",
       "      <th>ind_id</th>\n",
       "      <th>name</th>\n",
       "      <th>name_tokens</th>\n",
       "      <th>exp</th>\n",
       "      <th>exp_tokens</th>\n",
       "      <th>macro</th>\n",
       "      <th>priority</th>\n",
       "      <th>is_online</th>\n",
       "    </tr>\n",
       "  </thead>\n",
       "  <tbody>\n",
       "    <tr>\n",
       "      <th>37</th>\n",
       "      <td>337</td>\n",
       "      <td>ENC_U_4598383170151924860</td>\n",
       "      <td>seguridad</td>\n",
       "      <td>[seguridad]</td>\n",
       "      <td>mucha delincuencia</td>\n",
       "      <td>[mucha, delincuencia]</td>\n",
       "      <td>seguridad</td>\n",
       "      <td>2</td>\n",
       "    </tr>\n",
       "    <tr>\n",
       "      <th>41</th>\n",
       "      <td>141</td>\n",
       "      <td>ENC_U_4598374070151027288</td>\n",
       "      <td>medicamentos</td>\n",
       "      <td>[medicamentos]</td>\n",
       "      <td>el precio de los medicamentos es muy elevado.</td>\n",
       "      <td>[precio, medicamentos, elevado]</td>\n",
       "      <td>medicamentos</td>\n",
       "      <td>1</td>\n",
       "    </tr>\n",
       "    <tr>\n",
       "      <th>11</th>\n",
       "      <td>311</td>\n",
       "      <td>ENC_U_4601970490118053696</td>\n",
       "      <td>oportunidades</td>\n",
       "      <td>[oportunidades]</td>\n",
       "      <td>no tenemos oportunidades para surgir.</td>\n",
       "      <td>[oportunidades, surgir]</td>\n",
       "      <td>oportunidades</td>\n",
       "      <td>1</td>\n",
       "    </tr>\n",
       "  </tbody>\n",
       "</table>\n",
       "</div>"
      ],
      "text/plain": [
       "     id                    diag_id           name      name_tokens  \\\n",
       "37  337  ENC_U_4598383170151924860      seguridad      [seguridad]   \n",
       "41  141  ENC_U_4598374070151027288   medicamentos   [medicamentos]   \n",
       "11  311  ENC_U_4601970490118053696  oportunidades  [oportunidades]   \n",
       "\n",
       "                                              exp  \\\n",
       "37                             mucha delincuencia   \n",
       "41  el precio de los medicamentos es muy elevado.   \n",
       "11          no tenemos oportunidades para surgir.   \n",
       "\n",
       "                         exp_tokens          macro  priority  \n",
       "37            [mucha, delincuencia]      seguridad         2  \n",
       "41  [precio, medicamentos, elevado]   medicamentos         1  \n",
       "11          [oportunidades, surgir]  oportunidades         1  "
      ]
     },
     "execution_count": 71,
     "metadata": {},
     "output_type": "execute_result"
    }
   ],
   "source": [
    "personal_needs.sample(3)"
   ]
  },
  {
   "cell_type": "markdown",
   "metadata": {},
   "source": [
    "### Personal Need Pair"
   ]
  },
  {
   "cell_type": "code",
   "execution_count": 72,
   "metadata": {},
   "outputs": [],
   "source": [
    "personal_need_pair = create_pair_token(personal_needs, 'exp_tokens', 'personal_need_id')"
   ]
  },
  {
   "cell_type": "code",
   "execution_count": 73,
   "metadata": {},
   "outputs": [
    {
     "data": {
      "text/html": [
       "<div>\n",
       "<style scoped>\n",
       "    .dataframe tbody tr th:only-of-type {\n",
       "        vertical-align: middle;\n",
       "    }\n",
       "\n",
       "    .dataframe tbody tr th {\n",
       "        vertical-align: top;\n",
       "    }\n",
       "\n",
       "    .dataframe thead th {\n",
       "        text-align: right;\n",
       "    }\n",
       "</style>\n",
       "<table border=\"1\" class=\"dataframe\">\n",
       "  <thead>\n",
       "    <tr style=\"text-align: right;\">\n",
       "      <th></th>\n",
       "      <th>id</th>\n",
       "      <th>personal_need_id</th>\n",
       "      <th>word_1</th>\n",
       "      <th>word_2</th>\n",
       "    </tr>\n",
       "  </thead>\n",
       "  <tbody>\n",
       "    <tr>\n",
       "      <th>525</th>\n",
       "      <td>526</td>\n",
       "      <td>94</td>\n",
       "      <td>burocracia</td>\n",
       "      <td>procesos</td>\n",
       "    </tr>\n",
       "    <tr>\n",
       "      <th>2076</th>\n",
       "      <td>2077</td>\n",
       "      <td>444</td>\n",
       "      <td>pago</td>\n",
       "      <td>consumo</td>\n",
       "    </tr>\n",
       "    <tr>\n",
       "      <th>1383</th>\n",
       "      <td>1384</td>\n",
       "      <td>250</td>\n",
       "      <td>vida</td>\n",
       "      <td>ello</td>\n",
       "    </tr>\n",
       "  </tbody>\n",
       "</table>\n",
       "</div>"
      ],
      "text/plain": [
       "        id  personal_need_id      word_1    word_2\n",
       "525    526                94  burocracia  procesos\n",
       "2076  2077               444        pago   consumo\n",
       "1383  1384               250        vida      ello"
      ]
     },
     "execution_count": 73,
     "metadata": {},
     "output_type": "execute_result"
    }
   ],
   "source": [
    "personal_need_pair.sample(3)"
   ]
  },
  {
   "cell_type": "markdown",
   "metadata": {},
   "source": [
    "### Contributions"
   ]
  },
  {
   "cell_type": "code",
   "execution_count": 577,
   "metadata": {},
   "outputs": [],
   "source": [
    "contributions = create_table_contributions(survey, ind_survey, ind_online_survey)"
   ]
  },
  {
   "cell_type": "code",
   "execution_count": 578,
   "metadata": {},
   "outputs": [
    {
     "data": {
      "text/html": [
       "<div>\n",
       "<style scoped>\n",
       "    .dataframe tbody tr th:only-of-type {\n",
       "        vertical-align: middle;\n",
       "    }\n",
       "\n",
       "    .dataframe tbody tr th {\n",
       "        vertical-align: top;\n",
       "    }\n",
       "\n",
       "    .dataframe thead th {\n",
       "        text-align: right;\n",
       "    }\n",
       "</style>\n",
       "<table border=\"1\" class=\"dataframe\">\n",
       "  <thead>\n",
       "    <tr style=\"text-align: right;\">\n",
       "      <th></th>\n",
       "      <th>id</th>\n",
       "      <th>diag_id</th>\n",
       "      <th>ind_id</th>\n",
       "      <th>text</th>\n",
       "      <th>tokens</th>\n",
       "      <th>macro</th>\n",
       "      <th>is_online</th>\n",
       "    </tr>\n",
       "  </thead>\n",
       "  <tbody>\n",
       "    <tr>\n",
       "      <th>5377</th>\n",
       "      <td>5877</td>\n",
       "      <td></td>\n",
       "      <td>3226252</td>\n",
       "      <td>colaborar y unir a las personas para que todos...</td>\n",
       "      <td>[colaborar, unir, personas, aportemos, granito...</td>\n",
       "      <td>colaborar y unir a las personas para que todos...</td>\n",
       "      <td>0</td>\n",
       "    </tr>\n",
       "    <tr>\n",
       "      <th>6999</th>\n",
       "      <td>7499</td>\n",
       "      <td></td>\n",
       "      <td>3398834</td>\n",
       "      <td>trabajo como voluntario en la asociacion de sc...</td>\n",
       "      <td>[trabajo, voluntario, asociacion, scout, chile]</td>\n",
       "      <td>trabajo como voluntario en la asociacion de sc...</td>\n",
       "      <td>0</td>\n",
       "    </tr>\n",
       "    <tr>\n",
       "      <th>10979</th>\n",
       "      <td>11479</td>\n",
       "      <td></td>\n",
       "      <td>5337903</td>\n",
       "      <td>esperar las soluciones</td>\n",
       "      <td>[esperar, soluciones]</td>\n",
       "      <td>esperar las soluciones</td>\n",
       "      <td>0</td>\n",
       "    </tr>\n",
       "  </tbody>\n",
       "</table>\n",
       "</div>"
      ],
      "text/plain": [
       "          id diag_id   ind_id  \\\n",
       "5377    5877          3226252   \n",
       "6999    7499          3398834   \n",
       "10979  11479          5337903   \n",
       "\n",
       "                                                    text  \\\n",
       "5377   colaborar y unir a las personas para que todos...   \n",
       "6999   trabajo como voluntario en la asociacion de sc...   \n",
       "10979                             esperar las soluciones   \n",
       "\n",
       "                                                  tokens  \\\n",
       "5377   [colaborar, unir, personas, aportemos, granito...   \n",
       "6999     [trabajo, voluntario, asociacion, scout, chile]   \n",
       "10979                              [esperar, soluciones]   \n",
       "\n",
       "                                                   macro  is_online  \n",
       "5377   colaborar y unir a las personas para que todos...          0  \n",
       "6999   trabajo como voluntario en la asociacion de sc...          0  \n",
       "10979                             esperar las soluciones          0  "
      ]
     },
     "execution_count": 578,
     "metadata": {},
     "output_type": "execute_result"
    }
   ],
   "source": [
    "contributions.sample(3)"
   ]
  },
  {
   "cell_type": "code",
   "execution_count": null,
   "metadata": {},
   "outputs": [],
   "source": []
  },
  {
   "cell_type": "code",
   "execution_count": null,
   "metadata": {},
   "outputs": [],
   "source": []
  }
 ],
 "metadata": {
  "kernelspec": {
   "display_name": "Python 3",
   "language": "python",
   "name": "python3"
  },
  "language_info": {
   "codemirror_mode": {
    "name": "ipython",
    "version": 3
   },
   "file_extension": ".py",
   "mimetype": "text/x-python",
   "name": "python",
   "nbconvert_exporter": "python",
   "pygments_lexer": "ipython3",
   "version": "3.7.6"
  }
 },
 "nbformat": 4,
 "nbformat_minor": 4
}
